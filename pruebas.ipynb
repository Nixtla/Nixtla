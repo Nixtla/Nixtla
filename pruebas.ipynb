{
 "cells": [
  {
   "cell_type": "markdown",
   "metadata": {},
   "source": [
    "# Nixtla"
   ]
  },
  {
   "cell_type": "markdown",
   "metadata": {},
   "source": [
    "[nikstla] (noun, nahuatl) Period of time\n",
    "> Machine learning for time series forecasting."
   ]
  },
  {
   "cell_type": "markdown",
   "metadata": {},
   "source": [
    "## Install"
   ]
  },
  {
   "cell_type": "markdown",
   "metadata": {},
   "source": [
    "`pip install nixtla`"
   ]
  },
  {
   "cell_type": "markdown",
   "metadata": {},
   "source": [
    "Import a dataset and NBEATS model"
   ]
  },
  {
   "cell_type": "code",
   "execution_count": 1,
   "metadata": {},
   "outputs": [],
   "source": [
    "from copy import deepcopy\n",
    "from pathlib import Path\n",
    "\n",
    "import numpy as np\n",
    "import pandas as pd\n",
    "\n",
    "from nixtla.experiments.nbeats.cv import CrossValidationNbeats\n",
    "from nixtla.experiments.nbeats.sota_params.tourism import TourismParams\n",
    "from nixtla.data.datasets.tourism import Tourism, TourismInfo\n",
    "from nixtla.data.ts_loader_pinche import TimeSeriesLoader as TimeSeriesLoader1\n",
    "from nixtla.data.ts_loader import TimeSeriesLoader as TimeSeriesLoader2"
   ]
  },
  {
   "cell_type": "code",
   "execution_count": null,
   "metadata": {},
   "outputs": [
    {
     "name": "stdout",
     "output_type": "stream",
     "text": [
      "Yearly\n"
     ]
    }
   ],
   "source": [
    "for group_name in ['Yearly']: #TourismInfo.groups:\n",
    "    print(group_name)\n",
    "    group = TourismInfo.get_group(group_name)\n",
    "    data = Tourism.load(directory='data', group=group_name)\n",
    "    params = TourismParams.get_group(group_name)\n",
    "    \n",
    "    directory = Path('experiments/tourism')\n",
    "    for i, rs in enumerate([np.arange(1, 11), np.arange(11, 21), np.arange(21, 31), np.arange(31, 41)]):\n",
    "        print(i)\n",
    "        ensemble_grid = deepcopy(params.ensemble_grid)\n",
    "        ensemble_grid['random_seed'] = rs\n",
    "        \n",
    "        cv_nbeats = CrossValidationNbeats(directory, \n",
    "                                          params.grid, \n",
    "                                          ensemble_grid, \n",
    "                                          TimeSeriesLoader1, \n",
    "                                          0)\n",
    "        forecasts = cv_nbeats.fit(data)\n",
    "        forecasts.to_pickle(directory / f'{group_name}_seed={i}.p')"
   ]
  }
 ],
 "metadata": {
  "kernelspec": {
   "display_name": "nixtla",
   "language": "python",
   "name": "nixtla"
  },
  "language_info": {
   "codemirror_mode": {
    "name": "ipython",
    "version": 3
   },
   "file_extension": ".py",
   "mimetype": "text/x-python",
   "name": "python",
   "nbconvert_exporter": "python",
   "pygments_lexer": "ipython3",
   "version": "3.7.8"
  }
 },
 "nbformat": 4,
 "nbformat_minor": 4
}
