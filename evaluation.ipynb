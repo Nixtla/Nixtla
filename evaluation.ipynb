{
 "cells": [
  {
   "cell_type": "markdown",
   "metadata": {},
   "source": [
    "# Nixtla"
   ]
  },
  {
   "cell_type": "markdown",
   "metadata": {},
   "source": [
    "[nikstla] (noun, nahuatl) Period of time\n",
    "> Machine learning for time series forecasting."
   ]
  },
  {
   "cell_type": "markdown",
   "metadata": {},
   "source": [
    "## Install"
   ]
  },
  {
   "cell_type": "markdown",
   "metadata": {},
   "source": [
    "`pip install nixtla`"
   ]
  },
  {
   "cell_type": "markdown",
   "metadata": {},
   "source": [
    "## How to use"
   ]
  },
  {
   "cell_type": "markdown",
   "metadata": {},
   "source": [
    "Import a dataset and NBEATS model"
   ]
  },
  {
   "cell_type": "code",
   "execution_count": 1,
   "metadata": {},
   "outputs": [],
   "source": [
    "from pathlib import Path\n",
    "\n",
    "import numpy as np\n",
    "import pandas as pd\n",
    "\n",
    "from nixtla.data.datasets.tourism import Tourism, TourismInfo\n",
    "from nixtla.losses.numpy import mape"
   ]
  },
  {
   "cell_type": "code",
   "execution_count": 2,
   "metadata": {},
   "outputs": [],
   "source": [
    "directory = Path('experiments/tourism/')"
   ]
  },
  {
   "cell_type": "code",
   "execution_count": 3,
   "metadata": {},
   "outputs": [
    {
     "name": "stdout",
     "output_type": "stream",
     "text": [
      "Processing dataframes ...\n",
      "Creating ts tensor ...\n"
     ]
    }
   ],
   "source": [
    "for group_name in ['Yearly']:\n",
    "    group = TourismInfo.get_group('Yearly')\n",
    "    data = Tourism.load(directory='data', group=group.name)\n",
    "    losses = []\n",
    "    for i in range(4):\n",
    "        y_hat = pd.read_pickle(directory / f'{group_name}_seed={i}.p')\n",
    "        y_hat = y_hat['y_hat'].values.reshape((group.n_ts, group.horizon))\n",
    "        \n",
    "        y = data.ts_tensor[:, 0, -group.horizon:].numpy()\n",
    "        loss = mape(y, y_hat)\n",
    "        loss = pd.DataFrame({f'seeds_{i}': loss}, index=[group_name])\n",
    "        losses.append(loss)\n",
    "    losses = pd.concat(losses, 1)"
   ]
  },
  {
   "cell_type": "code",
   "execution_count": 4,
   "metadata": {},
   "outputs": [
    {
     "data": {
      "text/html": [
       "<div>\n",
       "<style scoped>\n",
       "    .dataframe tbody tr th:only-of-type {\n",
       "        vertical-align: middle;\n",
       "    }\n",
       "\n",
       "    .dataframe tbody tr th {\n",
       "        vertical-align: top;\n",
       "    }\n",
       "\n",
       "    .dataframe thead th {\n",
       "        text-align: right;\n",
       "    }\n",
       "</style>\n",
       "<table border=\"1\" class=\"dataframe\">\n",
       "  <thead>\n",
       "    <tr style=\"text-align: right;\">\n",
       "      <th></th>\n",
       "      <th>seeds_0</th>\n",
       "      <th>seeds_1</th>\n",
       "      <th>seeds_2</th>\n",
       "      <th>seeds_3</th>\n",
       "    </tr>\n",
       "  </thead>\n",
       "  <tbody>\n",
       "    <tr>\n",
       "      <th>Yearly</th>\n",
       "      <td>21.94192</td>\n",
       "      <td>22.371978</td>\n",
       "      <td>22.273393</td>\n",
       "      <td>22.405276</td>\n",
       "    </tr>\n",
       "  </tbody>\n",
       "</table>\n",
       "</div>"
      ],
      "text/plain": [
       "         seeds_0    seeds_1    seeds_2    seeds_3\n",
       "Yearly  21.94192  22.371978  22.273393  22.405276"
      ]
     },
     "execution_count": 4,
     "metadata": {},
     "output_type": "execute_result"
    }
   ],
   "source": [
    "losses"
   ]
  }
 ],
 "metadata": {
  "kernelspec": {
   "display_name": "nixtla",
   "language": "python",
   "name": "nixtla"
  },
  "language_info": {
   "codemirror_mode": {
    "name": "ipython",
    "version": 3
   },
   "file_extension": ".py",
   "mimetype": "text/x-python",
   "name": "python",
   "nbconvert_exporter": "python",
   "pygments_lexer": "ipython3",
   "version": "3.7.8"
  }
 },
 "nbformat": 4,
 "nbformat_minor": 4
}
