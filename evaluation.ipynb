{
 "cells": [
  {
   "cell_type": "markdown",
   "metadata": {},
   "source": [
    "# Nixtla"
   ]
  },
  {
   "cell_type": "markdown",
   "metadata": {},
   "source": [
    "[nikstla] (noun, nahuatl) Period of time\n",
    "> Machine learning for time series forecasting."
   ]
  },
  {
   "cell_type": "markdown",
   "metadata": {},
   "source": [
    "## Install"
   ]
  },
  {
   "cell_type": "markdown",
   "metadata": {},
   "source": [
    "`pip install nixtla`"
   ]
  },
  {
   "cell_type": "markdown",
   "metadata": {},
   "source": [
    "## How to use"
   ]
  },
  {
   "cell_type": "markdown",
   "metadata": {},
   "source": [
    "Import a dataset and NBEATS model"
   ]
  },
  {
   "cell_type": "code",
   "execution_count": 1,
   "metadata": {},
   "outputs": [],
   "source": [
    "from pathlib import Path\n",
    "\n",
    "import numpy as np\n",
    "import pandas as pd\n",
    "\n",
    "from nixtla.data.datasets.tourism import Tourism, TourismInfo\n",
    "from nixtla.losses.numpy import mape"
   ]
  },
  {
   "cell_type": "code",
   "execution_count": 3,
   "metadata": {},
   "outputs": [],
   "source": [
    "directory = Path('experiments/tourism/')"
   ]
  },
  {
   "cell_type": "code",
   "execution_count": 11,
   "metadata": {},
   "outputs": [
    {
     "name": "stdout",
     "output_type": "stream",
     "text": [
      "Processing dataframes ...\n",
      "Creating ts tensor ...\n",
      "Processing dataframes ...\n",
      "Creating ts tensor ...\n",
      "Processing dataframes ...\n",
      "Creating ts tensor ...\n"
     ]
    }
   ],
   "source": [
    "losses = []\n",
    "for group_name in TourismInfo.groups:\n",
    "    group = TourismInfo.get_group(group_name)\n",
    "    data = Tourism.load(directory='data', group=group.name)\n",
    "    \n",
    "    \n",
    "    y_hat = pd.read_pickle(directory / f'{group_name}_seed=0.p')\n",
    "    y_hat = y_hat['y_hat'].values.reshape((group.n_ts, group.horizon))\n",
    "\n",
    "    y = data.ts_tensor[:, 0, -group.horizon:]\n",
    "    loss = mape(y, y_hat)\n",
    "    loss = pd.DataFrame({f'MAPE': loss}, index=[group_name])\n",
    "    losses.append(loss)\n",
    "losses = pd.concat(losses, 0)"
   ]
  },
  {
   "cell_type": "code",
   "execution_count": 16,
   "metadata": {},
   "outputs": [
    {
     "name": "stdout",
     "output_type": "stream",
     "text": [
      "Processing dataframes ...\n",
      "Creating ts tensor ...\n"
     ]
    }
   ],
   "source": [
    "data = Tourism.load(directory='data', group='Quarterly')"
   ]
  },
  {
   "cell_type": "code",
   "execution_count": 21,
   "metadata": {},
   "outputs": [
    {
     "data": {
      "text/plain": [
       "array([ 86979., 104594.,  83742., 115734.,  99216., 136031.,  95582.,\n",
       "       123212.])"
      ]
     },
     "execution_count": 21,
     "metadata": {},
     "output_type": "execute_result"
    }
   ],
   "source": [
    "data.ts_tensor[1][0][-8:]"
   ]
  },
  {
   "cell_type": "code",
   "execution_count": 22,
   "metadata": {},
   "outputs": [],
   "source": [
    "y_hat = pd.read_pickle(directory / 'Quarterly_seed=0.p')"
   ]
  },
  {
   "cell_type": "code",
   "execution_count": 24,
   "metadata": {},
   "outputs": [
    {
     "data": {
      "text/html": [
       "<div>\n",
       "<style scoped>\n",
       "    .dataframe tbody tr th:only-of-type {\n",
       "        vertical-align: middle;\n",
       "    }\n",
       "\n",
       "    .dataframe tbody tr th {\n",
       "        vertical-align: top;\n",
       "    }\n",
       "\n",
       "    .dataframe thead th {\n",
       "        text-align: right;\n",
       "    }\n",
       "</style>\n",
       "<table border=\"1\" class=\"dataframe\">\n",
       "  <thead>\n",
       "    <tr style=\"text-align: right;\">\n",
       "      <th></th>\n",
       "      <th>unique_id</th>\n",
       "      <th>ds</th>\n",
       "      <th>y_hat_0</th>\n",
       "      <th>y_hat_1</th>\n",
       "      <th>y_hat_2</th>\n",
       "      <th>y_hat_3</th>\n",
       "      <th>y_hat_4</th>\n",
       "      <th>y_hat_5</th>\n",
       "      <th>y_hat_6</th>\n",
       "      <th>y_hat_7</th>\n",
       "      <th>...</th>\n",
       "      <th>y_hat_51</th>\n",
       "      <th>y_hat_52</th>\n",
       "      <th>y_hat_53</th>\n",
       "      <th>y_hat_54</th>\n",
       "      <th>y_hat_55</th>\n",
       "      <th>y_hat_56</th>\n",
       "      <th>y_hat_57</th>\n",
       "      <th>y_hat_58</th>\n",
       "      <th>y_hat_59</th>\n",
       "      <th>y_hat</th>\n",
       "    </tr>\n",
       "  </thead>\n",
       "  <tbody>\n",
       "    <tr>\n",
       "      <th>8</th>\n",
       "      <td>q10</td>\n",
       "      <td>2007-03-31</td>\n",
       "      <td>83766.140625</td>\n",
       "      <td>80981.484375</td>\n",
       "      <td>84950.375000</td>\n",
       "      <td>85626.507812</td>\n",
       "      <td>86106.718750</td>\n",
       "      <td>81050.460938</td>\n",
       "      <td>81228.835938</td>\n",
       "      <td>83602.609375</td>\n",
       "      <td>...</td>\n",
       "      <td>84652.375000</td>\n",
       "      <td>84742.031250</td>\n",
       "      <td>88370.578125</td>\n",
       "      <td>83228.015625</td>\n",
       "      <td>83154.531250</td>\n",
       "      <td>87068.929688</td>\n",
       "      <td>82503.734375</td>\n",
       "      <td>89115.242188</td>\n",
       "      <td>85238.734375</td>\n",
       "      <td>85660.054688</td>\n",
       "    </tr>\n",
       "    <tr>\n",
       "      <th>9</th>\n",
       "      <td>q10</td>\n",
       "      <td>2007-06-30</td>\n",
       "      <td>90911.039062</td>\n",
       "      <td>91613.671875</td>\n",
       "      <td>87286.226562</td>\n",
       "      <td>82277.250000</td>\n",
       "      <td>85950.078125</td>\n",
       "      <td>82491.234375</td>\n",
       "      <td>82586.492188</td>\n",
       "      <td>85181.125000</td>\n",
       "      <td>...</td>\n",
       "      <td>80296.500000</td>\n",
       "      <td>81206.320312</td>\n",
       "      <td>83415.265625</td>\n",
       "      <td>83367.757812</td>\n",
       "      <td>81947.296875</td>\n",
       "      <td>82678.828125</td>\n",
       "      <td>78640.156250</td>\n",
       "      <td>85310.750000</td>\n",
       "      <td>88594.187500</td>\n",
       "      <td>84981.343750</td>\n",
       "    </tr>\n",
       "    <tr>\n",
       "      <th>10</th>\n",
       "      <td>q10</td>\n",
       "      <td>2007-09-30</td>\n",
       "      <td>81278.335938</td>\n",
       "      <td>81139.570312</td>\n",
       "      <td>85797.546875</td>\n",
       "      <td>82000.117188</td>\n",
       "      <td>82822.437500</td>\n",
       "      <td>92458.531250</td>\n",
       "      <td>85629.648438</td>\n",
       "      <td>82214.218750</td>\n",
       "      <td>...</td>\n",
       "      <td>85877.351562</td>\n",
       "      <td>83669.210938</td>\n",
       "      <td>78606.484375</td>\n",
       "      <td>81368.281250</td>\n",
       "      <td>81945.960938</td>\n",
       "      <td>82864.390625</td>\n",
       "      <td>80086.007812</td>\n",
       "      <td>86399.250000</td>\n",
       "      <td>76922.218750</td>\n",
       "      <td>83162.109375</td>\n",
       "    </tr>\n",
       "    <tr>\n",
       "      <th>11</th>\n",
       "      <td>q10</td>\n",
       "      <td>2007-12-31</td>\n",
       "      <td>99713.875000</td>\n",
       "      <td>89028.468750</td>\n",
       "      <td>87227.007812</td>\n",
       "      <td>96352.375000</td>\n",
       "      <td>95394.843750</td>\n",
       "      <td>90765.351562</td>\n",
       "      <td>84469.703125</td>\n",
       "      <td>89856.507812</td>\n",
       "      <td>...</td>\n",
       "      <td>95455.078125</td>\n",
       "      <td>97749.843750</td>\n",
       "      <td>97122.804688</td>\n",
       "      <td>93650.679688</td>\n",
       "      <td>95487.203125</td>\n",
       "      <td>89989.203125</td>\n",
       "      <td>94742.867188</td>\n",
       "      <td>95852.484375</td>\n",
       "      <td>93850.671875</td>\n",
       "      <td>92151.859375</td>\n",
       "    </tr>\n",
       "    <tr>\n",
       "      <th>12</th>\n",
       "      <td>q10</td>\n",
       "      <td>2008-03-31</td>\n",
       "      <td>76756.632812</td>\n",
       "      <td>78098.078125</td>\n",
       "      <td>73148.570312</td>\n",
       "      <td>78860.289062</td>\n",
       "      <td>68971.984375</td>\n",
       "      <td>70626.343750</td>\n",
       "      <td>76097.250000</td>\n",
       "      <td>78470.312500</td>\n",
       "      <td>...</td>\n",
       "      <td>80002.148438</td>\n",
       "      <td>80746.945312</td>\n",
       "      <td>72407.539062</td>\n",
       "      <td>81601.484375</td>\n",
       "      <td>80332.625000</td>\n",
       "      <td>70690.351562</td>\n",
       "      <td>80711.796875</td>\n",
       "      <td>81990.390625</td>\n",
       "      <td>85016.570312</td>\n",
       "      <td>78392.562500</td>\n",
       "    </tr>\n",
       "    <tr>\n",
       "      <th>13</th>\n",
       "      <td>q10</td>\n",
       "      <td>2008-06-30</td>\n",
       "      <td>94018.562500</td>\n",
       "      <td>80041.046875</td>\n",
       "      <td>81923.851562</td>\n",
       "      <td>68274.617188</td>\n",
       "      <td>68065.273438</td>\n",
       "      <td>80358.921875</td>\n",
       "      <td>83772.460938</td>\n",
       "      <td>78993.687500</td>\n",
       "      <td>...</td>\n",
       "      <td>80121.929688</td>\n",
       "      <td>85107.312500</td>\n",
       "      <td>80233.375000</td>\n",
       "      <td>84431.406250</td>\n",
       "      <td>82201.617188</td>\n",
       "      <td>85993.843750</td>\n",
       "      <td>82039.484375</td>\n",
       "      <td>86922.460938</td>\n",
       "      <td>89840.710938</td>\n",
       "      <td>83474.906250</td>\n",
       "    </tr>\n",
       "    <tr>\n",
       "      <th>14</th>\n",
       "      <td>q10</td>\n",
       "      <td>2008-09-30</td>\n",
       "      <td>95038.632812</td>\n",
       "      <td>94387.687500</td>\n",
       "      <td>91982.773438</td>\n",
       "      <td>84279.367188</td>\n",
       "      <td>77801.039062</td>\n",
       "      <td>86259.960938</td>\n",
       "      <td>80764.054688</td>\n",
       "      <td>80079.351562</td>\n",
       "      <td>...</td>\n",
       "      <td>95066.843750</td>\n",
       "      <td>86692.781250</td>\n",
       "      <td>87548.437500</td>\n",
       "      <td>97368.148438</td>\n",
       "      <td>95360.351562</td>\n",
       "      <td>89565.226562</td>\n",
       "      <td>84298.234375</td>\n",
       "      <td>91951.492188</td>\n",
       "      <td>93088.578125</td>\n",
       "      <td>87747.851562</td>\n",
       "    </tr>\n",
       "    <tr>\n",
       "      <th>15</th>\n",
       "      <td>q10</td>\n",
       "      <td>2008-12-31</td>\n",
       "      <td>66445.679688</td>\n",
       "      <td>87499.218750</td>\n",
       "      <td>97734.085938</td>\n",
       "      <td>93063.078125</td>\n",
       "      <td>78860.648438</td>\n",
       "      <td>93343.171875</td>\n",
       "      <td>87449.718750</td>\n",
       "      <td>84096.632812</td>\n",
       "      <td>...</td>\n",
       "      <td>99306.773438</td>\n",
       "      <td>82825.898438</td>\n",
       "      <td>75828.226562</td>\n",
       "      <td>94432.726562</td>\n",
       "      <td>89421.343750</td>\n",
       "      <td>83900.726562</td>\n",
       "      <td>83319.937500</td>\n",
       "      <td>92230.703125</td>\n",
       "      <td>80081.773438</td>\n",
       "      <td>83798.703125</td>\n",
       "    </tr>\n",
       "  </tbody>\n",
       "</table>\n",
       "<p>8 rows × 63 columns</p>\n",
       "</div>"
      ],
      "text/plain": [
       "   unique_id         ds       y_hat_0       y_hat_1       y_hat_2  \\\n",
       "8        q10 2007-03-31  83766.140625  80981.484375  84950.375000   \n",
       "9        q10 2007-06-30  90911.039062  91613.671875  87286.226562   \n",
       "10       q10 2007-09-30  81278.335938  81139.570312  85797.546875   \n",
       "11       q10 2007-12-31  99713.875000  89028.468750  87227.007812   \n",
       "12       q10 2008-03-31  76756.632812  78098.078125  73148.570312   \n",
       "13       q10 2008-06-30  94018.562500  80041.046875  81923.851562   \n",
       "14       q10 2008-09-30  95038.632812  94387.687500  91982.773438   \n",
       "15       q10 2008-12-31  66445.679688  87499.218750  97734.085938   \n",
       "\n",
       "         y_hat_3       y_hat_4       y_hat_5       y_hat_6       y_hat_7  ...  \\\n",
       "8   85626.507812  86106.718750  81050.460938  81228.835938  83602.609375  ...   \n",
       "9   82277.250000  85950.078125  82491.234375  82586.492188  85181.125000  ...   \n",
       "10  82000.117188  82822.437500  92458.531250  85629.648438  82214.218750  ...   \n",
       "11  96352.375000  95394.843750  90765.351562  84469.703125  89856.507812  ...   \n",
       "12  78860.289062  68971.984375  70626.343750  76097.250000  78470.312500  ...   \n",
       "13  68274.617188  68065.273438  80358.921875  83772.460938  78993.687500  ...   \n",
       "14  84279.367188  77801.039062  86259.960938  80764.054688  80079.351562  ...   \n",
       "15  93063.078125  78860.648438  93343.171875  87449.718750  84096.632812  ...   \n",
       "\n",
       "        y_hat_51      y_hat_52      y_hat_53      y_hat_54      y_hat_55  \\\n",
       "8   84652.375000  84742.031250  88370.578125  83228.015625  83154.531250   \n",
       "9   80296.500000  81206.320312  83415.265625  83367.757812  81947.296875   \n",
       "10  85877.351562  83669.210938  78606.484375  81368.281250  81945.960938   \n",
       "11  95455.078125  97749.843750  97122.804688  93650.679688  95487.203125   \n",
       "12  80002.148438  80746.945312  72407.539062  81601.484375  80332.625000   \n",
       "13  80121.929688  85107.312500  80233.375000  84431.406250  82201.617188   \n",
       "14  95066.843750  86692.781250  87548.437500  97368.148438  95360.351562   \n",
       "15  99306.773438  82825.898438  75828.226562  94432.726562  89421.343750   \n",
       "\n",
       "        y_hat_56      y_hat_57      y_hat_58      y_hat_59         y_hat  \n",
       "8   87068.929688  82503.734375  89115.242188  85238.734375  85660.054688  \n",
       "9   82678.828125  78640.156250  85310.750000  88594.187500  84981.343750  \n",
       "10  82864.390625  80086.007812  86399.250000  76922.218750  83162.109375  \n",
       "11  89989.203125  94742.867188  95852.484375  93850.671875  92151.859375  \n",
       "12  70690.351562  80711.796875  81990.390625  85016.570312  78392.562500  \n",
       "13  85993.843750  82039.484375  86922.460938  89840.710938  83474.906250  \n",
       "14  89565.226562  84298.234375  91951.492188  93088.578125  87747.851562  \n",
       "15  83900.726562  83319.937500  92230.703125  80081.773438  83798.703125  \n",
       "\n",
       "[8 rows x 63 columns]"
      ]
     },
     "execution_count": 24,
     "metadata": {},
     "output_type": "execute_result"
    }
   ],
   "source": [
    "y_hat.query('unique_id==\"q10\"')"
   ]
  },
  {
   "cell_type": "code",
   "execution_count": 12,
   "metadata": {},
   "outputs": [
    {
     "data": {
      "text/html": [
       "<div>\n",
       "<style scoped>\n",
       "    .dataframe tbody tr th:only-of-type {\n",
       "        vertical-align: middle;\n",
       "    }\n",
       "\n",
       "    .dataframe tbody tr th {\n",
       "        vertical-align: top;\n",
       "    }\n",
       "\n",
       "    .dataframe thead th {\n",
       "        text-align: right;\n",
       "    }\n",
       "</style>\n",
       "<table border=\"1\" class=\"dataframe\">\n",
       "  <thead>\n",
       "    <tr style=\"text-align: right;\">\n",
       "      <th></th>\n",
       "      <th>MAPE</th>\n",
       "    </tr>\n",
       "  </thead>\n",
       "  <tbody>\n",
       "    <tr>\n",
       "      <th>Yearly</th>\n",
       "      <td>21.304659</td>\n",
       "    </tr>\n",
       "    <tr>\n",
       "      <th>Quarterly</th>\n",
       "      <td>19.858842</td>\n",
       "    </tr>\n",
       "    <tr>\n",
       "      <th>Monthly</th>\n",
       "      <td>28.844142</td>\n",
       "    </tr>\n",
       "  </tbody>\n",
       "</table>\n",
       "</div>"
      ],
      "text/plain": [
       "                MAPE\n",
       "Yearly     21.304659\n",
       "Quarterly  19.858842\n",
       "Monthly    28.844142"
      ]
     },
     "execution_count": 12,
     "metadata": {},
     "output_type": "execute_result"
    }
   ],
   "source": [
    "losses"
   ]
  },
  {
   "cell_type": "code",
   "execution_count": 7,
   "metadata": {},
   "outputs": [
    {
     "data": {
      "text/html": [
       "<div>\n",
       "<style scoped>\n",
       "    .dataframe tbody tr th:only-of-type {\n",
       "        vertical-align: middle;\n",
       "    }\n",
       "\n",
       "    .dataframe tbody tr th {\n",
       "        vertical-align: top;\n",
       "    }\n",
       "\n",
       "    .dataframe thead th {\n",
       "        text-align: right;\n",
       "    }\n",
       "</style>\n",
       "<table border=\"1\" class=\"dataframe\">\n",
       "  <thead>\n",
       "    <tr style=\"text-align: right;\">\n",
       "      <th></th>\n",
       "      <th>seeds_0</th>\n",
       "      <th>seeds_1</th>\n",
       "      <th>seeds_2</th>\n",
       "      <th>seeds_3</th>\n",
       "    </tr>\n",
       "  </thead>\n",
       "  <tbody>\n",
       "    <tr>\n",
       "      <th>Yearly</th>\n",
       "      <td>21.304659</td>\n",
       "      <td>21.240411</td>\n",
       "      <td>22.273394</td>\n",
       "      <td>22.405276</td>\n",
       "    </tr>\n",
       "  </tbody>\n",
       "</table>\n",
       "</div>"
      ],
      "text/plain": [
       "          seeds_0    seeds_1    seeds_2    seeds_3\n",
       "Yearly  21.304659  21.240411  22.273394  22.405276"
      ]
     },
     "execution_count": 7,
     "metadata": {},
     "output_type": "execute_result"
    }
   ],
   "source": [
    "losses"
   ]
  },
  {
   "cell_type": "code",
   "execution_count": 4,
   "metadata": {},
   "outputs": [
    {
     "data": {
      "text/html": [
       "<div>\n",
       "<style scoped>\n",
       "    .dataframe tbody tr th:only-of-type {\n",
       "        vertical-align: middle;\n",
       "    }\n",
       "\n",
       "    .dataframe tbody tr th {\n",
       "        vertical-align: top;\n",
       "    }\n",
       "\n",
       "    .dataframe thead th {\n",
       "        text-align: right;\n",
       "    }\n",
       "</style>\n",
       "<table border=\"1\" class=\"dataframe\">\n",
       "  <thead>\n",
       "    <tr style=\"text-align: right;\">\n",
       "      <th></th>\n",
       "      <th>seeds_0</th>\n",
       "      <th>seeds_1</th>\n",
       "      <th>seeds_2</th>\n",
       "      <th>seeds_3</th>\n",
       "    </tr>\n",
       "  </thead>\n",
       "  <tbody>\n",
       "    <tr>\n",
       "      <th>Yearly</th>\n",
       "      <td>21.94192</td>\n",
       "      <td>22.371978</td>\n",
       "      <td>22.273393</td>\n",
       "      <td>22.405276</td>\n",
       "    </tr>\n",
       "  </tbody>\n",
       "</table>\n",
       "</div>"
      ],
      "text/plain": [
       "         seeds_0    seeds_1    seeds_2    seeds_3\n",
       "Yearly  21.94192  22.371978  22.273393  22.405276"
      ]
     },
     "execution_count": 4,
     "metadata": {},
     "output_type": "execute_result"
    }
   ],
   "source": [
    "losses"
   ]
  }
 ],
 "metadata": {
  "kernelspec": {
   "display_name": "nixtla",
   "language": "python",
   "name": "nixtla"
  },
  "language_info": {
   "codemirror_mode": {
    "name": "ipython",
    "version": 3
   },
   "file_extension": ".py",
   "mimetype": "text/x-python",
   "name": "python",
   "nbconvert_exporter": "python",
   "pygments_lexer": "ipython3",
   "version": "3.7.8"
  }
 },
 "nbformat": 4,
 "nbformat_minor": 4
}
