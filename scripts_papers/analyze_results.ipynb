{
 "metadata": {
  "language_info": {
   "codemirror_mode": {
    "name": "ipython",
    "version": 3
   },
   "file_extension": ".py",
   "mimetype": "text/x-python",
   "name": "python",
   "nbconvert_exporter": "python",
   "pygments_lexer": "ipython3",
   "version": "3.7.8"
  },
  "orig_nbformat": 2,
  "kernelspec": {
   "name": "python378jvsc74a57bd052b0028e7074a0058398558ea661882eddbb489e66a28504cc0449d2f54d6290",
   "display_name": "Python 3.7.8 64-bit ('nixtla': conda)"
  }
 },
 "nbformat": 4,
 "nbformat_minor": 2,
 "cells": [
  {
   "cell_type": "code",
   "execution_count": 14,
   "metadata": {},
   "outputs": [],
   "source": [
    "import os\n",
    "import pickle\n",
    "import glob\n",
    "import numpy as np\n",
    "import pandas as pd\n",
    "\n",
    "import matplotlib.pyplot as plt\n",
    "from hyperopt import fmin, tpe, hp, Trials, STATUS_OK\n",
    "\n",
    "from nixtla.losses.numpy import mae, mape, smape, rmse, pinball_loss"
   ]
  },
  {
   "cell_type": "code",
   "execution_count": 5,
   "metadata": {},
   "outputs": [],
   "source": [
    "feature = 'BOTH'\n",
    "pooling = '1'\n",
    "experiment_id = 'debug'\n",
    "filename = f'../results/result_{feature}_{pooling}_{experiment_id}.p'"
   ]
  },
  {
   "cell_type": "code",
   "execution_count": 6,
   "metadata": {},
   "outputs": [],
   "source": [
    "results = pickle.load(open(filename,'rb'))"
   ]
  },
  {
   "cell_type": "code",
   "execution_count": 22,
   "metadata": {},
   "outputs": [
    {
     "output_type": "execute_result",
     "data": {
      "text/plain": [
       "(14, 1236, 2, 15)"
      ]
     },
     "metadata": {},
     "execution_count": 22
    }
   ],
   "source": [
    "horizon_id = 0\n",
    "horizon = results['horizons'][horizon_id]\n",
    "y_true = results['y_true'][horizon_id]\n",
    "y_hat = results['y_hat'][horizon_id]"
   ]
  },
  {
   "cell_type": "code",
   "execution_count": 16,
   "metadata": {},
   "outputs": [
    {
     "output_type": "execute_result",
     "data": {
      "text/plain": [
       "6.7019625"
      ]
     },
     "metadata": {},
     "execution_count": 16
    }
   ],
   "source": [
    "mae(y_true, y_hat)"
   ]
  },
  {
   "cell_type": "code",
   "execution_count": 20,
   "metadata": {},
   "outputs": [
    {
     "output_type": "execute_result",
     "data": {
      "text/plain": [
       "[6.7019625, 8.478978, 11.4005575, 13.673372, 52.665474, 29.70031, 37.947388]"
      ]
     },
     "metadata": {},
     "execution_count": 20
    }
   ],
   "source": [
    "results['mae']"
   ]
  },
  {
   "cell_type": "code",
   "execution_count": null,
   "metadata": {},
   "outputs": [],
   "source": [
    "    # plt.plot(horizons, mae_list)\n",
    "    # plt.xlabel('Forecasting Horizon')\n",
    "    # plt.ylabel('MAE')\n",
    "    # plt.grid()\n",
    "    # plt.savefig('horizon_vs_mae.pdf')"
   ]
  }
 ]
}