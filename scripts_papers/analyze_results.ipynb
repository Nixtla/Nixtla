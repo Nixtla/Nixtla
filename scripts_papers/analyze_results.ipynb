{
 "metadata": {
  "language_info": {
   "codemirror_mode": {
    "name": "ipython",
    "version": 3
   },
   "file_extension": ".py",
   "mimetype": "text/x-python",
   "name": "python",
   "nbconvert_exporter": "python",
   "pygments_lexer": "ipython3",
   "version": "3.7.8"
  },
  "orig_nbformat": 2,
  "kernelspec": {
   "name": "python378jvsc74a57bd052b0028e7074a0058398558ea661882eddbb489e66a28504cc0449d2f54d6290",
   "display_name": "Python 3.7.8 64-bit ('nixtla': conda)"
  }
 },
 "nbformat": 4,
 "nbformat_minor": 2,
 "cells": [
  {
   "cell_type": "code",
   "execution_count": 14,
   "metadata": {},
   "outputs": [],
   "source": [
    "import os\n",
    "import pickle\n",
    "import glob\n",
    "import numpy as np\n",
    "import pandas as pd\n",
    "\n",
    "import matplotlib.pyplot as plt\n",
    "from hyperopt import fmin, tpe, hp, Trials, STATUS_OK\n",
    "\n",
    "from nixtla.losses.numpy import mae, mape, smape, rmse, pinball_loss"
   ]
  },
  {
   "cell_type": "code",
   "execution_count": 27,
   "metadata": {},
   "outputs": [],
   "source": [
    "feature = 'ART'\n",
    "pooling = '1'\n",
    "horizon = 30\n",
    "experiment_id = '20210504'\n",
    "filename = f'../results/result_{horizon}_{feature}_{pooling}_{experiment_id}.p'"
   ]
  },
  {
   "cell_type": "code",
   "execution_count": 28,
   "metadata": {},
   "outputs": [],
   "source": [
    "results = pickle.load(open(filename,'rb'))"
   ]
  },
  {
   "cell_type": "code",
   "execution_count": 29,
   "metadata": {},
   "outputs": [],
   "source": [
    "horizon_id = 0\n",
    "horizon = results['horizon']\n",
    "y_true = results['y_true']\n",
    "y_hat = results['y_hat']"
   ]
  },
  {
   "cell_type": "code",
   "execution_count": 30,
   "metadata": {},
   "outputs": [
    {
     "output_type": "execute_result",
     "data": {
      "text/plain": [
       "20.498638"
      ]
     },
     "metadata": {},
     "execution_count": 30
    }
   ],
   "source": [
    "mae(y_true, y_hat)"
   ]
  },
  {
   "cell_type": "code",
   "execution_count": null,
   "metadata": {},
   "outputs": [],
   "source": [
    "    # plt.plot(horizons, mae_list)\n",
    "    # plt.xlabel('Forecasting Horizon')\n",
    "    # plt.ylabel('MAE')\n",
    "    # plt.grid()\n",
    "    # plt.savefig('horizon_vs_mae.pdf')"
   ]
  }
 ]
}