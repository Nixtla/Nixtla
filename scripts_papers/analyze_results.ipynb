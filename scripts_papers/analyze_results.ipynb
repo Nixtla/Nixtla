{
 "metadata": {
  "language_info": {
   "codemirror_mode": {
    "name": "ipython",
    "version": 3
   },
   "file_extension": ".py",
   "mimetype": "text/x-python",
   "name": "python",
   "nbconvert_exporter": "python",
   "pygments_lexer": "ipython3",
   "version": "3.7.8"
  },
  "orig_nbformat": 2,
  "kernelspec": {
   "name": "python378jvsc74a57bd052b0028e7074a0058398558ea661882eddbb489e66a28504cc0449d2f54d6290",
   "display_name": "Python 3.7.8 64-bit ('nixtla': conda)"
  }
 },
 "nbformat": 4,
 "nbformat_minor": 2,
 "cells": [
  {
   "cell_type": "code",
   "execution_count": null,
   "metadata": {},
   "outputs": [],
   "source": [
    "import os\n",
    "import pickle\n",
    "import glob\n",
    "import numpy as np\n",
    "import pandas as pd\n",
    "\n",
    "import matplotlib.pyplot as plt\n",
    "from hyperopt import fmin, tpe, hp, Trials, STATUS_OK\n",
    "\n",
    "from nixtla.losses.numpy import mae, mse, mape, smape, rmse, pinball_loss"
   ]
  },
  {
   "cell_type": "code",
   "execution_count": null,
   "metadata": {},
   "outputs": [],
   "source": [
    "horizons = [30, 60, 120, 480, 960]\n",
    "model = 'nbeats_g'\n",
    "experiment_id = '20210505'\n",
    "feature = 'ART'\n",
    "\n",
    "maes_0 = []\n",
    "maes_1 = []\n",
    "#maes_M = []\n",
    "trials_list = []\n",
    "maes_MP = []\n",
    "for horizon in horizons:\n",
    "    results = pickle.load(open(f'../results/result_{model}_{horizon}_{feature}_{0}_{experiment_id}.p','rb'))\n",
    "    y_true_0 = results['y_true']\n",
    "    y_hat_0 = results['y_hat']\n",
    "\n",
    "    #trials_list.append(results['trials'])\n",
    "\n",
    "    results = pickle.load(open(f'../results/result_{model}_{horizon}_{feature}_{1}_{experiment_id}.p','rb'))\n",
    "    y_true_1 = results['y_true']\n",
    "    y_hat_1 = results['y_hat']\n",
    "\n",
    "    trials_list.append(results['trials'])\n",
    "\n",
    "    if feature == 'ART':\n",
    "        index = 0\n",
    "    else:\n",
    "        index = 1\n",
    "\n",
    "    # results = pickle.load(open(f'../results/result_{horizon}_BOTH_{0}_{experiment_id}.p','rb'))\n",
    "    # y_true_M = results['y_true'][:,:,[index],:]\n",
    "    # y_hat_M = results['y_hat'][:,:,[index],:]\n",
    "\n",
    "    results = pickle.load(open(f'../results/result_{model}_{horizon}_BOTH_{1}_{experiment_id}.p','rb'))\n",
    "    y_true_MP = results['y_true'][:,:,[index],:]\n",
    "    y_hat_MP = results['y_hat'][:,:,[index],:]\n",
    "\n",
    "    maes_0.append(rmse(y_true_0, y_hat_0))\n",
    "    maes_1.append(rmse(y_true_1, y_hat_1))\n",
    "    #maes_M.append(rmse(y_true_M, y_hat_M))\n",
    "    maes_MP.append(rmse(y_true_MP, y_hat_MP))"
   ]
  },
  {
   "cell_type": "code",
   "execution_count": null,
   "metadata": {},
   "outputs": [],
   "source": [
    "plt.plot(horizons, maes_0, label='NBEATS')\n",
    "plt.plot(horizons, maes_1, label='NBEATS-P')\n",
    "#plt.plot(horizons, maes_M, label='NBEATS-M')\n",
    "plt.plot(horizons, maes_MP, label='NBEATS-MP')\n",
    "plt.grid()\n",
    "plt.legend()\n",
    "plt.xlabel('Horizon')\n",
    "plt.ylabel('RMSE')"
   ]
  },
  {
   "cell_type": "code",
   "execution_count": null,
   "metadata": {},
   "outputs": [],
   "source": [
    "fig, ax = plt.subplots(nrows=3, ncols=4, figsize = (15,10))\n",
    "for i in range(12):\n",
    "    ax[i//4, i%4].plot(y_true_0[i,-1,0,:])\n",
    "    ax[i//4, i%4].plot(y_hat_0[i,-1,0,:])\n",
    "    ax[i//4, i%4].grid(True)\n",
    "    ax[i//4, i%4].set_xlabel('Timestamp')\n",
    "    ax[i//4, i%4].set_ylabel('ART')\n",
    "    ax[i//4, i%4].set_title(f'Patient {i}')\n",
    "plt.tight_layout()"
   ]
  },
  {
   "cell_type": "code",
   "execution_count": null,
   "metadata": {},
   "outputs": [],
   "source": [
    "fig, ax = plt.subplots(nrows=3, ncols=4, figsize = (15,10))\n",
    "for i in range(12):\n",
    "    ax[i//4, i%4].plot(y_true_1[i,-1,0,:])\n",
    "    ax[i//4, i%4].plot(y_hat_1[i,-1,0,:])\n",
    "    ax[i//4, i%4].grid(True)\n",
    "    ax[i//4, i%4].set_xlabel('Timestamp')\n",
    "    ax[i//4, i%4].set_ylabel('ART')\n",
    "    ax[i//4, i%4].set_title(f'Patient {i}')\n",
    "plt.tight_layout()"
   ]
  },
  {
   "cell_type": "code",
   "execution_count": null,
   "metadata": {},
   "outputs": [],
   "source": [
    "def parse_trials(trials):\n",
    "    # Initialize\n",
    "    trials_dict = {'tid': [],\n",
    "                   'val_loss': [],\n",
    "                   'run_time': [],\n",
    "                   #'trajectories': [],\n",
    "                   'mc': []}\n",
    "    for tidx in range(len(trials)):\n",
    "        # Main\n",
    "        try:\n",
    "            trials_dict['val_loss'] += [trials.trials[tidx]['result']['loss']]\n",
    "            trials_dict['tid']  += [trials.trials[tidx]['tid']]\n",
    "            trials_dict['run_time'] += [trials.trials[tidx]['result']['run_time']]\n",
    "            #trials_dict['trajectories'] += [trials.trials[tidx]['result']['trajectories']]\n",
    "\n",
    "            # Model Configs\n",
    "            mc = trials.trials[tidx]['result']['mc']\n",
    "            trials_dict['mc'] += [mc]\n",
    "        except:\n",
    "            print('hola')\n",
    "        \n",
    "    trials_df = pd.DataFrame(trials_dict)\n",
    "    return trials_df"
   ]
  },
  {
   "cell_type": "code",
   "execution_count": null,
   "metadata": {},
   "outputs": [],
   "source": [
    "for i,h in enumerate(horizons):\n",
    "    trials = parse_trials(trials_list[i])\n",
    "    trials = pd.concat([trials.drop(['mc'], axis=1), trials['mc'].apply(pd.Series)], axis=1)\n",
    "    for i, column in enumerate(trials.columns):\n",
    "        if trials.dtypes[i]=='object':\n",
    "            trials[column] = trials[column].astype(str)\n",
    "            trials[column] = trials[column].fillna('None')\n",
    "    trials['n_pooling_kernel'] = trials['n_pooling_kernel'].apply(lambda x: int(x.replace('(','').split(',')[0]))\n",
    "    plt.scatter(trials['n_pooling_kernel'], trials['val_loss'].values[:,0].astype(float))\n",
    "    plt.grid()\n",
    "    plt.xlabel('Pooling Kernel Size')\n",
    "    plt.ylabel('Validation MAE')\n",
    "    plt.title(f'Horizon {h}')\n",
    "    plt.show()"
   ]
  },
  {
   "cell_type": "code",
   "execution_count": null,
   "metadata": {},
   "outputs": [],
   "source": [
    "trials['n_blocks']"
   ]
  },
  {
   "cell_type": "code",
   "execution_count": null,
   "metadata": {},
   "outputs": [],
   "source": []
  },
  {
   "cell_type": "code",
   "execution_count": null,
   "metadata": {},
   "outputs": [],
   "source": []
  },
  {
   "cell_type": "code",
   "execution_count": null,
   "metadata": {},
   "outputs": [],
   "source": []
  }
 ]
}