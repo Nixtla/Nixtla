{
 "cells": [
  {
   "cell_type": "code",
   "execution_count": null,
   "metadata": {},
   "outputs": [],
   "source": [
    "import os\n",
    "from functools import partial\n",
    "\n",
    "import coiled\n",
    "import dask.dataframe as dd\n",
    "import pandas as pd\n",
    "from dask.distributed import Client\n",
    "from orax_forecast import OraxForecast\n",
    "from orax_forecast.models import *\n",
    "from orax_forecast.model_selection import TimeSeriesSplit\n",
    "from orax_forecast.metrics import root_mean_squared_scaled_error\n",
    "from orax_forecast.pipeline import TimeSerie, freq2int\n",
    "from orax_forecast.r_models import AutoARIMA, AutoETS\n",
    "from tsfeatures import acf_features, stl_features, entropy\n",
    "\n",
    "from nixtla.data.datasets import TourismInfo"
   ]
  },
  {
   "cell_type": "code",
   "execution_count": null,
   "metadata": {},
   "outputs": [],
   "source": [
    "os.environ['AWS_PROFILE'] = 'pos'\n",
    "os.environ['AWS_DEFAULT_REGION'] = 'us-east-2'\n",
    "os.environ['OMP_NUM_THREADS'] = '1'\n",
    "\n",
    "s3_bucket = 's3://nixtla-datasets/tourism'"
   ]
  },
  {
   "cell_type": "code",
   "execution_count": null,
   "metadata": {},
   "outputs": [],
   "source": [
    "cluster = coiled.Cluster(configuration='groupo-abraxas/miniforecast_config', \n",
    "                         account='groupo-abraxas')\n",
    "client = Client(cluster)\n",
    "client"
   ]
  },
  {
   "cell_type": "code",
   "execution_count": null,
   "metadata": {},
   "outputs": [],
   "source": [
    "def flow(serie, freq, models, cv, ts_features,\n",
    "         date_features,  test_periods, loss_fn):\n",
    "    ts = TimeSerie(serie, freq, models, cv)\n",
    "    ts.compute_ts_features(ts_features)\n",
    "    ts.keep_effective_cv()\n",
    "    ts.add_date_features_to_train(date_features)\n",
    "    ts.create_X_test(test_periods)\n",
    "    ts.add_date_features_to_X_test(date_features)\n",
    "    ts.keep_effective_features()\n",
    "    ts.keep_effective_models()\n",
    "    ts.fit_models()\n",
    "    ts.compute_test_predictions()\n",
    "    ts.compute_cross_validation_losses(loss_fn)\n",
    "    return ts"
   ]
  },
  {
   "cell_type": "code",
   "execution_count": null,
   "metadata": {},
   "outputs": [],
   "source": [
    "for group in TourismInfo.groups:\n",
    "    data = dd.read_parquet(f'{s3_bucket}/{group.name}/data.parquet')\n",
    "    data = data.repartition(npartitions=8, force=True)\n",
    "    \n",
    "    test_periods = group.horizon\n",
    "    int_freq = freq2int[group.name[0]]\n",
    "    models = dict(\n",
    "        ARIMA=AutoARIMA(freq=int_freq, stepwise=False, approximation=False),\n",
    "        ETS=AutoETS(freq=int_freq),\n",
    "        SNaive=SeasonalNaive(season_length=int_freq),\n",
    "        WAvg=WindowAverage(window_size=int_freq*4),\n",
    "    )\n",
    "    params = dict(\n",
    "        freq='Y',\n",
    "        cv=TimeSeriesSplit(n_splits=2, valid_size=test_periods),\n",
    "        test_periods=test_periods,\n",
    "        models=models,\n",
    "        loss_fn=root_mean_squared_scaled_error,\n",
    "        ts_features=[acf_features, stl_features, entropy],\n",
    "        date_features=['year', 'month', 'quarter'],\n",
    "    )\n",
    "    partial_flow = partial(flow, **params)\n",
    "\n",
    "    results_path = f'{s3_bucket}/{group.name}/of_results'\n",
    "    of = OraxForecast()\n",
    "    of.write_flow_results(data, partial_flow, results_path)"
   ]
  },
  {
   "cell_type": "code",
   "execution_count": null,
   "metadata": {},
   "outputs": [],
   "source": [
    "cluster.close()"
   ]
  }
 ],
 "metadata": {
  "kernelspec": {
   "display_name": "Python 3",
   "language": "python",
   "name": "python3"
  },
  "language_info": {
   "codemirror_mode": {
    "name": "ipython",
    "version": 3
   },
   "file_extension": ".py",
   "mimetype": "text/x-python",
   "name": "python",
   "nbconvert_exporter": "python",
   "pygments_lexer": "ipython3",
   "version": "3.7.8"
  }
 },
 "nbformat": 4,
 "nbformat_minor": 4
}
