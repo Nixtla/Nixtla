{
 "metadata": {
  "language_info": {
   "codemirror_mode": {
    "name": "ipython",
    "version": 3
   },
   "file_extension": ".py",
   "mimetype": "text/x-python",
   "name": "python",
   "nbconvert_exporter": "python",
   "pygments_lexer": "ipython3",
   "version": "3.7.8-final"
  },
  "orig_nbformat": 2,
  "kernelspec": {
   "name": "python3",
   "display_name": "Python 3.7.8 64-bit ('nixtla': conda)",
   "metadata": {
    "interpreter": {
     "hash": "52b0028e7074a0058398558ea661882eddbb489e66a28504cc0449d2f54d6290"
    }
   }
  }
 },
 "nbformat": 4,
 "nbformat_minor": 2,
 "cells": [
  {
   "cell_type": "code",
   "execution_count": 1,
   "metadata": {},
   "outputs": [],
   "source": [
    "import time\n",
    "import numpy as np\n",
    "import pandas as pd\n",
    "import random\n",
    "import torch as t\n",
    "import copy\n",
    "from fastcore.foundation import patch\n",
    "from nixtla.data.ts_dataset import TimeSeriesDataset\n",
    "from nixtla.data.ts_loader_general import TimeSeriesLoader\n",
    "from nixtla.data.ts_loader_pinche import TimeSeriesLoader as TimeSeriesLoaderPinche\n",
    "from nixtla.data.ts_loader import TimeSeriesLoader as TimeSeriesLoaderFast"
   ]
  },
  {
   "cell_type": "code",
   "execution_count": 2,
   "metadata": {},
   "outputs": [],
   "source": [
    "from nixtla.data.datasets.tourism import Tourism, TourismInfo"
   ]
  },
  {
   "cell_type": "code",
   "execution_count": 3,
   "metadata": {},
   "outputs": [
    {
     "output_type": "stream",
     "name": "stdout",
     "text": [
      "Processing dataframes ...\nCreating ts tensor ...\n"
     ]
    }
   ],
   "source": [
    "tourism_dataset = Tourism.load(directory='data', group=TourismInfo.groups[0])"
   ]
  },
  {
   "cell_type": "code",
   "execution_count": 4,
   "metadata": {},
   "outputs": [
    {
     "output_type": "execute_result",
     "data": {
      "text/plain": [
       "torch.Size([518, 3, 47])"
      ]
     },
     "metadata": {},
     "execution_count": 4
    }
   ],
   "source": [
    "tourism_dataset.ts_tensor.shape"
   ]
  },
  {
   "cell_type": "code",
   "execution_count": 5,
   "metadata": {},
   "outputs": [],
   "source": [
    "ts_loader = TimeSeriesLoader(ts_dataset=tourism_dataset,\n",
    "                             model='nbeats',\n",
    "                             offset=0,\n",
    "                             window_sampling_limit=200*4, \n",
    "                             input_size=3*4,\n",
    "                             output_size=4,\n",
    "                             idx_to_sample_freq=1,\n",
    "                             batch_size= 2048,\n",
    "                             n_series_per_batch=32)\n",
    "\n",
    "ts_loader_pinche = TimeSeriesLoaderPinche(ts_dataset=tourism_dataset,\n",
    "                                        model='nbeats',\n",
    "                                        offset=0,\n",
    "                                        window_sampling_limit=200*4, \n",
    "                                        input_size=3*4,\n",
    "                                        output_size=4,\n",
    "                                        idx_to_sample_freq=1,\n",
    "                                        batch_size= 2048)  \n",
    "\n",
    "ts_loader_fast = TimeSeriesLoaderFast(ts_dataset=tourism_dataset,\n",
    "                                        model='nbeats',\n",
    "                                        offset=0,\n",
    "                                        window_sampling_limit=200*4, \n",
    "                                        input_size=3*4,\n",
    "                                        output_size=4,\n",
    "                                        idx_to_sample_freq=1,\n",
    "                                        batch_size= 2048)              "
   ]
  },
  {
   "cell_type": "code",
   "execution_count": 6,
   "metadata": {},
   "outputs": [
    {
     "output_type": "execute_result",
     "data": {
      "text/plain": [
       "0.00019788742065429688"
      ]
     },
     "metadata": {},
     "execution_count": 6
    }
   ],
   "source": [
    "dataloader = iter(ts_loader)\n",
    "batch = next(dataloader)\n",
    "start = time.time()\n",
    "insample_y = batch['insample_y']\n",
    "insample_x_t = batch['insample_x_t']\n",
    "insample_mask = batch['insample_mask']\n",
    "outsample_x_t = batch['outsample_x_t']\n",
    "outsample_y = batch['outsample_y']\n",
    "outsample_mask = batch['outsample_mask']\n",
    "time.time()-start"
   ]
  },
  {
   "cell_type": "code",
   "execution_count": 7,
   "metadata": {},
   "outputs": [
    {
     "output_type": "execute_result",
     "data": {
      "text/plain": [
       "torch.Size([2048, 12])"
      ]
     },
     "metadata": {},
     "execution_count": 7
    }
   ],
   "source": [
    "insample_y.shape"
   ]
  },
  {
   "cell_type": "code",
   "execution_count": 8,
   "metadata": {},
   "outputs": [
    {
     "output_type": "execute_result",
     "data": {
      "text/plain": [
       "0.00016164779663085938"
      ]
     },
     "metadata": {},
     "execution_count": 8
    }
   ],
   "source": [
    "dataloader = iter(ts_loader_pinche)\n",
    "batch = next(dataloader)\n",
    "start = time.time()\n",
    "insample_y = batch['insample_y']\n",
    "insample_x_t = batch['insample_x_t']\n",
    "insample_mask = batch['insample_mask']\n",
    "outsample_x_t = batch['outsample_x_t']\n",
    "outsample_y = batch['outsample_y']\n",
    "outsample_mask = batch['outsample_mask']\n",
    "time.time()-start"
   ]
  },
  {
   "cell_type": "code",
   "execution_count": 9,
   "metadata": {},
   "outputs": [
    {
     "output_type": "execute_result",
     "data": {
      "text/plain": [
       "(2048, 12)"
      ]
     },
     "metadata": {},
     "execution_count": 9
    }
   ],
   "source": [
    "insample_y.shape"
   ]
  },
  {
   "cell_type": "code",
   "execution_count": 10,
   "metadata": {},
   "outputs": [
    {
     "output_type": "execute_result",
     "data": {
      "text/plain": [
       "0.00022673606872558594"
      ]
     },
     "metadata": {},
     "execution_count": 10
    }
   ],
   "source": [
    "dataloader = iter(ts_loader_fast)\n",
    "batch = next(dataloader)\n",
    "start = time.time()\n",
    "insample_y = batch['insample_y']\n",
    "insample_x_t = batch['insample_x_t']\n",
    "insample_mask = batch['insample_mask']\n",
    "outsample_x_t = batch['outsample_x_t']\n",
    "outsample_y = batch['outsample_y']\n",
    "outsample_mask = batch['outsample_mask']\n",
    "time.time()-start"
   ]
  },
  {
   "cell_type": "code",
   "execution_count": 11,
   "metadata": {},
   "outputs": [
    {
     "output_type": "execute_result",
     "data": {
      "text/plain": [
       "torch.Size([2048, 12])"
      ]
     },
     "metadata": {},
     "execution_count": 11
    }
   ],
   "source": [
    "insample_y.shape"
   ]
  },
  {
   "cell_type": "code",
   "execution_count": null,
   "metadata": {},
   "outputs": [],
   "source": [
    "ts_loader_fast.ts_windows"
   ]
  },
  {
   "cell_type": "code",
   "execution_count": null,
   "metadata": {},
   "outputs": [],
   "source": [
    "ts_loader_fast.ts_windows[20000:20010]"
   ]
  },
  {
   "cell_type": "code",
   "execution_count": null,
   "metadata": {},
   "outputs": [],
   "source": []
  }
 ]
}