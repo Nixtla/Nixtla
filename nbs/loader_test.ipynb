{
 "metadata": {
  "language_info": {
   "codemirror_mode": {
    "name": "ipython",
    "version": 3
   },
   "file_extension": ".py",
   "mimetype": "text/x-python",
   "name": "python",
   "nbconvert_exporter": "python",
   "pygments_lexer": "ipython3",
   "version": "3.7.9-final"
  },
  "orig_nbformat": 2,
  "kernelspec": {
   "name": "python3",
   "display_name": "Python 3.7.9 64-bit ('nixtla': conda)",
   "metadata": {
    "interpreter": {
     "hash": "97c68c0f618c4f787b1e02bfee278e48d25b62407cb335aab5258cedc4db4ced"
    }
   }
  }
 },
 "nbformat": 4,
 "nbformat_minor": 2,
 "cells": [
  {
   "cell_type": "code",
   "execution_count": 1,
   "metadata": {},
   "outputs": [],
   "source": [
    "import time\n",
    "import numpy as np\n",
    "import pandas as pd\n",
    "import random\n",
    "import torch as t\n",
    "import copy\n",
    "from fastcore.foundation import patch\n",
    "from nixtla.data.ts_dataset import TimeSeriesDataset\n",
    "from nixtla.data.ts_loader import TimeSeriesLoader as TimeSeriesLoaderFast\n",
    "from nixtla.data.ts_loader_pinche import TimeSeriesLoader as TimeSeriesLoaderPinche\n",
    "from nixtla.data.ts_loader_general import TimeSeriesLoader as TimeSeriesLoaderGeneral\n",
    "\n",
    "np.random.seed(1)"
   ]
  },
  {
   "cell_type": "code",
   "execution_count": 7,
   "metadata": {},
   "outputs": [],
   "source": [
    "from nixtla.data.datasets.tourism import Tourism, TourismInfo\n",
    "from nixtla.data.datasets.epf import EPF, EPFInfo\n",
    "Y_df, X_df = EPF.load(directory='data', group=EPFInfo.groups[0])"
   ]
  },
  {
   "cell_type": "code",
   "execution_count": 8,
   "metadata": {},
   "outputs": [
    {
     "output_type": "execute_result",
     "data": {
      "text/plain": [
       "  unique_id                  ds  Exogenous1  Exogenous2  day_0  day_1  day_2  \\\n",
       "0        NP 2013-01-01 00:00:00     42497.0      2798.0      0      1      0   \n",
       "1        NP 2013-01-01 01:00:00     41463.0      2417.0      0      1      0   \n",
       "2        NP 2013-01-01 02:00:00     40812.0      2036.0      0      1      0   \n",
       "3        NP 2013-01-01 03:00:00     40246.0      1706.0      0      1      0   \n",
       "4        NP 2013-01-01 04:00:00     40088.0      1427.0      0      1      0   \n",
       "\n",
       "   day_3  day_4  day_5  day_6  \n",
       "0      0      0      0      0  \n",
       "1      0      0      0      0  \n",
       "2      0      0      0      0  \n",
       "3      0      0      0      0  \n",
       "4      0      0      0      0  "
      ],
      "text/html": "<div>\n<style scoped>\n    .dataframe tbody tr th:only-of-type {\n        vertical-align: middle;\n    }\n\n    .dataframe tbody tr th {\n        vertical-align: top;\n    }\n\n    .dataframe thead th {\n        text-align: right;\n    }\n</style>\n<table border=\"1\" class=\"dataframe\">\n  <thead>\n    <tr style=\"text-align: right;\">\n      <th></th>\n      <th>unique_id</th>\n      <th>ds</th>\n      <th>Exogenous1</th>\n      <th>Exogenous2</th>\n      <th>day_0</th>\n      <th>day_1</th>\n      <th>day_2</th>\n      <th>day_3</th>\n      <th>day_4</th>\n      <th>day_5</th>\n      <th>day_6</th>\n    </tr>\n  </thead>\n  <tbody>\n    <tr>\n      <th>0</th>\n      <td>NP</td>\n      <td>2013-01-01 00:00:00</td>\n      <td>42497.0</td>\n      <td>2798.0</td>\n      <td>0</td>\n      <td>1</td>\n      <td>0</td>\n      <td>0</td>\n      <td>0</td>\n      <td>0</td>\n      <td>0</td>\n    </tr>\n    <tr>\n      <th>1</th>\n      <td>NP</td>\n      <td>2013-01-01 01:00:00</td>\n      <td>41463.0</td>\n      <td>2417.0</td>\n      <td>0</td>\n      <td>1</td>\n      <td>0</td>\n      <td>0</td>\n      <td>0</td>\n      <td>0</td>\n      <td>0</td>\n    </tr>\n    <tr>\n      <th>2</th>\n      <td>NP</td>\n      <td>2013-01-01 02:00:00</td>\n      <td>40812.0</td>\n      <td>2036.0</td>\n      <td>0</td>\n      <td>1</td>\n      <td>0</td>\n      <td>0</td>\n      <td>0</td>\n      <td>0</td>\n      <td>0</td>\n    </tr>\n    <tr>\n      <th>3</th>\n      <td>NP</td>\n      <td>2013-01-01 03:00:00</td>\n      <td>40246.0</td>\n      <td>1706.0</td>\n      <td>0</td>\n      <td>1</td>\n      <td>0</td>\n      <td>0</td>\n      <td>0</td>\n      <td>0</td>\n      <td>0</td>\n    </tr>\n    <tr>\n      <th>4</th>\n      <td>NP</td>\n      <td>2013-01-01 04:00:00</td>\n      <td>40088.0</td>\n      <td>1427.0</td>\n      <td>0</td>\n      <td>1</td>\n      <td>0</td>\n      <td>0</td>\n      <td>0</td>\n      <td>0</td>\n      <td>0</td>\n    </tr>\n  </tbody>\n</table>\n</div>"
     },
     "metadata": {},
     "execution_count": 8
    }
   ],
   "source": [
    "X_df.head()"
   ]
  },
  {
   "cell_type": "code",
   "execution_count": 9,
   "metadata": {},
   "outputs": [
    {
     "output_type": "execute_result",
     "data": {
      "text/plain": [
       "  unique_id                  ds      y\n",
       "0        NP 2013-01-01 00:00:00  31.05\n",
       "1        NP 2013-01-01 01:00:00  30.47\n",
       "2        NP 2013-01-01 02:00:00  28.92\n",
       "3        NP 2013-01-01 03:00:00  27.88\n",
       "4        NP 2013-01-01 04:00:00  26.96"
      ],
      "text/html": "<div>\n<style scoped>\n    .dataframe tbody tr th:only-of-type {\n        vertical-align: middle;\n    }\n\n    .dataframe tbody tr th {\n        vertical-align: top;\n    }\n\n    .dataframe thead th {\n        text-align: right;\n    }\n</style>\n<table border=\"1\" class=\"dataframe\">\n  <thead>\n    <tr style=\"text-align: right;\">\n      <th></th>\n      <th>unique_id</th>\n      <th>ds</th>\n      <th>y</th>\n    </tr>\n  </thead>\n  <tbody>\n    <tr>\n      <th>0</th>\n      <td>NP</td>\n      <td>2013-01-01 00:00:00</td>\n      <td>31.05</td>\n    </tr>\n    <tr>\n      <th>1</th>\n      <td>NP</td>\n      <td>2013-01-01 01:00:00</td>\n      <td>30.47</td>\n    </tr>\n    <tr>\n      <th>2</th>\n      <td>NP</td>\n      <td>2013-01-01 02:00:00</td>\n      <td>28.92</td>\n    </tr>\n    <tr>\n      <th>3</th>\n      <td>NP</td>\n      <td>2013-01-01 03:00:00</td>\n      <td>27.88</td>\n    </tr>\n    <tr>\n      <th>4</th>\n      <td>NP</td>\n      <td>2013-01-01 04:00:00</td>\n      <td>26.96</td>\n    </tr>\n  </tbody>\n</table>\n</div>"
     },
     "metadata": {},
     "execution_count": 9
    }
   ],
   "source": [
    "Y_df.head()"
   ]
  },
  {
   "cell_type": "code",
   "execution_count": 10,
   "metadata": {},
   "outputs": [
    {
     "output_type": "execute_result",
     "data": {
      "text/plain": [
       "26184.0"
      ]
     },
     "metadata": {},
     "execution_count": 10
    }
   ],
   "source": [
    "train_outsample_mask = np.ones(len(y_df))\n",
    "train_outsample_mask[-365 * 24:] = 0\n",
    "sum(train_outsample_mask)"
   ]
  },
  {
   "cell_type": "code",
   "execution_count": 11,
   "metadata": {},
   "outputs": [
    {
     "output_type": "stream",
     "name": "stdout",
     "text": [
      "Processing dataframes ...\nCreating ts tensor ...\n"
     ]
    }
   ],
   "source": [
    "epf_dataset = TimeSeriesDataset(Y_df=Y_df, S_df=None, X_df=X_df, ts_train_mask=train_outsample_mask)"
   ]
  },
  {
   "cell_type": "code",
   "execution_count": 12,
   "metadata": {},
   "outputs": [
    {
     "output_type": "stream",
     "name": "stdout",
     "text": [
      "Processing dataframes ...\n",
      "Creating ts tensor ...\n"
     ]
    }
   ],
   "source": [
    "Y_df, _ = Tourism.load(directory='data', group=TourismInfo.groups[0])\n",
    "tourism_dataset = TimeSeriesDataset(Y_df=Y_df, S_df=None, X_df=None, ts_train_mask=np.ones(47))"
   ]
  },
  {
   "cell_type": "code",
   "execution_count": 37,
   "metadata": {},
   "outputs": [],
   "source": [
    "# ts_loader_general = TimeSeriesLoaderGeneral(ts_dataset=tourism_dataset,\n",
    "#                                             model='nbeats',\n",
    "#                                             offset=0,\n",
    "#                                             window_sampling_limit=200*4, \n",
    "#                                             input_size=3*4,\n",
    "#                                             output_size=4,\n",
    "#                                             idx_to_sample_freq=1,\n",
    "#                                             batch_size= 2048,\n",
    "#                                             n_series_per_batch=32,\n",
    "#                                             is_train_loader=True)\n",
    "\n",
    "# ts_loader_pinche = TimeSeriesLoaderPinche(ts_dataset=tourism_dataset,\n",
    "#                                           model='nbeats',\n",
    "#                                           offset=0,\n",
    "#                                           window_sampling_limit=200*4, \n",
    "#                                           input_size=3*4,\n",
    "#                                           output_size=4,\n",
    "#                                           idx_to_sample_freq=1,\n",
    "#                                           batch_size= 2048,\n",
    "#                                           is_train_loader=True)\n",
    "\n",
    "# ts_loader_fast = TimeSeriesLoaderFast(ts_dataset=tourism_dataset,\n",
    "#                                       model='nbeats',\n",
    "#                                       offset=0,\n",
    "#                                       window_sampling_limit=200*4, \n",
    "#                                       input_size=3*4,\n",
    "#                                       output_size=4,\n",
    "#                                       idx_to_sample_freq=1,\n",
    "#                                       batch_size= 2048,\n",
    "#                                       is_train_loader=True)\n",
    "\n",
    "ts_loader_general = TimeSeriesLoaderGeneral(ts_dataset=epf_dataset,\n",
    "                                            model='nbeats',\n",
    "                                            offset=0,\n",
    "                                            window_sampling_limit=365*4*24, \n",
    "                                            input_size=3*24,\n",
    "                                            output_size=24,\n",
    "                                            idx_to_sample_freq=1,\n",
    "                                            batch_size= 2048,\n",
    "                                            n_series_per_batch=1,\n",
    "                                            is_train_loader=True)\n",
    "\n",
    "ts_loader_pinche = TimeSeriesLoaderPinche(ts_dataset=epf_dataset,\n",
    "                                        model='nbeats',\n",
    "                                        offset=0,\n",
    "                                        window_sampling_limit=365*4*24, \n",
    "                                        input_size=3*24,\n",
    "                                        output_size=24,\n",
    "                                        idx_to_sample_freq=1,\n",
    "                                        batch_size= 2048,\n",
    "                                        is_train_loader=True)\n",
    "\n",
    "ts_loader_fast = TimeSeriesLoaderFast(ts_dataset=epf_dataset,\n",
    "                                        model='nbeats',\n",
    "                                        offset=0,\n",
    "                                        window_sampling_limit=365*4*24, \n",
    "                                        input_size=3*24,\n",
    "                                        output_size=24,\n",
    "                                        idx_to_sample_freq=1,\n",
    "                                        batch_size= 2048,\n",
    "                                        is_train_loader=True)"
   ]
  },
  {
   "cell_type": "code",
   "execution_count": 38,
   "metadata": {},
   "outputs": [
    {
     "output_type": "stream",
     "name": "stdout",
     "text": [
      "DataloaderGeneral batch time: 0.0408320426940918\ninsample_y.shape torch.Size([2048, 72])\ninsample_x.shape torch.Size([2048, 9, 72])\noutsample_y.shape torch.Size([2048, 24])\noutsample_x.shape torch.Size([2048, 9, 24])\n"
     ]
    }
   ],
   "source": [
    "start = time.time()\n",
    "dataloader = iter(ts_loader_general)\n",
    "batch = next(dataloader)\n",
    "insample_y = batch['insample_y']\n",
    "insample_x = batch['insample_x']\n",
    "insample_mask = batch['insample_mask']\n",
    "outsample_x = batch['outsample_x']\n",
    "outsample_y = batch['outsample_y']\n",
    "outsample_mask = batch['outsample_mask']\n",
    "print(\"DataloaderGeneral batch time:\", time.time()-start)\n",
    "print(\"insample_y.shape\", insample_y.shape)\n",
    "print(\"insample_x.shape\", insample_x.shape)\n",
    "print(\"outsample_y.shape\", outsample_y.shape)\n",
    "print(\"outsample_x.shape\", outsample_x.shape)"
   ]
  },
  {
   "cell_type": "code",
   "execution_count": 39,
   "metadata": {},
   "outputs": [
    {
     "output_type": "stream",
     "name": "stdout",
     "text": [
      "DataloaderPinche batch time: 4.104574203491211\ninsample_y.shape (2048, 72)\ninsample_x.shape (2048, 9, 72)\noutsample_y.shape (2048, 24)\noutsample_x.shape (2048, 9, 24)\n"
     ]
    }
   ],
   "source": [
    "start = time.time()\n",
    "dataloader = iter(ts_loader_pinche)\n",
    "batch = next(dataloader)\n",
    "insample_y = batch['insample_y']\n",
    "insample_x = batch['insample_x']\n",
    "insample_mask = batch['insample_mask']\n",
    "outsample_x = batch['outsample_x']\n",
    "outsample_y = batch['outsample_y']\n",
    "outsample_mask = batch['outsample_mask']\n",
    "print(\"DataloaderPinche batch time:\", time.time()-start)\n",
    "print(\"insample_y.shape\", insample_y.shape)\n",
    "print(\"insample_x.shape\", insample_x.shape)\n",
    "print(\"outsample_y.shape\", outsample_y.shape)\n",
    "print(\"outsample_x.shape\", outsample_x.shape)"
   ]
  },
  {
   "cell_type": "code",
   "execution_count": 40,
   "metadata": {},
   "outputs": [
    {
     "output_type": "stream",
     "name": "stdout",
     "text": [
      "DataloaderFast batch time: 0.0019447803497314453\ninsample_y.shape torch.Size([2048, 72])\ninsample_x.shape torch.Size([2048, 9, 72])\noutsample_y.shape torch.Size([2048, 24])\noutsample_x.shape torch.Size([2048, 9, 24])\n"
     ]
    }
   ],
   "source": [
    "dataloader = iter(ts_loader_fast)\n",
    "batch = next(dataloader)\n",
    "start = time.time()\n",
    "insample_y = batch['insample_y']\n",
    "insample_x = batch['insample_x']\n",
    "insample_mask = batch['insample_mask']\n",
    "outsample_x = batch['outsample_x']\n",
    "outsample_y = batch['outsample_y']\n",
    "outsample_mask = batch['outsample_mask']\n",
    "print(\"DataloaderFast batch time:\", time.time()-start)\n",
    "print(\"insample_y.shape\", insample_y.shape)\n",
    "print(\"insample_x.shape\", insample_x.shape)\n",
    "print(\"outsample_y.shape\", outsample_y.shape)\n",
    "print(\"outsample_x.shape\", outsample_x.shape)"
   ]
  },
  {
   "cell_type": "code",
   "execution_count": 35,
   "metadata": {},
   "outputs": [],
   "source": [
    "# ts_loader_fast.ts_windows"
   ]
  },
  {
   "cell_type": "code",
   "execution_count": 34,
   "metadata": {},
   "outputs": [],
   "source": [
    "# ts_loader_fast.ts_windows[20000:20010]"
   ]
  },
  {
   "cell_type": "code",
   "execution_count": null,
   "metadata": {},
   "outputs": [],
   "source": []
  }
 ]
}