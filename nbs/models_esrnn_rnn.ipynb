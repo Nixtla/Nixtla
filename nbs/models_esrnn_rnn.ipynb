{
 "cells": [
  {
   "cell_type": "code",
   "execution_count": null,
   "metadata": {},
   "outputs": [],
   "source": [
    "# default_exp models.esrnn.rnn"
   ]
  },
  {
   "cell_type": "code",
   "execution_count": null,
   "metadata": {},
   "outputs": [],
   "source": [
    "#hide\n",
    "%load_ext autoreload\n",
    "%autoreload 2"
   ]
  },
  {
   "cell_type": "markdown",
   "metadata": {},
   "source": [
    "# RNN model\n",
    "\n",
    "> API details."
   ]
  },
  {
   "cell_type": "code",
   "execution_count": null,
   "metadata": {},
   "outputs": [],
   "source": [
    "# export\n",
    "import os\n",
    "import time\n",
    "from copy import deepcopy\n",
    "from pathlib import Path\n",
    "\n",
    "import numpy as np\n",
    "import pandas as pd\n",
    "import torch as t\n",
    "import torch.nn as nn\n",
    "import torch.optim as optim\n",
    "from torch.optim.lr_scheduler import StepLR\n",
    "\n",
    "from nixtla.models.esrnn.esrnn import ESRNN"
   ]
  },
  {
   "cell_type": "code",
   "execution_count": null,
   "metadata": {},
   "outputs": [],
   "source": [
    "# export\n",
    "class RNN(ESRNN):\n",
    "    def __init__(self,\n",
    "                 input_size,\n",
    "                 output_size,\n",
    "                 max_epochs,\n",
    "                 learning_rate,\n",
    "                 lr_scheduler_step_size,\n",
    "                 lr_decay,\n",
    "                 gradient_eps,\n",
    "                 gradient_clipping_threshold,\n",
    "                 rnn_weight_decay,\n",
    "                 noise_std,\n",
    "                 testing_percentile,\n",
    "                 training_percentile,\n",
    "                 cell_type,\n",
    "                 state_hsize,\n",
    "                 dilations,\n",
    "                 add_nl_layer,\n",
    "                 loss,\n",
    "                 random_seed,\n",
    "                 device=None,\n",
    "                 root_dir='./'):\n",
    "\n",
    "        assert loss != 'SMYL', 'SMYL loss not valid for RNN model.'\n",
    "        es_component = 'identity'\n",
    "        seasonality = []\n",
    "        level_variability_penalty = 0\n",
    "        per_series_lr_multip = 1\n",
    "        super(RNN, self).__init__(input_size,\n",
    "                                  output_size,\n",
    "                                  max_epochs,\n",
    "                                  learning_rate,\n",
    "                                  lr_scheduler_step_size,\n",
    "                                  lr_decay,\n",
    "                                  per_series_lr_multip,\n",
    "                                  gradient_eps,\n",
    "                                  gradient_clipping_threshold,\n",
    "                                  rnn_weight_decay,\n",
    "                                  noise_std,\n",
    "                                  level_variability_penalty,\n",
    "                                  testing_percentile,\n",
    "                                  training_percentile,\n",
    "                                  es_component,\n",
    "                                  cell_type,\n",
    "                                  state_hsize,\n",
    "                                  dilations,\n",
    "                                  add_nl_layer,\n",
    "                                  seasonality,\n",
    "                                  loss,\n",
    "                                  random_seed,\n",
    "                                  device,\n",
    "                                  root_dir)"
   ]
  },
  {
   "cell_type": "code",
   "execution_count": null,
   "metadata": {},
   "outputs": [],
   "source": []
  }
 ],
 "metadata": {
  "kernelspec": {
   "display_name": "Python 3.7.8 64-bit ('nixtla': conda)",
   "metadata": {
    "interpreter": {
     "hash": "52b0028e7074a0058398558ea661882eddbb489e66a28504cc0449d2f54d6290"
    }
   },
   "name": "python3"
  }
 },
 "nbformat": 4,
 "nbformat_minor": 2
}