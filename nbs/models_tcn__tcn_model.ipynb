{
 "cells": [
  {
   "cell_type": "code",
   "execution_count": null,
   "metadata": {},
   "outputs": [],
   "source": [
    "# default_exp models.tcn.tcn_model"
   ]
  },
  {
   "cell_type": "code",
   "execution_count": null,
   "metadata": {},
   "outputs": [],
   "source": [
    "# export\n",
    "import torch as t\n",
    "import torch.nn as nn\n",
    "from nixtla.models.component import TemporalConvNet\n",
    "import numpy as np"
   ]
  },
  {
   "cell_type": "code",
   "execution_count": null,
   "metadata": {},
   "outputs": [],
   "source": [
    "# export\n",
    "# TODO: rename\n",
    "class TCNModule(nn.Module):\n",
    "    def __init__(self, output_size, num_inputs, num_channels, num_static, kernel_size, dropout):\n",
    "        super(TCNModule, self).__init__()\n",
    "        assert num_channels[-1] == 1, 'Last channel must be 1.'\n",
    "        self.output_size = output_size\n",
    "        self.tcn = TemporalConvNet(num_inputs=num_inputs, num_channels=num_channels,\n",
    "                                    kernel_size=kernel_size, dropout=dropout)\n",
    "        self.linear = nn.Linear(output_size + num_static, output_size)\n",
    "\n",
    "    def forward(self, insample_y, insample_x, s_matrix, outsample_y):\n",
    "\n",
    "        insample_y = insample_y.unsqueeze(1)\n",
    "        normalizer = insample_y[:,:,[-1]]\n",
    "\n",
    "        # Normalize\n",
    "        insample_y = insample_y/normalizer\n",
    "        #insample_y = t.log(insample_y)\n",
    "        insample_y = t.cat([insample_y, insample_x], dim=1)\n",
    "        forecast = self.tcn(insample_y)\n",
    "        forecast = forecast[:, :, -self.output_size:]\n",
    "        #TODO: linear convolucion de kernel 1, sin FC, version metrica solo en la ultima\n",
    "        forecast = forecast.squeeze(1)\n",
    "        forecast_context = t.cat([forecast, s_matrix], dim=1)\n",
    "        forecast_context = self.linear(forecast_context)\n",
    "\n",
    "        forecast = forecast + forecast_context\n",
    "\n",
    "        outsample_y = outsample_y/normalizer\n",
    "        #outsample_y = t.log(outsample_y)\n",
    "\n",
    "        # print('insample_y', insample_y)\n",
    "        # print('outsample_y', outsample_y)\n",
    "        # print('insample_y', insample_y)\n",
    "        # print('outsample_y', outsample_y)\n",
    "        # print('forecast', forecast)\n",
    "\n",
    "        return forecast, outsample_y\n",
    "\n",
    "    def predict(self, insample_y, insample_x, s_matrix):\n",
    "        #TODO: insample_mask\n",
    "        normalizer = insample_y[:, [-1]]\n",
    "        insample_y = insample_y/normalizer\n",
    "        #insample_y = t.log(insample_y/normalizer)\n",
    "\n",
    "        insample_y = insample_y.unsqueeze(1)\n",
    "        insample_y = t.cat([insample_y, insample_x], dim=1)\n",
    "        forecast = self.tcn(insample_y)\n",
    "        forecast = forecast[:, :, -self.output_size:]\n",
    "\n",
    "        forecast = forecast.squeeze(1)\n",
    "        forecast_context = t.cat([forecast, s_matrix], dim=1)\n",
    "        forecast_context = self.linear(forecast_context)\n",
    "\n",
    "        forecast = forecast + forecast_context\n",
    "\n",
    "        #forecast = t.exp(forecast)\n",
    "        forecast = forecast * normalizer\n",
    "        return forecast"
   ]
  }
 ],
 "metadata": {
  "kernelspec": {
   "display_name": "Python 3.7.8 64-bit ('nixtla': conda)",
   "metadata": {
    "interpreter": {
     "hash": "52b0028e7074a0058398558ea661882eddbb489e66a28504cc0449d2f54d6290"
    }
   },
   "name": "python3"
  }
 },
 "nbformat": 4,
 "nbformat_minor": 2
}
