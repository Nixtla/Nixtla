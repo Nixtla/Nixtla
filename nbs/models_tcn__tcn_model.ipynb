{
 "metadata": {
  "language_info": {
   "codemirror_mode": {
    "name": "ipython",
    "version": 3
   },
   "file_extension": ".py",
   "mimetype": "text/x-python",
   "name": "python",
   "nbconvert_exporter": "python",
   "pygments_lexer": "ipython3",
   "version": "3.7.8-final"
  },
  "orig_nbformat": 2,
  "kernelspec": {
   "name": "python3",
   "display_name": "Python 3.7.8 64-bit ('nixtla': conda)",
   "metadata": {
    "interpreter": {
     "hash": "52b0028e7074a0058398558ea661882eddbb489e66a28504cc0449d2f54d6290"
    }
   }
  }
 },
 "nbformat": 4,
 "nbformat_minor": 2,
 "cells": [
  {
   "cell_type": "code",
   "execution_count": 2,
   "metadata": {},
   "outputs": [],
   "source": [
    "# default_exp models.tcn.tcn_model"
   ]
  },
  {
   "cell_type": "code",
   "execution_count": 3,
   "metadata": {},
   "outputs": [],
   "source": [
    "# export\n",
    "import torch as t\n",
    "import torch.nn as nn\n",
    "from nixtla.models.component import TemporalConvNet\n",
    "import numpy as np"
   ]
  },
  {
   "cell_type": "code",
   "execution_count": null,
   "metadata": {},
   "outputs": [],
   "source": [
    "# export\n",
    "# TODO: rename\n",
    "class TCNModule(nn.Module):\n",
    "    def __init__(self, output_size, num_inputs, num_channels, kernel_size, dropout):\n",
    "        super(TCNModule, self).__init__()\n",
    "        self.output_size = output_size\n",
    "        self.tcn = TemporalConvNet(num_inputs=num_inputs, num_channels=num_channels,\n",
    "                                    kernel_size=kernel_size, dropout=dropout)\n",
    "        self.linear = nn.Linear(output_size, output_size)\n",
    "\n",
    "    def forward(self, insample_y, insample_x, insample_mask, outsample_y):\n",
    "        #TODO: insample_mask\n",
    "        # size = insample_y.size()\n",
    "        # noise = t.autograd.Variable(insample_y.data.new(size).normal_(0, 0.2))\n",
    "        insample_y = insample_y #+ noise\n",
    "        outsample_y = outsample_y\n",
    "        insample_y = insample_y.unsqueeze(1)\n",
    "        normalizer = insample_y[:,:,[-1]]\n",
    "\n",
    "        # Normalize\n",
    "        insample_y = insample_y/normalizer\n",
    "        #insample_y = t.log(insample_y)\n",
    "        insample_y = t.cat([insample_y, insample_x], dim=1)\n",
    "        forecast = self.tcn(insample_y)\n",
    "        forecast = forecast[:, :, -self.output_size:]\n",
    "        #forecast = self.linear(forecast)\n",
    "        outsample_y = outsample_y/normalizer\n",
    "        #outsample_y = t.log(outsample_y)\n",
    "\n",
    "        # print('insample_y', insample_y)\n",
    "        # print('outsample_y', outsample_y)\n",
    "        # print('insample_y', insample_y)\n",
    "        # print('outsample_y', outsample_y)\n",
    "        # print('forecast', forecast)\n",
    "\n",
    "        return forecast, outsample_y\n",
    "\n",
    "    def predict(self, insample_y, insample_x):\n",
    "        #TODO: insample_mask\n",
    "        insample_y = insample_y.unsqueeze(1)\n",
    "        normalizer = insample_y[:,:,[-1]]\n",
    "\n",
    "        # Normalize\n",
    "        insample_y = insample_y/normalizer\n",
    "        #insample_y = t.log(insample_y/normalizer)\n",
    "        insample_y = t.cat([insample_y, insample_x], dim=1)\n",
    "        forecast = self.tcn(insample_y)\n",
    "        forecast = forecast[:, :, -self.output_size:]\n",
    "        #forecast = t.exp(forecast)\n",
    "        forecast = forecast * normalizer\n",
    "        forecast = forecast.squeeze(1)\n",
    "        #forecast = self.linear(forecast)\n",
    "\n",
    "        return forecast"
   ]
  }
 ]
}