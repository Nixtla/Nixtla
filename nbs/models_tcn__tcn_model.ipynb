{
 "cells": [
  {
   "cell_type": "code",
   "execution_count": null,
   "metadata": {},
   "outputs": [],
   "source": [
    "# default_exp models.tcn.tcn_model"
   ]
  },
  {
   "cell_type": "code",
   "execution_count": null,
   "metadata": {},
   "outputs": [],
   "source": [
    "# export\n",
    "import torch as t\n",
    "import torch.nn as nn\n",
    "from nixtla.models.component import TemporalConvNet\n",
    "import numpy as np"
   ]
  },
  {
   "cell_type": "code",
   "execution_count": null,
   "metadata": {},
   "outputs": [],
   "source": [
    "# export\n",
    "# TODO: rename\n",
    "class TCNModule(nn.Module):\n",
    "    def __init__(self, output_size, num_inputs, num_channels, num_static, kernel_size, dropout):\n",
    "        super(TCNModule, self).__init__()\n",
    "        self.output_size = output_size\n",
    "        self.tcn = TemporalConvNet(num_inputs=num_inputs, num_channels=num_channels,\n",
    "                                    kernel_size=kernel_size, dropout=dropout)\n",
    "        n_x_t = num_inputs - 1\n",
    "        self.linear = nn.Linear(num_channels[-1] + num_static + n_x_t*output_size, output_size)\n",
    "\n",
    "    def forward(self, insample_y, insample_x, outsample_x, s_matrix):\n",
    "        #TODO: linear convolucion de kernel 1, sin FC, version metrica solo en la ultima\n",
    "\n",
    "        insample_y = insample_y.unsqueeze(1)\n",
    "        insample_y = t.cat([insample_y, insample_x], dim=1)\n",
    "        forecast = self.tcn(insample_y)\n",
    "        forecast = forecast[:, :, -1:]\n",
    "        \n",
    "        forecast = forecast.reshape(len(forecast),-1)\n",
    "\n",
    "        # Context\n",
    "        # (bs, n_x_t, t) -> (bs,n_x_t*t)\n",
    "        outsample_x = outsample_x.reshape(len(outsample_x), -1)\n",
    "        forecast_context = t.cat([forecast, outsample_x], dim=1)\n",
    "        forecast_context = t.cat([forecast_context, s_matrix], dim=1)\n",
    "\n",
    "        forecast = self.linear(forecast_context)\n",
    "\n",
    "        return forecast"
   ]
  }
 ],
 "metadata": {
  "kernelspec": {
   "display_name": "Python 3",
   "language": "python",
   "name": "python3"
  }
 },
 "nbformat": 4,
 "nbformat_minor": 4
}
