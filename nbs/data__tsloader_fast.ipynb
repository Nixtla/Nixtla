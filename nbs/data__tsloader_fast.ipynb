{
 "cells": [
  {
   "cell_type": "code",
   "execution_count": 1,
   "metadata": {},
   "outputs": [],
   "source": [
    "# default_exp data.tsloader_fast"
   ]
  },
  {
   "cell_type": "code",
   "execution_count": 2,
   "metadata": {},
   "outputs": [],
   "source": [
    "#hide\n",
    "%load_ext autoreload\n",
    "%autoreload 2"
   ]
  },
  {
   "cell_type": "code",
   "execution_count": 3,
   "metadata": {},
   "outputs": [],
   "source": [
    "#export\n",
    "import numpy as np\n",
    "import pandas as pd\n",
    "import random\n",
    "import torch as t\n",
    "import copy\n",
    "from fastcore.foundation import patch\n",
    "from nixtla.data.tsdataset import TimeSeriesDataset\n",
    "from collections import defaultdict"
   ]
  },
  {
   "cell_type": "code",
   "execution_count": 4,
   "metadata": {},
   "outputs": [],
   "source": [
    "#export\n",
    "# TODO: pensar variable shuffle para compatibilidad con dataloader de pytorch y keras\n",
    "#.      por el momento tenemos solo validacion boostrapeada, no existe modo no shuffle\n",
    "#.      para evaluacion no estocástica, nuestra validación está hackeada.\n",
    "class TimeSeriesLoader(object):\n",
    "    def __init__(self,\n",
    "                 ts_dataset:TimeSeriesDataset,\n",
    "                 model:str,\n",
    "                 offset:int,\n",
    "                 window_sampling_limit: int, \n",
    "                 input_size: int,\n",
    "                 output_size: int,\n",
    "                 idx_to_sample_freq: int, # TODO: Usada en hack ENORME para window frequency sampling\n",
    "                 batch_size: int,\n",
    "                 is_train_loader: bool):\n",
    "        \"\"\"\n",
    "        \"\"\"\n",
    "        # Dataloader attributes\n",
    "        self.model = model\n",
    "        self.window_sampling_limit = window_sampling_limit\n",
    "        self.input_size = input_size\n",
    "        self.output_size = output_size\n",
    "        self.batch_size = batch_size\n",
    "        self.idx_to_sample_freq = idx_to_sample_freq\n",
    "        self.offset = offset\n",
    "        self.ts_dataset = ts_dataset\n",
    "        self.t_cols = self.ts_dataset.t_cols\n",
    "        self.is_train_loader = is_train_loader # Boolean variable for train and validation mask\n",
    "       \n",
    "        # Create rolling window matrix in advanced for faster access to data and broadcasted s_matrix\n",
    "        self._create_train_data()\n",
    "        self._is_train = True # Boolean variable for train and eval mode for dataloader (random vs ordered batches)\n",
    "\n",
    "        #TODO: mejorar estos prints\n",
    "        # print('X: time series features, of shape (#series,#times,#features): \\t' + str(X.shape))\n",
    "        # print('Y: target series (in X), of shape (#series,#times): \\t \\t' + str(Y.shape))\n",
    "        # print('S: static features, of shape (#series,#features): \\t \\t' + str(S.shape))\n",
    "\n",
    "    def _update_sampling_windows_idxs(self):\n",
    "        # Only sample during training windows with at least one active output mask\n",
    "        sampling_idx = t.sum(self.ts_windows[:, self.t_cols.index('outsample_mask'), -self.output_size:], axis=1)\n",
    "        sampling_idx = t.nonzero(sampling_idx > 0)\n",
    "        sampling_idx = list(sampling_idx.flatten().numpy())\n",
    "        # TODO: pensar como resolver el hack de +1, \n",
    "        #.      el +1 está diseñado para addressear el shift que tenemos que garantiza que el primer train tenga\n",
    "        #.      por lo menos un input en la train_mask, además este código necesita la condición de que la serie más larga empieza\n",
    "        #.      en el ds del que se va a querer samplear con la frecuencia particular. Hay dos hacks ENORMES.\n",
    "        sampling_idx = [idx for idx in sampling_idx if (idx+1) % self.idx_to_sample_freq==0] # TODO: Esta linea muy malvada aumenta .6 segundos\n",
    "        return sampling_idx\n",
    "\n",
    "    def _create_windows_tensor(self):\n",
    "        \"\"\"\n",
    "        Comment here\n",
    "        TODO: Cuando creemos el otro dataloader, si es compatible lo hacemos funcion transform en utils\n",
    "        \"\"\"\n",
    "        # Memory efficiency is gained from keeping across dataloaders common ts_tensor in dataset\n",
    "        # Filter function is used to define train tensor and validation tensor with the offset\n",
    "        # Default ts_idxs=ts_idxs sends all the data\n",
    "        tensor, right_padding, train_mask = self.ts_dataset.get_filtered_ts_tensor(offset=self.offset, output_size=self.output_size,\n",
    "                                                                                   window_sampling_limit=self.window_sampling_limit)\n",
    "        tensor = t.Tensor(tensor)\n",
    "\n",
    "        # Outsample mask checks existance of values in ts, train_mask mask is used to filter out validation\n",
    "        # is_train_loader inverts the train_mask in case the dataloader is in validation mode\n",
    "        mask = train_mask if self.is_train_loader else (1 - train_mask)\n",
    "        tensor[:, self.t_cols.index('outsample_mask'), :] = tensor[:, self.t_cols.index('outsample_mask'), :] * mask\n",
    "\n",
    "        padder = t.nn.ConstantPad1d(padding=(self.input_size-1, right_padding), value=0)\n",
    "        tensor = padder(tensor)\n",
    "\n",
    "        # Last output_size outsample_mask and y to 0\n",
    "        tensor[:, self.t_cols.index('y'), -self.output_size:] = 0 # overkill to ensure no validation leakage\n",
    "        tensor[:, self.t_cols.index('outsample_mask'), -self.output_size:] = 0\n",
    "\n",
    "        # Creating rolling windows\n",
    "        windows = tensor.unfold(dimension=-1, size=self.input_size + self.output_size, step=1)\n",
    "        windows = windows.permute(2,0,1,3)\n",
    "        windows = windows.reshape(-1, self.ts_dataset.n_channels, self.input_size + self.output_size)\n",
    "        return windows\n",
    "\n",
    "    def __len__(self):\n",
    "        return len(self.len_series)\n",
    "\n",
    "    def __iter__(self):\n",
    "        #TODO: revisar como se hace el -1 de batch_size en un dataloader de torch. Otra opcion es simplemente batch_size grande,\n",
    "        # tambien se puede arregar con epoca\n",
    "        while True:\n",
    "            if self._is_train:\n",
    "                if self.batch_size > 0:\n",
    "                    sampled_ts_indices = np.random.choice(self.windows_sampling_idx, size=self.batch_size, replace=True)\n",
    "                else:\n",
    "                    sampled_ts_indices = self.windows_sampling_idx\n",
    "            else:\n",
    "                # Get last n_series windows, dataset is ordered because of unfold\n",
    "                sampled_ts_indices = list(range(self.n_windows-self.ts_dataset.n_series, self.n_windows))\n",
    "\n",
    "            batch = self.__get_item__(sampled_ts_indices)\n",
    "\n",
    "            yield batch\n",
    "\n",
    "    def __get_item__(self, index):\n",
    "        assert 1<0, \"Adaptar el Fast Dataloader a operar con epochs\"\n",
    "        if self.model == 'nbeats':\n",
    "            return self._nbeats_batch(index)\n",
    "        elif self.model == 'esrnn':\n",
    "            assert 1<0, 'hacer esrnn'\n",
    "        else:\n",
    "            assert 1<0, 'error'\n",
    "\n",
    "    def _nbeats_batch(self, index):\n",
    "        # Access precomputed rolling window matrix (RAM intensive)\n",
    "        windows = self.ts_windows[index]\n",
    "        s_matrix = self.s_matrix[index]\n",
    "\n",
    "        insample_y = windows[:, self.t_cols.index('y'), :self.input_size]\n",
    "        insample_x = windows[:, (self.t_cols.index('y')+1):self.t_cols.index('insample_mask'), :self.input_size]\n",
    "        insample_mask = windows[:, self.t_cols.index('insample_mask'), :self.input_size]\n",
    "\n",
    "        outsample_y = windows[:, self.t_cols.index('y'), self.input_size:]\n",
    "        outsample_x = windows[:, (self.t_cols.index('y')+1):self.t_cols.index('insample_mask'), self.input_size:]\n",
    "        outsample_mask = windows[:, self.t_cols.index('outsample_mask'), self.input_size:]\n",
    "\n",
    "        batch = {'s_matrix': s_matrix,\n",
    "                 'insample_y': insample_y, 'insample_x':insample_x, 'insample_mask':insample_mask,\n",
    "                 'outsample_y': outsample_y, 'outsample_x':outsample_x, 'outsample_mask':outsample_mask}\n",
    "        return batch\n",
    "\n",
    "    def _create_train_data(self):\n",
    "        \"\"\"\n",
    "        \"\"\"\n",
    "        #print('Creating windows matrix ...')\n",
    "        # Create rolling window matrix for fast information retrieval\n",
    "        self.ts_windows = self._create_windows_tensor()\n",
    "        self.n_windows = len(self.ts_windows)\n",
    "        # Broadcast s_matrix: This works because unfold in windows_tensor, padded windows, unshuffled data.\n",
    "        self.s_matrix = self.ts_dataset.s_matrix.repeat(int(self.n_windows/self.ts_dataset.n_series), 1)\n",
    "        self.windows_sampling_idx = self._update_sampling_windows_idxs()\n",
    "\n",
    "    def update_offset(self, offset):\n",
    "        if offset == self.offset:\n",
    "            return # Avoid extra computation\n",
    "        self.offset = offset\n",
    "        self._create_train_data()\n",
    "\n",
    "    def get_meta_data_col(self, col):\n",
    "        return self.ts_dataset.get_meta_data_col(col)\n",
    "\n",
    "    def get_n_variables(self):\n",
    "        return self.ts_dataset.n_x, self.ts_dataset.n_s\n",
    "\n",
    "    def get_n_series(self):\n",
    "        return self.ts_dataset.n_series\n",
    "\n",
    "    def get_max_len(self):\n",
    "        return self.ts_dataset.max_len\n",
    "\n",
    "    def get_n_channels(self):\n",
    "        return self.ts_dataset.n_channels\n",
    "\n",
    "    def get_X_cols(self):\n",
    "        return self.ts_dataset.X_cols\n",
    "\n",
    "    def get_frequency(self):\n",
    "        return self.ts_dataset.frequency\n",
    "\n",
    "    def train(self):\n",
    "        self._is_train = True\n",
    "\n",
    "    def eval(self):\n",
    "        self._is_train = False"
   ]
  },
  {
   "cell_type": "code",
   "execution_count": 5,
   "metadata": {},
   "outputs": [
    {
     "output_type": "stream",
     "name": "stdout",
     "text": [
      "EPFInfo.groups[0] NP\nY_df.shape (34944, 3)\nX_df.shape (34944, 11)\n"
     ]
    }
   ],
   "source": [
    "from nixtla.data.datasets.epf import EPF, EPFInfo\n",
    "Y_df, X_df = EPF.load(directory='data', group=EPFInfo.groups[0])\n",
    "print(\"EPFInfo.groups[0]\", EPFInfo.groups[0])\n",
    "print(\"Y_df.shape\", Y_df.shape)\n",
    "print(\"X_df.shape\", X_df.shape)"
   ]
  },
  {
   "cell_type": "code",
   "execution_count": 8,
   "metadata": {},
   "outputs": [
    {
     "output_type": "stream",
     "name": "stdout",
     "text": [
      "sum(train_outsample_mask) 26184.0\nProcessing dataframes ...\nCreating ts tensor ...\n"
     ]
    }
   ],
   "source": [
    "train_outsample_mask = np.ones(len(Y_df))\n",
    "train_outsample_mask[-365 * 24:] = 0\n",
    "print(\"sum(train_outsample_mask)\", sum(train_outsample_mask))\n",
    "epf_dataset = TimeSeriesDataset(Y_df=Y_df, S_df=None, X_df=X_df, ts_train_mask=train_outsample_mask)"
   ]
  },
  {
   "cell_type": "code",
   "execution_count": 9,
   "metadata": {},
   "outputs": [
    {
     "output_type": "execute_result",
     "data": {
      "text/plain": [
       "array([[[3.1050e+01, 3.0470e+01, 2.8920e+01, ..., 2.6820e+01,\n",
       "         2.6650e+01, 2.5680e+01],\n",
       "        [4.2497e+04, 4.1463e+04, 4.0812e+04, ..., 4.5471e+04,\n",
       "         4.4386e+04, 4.3017e+04],\n",
       "        [2.7980e+03, 2.4170e+03, 2.0360e+03, ..., 2.1290e+03,\n",
       "         1.8270e+03, 1.6890e+03],\n",
       "        ...,\n",
       "        [0.0000e+00, 0.0000e+00, 0.0000e+00, ..., 0.0000e+00,\n",
       "         0.0000e+00, 0.0000e+00],\n",
       "        [1.0000e+00, 1.0000e+00, 1.0000e+00, ..., 1.0000e+00,\n",
       "         1.0000e+00, 1.0000e+00],\n",
       "        [0.0000e+00, 1.0000e+00, 1.0000e+00, ..., 1.0000e+00,\n",
       "         1.0000e+00, 1.0000e+00]]])"
      ]
     },
     "metadata": {},
     "execution_count": 9
    }
   ],
   "source": [
    "epf_dataset.ts_tensor"
   ]
  },
  {
   "cell_type": "code",
   "execution_count": 10,
   "metadata": {},
   "outputs": [],
   "source": [
    "ts_loader = TimeSeriesLoader(ts_dataset=epf_dataset,\n",
    "                             model='nbeats',\n",
    "                             offset=0,\n",
    "                             window_sampling_limit=365*4*24, \n",
    "                             input_size=3*24,\n",
    "                             output_size=24,\n",
    "                             idx_to_sample_freq=1,\n",
    "                             batch_size= 2048,\n",
    "                             is_train_loader=True)"
   ]
  },
  {
   "cell_type": "code",
   "execution_count": 11,
   "metadata": {},
   "outputs": [
    {
     "output_type": "stream",
     "name": "stdout",
     "text": [
      "epf_dataset.t_cols ['y', 'Exogenous1', 'Exogenous2', 'day_0', 'day_1', 'day_2', 'day_3', 'day_4', 'day_5', 'day_6', 'insample_mask', 'outsample_mask']\nts_loader.input_size 72\nts_loader.output_size 24\ninsample_y.shape torch.Size([2048, 72])\ninsample_x.shape torch.Size([2048, 9, 72])\noutsample_y.shape torch.Size([2048, 24])\noutsample_x.shape torch.Size([2048, 9, 24])\n"
     ]
    }
   ],
   "source": [
    "dataloader = iter(ts_loader)\n",
    "batch = next(dataloader)\n",
    "insample_y = batch['insample_y']\n",
    "insample_x = batch['insample_x']\n",
    "insample_mask = batch['insample_mask']\n",
    "outsample_y = batch['outsample_y']\n",
    "outsample_x = batch['outsample_x']\n",
    "outsample_mask = batch['outsample_mask']\n",
    "\n",
    "print(\"epf_dataset.t_cols\", epf_dataset.t_cols)\n",
    "print(\"ts_loader.input_size\", ts_loader.input_size)\n",
    "print(\"ts_loader.output_size\", ts_loader.output_size)\n",
    "print(\"insample_y.shape\", insample_y.shape)\n",
    "print(\"insample_x.shape\", insample_x.shape)\n",
    "print(\"outsample_y.shape\", outsample_y.shape)\n",
    "print(\"outsample_x.shape\", outsample_x.shape)"
   ]
  },
  {
   "cell_type": "code",
   "execution_count": 12,
   "metadata": {},
   "outputs": [
    {
     "output_type": "execute_result",
     "data": {
      "text/plain": [
       "tensor([[33.7700, 33.0800, 32.3600,  ..., 35.7900, 36.2500, 35.0200],\n",
       "        [32.8100, 32.4000, 31.5900,  ..., 35.0800, 34.0000, 34.1800],\n",
       "        [29.0300, 30.4000, 34.6000,  ..., 24.9200, 25.0800, 25.8400],\n",
       "        ...,\n",
       "        [38.5200, 38.3900, 37.6900,  ..., 30.5800, 30.9400, 30.8100],\n",
       "        [13.7500, 13.8000, 13.4500,  ...,  6.5400,  7.4700,  7.9700],\n",
       "        [43.5800, 43.1500, 42.4300,  ..., 40.2900, 45.6800, 49.7500]])"
      ]
     },
     "metadata": {},
     "execution_count": 12
    }
   ],
   "source": [
    "insample_y"
   ]
  },
  {
   "cell_type": "code",
   "execution_count": 13,
   "metadata": {},
   "outputs": [
    {
     "output_type": "execute_result",
     "data": {
      "text/plain": [
       "tensor([[[4.8206e+04, 4.7053e+04, 4.6500e+04,  ..., 5.3826e+04,\n",
       "          5.1882e+04, 4.9585e+04],\n",
       "         [8.3800e+02, 8.4900e+02, 8.4400e+02,  ..., 1.7270e+03,\n",
       "          1.5880e+03, 1.4490e+03],\n",
       "         [0.0000e+00, 0.0000e+00, 0.0000e+00,  ..., 0.0000e+00,\n",
       "          0.0000e+00, 0.0000e+00],\n",
       "         ...,\n",
       "         [0.0000e+00, 0.0000e+00, 0.0000e+00,  ..., 0.0000e+00,\n",
       "          0.0000e+00, 0.0000e+00],\n",
       "         [0.0000e+00, 0.0000e+00, 0.0000e+00,  ..., 0.0000e+00,\n",
       "          0.0000e+00, 0.0000e+00],\n",
       "         [1.0000e+00, 1.0000e+00, 1.0000e+00,  ..., 1.0000e+00,\n",
       "          1.0000e+00, 1.0000e+00]],\n",
       "\n",
       "        [[3.2489e+04, 3.0468e+04, 2.9148e+04,  ..., 3.1650e+04,\n",
       "          3.1366e+04, 3.1261e+04],\n",
       "         [6.6900e+02, 5.8200e+02, 6.2700e+02,  ..., 2.5220e+03,\n",
       "          2.5100e+03, 2.5870e+03],\n",
       "         [0.0000e+00, 0.0000e+00, 0.0000e+00,  ..., 0.0000e+00,\n",
       "          0.0000e+00, 0.0000e+00],\n",
       "         ...,\n",
       "         [0.0000e+00, 1.0000e+00, 1.0000e+00,  ..., 1.0000e+00,\n",
       "          1.0000e+00, 1.0000e+00],\n",
       "         [0.0000e+00, 0.0000e+00, 0.0000e+00,  ..., 0.0000e+00,\n",
       "          0.0000e+00, 0.0000e+00],\n",
       "         [0.0000e+00, 0.0000e+00, 0.0000e+00,  ..., 0.0000e+00,\n",
       "          0.0000e+00, 0.0000e+00]],\n",
       "\n",
       "        [[4.9467e+04, 5.4118e+04, 5.8297e+04,  ..., 4.4236e+04,\n",
       "          4.4523e+04, 4.5650e+04],\n",
       "         [3.4370e+03, 3.3060e+03, 3.1680e+03,  ..., 1.9610e+03,\n",
       "          1.9500e+03, 1.9040e+03],\n",
       "         [1.0000e+00, 1.0000e+00, 1.0000e+00,  ..., 0.0000e+00,\n",
       "          0.0000e+00, 0.0000e+00],\n",
       "         ...,\n",
       "         [0.0000e+00, 0.0000e+00, 0.0000e+00,  ..., 0.0000e+00,\n",
       "          0.0000e+00, 0.0000e+00],\n",
       "         [0.0000e+00, 0.0000e+00, 0.0000e+00,  ..., 0.0000e+00,\n",
       "          0.0000e+00, 0.0000e+00],\n",
       "         [0.0000e+00, 0.0000e+00, 0.0000e+00,  ..., 0.0000e+00,\n",
       "          0.0000e+00, 0.0000e+00]],\n",
       "\n",
       "        ...,\n",
       "\n",
       "        [[4.0761e+04, 4.2184e+04, 4.3727e+04,  ..., 3.5871e+04,\n",
       "          3.6454e+04, 3.7294e+04],\n",
       "         [2.5060e+03, 2.4730e+03, 2.4980e+03,  ..., 1.8530e+03,\n",
       "          1.6480e+03, 1.4390e+03],\n",
       "         [0.0000e+00, 0.0000e+00, 0.0000e+00,  ..., 0.0000e+00,\n",
       "          0.0000e+00, 0.0000e+00],\n",
       "         ...,\n",
       "         [0.0000e+00, 0.0000e+00, 0.0000e+00,  ..., 0.0000e+00,\n",
       "          0.0000e+00, 0.0000e+00],\n",
       "         [1.0000e+00, 1.0000e+00, 1.0000e+00,  ..., 0.0000e+00,\n",
       "          0.0000e+00, 0.0000e+00],\n",
       "         [0.0000e+00, 0.0000e+00, 0.0000e+00,  ..., 1.0000e+00,\n",
       "          1.0000e+00, 1.0000e+00]],\n",
       "\n",
       "        [[4.1272e+04, 4.1030e+04, 4.0393e+04,  ..., 3.1887e+04,\n",
       "          3.3206e+04, 3.4909e+04],\n",
       "         [3.9120e+03, 3.8560e+03, 3.7750e+03,  ..., 3.3300e+02,\n",
       "          2.9000e+02, 2.3900e+02],\n",
       "         [0.0000e+00, 0.0000e+00, 0.0000e+00,  ..., 0.0000e+00,\n",
       "          0.0000e+00, 0.0000e+00],\n",
       "         ...,\n",
       "         [1.0000e+00, 1.0000e+00, 1.0000e+00,  ..., 0.0000e+00,\n",
       "          0.0000e+00, 0.0000e+00],\n",
       "         [0.0000e+00, 0.0000e+00, 0.0000e+00,  ..., 1.0000e+00,\n",
       "          1.0000e+00, 1.0000e+00],\n",
       "         [0.0000e+00, 0.0000e+00, 0.0000e+00,  ..., 0.0000e+00,\n",
       "          0.0000e+00, 0.0000e+00]],\n",
       "\n",
       "        [[6.1782e+04, 6.1855e+04, 6.1535e+04,  ..., 4.9383e+04,\n",
       "          5.1451e+04, 5.3370e+04],\n",
       "         [1.2190e+03, 1.2350e+03, 1.2340e+03,  ..., 7.6500e+02,\n",
       "          7.5100e+02, 7.1000e+02],\n",
       "         [0.0000e+00, 0.0000e+00, 0.0000e+00,  ..., 0.0000e+00,\n",
       "          0.0000e+00, 0.0000e+00],\n",
       "         ...,\n",
       "         [1.0000e+00, 1.0000e+00, 1.0000e+00,  ..., 0.0000e+00,\n",
       "          0.0000e+00, 0.0000e+00],\n",
       "         [0.0000e+00, 0.0000e+00, 0.0000e+00,  ..., 1.0000e+00,\n",
       "          1.0000e+00, 1.0000e+00],\n",
       "         [0.0000e+00, 0.0000e+00, 0.0000e+00,  ..., 0.0000e+00,\n",
       "          0.0000e+00, 0.0000e+00]]])"
      ]
     },
     "metadata": {},
     "execution_count": 13
    }
   ],
   "source": [
    "outsample_x"
   ]
  },
  {
   "cell_type": "code",
   "execution_count": null,
   "metadata": {},
   "outputs": [],
   "source": []
  }
 ],
 "metadata": {
  "kernelspec": {
   "name": "python3",
   "display_name": "Python 3.7.9 64-bit ('nixtla': conda)",
   "metadata": {
    "interpreter": {
     "hash": "97c68c0f618c4f787b1e02bfee278e48d25b62407cb335aab5258cedc4db4ced"
    }
   }
  },
  "language_info": {
   "codemirror_mode": {
    "name": "ipython",
    "version": 3
   },
   "file_extension": ".py",
   "mimetype": "text/x-python",
   "name": "python",
   "nbconvert_exporter": "python",
   "pygments_lexer": "ipython3",
   "version": "3.7.9-final"
  }
 },
 "nbformat": 4,
 "nbformat_minor": 2
}