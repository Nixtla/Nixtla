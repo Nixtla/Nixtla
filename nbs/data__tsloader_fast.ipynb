{
 "cells": [
  {
   "cell_type": "code",
   "execution_count": 1,
   "metadata": {},
   "outputs": [],
   "source": [
    "# default_exp data.tsloader_fast"
   ]
  },
  {
   "cell_type": "code",
   "execution_count": 2,
   "metadata": {},
   "outputs": [],
   "source": [
    "#hide\n",
    "%load_ext autoreload\n",
    "%autoreload 2"
   ]
  },
  {
   "cell_type": "code",
   "execution_count": 3,
   "metadata": {},
   "outputs": [],
   "source": [
    "#export\n",
    "import numpy as np\n",
    "import pandas as pd\n",
    "import random\n",
    "import torch as t\n",
    "import copy\n",
    "from fastcore.foundation import patch\n",
    "from nixtla.data.tsdataset import TimeSeriesDataset\n",
    "from collections import defaultdict"
   ]
  },
  {
   "cell_type": "code",
   "execution_count": 4,
   "metadata": {},
   "outputs": [],
   "source": [
    "#export\n",
    "# TODO: pensar variable shuffle para compatibilidad con dataloader de pytorch y keras\n",
    "#.      por el momento tenemos solo validacion boostrapeada, no existe modo no shuffle\n",
    "#.      para evaluacion no estocástica, nuestra validación está hackeada.\n",
    "class TimeSeriesLoader(object):\n",
    "    def __init__(self,\n",
    "                 ts_dataset:TimeSeriesDataset,\n",
    "                 model:str,\n",
    "                 offset:int,\n",
    "                 window_sampling_limit: int, \n",
    "                 input_size: int,\n",
    "                 output_size: int,\n",
    "                 idx_to_sample_freq: int, # TODO: Usada en hack ENORME para window frequency sampling\n",
    "                 batch_size: int,\n",
    "                 is_train_loader: bool,\n",
    "                 shuffle:bool):\n",
    "        \"\"\"\n",
    "        \"\"\"\n",
    "        # Dataloader attributes\n",
    "        self.model = model\n",
    "        self.window_sampling_limit = window_sampling_limit\n",
    "        self.input_size = input_size\n",
    "        self.output_size = output_size\n",
    "        self.batch_size = batch_size\n",
    "        self.idx_to_sample_freq = idx_to_sample_freq\n",
    "        self.offset = offset\n",
    "        self.ts_dataset = ts_dataset\n",
    "        self.t_cols = self.ts_dataset.t_cols\n",
    "        self.is_train_loader = is_train_loader # Boolean variable for train and validation mask\n",
    "        self.shuffle = shuffle # Boolean to shuffle data, useful for validation\n",
    "       \n",
    "        # Create rolling window matrix in advanced for faster access to data and broadcasted s_matrix\n",
    "        self._create_train_data()\n",
    "        self._is_train = True # Boolean variable for train and eval mode for dataloader (random vs ordered batches)\n",
    "\n",
    "        #TODO: mejorar estos prints\n",
    "        # print('X: time series features, of shape (#series,#times,#features): \\t' + str(X.shape))\n",
    "        # print('Y: target series (in X), of shape (#series,#times): \\t \\t' + str(Y.shape))\n",
    "        # print('S: static features, of shape (#series,#features): \\t \\t' + str(S.shape))\n",
    "\n",
    "    def _update_sampling_windows_idxs(self):\n",
    "        # Only sample during training windows with at least one active output mask\n",
    "        sampling_idx = t.sum(self.ts_windows[:, self.t_cols.index('outsample_mask'), -self.output_size:], axis=1)\n",
    "        sampling_idx = t.nonzero(sampling_idx > 0)\n",
    "        sampling_idx = list(sampling_idx.flatten().numpy())\n",
    "        # TODO: pensar como resolver el hack de +1, \n",
    "        #.      el +1 está diseñado para addressear el shift que tenemos que garantiza que el primer train tenga\n",
    "        #.      por lo menos un input en la train_mask, además este código necesita la condición de que la serie más larga empieza\n",
    "        #.      en el ds del que se va a querer samplear con la frecuencia particular. Hay dos hacks ENORMES.\n",
    "        sampling_idx = [idx for idx in sampling_idx if (idx+1) % self.idx_to_sample_freq==0] # TODO: Esta linea muy malvada aumenta .6 segundos\n",
    "        return sampling_idx\n",
    "\n",
    "    def _create_windows_tensor(self):\n",
    "        \"\"\"\n",
    "        Comment here\n",
    "        TODO: Cuando creemos el otro dataloader, si es compatible lo hacemos funcion transform en utils\n",
    "        \"\"\"\n",
    "        # Memory efficiency is gained from keeping across dataloaders common ts_tensor in dataset\n",
    "        # Filter function is used to define train tensor and validation tensor with the offset\n",
    "        # Default ts_idxs=ts_idxs sends all the data\n",
    "        tensor, right_padding, train_mask = self.ts_dataset.get_filtered_ts_tensor(offset=self.offset, output_size=self.output_size,\n",
    "                                                                                   window_sampling_limit=self.window_sampling_limit)\n",
    "        tensor = t.Tensor(tensor)\n",
    "\n",
    "        # Outsample mask checks existance of values in ts, train_mask mask is used to filter out validation\n",
    "        # is_train_loader inverts the train_mask in case the dataloader is in validation mode\n",
    "        mask = train_mask if self.is_train_loader else (1 - train_mask)\n",
    "        tensor[:, self.t_cols.index('outsample_mask'), :] = tensor[:, self.t_cols.index('outsample_mask'), :] * mask\n",
    "\n",
    "        padder = t.nn.ConstantPad1d(padding=(self.input_size-1, right_padding), value=0)\n",
    "        tensor = padder(tensor)\n",
    "\n",
    "        # Last output_size outsample_mask and y to 0\n",
    "        tensor[:, self.t_cols.index('y'), -self.output_size:] = 0 # overkill to ensure no validation leakage\n",
    "        tensor[:, self.t_cols.index('outsample_mask'), -self.output_size:] = 0\n",
    "\n",
    "        # Creating rolling windows\n",
    "        windows = tensor.unfold(dimension=-1, size=self.input_size + self.output_size, step=1)\n",
    "        windows = windows.permute(2,0,1,3)\n",
    "        windows = windows.reshape(-1, self.ts_dataset.n_channels, self.input_size + self.output_size)\n",
    "        return windows\n",
    "\n",
    "    def __len__(self):\n",
    "        return len(self.len_series)\n",
    "\n",
    "    def __iter__(self):\n",
    "        #TODO: revisar como se hace el -1 de batch_size en un dataloader de torch. Otra opcion es simplemente batch_size grande,\n",
    "        # tambien se puede arregar con epoca\n",
    "        if self._is_train:\n",
    "            if self.shuffle:\n",
    "                sample_idxs = np.random.choice(a=self.windows_sampling_idx,\n",
    "                                               size=len(self.windows_sampling_idx), replace=False)\n",
    "            else:\n",
    "                # Get last n_series windows, dataset is ordered because of unfold\n",
    "                sample_idxs = self.windows_sampling_idx\n",
    "        else:\n",
    "            # Get last observations for each time series for last prediction\n",
    "            # This is necessary because windows are created and stored in advance\n",
    "            sample_idxs = list(range(self.n_windows-self.ts_dataset.n_series, self.n_windows))\n",
    "        \n",
    "        assert len(sample_idxs)>0, 'Check the data as sample_idxs are empty'\n",
    "\n",
    "        n_batches = int(np.ceil(len(sample_idxs) / self.batch_size)) # Must be multiple of batch_size for paralel gpu\n",
    "        \n",
    "        for idx in range(n_batches):\n",
    "            ws_idxs = sample_idxs[(idx * self.batch_size) : (idx + 1) * self.batch_size]\n",
    "            batch = self.__get_item__(index=ws_idxs)\n",
    "            yield batch\n",
    "\n",
    "    def __get_item__(self, index):\n",
    "        if self.model == 'nbeats':\n",
    "            return self._nbeats_batch(index)\n",
    "        elif self.model == 'esrnn':\n",
    "            assert 1<0, 'hacer esrnn'\n",
    "        else:\n",
    "            assert 1<0, 'error'\n",
    "\n",
    "    def _nbeats_batch(self, index):\n",
    "        # Access precomputed rolling window matrix (RAM intensive)\n",
    "        windows = self.ts_windows[index]\n",
    "        s_matrix = self.s_matrix[index]\n",
    "\n",
    "        insample_y = windows[:, self.t_cols.index('y'), :self.input_size]\n",
    "        insample_x = windows[:, (self.t_cols.index('y')+1):self.t_cols.index('insample_mask'), :self.input_size]\n",
    "        insample_mask = windows[:, self.t_cols.index('insample_mask'), :self.input_size]\n",
    "\n",
    "        outsample_y = windows[:, self.t_cols.index('y'), self.input_size:]\n",
    "        outsample_x = windows[:, (self.t_cols.index('y')+1):self.t_cols.index('insample_mask'), self.input_size:]\n",
    "        outsample_mask = windows[:, self.t_cols.index('outsample_mask'), self.input_size:]\n",
    "\n",
    "        batch = {'s_matrix': s_matrix,\n",
    "                 'insample_y': insample_y, 'insample_x':insample_x, 'insample_mask':insample_mask,\n",
    "                 'outsample_y': outsample_y, 'outsample_x':outsample_x, 'outsample_mask':outsample_mask}\n",
    "        return batch\n",
    "\n",
    "    def _create_train_data(self):\n",
    "        \"\"\"\n",
    "        \"\"\"\n",
    "        #print('Creating windows matrix ...')\n",
    "        # Create rolling window matrix for fast information retrieval\n",
    "        self.ts_windows = self._create_windows_tensor()\n",
    "        self.n_windows = len(self.ts_windows)\n",
    "        # Broadcast s_matrix: This works because unfold in windows_tensor, padded windows, unshuffled data.\n",
    "        self.s_matrix = self.ts_dataset.s_matrix.repeat(int(self.n_windows/self.ts_dataset.n_series), 1)\n",
    "        self.windows_sampling_idx = self._update_sampling_windows_idxs()\n",
    "\n",
    "    def update_offset(self, offset):\n",
    "        if offset == self.offset:\n",
    "            return # Avoid extra computation\n",
    "        self.offset = offset\n",
    "        self._create_train_data()\n",
    "\n",
    "    def get_meta_data_col(self, col):\n",
    "        return self.ts_dataset.get_meta_data_col(col)\n",
    "\n",
    "    def get_n_variables(self):\n",
    "        return self.ts_dataset.n_x, self.ts_dataset.n_s\n",
    "\n",
    "    def get_n_series(self):\n",
    "        return self.ts_dataset.n_series\n",
    "\n",
    "    def get_max_len(self):\n",
    "        return self.ts_dataset.max_len\n",
    "\n",
    "    def get_n_channels(self):\n",
    "        return self.ts_dataset.n_channels\n",
    "\n",
    "    def get_X_cols(self):\n",
    "        return self.ts_dataset.X_cols\n",
    "\n",
    "    def get_frequency(self):\n",
    "        return self.ts_dataset.frequency\n",
    "\n",
    "    def train(self):\n",
    "        self._is_train = True\n",
    "\n",
    "    def eval(self):\n",
    "        self._is_train = False"
   ]
  },
  {
   "cell_type": "code",
   "execution_count": 12,
   "metadata": {},
   "outputs": [
    {
     "output_type": "stream",
     "name": "stdout",
     "text": [
      "EPFInfo.groups[0] NP\nY_df.shape (34944, 3)\nX_df.shape (34944, 12)\n"
     ]
    }
   ],
   "source": [
    "import matplotlib.pyplot as plt\n",
    "from nixtla.data.datasets.epf import EPF, EPFInfo\n",
    "Y_df, X_df = EPF.load(directory='data', group=EPFInfo.groups[0])\n",
    "print(\"EPFInfo.groups[0]\", EPFInfo.groups[0])\n",
    "print(\"Y_df.shape\", Y_df.shape)\n",
    "print(\"X_df.shape\", X_df.shape)"
   ]
  },
  {
   "cell_type": "code",
   "execution_count": 13,
   "metadata": {},
   "outputs": [
    {
     "output_type": "stream",
     "name": "stdout",
     "text": [
      "sum(train_outsample_mask) 26184.0\nProcessing dataframes ...\nCreating ts tensor ...\n"
     ]
    }
   ],
   "source": [
    "train_outsample_mask = np.ones(len(Y_df))\n",
    "train_outsample_mask[-365 * 24:] = 0\n",
    "print(\"sum(train_outsample_mask)\", sum(train_outsample_mask))\n",
    "epf_dataset = TimeSeriesDataset(Y_df=Y_df, S_df=None, X_df=X_df, ts_train_mask=train_outsample_mask)"
   ]
  },
  {
   "cell_type": "code",
   "execution_count": 14,
   "metadata": {},
   "outputs": [
    {
     "output_type": "execute_result",
     "data": {
      "text/plain": [
       "array([[[3.1050e+01, 3.0470e+01, 2.8920e+01, ..., 2.6820e+01,\n",
       "         2.6650e+01, 2.5680e+01],\n",
       "        [4.2497e+04, 4.1463e+04, 4.0812e+04, ..., 4.5471e+04,\n",
       "         4.4386e+04, 4.3017e+04],\n",
       "        [2.7980e+03, 2.4170e+03, 2.0360e+03, ..., 2.1290e+03,\n",
       "         1.8270e+03, 1.6890e+03],\n",
       "        ...,\n",
       "        [0.0000e+00, 0.0000e+00, 0.0000e+00, ..., 0.0000e+00,\n",
       "         0.0000e+00, 0.0000e+00],\n",
       "        [1.0000e+00, 1.0000e+00, 1.0000e+00, ..., 1.0000e+00,\n",
       "         1.0000e+00, 1.0000e+00],\n",
       "        [0.0000e+00, 1.0000e+00, 1.0000e+00, ..., 1.0000e+00,\n",
       "         1.0000e+00, 1.0000e+00]]])"
      ]
     },
     "metadata": {},
     "execution_count": 14
    }
   ],
   "source": [
    "epf_dataset.ts_tensor"
   ]
  },
  {
   "cell_type": "code",
   "execution_count": 53,
   "metadata": {},
   "outputs": [],
   "source": [
    "ts_loader = TimeSeriesLoader(ts_dataset=epf_dataset,\n",
    "                             model='nbeats',\n",
    "                             offset=0,\n",
    "                             window_sampling_limit=365*4*24, \n",
    "                             input_size=7*24,\n",
    "                             output_size=24,\n",
    "                             idx_to_sample_freq=1,\n",
    "                             batch_size= 128,\n",
    "                             is_train_loader=True,\n",
    "                             shuffle=False)"
   ]
  },
  {
   "cell_type": "code",
   "execution_count": 54,
   "metadata": {},
   "outputs": [
    {
     "output_type": "stream",
     "name": "stdout",
     "text": [
      "epf_dataset.t_cols ['y', 'Exogenous1', 'Exogenous2', 'week_day', 'day_0', 'day_1', 'day_2', 'day_3', 'day_4', 'day_5', 'day_6', 'insample_mask', 'outsample_mask']\nts_loader.input_size 168\nts_loader.output_size 24\ninsample_y.shape torch.Size([128, 168])\ninsample_x.shape torch.Size([128, 10, 168])\noutsample_y.shape torch.Size([128, 24])\noutsample_x.shape torch.Size([128, 10, 24])\n"
     ]
    }
   ],
   "source": [
    "dataloader = iter(ts_loader)\n",
    "batch = next(dataloader)\n",
    "insample_y = batch['insample_y']\n",
    "insample_x = batch['insample_x']\n",
    "insample_mask = batch['insample_mask']\n",
    "outsample_y = batch['outsample_y']\n",
    "outsample_x = batch['outsample_x']\n",
    "outsample_mask = batch['outsample_mask']\n",
    "\n",
    "print(\"epf_dataset.t_cols\", epf_dataset.t_cols)\n",
    "print(\"ts_loader.input_size\", ts_loader.input_size)\n",
    "print(\"ts_loader.output_size\", ts_loader.output_size)\n",
    "print(\"insample_y.shape\", insample_y.shape)\n",
    "print(\"insample_x.shape\", insample_x.shape)\n",
    "print(\"outsample_y.shape\", outsample_y.shape)\n",
    "print(\"outsample_x.shape\", outsample_x.shape)"
   ]
  },
  {
   "cell_type": "code",
   "execution_count": 55,
   "metadata": {},
   "outputs": [],
   "source": [
    "# insample_y"
   ]
  },
  {
   "cell_type": "code",
   "execution_count": 56,
   "metadata": {},
   "outputs": [],
   "source": [
    "# outsample_x"
   ]
  },
  {
   "cell_type": "code",
   "execution_count": 57,
   "metadata": {},
   "outputs": [
    {
     "output_type": "stream",
     "name": "stdout",
     "text": [
      "insample_y.shape torch.Size([128, 168])\ninsample_y.shape torch.Size([128, 168])\ninsample_y.shape torch.Size([128, 168])\ncheck.shape (384, 168)\nChecking order for unshuffled validation\n"
     ]
    },
    {
     "output_type": "display_data",
     "data": {
      "text/plain": "<Figure size 432x288 with 1 Axes>",
      "image/svg+xml": "<?xml version=\"1.0\" encoding=\"utf-8\" standalone=\"no\"?>\n<!DOCTYPE svg PUBLIC \"-//W3C//DTD SVG 1.1//EN\"\n  \"http://www.w3.org/Graphics/SVG/1.1/DTD/svg11.dtd\">\n<!-- Created with matplotlib (https://matplotlib.org/) -->\n<svg height=\"250.798839pt\" version=\"1.1\" viewBox=\"0 0 376.760181 250.798839\" width=\"376.760181pt\" xmlns=\"http://www.w3.org/2000/svg\" xmlns:xlink=\"http://www.w3.org/1999/xlink\">\n <metadata>\n  <rdf:RDF xmlns:cc=\"http://creativecommons.org/ns#\" xmlns:dc=\"http://purl.org/dc/elements/1.1/\" xmlns:rdf=\"http://www.w3.org/1999/02/22-rdf-syntax-ns#\">\n   <cc:Work>\n    <dc:type rdf:resource=\"http://purl.org/dc/dcmitype/StillImage\"/>\n    <dc:date>2021-01-06T14:34:55.061829</dc:date>\n    <dc:format>image/svg+xml</dc:format>\n    <dc:creator>\n     <cc:Agent>\n      <dc:title>Matplotlib v3.3.2, https://matplotlib.org/</dc:title>\n     </cc:Agent>\n    </dc:creator>\n   </cc:Work>\n  </rdf:RDF>\n </metadata>\n <defs>\n  <style type=\"text/css\">*{stroke-linecap:butt;stroke-linejoin:round;}</style>\n </defs>\n <g id=\"figure_1\">\n  <g id=\"patch_1\">\n   <path d=\"M -0 250.798839 \nL 376.760181 250.798839 \nL 376.760181 0 \nL -0 0 \nz\n\" style=\"fill:none;\"/>\n  </g>\n  <g id=\"axes_1\">\n   <g id=\"patch_2\">\n    <path d=\"M 26.925 226.920714 \nL 361.725 226.920714 \nL 361.725 9.480714 \nL 26.925 9.480714 \nz\n\" style=\"fill:#ffffff;\"/>\n   </g>\n   <g id=\"matplotlib.axis_1\">\n    <g id=\"xtick_1\">\n     <g id=\"line2d_1\">\n      <defs>\n       <path d=\"M 0 0 \nL 0 3.5 \n\" id=\"mb3b2a7a72e\" style=\"stroke:#000000;stroke-width:0.8;\"/>\n      </defs>\n      <g>\n       <use style=\"stroke:#000000;stroke-width:0.8;\" x=\"42.143182\" xlink:href=\"#mb3b2a7a72e\" y=\"226.920714\"/>\n      </g>\n     </g>\n     <g id=\"text_1\">\n      <!-- 0 -->\n      <g transform=\"translate(38.961932 241.519152)scale(0.1 -0.1)\">\n       <defs>\n        <path d=\"M 31.78125 66.40625 \nQ 24.171875 66.40625 20.328125 58.90625 \nQ 16.5 51.421875 16.5 36.375 \nQ 16.5 21.390625 20.328125 13.890625 \nQ 24.171875 6.390625 31.78125 6.390625 \nQ 39.453125 6.390625 43.28125 13.890625 \nQ 47.125 21.390625 47.125 36.375 \nQ 47.125 51.421875 43.28125 58.90625 \nQ 39.453125 66.40625 31.78125 66.40625 \nz\nM 31.78125 74.21875 \nQ 44.046875 74.21875 50.515625 64.515625 \nQ 56.984375 54.828125 56.984375 36.375 \nQ 56.984375 17.96875 50.515625 8.265625 \nQ 44.046875 -1.421875 31.78125 -1.421875 \nQ 19.53125 -1.421875 13.0625 8.265625 \nQ 6.59375 17.96875 6.59375 36.375 \nQ 6.59375 54.828125 13.0625 64.515625 \nQ 19.53125 74.21875 31.78125 74.21875 \nz\n\" id=\"DejaVuSans-48\"/>\n       </defs>\n       <use xlink:href=\"#DejaVuSans-48\"/>\n      </g>\n     </g>\n    </g>\n    <g id=\"xtick_2\">\n     <g id=\"line2d_2\">\n      <g>\n       <use style=\"stroke:#000000;stroke-width:0.8;\" x=\"81.877338\" xlink:href=\"#mb3b2a7a72e\" y=\"226.920714\"/>\n      </g>\n     </g>\n     <g id=\"text_2\">\n      <!-- 50 -->\n      <g transform=\"translate(75.514838 241.519152)scale(0.1 -0.1)\">\n       <defs>\n        <path d=\"M 10.796875 72.90625 \nL 49.515625 72.90625 \nL 49.515625 64.59375 \nL 19.828125 64.59375 \nL 19.828125 46.734375 \nQ 21.96875 47.46875 24.109375 47.828125 \nQ 26.265625 48.1875 28.421875 48.1875 \nQ 40.625 48.1875 47.75 41.5 \nQ 54.890625 34.8125 54.890625 23.390625 \nQ 54.890625 11.625 47.5625 5.09375 \nQ 40.234375 -1.421875 26.90625 -1.421875 \nQ 22.3125 -1.421875 17.546875 -0.640625 \nQ 12.796875 0.140625 7.71875 1.703125 \nL 7.71875 11.625 \nQ 12.109375 9.234375 16.796875 8.0625 \nQ 21.484375 6.890625 26.703125 6.890625 \nQ 35.15625 6.890625 40.078125 11.328125 \nQ 45.015625 15.765625 45.015625 23.390625 \nQ 45.015625 31 40.078125 35.4375 \nQ 35.15625 39.890625 26.703125 39.890625 \nQ 22.75 39.890625 18.8125 39.015625 \nQ 14.890625 38.140625 10.796875 36.28125 \nz\n\" id=\"DejaVuSans-53\"/>\n       </defs>\n       <use xlink:href=\"#DejaVuSans-53\"/>\n       <use x=\"63.623047\" xlink:href=\"#DejaVuSans-48\"/>\n      </g>\n     </g>\n    </g>\n    <g id=\"xtick_3\">\n     <g id=\"line2d_3\">\n      <g>\n       <use style=\"stroke:#000000;stroke-width:0.8;\" x=\"121.611494\" xlink:href=\"#mb3b2a7a72e\" y=\"226.920714\"/>\n      </g>\n     </g>\n     <g id=\"text_3\">\n      <!-- 100 -->\n      <g transform=\"translate(112.067744 241.519152)scale(0.1 -0.1)\">\n       <defs>\n        <path d=\"M 12.40625 8.296875 \nL 28.515625 8.296875 \nL 28.515625 63.921875 \nL 10.984375 60.40625 \nL 10.984375 69.390625 \nL 28.421875 72.90625 \nL 38.28125 72.90625 \nL 38.28125 8.296875 \nL 54.390625 8.296875 \nL 54.390625 0 \nL 12.40625 0 \nz\n\" id=\"DejaVuSans-49\"/>\n       </defs>\n       <use xlink:href=\"#DejaVuSans-49\"/>\n       <use x=\"63.623047\" xlink:href=\"#DejaVuSans-48\"/>\n       <use x=\"127.246094\" xlink:href=\"#DejaVuSans-48\"/>\n      </g>\n     </g>\n    </g>\n    <g id=\"xtick_4\">\n     <g id=\"line2d_4\">\n      <g>\n       <use style=\"stroke:#000000;stroke-width:0.8;\" x=\"161.34565\" xlink:href=\"#mb3b2a7a72e\" y=\"226.920714\"/>\n      </g>\n     </g>\n     <g id=\"text_4\">\n      <!-- 150 -->\n      <g transform=\"translate(151.8019 241.519152)scale(0.1 -0.1)\">\n       <use xlink:href=\"#DejaVuSans-49\"/>\n       <use x=\"63.623047\" xlink:href=\"#DejaVuSans-53\"/>\n       <use x=\"127.246094\" xlink:href=\"#DejaVuSans-48\"/>\n      </g>\n     </g>\n    </g>\n    <g id=\"xtick_5\">\n     <g id=\"line2d_5\">\n      <g>\n       <use style=\"stroke:#000000;stroke-width:0.8;\" x=\"201.079807\" xlink:href=\"#mb3b2a7a72e\" y=\"226.920714\"/>\n      </g>\n     </g>\n     <g id=\"text_5\">\n      <!-- 200 -->\n      <g transform=\"translate(191.536057 241.519152)scale(0.1 -0.1)\">\n       <defs>\n        <path d=\"M 19.1875 8.296875 \nL 53.609375 8.296875 \nL 53.609375 0 \nL 7.328125 0 \nL 7.328125 8.296875 \nQ 12.9375 14.109375 22.625 23.890625 \nQ 32.328125 33.6875 34.8125 36.53125 \nQ 39.546875 41.84375 41.421875 45.53125 \nQ 43.3125 49.21875 43.3125 52.78125 \nQ 43.3125 58.59375 39.234375 62.25 \nQ 35.15625 65.921875 28.609375 65.921875 \nQ 23.96875 65.921875 18.8125 64.3125 \nQ 13.671875 62.703125 7.8125 59.421875 \nL 7.8125 69.390625 \nQ 13.765625 71.78125 18.9375 73 \nQ 24.125 74.21875 28.421875 74.21875 \nQ 39.75 74.21875 46.484375 68.546875 \nQ 53.21875 62.890625 53.21875 53.421875 \nQ 53.21875 48.921875 51.53125 44.890625 \nQ 49.859375 40.875 45.40625 35.40625 \nQ 44.1875 33.984375 37.640625 27.21875 \nQ 31.109375 20.453125 19.1875 8.296875 \nz\n\" id=\"DejaVuSans-50\"/>\n       </defs>\n       <use xlink:href=\"#DejaVuSans-50\"/>\n       <use x=\"63.623047\" xlink:href=\"#DejaVuSans-48\"/>\n       <use x=\"127.246094\" xlink:href=\"#DejaVuSans-48\"/>\n      </g>\n     </g>\n    </g>\n    <g id=\"xtick_6\">\n     <g id=\"line2d_6\">\n      <g>\n       <use style=\"stroke:#000000;stroke-width:0.8;\" x=\"240.813963\" xlink:href=\"#mb3b2a7a72e\" y=\"226.920714\"/>\n      </g>\n     </g>\n     <g id=\"text_6\">\n      <!-- 250 -->\n      <g transform=\"translate(231.270213 241.519152)scale(0.1 -0.1)\">\n       <use xlink:href=\"#DejaVuSans-50\"/>\n       <use x=\"63.623047\" xlink:href=\"#DejaVuSans-53\"/>\n       <use x=\"127.246094\" xlink:href=\"#DejaVuSans-48\"/>\n      </g>\n     </g>\n    </g>\n    <g id=\"xtick_7\">\n     <g id=\"line2d_7\">\n      <g>\n       <use style=\"stroke:#000000;stroke-width:0.8;\" x=\"280.548119\" xlink:href=\"#mb3b2a7a72e\" y=\"226.920714\"/>\n      </g>\n     </g>\n     <g id=\"text_7\">\n      <!-- 300 -->\n      <g transform=\"translate(271.004369 241.519152)scale(0.1 -0.1)\">\n       <defs>\n        <path d=\"M 40.578125 39.3125 \nQ 47.65625 37.796875 51.625 33 \nQ 55.609375 28.21875 55.609375 21.1875 \nQ 55.609375 10.40625 48.1875 4.484375 \nQ 40.765625 -1.421875 27.09375 -1.421875 \nQ 22.515625 -1.421875 17.65625 -0.515625 \nQ 12.796875 0.390625 7.625 2.203125 \nL 7.625 11.71875 \nQ 11.71875 9.328125 16.59375 8.109375 \nQ 21.484375 6.890625 26.8125 6.890625 \nQ 36.078125 6.890625 40.9375 10.546875 \nQ 45.796875 14.203125 45.796875 21.1875 \nQ 45.796875 27.640625 41.28125 31.265625 \nQ 36.765625 34.90625 28.71875 34.90625 \nL 20.21875 34.90625 \nL 20.21875 43.015625 \nL 29.109375 43.015625 \nQ 36.375 43.015625 40.234375 45.921875 \nQ 44.09375 48.828125 44.09375 54.296875 \nQ 44.09375 59.90625 40.109375 62.90625 \nQ 36.140625 65.921875 28.71875 65.921875 \nQ 24.65625 65.921875 20.015625 65.03125 \nQ 15.375 64.15625 9.8125 62.3125 \nL 9.8125 71.09375 \nQ 15.4375 72.65625 20.34375 73.4375 \nQ 25.25 74.21875 29.59375 74.21875 \nQ 40.828125 74.21875 47.359375 69.109375 \nQ 53.90625 64.015625 53.90625 55.328125 \nQ 53.90625 49.265625 50.4375 45.09375 \nQ 46.96875 40.921875 40.578125 39.3125 \nz\n\" id=\"DejaVuSans-51\"/>\n       </defs>\n       <use xlink:href=\"#DejaVuSans-51\"/>\n       <use x=\"63.623047\" xlink:href=\"#DejaVuSans-48\"/>\n       <use x=\"127.246094\" xlink:href=\"#DejaVuSans-48\"/>\n      </g>\n     </g>\n    </g>\n    <g id=\"xtick_8\">\n     <g id=\"line2d_8\">\n      <g>\n       <use style=\"stroke:#000000;stroke-width:0.8;\" x=\"320.282275\" xlink:href=\"#mb3b2a7a72e\" y=\"226.920714\"/>\n      </g>\n     </g>\n     <g id=\"text_8\">\n      <!-- 350 -->\n      <g transform=\"translate(310.738525 241.519152)scale(0.1 -0.1)\">\n       <use xlink:href=\"#DejaVuSans-51\"/>\n       <use x=\"63.623047\" xlink:href=\"#DejaVuSans-53\"/>\n       <use x=\"127.246094\" xlink:href=\"#DejaVuSans-48\"/>\n      </g>\n     </g>\n    </g>\n    <g id=\"xtick_9\">\n     <g id=\"line2d_9\">\n      <g>\n       <use style=\"stroke:#000000;stroke-width:0.8;\" x=\"360.016431\" xlink:href=\"#mb3b2a7a72e\" y=\"226.920714\"/>\n      </g>\n     </g>\n     <g id=\"text_9\">\n      <!-- 400 -->\n      <g transform=\"translate(350.472681 241.519152)scale(0.1 -0.1)\">\n       <defs>\n        <path d=\"M 37.796875 64.3125 \nL 12.890625 25.390625 \nL 37.796875 25.390625 \nz\nM 35.203125 72.90625 \nL 47.609375 72.90625 \nL 47.609375 25.390625 \nL 58.015625 25.390625 \nL 58.015625 17.1875 \nL 47.609375 17.1875 \nL 47.609375 0 \nL 37.796875 0 \nL 37.796875 17.1875 \nL 4.890625 17.1875 \nL 4.890625 26.703125 \nz\n\" id=\"DejaVuSans-52\"/>\n       </defs>\n       <use xlink:href=\"#DejaVuSans-52\"/>\n       <use x=\"63.623047\" xlink:href=\"#DejaVuSans-48\"/>\n       <use x=\"127.246094\" xlink:href=\"#DejaVuSans-48\"/>\n      </g>\n     </g>\n    </g>\n   </g>\n   <g id=\"matplotlib.axis_2\">\n    <g id=\"ytick_1\">\n     <g id=\"line2d_10\">\n      <defs>\n       <path d=\"M 0 0 \nL -3.5 0 \n\" id=\"md4dfd53b63\" style=\"stroke:#000000;stroke-width:0.8;\"/>\n      </defs>\n      <g>\n       <use style=\"stroke:#000000;stroke-width:0.8;\" x=\"26.925\" xlink:href=\"#md4dfd53b63\" y=\"217.037078\"/>\n      </g>\n     </g>\n     <g id=\"text_10\">\n      <!-- 0 -->\n      <g transform=\"translate(13.5625 220.836297)scale(0.1 -0.1)\">\n       <use xlink:href=\"#DejaVuSans-48\"/>\n      </g>\n     </g>\n    </g>\n    <g id=\"ytick_2\">\n     <g id=\"line2d_11\">\n      <g>\n       <use style=\"stroke:#000000;stroke-width:0.8;\" x=\"26.925\" xlink:href=\"#md4dfd53b63\" y=\"175.829506\"/>\n      </g>\n     </g>\n     <g id=\"text_11\">\n      <!-- 10 -->\n      <g transform=\"translate(7.2 179.628725)scale(0.1 -0.1)\">\n       <use xlink:href=\"#DejaVuSans-49\"/>\n       <use x=\"63.623047\" xlink:href=\"#DejaVuSans-48\"/>\n      </g>\n     </g>\n    </g>\n    <g id=\"ytick_3\">\n     <g id=\"line2d_12\">\n      <g>\n       <use style=\"stroke:#000000;stroke-width:0.8;\" x=\"26.925\" xlink:href=\"#md4dfd53b63\" y=\"134.621934\"/>\n      </g>\n     </g>\n     <g id=\"text_12\">\n      <!-- 20 -->\n      <g transform=\"translate(7.2 138.421153)scale(0.1 -0.1)\">\n       <use xlink:href=\"#DejaVuSans-50\"/>\n       <use x=\"63.623047\" xlink:href=\"#DejaVuSans-48\"/>\n      </g>\n     </g>\n    </g>\n    <g id=\"ytick_4\">\n     <g id=\"line2d_13\">\n      <g>\n       <use style=\"stroke:#000000;stroke-width:0.8;\" x=\"26.925\" xlink:href=\"#md4dfd53b63\" y=\"93.414362\"/>\n      </g>\n     </g>\n     <g id=\"text_13\">\n      <!-- 30 -->\n      <g transform=\"translate(7.2 97.213581)scale(0.1 -0.1)\">\n       <use xlink:href=\"#DejaVuSans-51\"/>\n       <use x=\"63.623047\" xlink:href=\"#DejaVuSans-48\"/>\n      </g>\n     </g>\n    </g>\n    <g id=\"ytick_5\">\n     <g id=\"line2d_14\">\n      <g>\n       <use style=\"stroke:#000000;stroke-width:0.8;\" x=\"26.925\" xlink:href=\"#md4dfd53b63\" y=\"52.206791\"/>\n      </g>\n     </g>\n     <g id=\"text_14\">\n      <!-- 40 -->\n      <g transform=\"translate(7.2 56.006009)scale(0.1 -0.1)\">\n       <use xlink:href=\"#DejaVuSans-52\"/>\n       <use x=\"63.623047\" xlink:href=\"#DejaVuSans-48\"/>\n      </g>\n     </g>\n    </g>\n    <g id=\"ytick_6\">\n     <g id=\"line2d_15\">\n      <g>\n       <use style=\"stroke:#000000;stroke-width:0.8;\" x=\"26.925\" xlink:href=\"#md4dfd53b63\" y=\"10.999219\"/>\n      </g>\n     </g>\n     <g id=\"text_15\">\n      <!-- 50 -->\n      <g transform=\"translate(7.2 14.798437)scale(0.1 -0.1)\">\n       <use xlink:href=\"#DejaVuSans-53\"/>\n       <use x=\"63.623047\" xlink:href=\"#DejaVuSans-48\"/>\n      </g>\n     </g>\n    </g>\n   </g>\n   <g id=\"line2d_16\">\n    <path clip-path=\"url(#p965be3e6c1)\" d=\"M 42.143182 217.037078 \nL 166.908432 217.037078 \nL 167.703115 89.087571 \nL 168.497798 91.477609 \nL 169.292482 97.86478 \nL 170.881848 105.941468 \nL 172.471214 98.400475 \nL 174.855263 100.419653 \nL 175.649947 90.735872 \nL 176.44463 87.027192 \nL 177.239313 84.513528 \nL 178.033996 83.318504 \nL 178.828679 82.576767 \nL 179.623362 78.373592 \nL 181.212728 67.783248 \nL 182.007412 66.011321 \nL 182.802095 67.165144 \nL 183.596778 70.791399 \nL 184.391461 75.241824 \nL 185.186144 74.211635 \nL 185.980827 82.906435 \nL 186.77551 80.433971 \nL 187.570193 82.453149 \nL 188.364877 85.873377 \nL 189.15956 87.356852 \nL 189.954243 82.865218 \nL 191.543609 67.536012 \nL 192.338292 58.841212 \nL 193.132975 55.956679 \nL 193.927658 59.088448 \nL 194.722342 58.717595 \nL 195.517025 59.418116 \nL 196.311708 60.613139 \nL 197.106391 60.901591 \nL 197.901074 60.942791 \nL 198.695757 57.234119 \nL 199.49044 52.907312 \nL 200.285123 52.577659 \nL 201.079807 55.008907 \nL 201.87449 58.429127 \nL 202.669173 62.673518 \nL 204.258539 67.165144 \nL 205.053222 74.500086 \nL 205.847905 80.598805 \nL 206.642588 84.266276 \nL 207.437272 87.398061 \nL 208.231955 86.532698 \nL 209.026638 84.966813 \nL 209.821321 78.291191 \nL 210.616004 73.099028 \nL 211.410687 69.431557 \nL 212.20537 67.123927 \nL 213.000053 66.547024 \nL 213.794737 65.764086 \nL 216.178786 67.04151 \nL 216.973469 66.959109 \nL 217.768152 66.299773 \nL 218.562835 64.816313 \nL 219.357518 64.816313 \nL 220.152202 65.352 \nL 220.946885 66.917893 \nL 222.536251 70.956233 \nL 223.330934 73.758349 \nL 224.125617 84.801979 \nL 224.9203 86.367871 \nL 225.714983 89.870509 \nL 226.509667 92.549007 \nL 227.30435 91.930887 \nL 228.099033 89.746891 \nL 228.893716 84.307493 \nL 229.688399 75.571476 \nL 230.483082 68.772236 \nL 231.277765 65.722869 \nL 232.072448 65.887703 \nL 232.867131 65.393217 \nL 233.661815 66.052537 \nL 234.456498 66.876692 \nL 235.251181 67.412379 \nL 236.045864 69.390341 \nL 236.840547 68.195333 \nL 237.63523 65.393217 \nL 238.429913 63.374039 \nL 239.224596 63.950942 \nL 240.01928 66.753058 \nL 240.813963 68.566202 \nL 241.608646 71.03865 \nL 242.403329 72.110055 \nL 243.198012 81.258126 \nL 243.992695 78.208774 \nL 244.787378 82.247114 \nL 245.582061 84.801979 \nL 246.376745 84.472327 \nL 247.171428 82.164697 \nL 247.966111 77.879106 \nL 248.760794 76.807716 \nL 249.555477 77.013751 \nL 250.35016 75.07699 \nL 251.144843 68.195333 \nL 251.939526 65.846503 \nL 252.73421 65.640452 \nL 253.528893 66.547024 \nL 254.323576 68.195333 \nL 255.118259 68.112916 \nL 255.912942 65.475634 \nL 256.707625 61.643328 \nL 257.502308 58.923629 \nL 258.296991 60.489506 \nL 259.091675 64.816313 \nL 259.886358 67.700831 \nL 260.681041 69.143105 \nL 261.475724 69.926043 \nL 262.270407 70.997449 \nL 263.06509 73.346279 \nL 263.859773 80.846056 \nL 264.654456 84.142659 \nL 265.44914 83.483338 \nL 266.243823 83.318504 \nL 267.038506 81.876246 \nL 267.833189 79.939485 \nL 268.627872 81.175709 \nL 271.011921 72.769376 \nL 271.806605 68.93707 \nL 272.601288 69.555175 \nL 273.395971 72.72816 \nL 274.190654 73.428696 \nL 274.985337 72.068839 \nL 275.78002 69.101889 \nL 276.574703 64.198193 \nL 277.369386 61.890564 \nL 278.16407 62.961969 \nL 278.958753 64.610263 \nL 279.753436 68.27775 \nL 280.548119 68.689819 \nL 281.342802 73.099028 \nL 282.137485 72.934194 \nL 282.932168 78.126357 \nL 283.726851 80.516388 \nL 284.521535 80.104319 \nL 285.316218 76.519264 \nL 286.110901 70.00846 \nL 286.905584 58.346726 \nL 287.700267 49.487092 \nL 288.49495 41.987315 \nL 289.289633 43.635608 \nL 290.084316 44.088894 \nL 290.879 46.561358 \nL 291.673683 50.970567 \nL 292.468366 52.371625 \nL 293.263049 51.506269 \nL 294.057732 45.613585 \nL 294.852415 42.4406 \nL 295.647098 44.253728 \nL 296.441781 52.330408 \nL 298.031148 60.777973 \nL 298.825831 62.632301 \nL 300.415197 70.544163 \nL 301.20988 70.997449 \nL 302.004563 72.769376 \nL 302.799246 73.511098 \nL 303.59393 73.469897 \nL 304.388613 71.945221 \nL 305.183296 67.247561 \nL 305.977979 56.162714 \nL 306.772662 41.698863 \nL 307.567345 34.281503 \nL 308.362028 37.454472 \nL 309.156711 39.226399 \nL 309.951394 42.193349 \nL 310.746078 44.294944 \nL 311.540761 44.212527 \nL 312.335444 45.119083 \nL 313.130127 37.907758 \nL 313.92481 21.424729 \nL 314.719493 19.364351 \nL 315.514176 31.973873 \nL 316.308859 40.751091 \nL 317.103543 53.154563 \nL 317.898226 55.956679 \nL 318.692909 59.500533 \nL 319.487592 68.112916 \nL 320.282275 66.670641 \nL 321.076958 69.019487 \nL 321.871641 70.997449 \nL 322.666324 69.678808 \nL 323.461008 68.978271 \nL 324.255691 63.291622 \nL 325.050374 55.627027 \nL 326.63974 37.74294 \nL 327.434423 45.654786 \nL 328.229106 48.910188 \nL 329.023789 49.899161 \nL 329.818473 50.146412 \nL 330.613156 49.157423 \nL 331.407839 50.022794 \nL 332.202522 49.116223 \nL 332.997205 40.009353 \nL 333.791888 39.514851 \nL 334.586571 48.621736 \nL 335.381254 52.989729 \nL 336.175938 56.245131 \nL 336.970621 60.571923 \nL 338.559987 71.574353 \nL 339.35467 69.637592 \nL 340.149353 71.986422 \nL 340.944036 73.881967 \nL 341.738719 72.810577 \nL 343.328086 64.033359 \nL 344.122769 57.028069 \nL 344.917452 45.242717 \nL 345.712135 35.43531 \nL 346.506818 41.080743 \nL 346.506818 41.080743 \n\" style=\"fill:none;stroke:#1f77b4;stroke-linecap:square;stroke-width:1.5;\"/>\n   </g>\n   <g id=\"patch_3\">\n    <path d=\"M 26.925 226.920714 \nL 26.925 9.480714 \n\" style=\"fill:none;stroke:#000000;stroke-linecap:square;stroke-linejoin:miter;stroke-width:0.8;\"/>\n   </g>\n   <g id=\"patch_4\">\n    <path d=\"M 361.725 226.920714 \nL 361.725 9.480714 \n\" style=\"fill:none;stroke:#000000;stroke-linecap:square;stroke-linejoin:miter;stroke-width:0.8;\"/>\n   </g>\n   <g id=\"patch_5\">\n    <path d=\"M 26.925 226.920714 \nL 361.725 226.920714 \n\" style=\"fill:none;stroke:#000000;stroke-linecap:square;stroke-linejoin:miter;stroke-width:0.8;\"/>\n   </g>\n   <g id=\"patch_6\">\n    <path d=\"M 26.925 9.480714 \nL 361.725 9.480714 \n\" style=\"fill:none;stroke:#000000;stroke-linecap:square;stroke-linejoin:miter;stroke-width:0.8;\"/>\n   </g>\n  </g>\n </g>\n <defs>\n  <clipPath id=\"p965be3e6c1\">\n   <rect height=\"217.44\" width=\"334.8\" x=\"26.925\" y=\"9.480714\"/>\n  </clipPath>\n </defs>\n</svg>\n",
      "image/png": "[encoded data removed]"
     },
     "metadata": {
      "needs_background": "light"
     }
    }
   ],
   "source": [
    "check_list = []\n",
    "for i, batch in enumerate(ts_loader):\n",
    "    insample_y = batch['insample_y']\n",
    "    insample_x = batch['insample_x']\n",
    "    insample_mask = batch['insample_mask']\n",
    "    outsample_y = batch['outsample_y']\n",
    "    outsample_x = batch['outsample_x']\n",
    "    outsample_mask = batch['outsample_mask']\n",
    "\n",
    "    #print(\"on_dataset.t_cols\", on_dataset.t_cols)\n",
    "    #print(\"ts_loader.input_size\", ts_loader.input_size)\n",
    "    #print(\"ts_loader.output_size\", ts_loader.output_size)\n",
    "    print(\"insample_y.shape\", insample_y.shape)\n",
    "    #print(\"insample_x.shape\", insample_x.shape)\n",
    "    #print(\"outsample_y.shape\", outsample_y.shape)\n",
    "    #print(\"outsample_x.shape\", outsample_x.shape)\n",
    "\n",
    "    check_list += [insample_y]\n",
    "\n",
    "    if i>1: break\n",
    "\n",
    "check = np.vstack(check_list)\n",
    "print(\"check.shape\", check.shape)\n",
    "print(\"Checking order for unshuffled validation\")\n",
    "plt.plot(check[:,9])\n",
    "plt.show()"
   ]
  },
  {
   "cell_type": "code",
   "execution_count": null,
   "metadata": {},
   "outputs": [],
   "source": []
  }
 ],
 "metadata": {
  "kernelspec": {
   "name": "python3",
   "display_name": "Python 3.7.9 64-bit ('nixtla': conda)",
   "metadata": {
    "interpreter": {
     "hash": "97c68c0f618c4f787b1e02bfee278e48d25b62407cb335aab5258cedc4db4ced"
    }
   }
  },
  "language_info": {
   "codemirror_mode": {
    "name": "ipython",
    "version": 3
   },
   "file_extension": ".py",
   "mimetype": "text/x-python",
   "name": "python",
   "nbconvert_exporter": "python",
   "pygments_lexer": "ipython3",
   "version": "3.7.9-final"
  }
 },
 "nbformat": 4,
 "nbformat_minor": 2
}