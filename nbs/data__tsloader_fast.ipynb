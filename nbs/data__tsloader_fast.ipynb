{
 "cells": [
  {
   "cell_type": "code",
   "execution_count": null,
   "metadata": {},
   "outputs": [],
   "source": [
    "# default_exp data.tsloader_fast"
   ]
  },
  {
   "cell_type": "code",
   "execution_count": null,
   "metadata": {},
   "outputs": [],
   "source": [
    "#hide\n",
    "%load_ext autoreload\n",
    "%autoreload 2"
   ]
  },
  {
   "cell_type": "code",
   "execution_count": null,
   "metadata": {},
   "outputs": [],
   "source": [
    "#export\n",
    "import copy\n",
    "import random\n",
    "from collections import defaultdict\n",
    "\n",
    "import numpy as np\n",
    "import pandas as pd\n",
    "import torch as t\n",
    "from fastcore.foundation import patch\n",
    "\n",
    "from nixtla.data.tsdataset import TimeSeriesDataset"
   ]
  },
  {
   "cell_type": "code",
   "execution_count": null,
   "metadata": {},
   "outputs": [],
   "source": [
    "#export\n",
    "# TODO: think compatibility with pytorch dataloaders, for gpu parallelization\n",
    "# maybe all TimeSeriesLoader and TimeSeriesDataset attributes and methods\n",
    "# should be defined in the Pytorch Dataset from the beginning.\n",
    "class TimeSeriesLoader(object):\n",
    "    def __init__(self,\n",
    "                 ts_dataset:TimeSeriesDataset,\n",
    "                 model:str,\n",
    "                 offset:int,\n",
    "                 window_sampling_limit: int, \n",
    "                 input_size: int,\n",
    "                 output_size: int,\n",
    "                 idx_to_sample_freq: int, # TODO: Usada en hack ENORME para window frequency sampling\n",
    "                 batch_size: int,\n",
    "                 complete_inputs: bool,\n",
    "                 complete_sample: bool,\n",
    "                 shuffle: bool,\n",
    "                 verbose: bool=False):\n",
    "        \"\"\"\n",
    "        \"\"\"\n",
    "        # Dataloader attributes\n",
    "        self.model = model\n",
    "        self.window_sampling_limit = window_sampling_limit\n",
    "        self.input_size = input_size\n",
    "        self.output_size = output_size\n",
    "        self.batch_size = batch_size\n",
    "        self.complete_inputs = complete_inputs\n",
    "        self.complete_sample = complete_sample\n",
    "        self.idx_to_sample_freq = idx_to_sample_freq\n",
    "        self.offset = offset\n",
    "        self.ts_dataset = ts_dataset\n",
    "        self.t_cols = self.ts_dataset.t_cols\n",
    "        self.shuffle = shuffle # Boolean to shuffle data, useful for validation\n",
    "        self.verbose = verbose\n",
    "\n",
    "        assert offset==0, 'sample_mask and offset interaction not implemented'\n",
    "        # assert window_sampling_limit==self.ts_dataset.max_len, \\\n",
    "        #     'sample_mask and window_samplig_limit interaction not implemented'\n",
    "        \n",
    "        # Create rolling window matrix in advanced for faster access to data and broadcasted s_matrix\n",
    "        self._create_sample_data()\n",
    "\n",
    "    def _update_sampling_windows_idxs(self):\n",
    "        # Only sample during available windows with at least one active output mask and input mask\n",
    "        #n_windows, n_channels, max_len\n",
    "        # sample_condition = t.sum(self.ts_windows[:, self.t_cols.index('sample_mask'), -self.output_size:], axis=1)\n",
    "        \n",
    "        if not self.complete_sample:\n",
    "            #print(\"\\n\")\n",
    "            #print(\"INTENTO RARO DE LIMPIEZA8\")\n",
    "            sample_condition = t.sum(self.ts_windows[:, self.t_cols.index('sample_mask'), -self.output_size:], axis=1)\n",
    "            available_condition = t.sum(self.ts_windows[:, self.t_cols.index('available_mask'), :self.input_size], axis=1)\n",
    "            if self.complete_inputs:\n",
    "                completely_available_condition = (available_condition == (self.input_size)) * 1\n",
    "                sampling_idx = t.nonzero(completely_available_condition * sample_condition > 0)\n",
    "            else:\n",
    "                sampling_idx = t.nonzero(available_condition * sample_condition > 0) #element-wise product\n",
    "            #print(\"completely_available_condition.shape\", completely_available_condition.shape)\n",
    "            #print(\"complete prc\", float(t.sum(completely_available_condition))/len(completely_available_condition))\n",
    "            #print(\"available_condition\", available_condition)\n",
    "            #print(\"completely_available_condition\", completely_available_condition)\n",
    "            #print(\"completely_available_condition * sample_condition > 0\", completely_available_condition * sample_condition > 0)\n",
    "        else:\n",
    "            sample_condition = t.sum(self.ts_windows[:, self.t_cols.index('sample_mask'), -self.output_size:], axis=1)\n",
    "            sample_condition = (sample_condition == (self.output_size)) * 1\n",
    "            sampling_idx = t.nonzero(sample_condition)\n",
    "\n",
    "        sampling_idx = list(sampling_idx.flatten().numpy())\n",
    "        assert len(sampling_idx)>0, 'Check the data and masks as sample_idxs are empty'\n",
    "        return sampling_idx\n",
    "\n",
    "    def _create_windows_tensor(self):\n",
    "        \"\"\"\n",
    "        Comment here\n",
    "        TODO: Cuando creemos el otro dataloader, si es compatible lo hacemos funcion transform en utils\n",
    "        \"\"\"\n",
    "        # Memory efficiency is gained from keeping across dataloaders common ts_tensor in dataset\n",
    "        # Filter function is used to define train tensor and validation tensor with the offset\n",
    "        # Default ts_idxs=ts_idxs sends all the data\n",
    "        tensor, right_padding = self.ts_dataset.get_filtered_ts_tensor(offset=self.offset, output_size=self.output_size,\n",
    "                                                                       window_sampling_limit=self.window_sampling_limit)\n",
    "        tensor = t.Tensor(tensor)\n",
    "\n",
    "        # Outsample mask checks existance of values in ts, train_mask mask is used to filter out validation\n",
    "        # is_train_loader inverts the train_mask in case the dataloader is in validation mode\n",
    "\n",
    "        # ###########\n",
    "        # ###########\n",
    "        # ###########\n",
    "        # markets = ['BE', 'FR', 'NP', 'PJM']\n",
    "        # for idx, market in enumerate(markets):\n",
    "        #     print(\"\\n\")\n",
    "        #     available_mask = tensor[idx, self.ts_dataset.t_cols.index('available_mask'), :].cpu().numpy()\n",
    "        #     sample_mask = tensor[idx, self.ts_dataset.t_cols.index('sample_mask'), :].cpu().numpy()\n",
    "        #     train_mask = available_mask * sample_mask\n",
    "        #     n_hours = len(available_mask)\n",
    "\n",
    "        #     print(\"available_mask.shape\", available_mask.shape)\n",
    "        #     y = tensor[idx, self.t_cols.index('y'), :].cpu().data.numpy()\n",
    "        #     y_nans = ((np.isnan(y)) > 0) * 1\n",
    "        #     print(\"y_nans prc\", np.sum(y_nans)/len(y))\n",
    "\n",
    "        #     x = tensor[idx, self.t_cols.index('Exogenous1'), :].cpu().data.numpy()\n",
    "        #     x_nans = ((np.isnan(y)) > 0) * 1\n",
    "        #     print(\"x_nans prc\", np.sum(x_nans)/len(x))\n",
    "\n",
    "        #     xy_nans = x_nans * y_nans\n",
    "        #     print(\"xy_nans prc\", np.sum(xy_nans)/len(x))\n",
    "\n",
    "        #     xya_nans = x_nans * y_nans * available_mask\n",
    "        #     print(\"xya_nans prc\", np.sum(xya_nans)/len(x))\n",
    "\n",
    "        #     print(\"y_nans\", np.sum(np.isnan(y)) * 1)\n",
    "        #     print(\"x_nans\", np.sum(np.isnan(x)) * 1)\n",
    "        #     print(\"available_mask_nans\", np.sum(np.isnan(available_mask)) * 1)\n",
    "        #     print(\"sample_mask_nans\", np.sum(np.isnan(sample_mask)) * 1)\n",
    "\n",
    "        #     print(f'LOADER {market} Available Mask {np.round(np.sum(available_mask/n_hours),5)}')\n",
    "        #     print(f'LOADER {market} Sample Mask {np.round(np.sum(sample_mask/n_hours),5)}')\n",
    "        #     print(f'LOADER {market} Train Mask {np.round(np.sum(train_mask/n_hours),5)}')\n",
    "        #     print(\"\\n\")        \n",
    "        # ###########\n",
    "        # ###########\n",
    "        # ###########\n",
    "\n",
    "        padder = t.nn.ConstantPad1d(padding=(self.input_size, right_padding), value=0)\n",
    "        tensor = padder(tensor)\n",
    "\n",
    "        # Creating rolling windows and 'flattens' them\n",
    "        windows = tensor.unfold(dimension=-1, size=self.input_size + self.output_size, step=self.idx_to_sample_freq)\n",
    "        # n_serie, n_channel, n_time, window_size -> n_serie, n_time, n_channel, window_size\n",
    "        #print(f'n_serie, n_channel, n_time, window_size = {windows.shape}')\n",
    "        windows = windows.permute(0,2,1,3)\n",
    "        #print(f'n_serie, n_time, n_channel, window_size = {windows.shape}')\n",
    "        windows = windows.reshape(-1, self.ts_dataset.n_channels, self.input_size + self.output_size)\n",
    "\n",
    "        # Broadcast s_matrix: This works because unfold in windows_tensor, orders: time, serie\n",
    "        s_matrix = self.ts_dataset.s_matrix.repeat(repeats=int(len(windows)/self.ts_dataset.n_series), axis=0)\n",
    "\n",
    "        return windows, s_matrix, tensor\n",
    "\n",
    "    def __len__(self):\n",
    "        return len(self.len_series)\n",
    "\n",
    "    def __iter__(self):\n",
    "        if self.shuffle:\n",
    "            sample_idxs = np.random.choice(a=self.windows_sampling_idx,\n",
    "                                           size=len(self.windows_sampling_idx), replace=False)\n",
    "        else:\n",
    "            sample_idxs = self.windows_sampling_idx\n",
    "\n",
    "        n_batches = int(np.ceil(len(sample_idxs) / self.batch_size)) # Must be multiple of batch_size for paralel gpu\n",
    "        \n",
    "        for idx in range(n_batches):\n",
    "            ws_idxs = sample_idxs[(idx * self.batch_size) : (idx + 1) * self.batch_size]\n",
    "            batch = self.__get_item__(index=ws_idxs)\n",
    "            yield batch\n",
    "\n",
    "    def __get_item__(self, index):\n",
    "        if self.model == 'nbeats':\n",
    "            return self._windows_batch(index)\n",
    "        elif self.model == 'esrnn':\n",
    "            #return self._full_series_batch(index)\n",
    "            assert 1<0, 'Hierarchical sampling not implemented'\n",
    "        else:\n",
    "            assert 1<0, 'error'\n",
    "\n",
    "    def _windows_batch(self, index):\n",
    "        \"\"\" NBEATS, TCN models \"\"\"\n",
    "\n",
    "        # Access precomputed rolling window matrix (RAM intensive)\n",
    "        windows = self.ts_windows[index]\n",
    "        s_matrix = self.s_matrix[index]\n",
    "\n",
    "        insample_y = windows[:, self.t_cols.index('y'), :self.input_size]\n",
    "        insample_x = windows[:, (self.t_cols.index('y')+1):self.t_cols.index('available_mask'), :self.input_size]\n",
    "        available_mask = windows[:, self.t_cols.index('available_mask'), :self.input_size]\n",
    "\n",
    "        outsample_y = windows[:, self.t_cols.index('y'), self.input_size:]\n",
    "        outsample_x = windows[:, (self.t_cols.index('y')+1):self.t_cols.index('available_mask'), self.input_size:]\n",
    "        sample_mask = windows[:, self.t_cols.index('sample_mask'), self.input_size:]\n",
    "\n",
    "        batch = {'s_matrix': s_matrix,\n",
    "                 'insample_y': insample_y, 'insample_x':insample_x, 'insample_mask':available_mask,\n",
    "                 'outsample_y': outsample_y, 'outsample_x':outsample_x, 'outsample_mask':sample_mask}\n",
    "        return batch\n",
    "\n",
    "    # def _full_series_batch(self, index):\n",
    "    #     \"\"\" ESRNN, RNN models \"\"\"\n",
    "        \n",
    "    #     print(\"[index]\", index)\n",
    "    #     print(\"self.ts_tensor.shape\", self.ts_tensor.shape)\n",
    "\n",
    "    #     ts_tensor = self.ts_tensor[index]\n",
    "\n",
    "    #     # Trim batch to shorter time series to avoid zero padding\n",
    "    #     insample_y = ts_tensor[:, self.t_cols.index('y'), :]\n",
    "    #     batch_len_series = np.array(self.ts_dataset.len_series)[index]\n",
    "    #     min_batch_len = np.min(batch_len_series)\n",
    "    #     insample_y = insample_y[:, -min_batch_len:]\n",
    "\n",
    "    #     insample_x = ts_tensor[:, self.t_cols.index('y')+1:self.t_cols.index('insample_mask'), :]\n",
    "    #     insample_x = insample_x[:, -min_batch_len:]\n",
    "\n",
    "    #     s_matrix = self.ts_dataset.s_matrix[index]\n",
    "\n",
    "    #     batch = {'insample_y': insample_y, 'idxs': index, 'insample_x': insample_x, 's_matrix': s_matrix}\n",
    "\n",
    "    #     return batch\n",
    "\n",
    "    def _create_sample_data(self):\n",
    "        \"\"\"\n",
    "        \"\"\"\n",
    "        # print('Creating windows matrix ...')\n",
    "        # Create rolling window matrix for fast information retrieval\n",
    "        self.ts_windows, self.s_matrix, _ = self._create_windows_tensor()\n",
    "        self.n_windows = len(self.ts_windows)\n",
    "        self.windows_sampling_idx = self._update_sampling_windows_idxs()\n",
    "\n",
    "        # TODO: rethink this protection, very small series such that len(ts) < input_size + output_size\n",
    "        #       would not allow for complete window_sampling_idx\n",
    "        #expected_windows = self.ts_dataset.n_trn if self.is_train_loader else self.ts_dataset.n_prd\n",
    "        #assert expected_windows == (len(self.windows_sampling_idx) * self.idx_to_sample_freq), \\\n",
    "        #    f'Check predict windows {self.ts_dataset.n_trn} sample windows {len(self.windows_sampling_idx)}'\n",
    "        #assert (self.ts_dataset.n_prd % self.ts_dataset.n_series == 0), 'Predictions tensor is unbalanced'\n",
    "        #assert (self.ts_dataset.n_prd % self.idx_to_sample_freq == 0), 'Predictions tensor is unbalanced'\n",
    "\n",
    "    def update_offset(self, offset):\n",
    "        if offset == self.offset:\n",
    "            return # Avoid extra computation\n",
    "        self.offset = offset\n",
    "        self._create_train_data()\n",
    "\n",
    "    def get_meta_data_col(self, col):\n",
    "        return self.ts_dataset.get_meta_data_col(col)\n",
    "\n",
    "    def get_n_variables(self):\n",
    "        return self.ts_dataset.n_x, self.ts_dataset.n_s\n",
    "\n",
    "    def get_n_series(self):\n",
    "        return self.ts_dataset.n_series\n",
    "\n",
    "    def get_max_len(self):\n",
    "        return self.ts_dataset.max_len\n",
    "\n",
    "    def get_n_channels(self):\n",
    "        return self.ts_dataset.n_channels\n",
    "\n",
    "    def get_X_cols(self):\n",
    "        return self.ts_dataset.X_cols\n",
    "\n",
    "    def get_frequency(self):\n",
    "        return self.ts_dataset.frequency"
   ]
  },
  {
   "cell_type": "markdown",
   "metadata": {},
   "source": [
    "# LOADERS COMPARISON"
   ]
  },
  {
   "cell_type": "code",
   "execution_count": null,
   "metadata": {},
   "outputs": [
    {
     "name": "stdout",
     "output_type": "stream",
     "text": [
      "Yearly\n"
     ]
    }
   ],
   "source": [
    "import matplotlib.pyplot as plt\n",
    "from nixtla.data.datasets.m4 import M4, M4Info\n",
    "from nixtla.data.tsdataset import get_mask_df\n",
    "\n",
    "print(M4Info.groups[0])\n",
    "Y_df, *_ = M4.load(directory='../data', group=M4Info.groups[0])"
   ]
  },
  {
   "cell_type": "code",
   "execution_count": null,
   "metadata": {},
   "outputs": [
    {
     "data": {
      "text/plain": [
       "841"
      ]
     },
     "execution_count": null,
     "metadata": {},
     "output_type": "execute_result"
    }
   ],
   "source": [
    "Y_df.groupby('unique_id')['y'].count().max()"
   ]
  },
  {
   "cell_type": "code",
   "execution_count": null,
   "metadata": {},
   "outputs": [],
   "source": [
    "mask_df = get_mask_df(Y_df=Y_df, n_timestamps=6)\n",
    "mask_df['sample_mask'] = 1 - mask_df['sample_mask'] "
   ]
  },
  {
   "cell_type": "code",
   "execution_count": null,
   "metadata": {},
   "outputs": [
    {
     "data": {
      "text/plain": [
       "[<matplotlib.lines.Line2D at 0x7fb1de9b1850>]"
      ]
     },
     "execution_count": null,
     "metadata": {},
     "output_type": "execute_result"
    },
    {
     "data": {
      "image/png": "[encoded data removed]",
      "text/plain": [
       "<Figure size 432x288 with 1 Axes>"
      ]
     },
     "metadata": {
      "needs_background": "light"
     },
     "output_type": "display_data"
    }
   ],
   "source": [
    "plt.plot(mask_df[mask_df['unique_id']=='Y1']['sample_mask'].values)"
   ]
  },
  {
   "cell_type": "code",
   "execution_count": null,
   "metadata": {},
   "outputs": [
    {
     "name": "stdout",
     "output_type": "stream",
     "text": [
      "Train Validation splits\n",
      "                       ds    \n",
      "                      min max\n",
      "unique_id sample_mask        \n",
      "Y1        0.0           1  31\n",
      "          1.0          32  37\n",
      "Y10       0.0           1  19\n",
      "          1.0          20  25\n",
      "Y100      0.0           1  54\n",
      "...                    ..  ..\n",
      "Y9997     1.0          25  30\n",
      "Y9998     0.0           1  24\n",
      "          1.0          25  30\n",
      "Y9999     0.0           1  24\n",
      "          1.0          25  30\n",
      "\n",
      "[46000 rows x 2 columns]\n",
      "Total data \t\t\t858458 time stamps\n",
      "Available percentage=100.0, \t858458 time stamps\n",
      "Train percentage=16.08, \t138000.0 time stamps\n",
      "Outsample percentage=83.92, \t720458.0 time stamps\n",
      "\n",
      "\n"
     ]
    }
   ],
   "source": [
    "m4_dataset = TimeSeriesDataset(Y_df=Y_df, mask_df=mask_df)"
   ]
  },
  {
   "cell_type": "code",
   "execution_count": null,
   "metadata": {},
   "outputs": [],
   "source": [
    "train_loader = TimeSeriesLoader(ts_dataset=m4_dataset,\n",
    "                                model='nbeats',\n",
    "                                offset=0,\n",
    "                                window_sampling_limit=m4_dataset.max_len, \n",
    "                                input_size=int(1*6),\n",
    "                                output_size=int(6),\n",
    "                                idx_to_sample_freq=int(1),\n",
    "                                batch_size=int(4),\n",
    "                                complete_inputs=True,\n",
    "                                complete_sample=True,\n",
    "                                shuffle=False)"
   ]
  },
  {
   "cell_type": "code",
   "execution_count": null,
   "metadata": {},
   "outputs": [
    {
     "name": "stdout",
     "output_type": "stream",
     "text": [
      "insample_y.shape torch.Size([4, 6])\n",
      "insample_x.shape torch.Size([4, 0, 6])\n",
      "outsample_y.shape torch.Size([4, 6])\n",
      "outsample_x.shape torch.Size([4, 0, 6])\n"
     ]
    }
   ],
   "source": [
    "np.random.seed(1)\n",
    "dataloader = iter(train_loader)\n",
    "batch = next(dataloader)\n",
    "insample_y = batch['insample_y']\n",
    "insample_x = batch['insample_x']\n",
    "insample_mask = batch['insample_mask']\n",
    "outsample_y = batch['outsample_y']\n",
    "outsample_x = batch['outsample_x']\n",
    "outsample_mask = batch['outsample_mask']\n",
    "\n",
    "print(\"insample_y.shape\", insample_y.shape)\n",
    "print(\"insample_x.shape\", insample_x.shape)\n",
    "print(\"outsample_y.shape\", outsample_y.shape)\n",
    "print(\"outsample_x.shape\", outsample_x.shape)"
   ]
  },
  {
   "cell_type": "code",
   "execution_count": null,
   "metadata": {},
   "outputs": [
    {
     "data": {
      "text/plain": [
       "tensor([[7230.6001, 7349.6001, 7339.2002, 7250.7998, 7294.6001, 7393.8999],\n",
       "        [7349.6001, 7339.2002, 7250.7998, 7294.6001, 7393.8999, 7560.8999],\n",
       "        [7339.2002, 7250.7998, 7294.6001, 7393.8999, 7560.8999, 7651.3999],\n",
       "        [7250.7998, 7294.6001, 7393.8999, 7560.8999, 7651.3999, 7587.2998]])"
      ]
     },
     "execution_count": null,
     "metadata": {},
     "output_type": "execute_result"
    }
   ],
   "source": [
    "insample_y"
   ]
  },
  {
   "cell_type": "code",
   "execution_count": null,
   "metadata": {},
   "outputs": [
    {
     "data": {
      "text/plain": [
       "tensor([[7560.8999, 7651.3999, 7587.2998, 7530.5000, 7261.1001, 7290.2002],\n",
       "        [7651.3999, 7587.2998, 7530.5000, 7261.1001, 7290.2002, 7392.6001],\n",
       "        [7587.2998, 7530.5000, 7261.1001, 7290.2002, 7392.6001, 7527.6001],\n",
       "        [7530.5000, 7261.1001, 7290.2002, 7392.6001, 7527.6001, 7594.7998]])"
      ]
     },
     "execution_count": null,
     "metadata": {},
     "output_type": "execute_result"
    }
   ],
   "source": [
    "outsample_y"
   ]
  },
  {
   "cell_type": "code",
   "execution_count": null,
   "metadata": {},
   "outputs": [
    {
     "data": {
      "text/plain": [
       "tensor([[0., 0., 0., 0., 0., 1.],\n",
       "        [0., 0., 0., 0., 1., 1.],\n",
       "        [0., 0., 0., 1., 1., 1.],\n",
       "        [0., 0., 1., 1., 1., 1.]])"
      ]
     },
     "execution_count": null,
     "metadata": {},
     "output_type": "execute_result"
    }
   ],
   "source": [
    "outsample_mask"
   ]
  },
  {
   "cell_type": "code",
   "execution_count": null,
   "metadata": {},
   "outputs": [
    {
     "data": {
      "text/plain": [
       "253000"
      ]
     },
     "execution_count": null,
     "metadata": {},
     "output_type": "execute_result"
    }
   ],
   "source": [
    "len(train_loader.windows_sampling_idx)"
   ]
  },
  {
   "cell_type": "markdown",
   "metadata": {},
   "source": [
    "# TESTING DATALOADERS WITH MODEL"
   ]
  },
  {
   "cell_type": "code",
   "execution_count": null,
   "metadata": {},
   "outputs": [
    {
     "name": "stdout",
     "output_type": "stream",
     "text": [
      "\n",
      "\n",
      "Y_df.shape \t\t\t (209664, 3)\n",
      "Xt_df.shape \t\t\t (209664, 12)\n",
      "Y_balanced_df.shape \t\t (279072, 3)\n",
      "Xt_balanced_df.shape \t\t (279072, 12)\n",
      "weights_balanced_df.shape \t (279072, 3)\n"
     ]
    },
    {
     "data": {
      "image/png": "[encoded data removed]",
      "text/plain": [
       "<Figure size 432x288 with 1 Axes>"
      ]
     },
     "metadata": {
      "needs_background": "light"
     },
     "output_type": "display_data"
    },
    {
     "data": {
      "image/png": "[encoded data removed]",
      "text/plain": [
       "<Figure size 432x288 with 1 Axes>"
      ]
     },
     "metadata": {
      "needs_background": "light"
     },
     "output_type": "display_data"
    },
    {
     "data": {
      "image/png": "[encoded data removed]",
      "text/plain": [
       "<Figure size 432x288 with 1 Axes>"
      ]
     },
     "metadata": {
      "needs_background": "light"
     },
     "output_type": "display_data"
    }
   ],
   "source": [
    "import itertools\n",
    "import pandas as pd\n",
    "import matplotlib.pyplot as plt\n",
    "from nixtla.data.datasets.epf import EPF, EPFInfo\n",
    "from nixtla.data.scalers import Scaler\n",
    "\n",
    "# Hacked MAE NP hypars\n",
    "hacked_np = {'input_size_multiplier': 7,\n",
    "             'output_size': 24,\n",
    "             'window_sampling_limit': 365*10*24,\n",
    "             'idx_to_sample_freq': 24,\n",
    "             'batch_size': 256,\n",
    "             'shared_weights': False,\n",
    "             'activation': 'relu',\n",
    "             'initialization': 'he_normal',\n",
    "             'stack_types': ['exogenous_tcn']+1*['identity'],\n",
    "             'n_blocks': 2*[1],\n",
    "             'n_layers': 2*[2],\n",
    "             'n_hidden': 2*[[462,462]],\n",
    "             'n_polynomials': 2,\n",
    "             'n_harmonics': 1,\n",
    "             'exogenous_n_channels': 8,\n",
    "             'include_var_dict': {'y': [-2, -3, -8],\n",
    "                                  'Exogenous1': [-1, -2, -8],\n",
    "                                  'Exogenous2': [-1, -2, -8],\n",
    "                                  'week_day': [-1]},\n",
    "             'batch_normalization': False,\n",
    "             'dropout_prob_theta': 0.05,\n",
    "             'dropout_prob_exogenous': 0.35,\n",
    "             'x_s_n_hidden': 0,\n",
    "             'learning_rate': 0.0016,\n",
    "             'lr_decay': 0.5,\n",
    "             'n_lr_decay_steps': 3,\n",
    "             'weight_decay': 6e-4,\n",
    "             'l1_theta': 1.0e-05,\n",
    "             'n_iterations': 50, #2000 <-------------\n",
    "             'early_stopping': 40,\n",
    "             'loss': 'PINBALL',\n",
    "             'loss_hypar': 0.49,\n",
    "             'val_loss': 'MAE', #'SMAPE',\n",
    "             'frequency': 'H',\n",
    "             'random_seed': 17,\n",
    "             'seasonality': 24}\n",
    "\n",
    "def get_last_n_timestamps_mask_df(Y_df, n_timestamps):\n",
    "    # Creates outsample_mask\n",
    "    # train 1 validation 0\n",
    "\n",
    "    last_df = Y_df.copy()[['unique_id', 'ds']]\n",
    "    last_df.sort_values(by=['unique_id', 'ds'], inplace=True, ascending=False)\n",
    "    last_df.reset_index(drop=True, inplace=True)\n",
    "\n",
    "    last_df = last_df.groupby('unique_id').head(n_timestamps)\n",
    "    last_df['mask'] = 1\n",
    "\n",
    "    last_df = last_df[['unique_id', 'ds', 'mask']]\n",
    "\n",
    "    mask_df = Y_df.merge(last_df, on=['unique_id', 'ds'], how='left')\n",
    "    mask_df['mask'] = mask_df['mask'].fillna(0)    # The first len(Y)-n_hours used as train\n",
    "\n",
    "    mask_df = mask_df[['unique_id', 'ds', 'mask']]\n",
    "    mask_df.sort_values(by=['unique_id', 'ds'], inplace=True)\n",
    "\n",
    "    assert len(mask_df)==len(Y_df), \\\n",
    "        f'The mask_df length {len(mask_df)} is not equal to Y_df length {len(Y_df)}'\n",
    "\n",
    "    return mask_df\n",
    "\n",
    "def scale_data(Xt_df, mask_df):\n",
    "    # TODO: write sample_mask conditional/groupby(['unique_id]) scaling\n",
    "    # Conditional on sample_mask, scale all the Exogenous variables.\n",
    "\n",
    "    # To not modify original data\n",
    "    Xt_scaled_df = Xt_df.copy()\n",
    "\n",
    "    # Transform data with scale transformation\n",
    "    scaler = Scaler(normalizer='norm')\n",
    "    scaler_mask = mask_df['available_mask'].values * mask_df['sample_mask'].values\n",
    "    Xt_scaled_df['Exogenous1'] = scaler.scale(x=Xt_scaled_df['Exogenous1'].values, \n",
    "                                              mask=scaler_mask)\n",
    "\n",
    "    scaler = Scaler(normalizer='norm')\n",
    "    Xt_scaled_df['Exogenous2'] = scaler.scale(x=Xt_scaled_df['Exogenous2'].values,\n",
    "                                              mask=scaler_mask)\n",
    "\n",
    "    return Xt_scaled_df\n",
    "\n",
    "def balance_data(Y_df, Xt_df):\n",
    "    # Train Validation splits\n",
    "    #                        ds                    \n",
    "    #                       min                 max\n",
    "    # unique_id mask                               \n",
    "    # BE        0.0  2013-01-04 2015-01-03 23:00:00\n",
    "    #           1.0  2011-01-09 2013-01-03 23:00:00\n",
    "    # FR        0.0  2013-01-04 2015-01-03 23:00:00\n",
    "    #           1.0  2011-01-09 2013-01-03 23:00:00\n",
    "    # NP        0.0  2014-12-28 2016-12-26 23:00:00\n",
    "    #           1.0  2013-01-01 2014-12-27 23:00:00\n",
    "    # PJM       0.0  2014-12-28 2016-12-26 23:00:00\n",
    "    #           1.0  2013-01-01 2014-12-27 23:00:00\n",
    "\n",
    "    # Create balanced placeholder dataframe\n",
    "    balance_ids = {'unique_id': Y_df.unique_id.unique(),\n",
    "                   'ds': Y_df.ds.unique()}\n",
    "\n",
    "    product_list = list(itertools.product(*list(balance_ids.values())))\n",
    "    balance_df = pd.DataFrame(product_list, columns=list(balance_ids.keys()))\n",
    "\n",
    "    # Create mask for weighted losses for the las 2 years of each unique_id\n",
    "    weights_df = get_last_n_timestamps_mask_df(Y_df=Y_df, n_timestamps=2*365*24)\n",
    "    weights_df['weights'] = weights_df['mask']\n",
    "    del weights_df['mask']\n",
    "    \n",
    "    # Balance with merge\n",
    "    Y_balanced_df = balance_df.merge(Y_df, on=['unique_id', 'ds'], how='left')\n",
    "    Xt_balanced_df = balance_df.merge(Xt_df, on=['unique_id', 'ds'], how='left')\n",
    "    weights_balanced_df = balance_df.merge(weights_df, on=['unique_id', 'ds'], how='left')\n",
    "    #print(weights_balanced_df.groupby(['unique_id', 'weights']).agg({'ds': ['min', 'max']}))\n",
    "\n",
    "    print('\\n')\n",
    "    print('Y_df.shape \\t\\t\\t', Y_df.shape)\n",
    "    print('Xt_df.shape \\t\\t\\t', Xt_df.shape)\n",
    "    print('Y_balanced_df.shape \\t\\t', Y_balanced_df.shape)\n",
    "    print('Xt_balanced_df.shape \\t\\t', Xt_balanced_df.shape)\n",
    "    print('weights_balanced_df.shape \\t', weights_balanced_df.shape)\n",
    "\n",
    "    return Y_balanced_df, Xt_balanced_df, weights_balanced_df\n",
    "\n",
    "args = pd.Series({'dataset': ['NP', 'PJM', 'BE', 'FR']})\n",
    "#args = pd.Series({'dataset': ['NP']})\n",
    "\n",
    "Y_df, Xt_df, S_df = EPF.load_groups(directory='../data', groups=args.dataset)\n",
    "Y_balanced_df, Xt_balanced_df, weights_balanced_df = balance_data(Y_df, Xt_df)\n",
    "del Y_df, Xt_df\n",
    "\n",
    "# Train Validation splits\n",
    "#                           ds                    \n",
    "#                          min                 max\n",
    "# unique_id weights                               \n",
    "# BE        0.0     2011-01-09 2013-01-03 23:00:00\n",
    "#           1.0     2013-01-04 2015-01-03 23:00:00\n",
    "# FR        0.0     2011-01-09 2013-01-03 23:00:00\n",
    "#           1.0     2013-01-04 2015-01-03 23:00:00\n",
    "# NP        0.0     2013-01-01 2014-12-27 23:00:00\n",
    "#           1.0     2014-12-28 2016-12-26 23:00:00\n",
    "# PJM       0.0     2013-01-01 2014-12-27 23:00:00\n",
    "#           1.0     2014-12-28 2016-12-26 23:00:00\n",
    "\n",
    "# Create available_mask and sample_mask\n",
    "# TODO: Include not null exogenous condition to available mask\n",
    "mask_df = Y_balanced_df[['unique_id', 'ds', 'y']].copy()\n",
    "mask_df['available_mask'] = (1-Y_balanced_df.y.isnull().values)\n",
    "del mask_df['y']\n",
    "\n",
    "mask_df['sample_mask1'] = (mask_df['ds'] <= pd.to_datetime('2013-01-03 23:00:00')) * 1\n",
    "mask_df['sample_mask2'] = (mask_df['ds'] <= pd.to_datetime('2014-12-27 23:00:00')) * 1\n",
    "mask_df['sample_mask'] = mask_df['sample_mask2']\n",
    "\n",
    "# Scale data # TODO: write sample_mask conditional/groupby(['unique_id]) scaling\n",
    "Xt_scaled_df = scale_data(Xt_df=Xt_balanced_df, mask_df=mask_df)\n",
    "del Xt_balanced_df\n",
    "\n",
    "# mask_df.groupby(['unique_id', 'available_mask', 'sample_mask']).agg({})\n",
    "market = 'NP'\n",
    "available_mask = mask_df[mask_df.unique_id==market].available_mask.values\n",
    "sample_mask = mask_df[mask_df.unique_id==market].sample_mask.values\n",
    "train_mask = available_mask * sample_mask\n",
    "n_hours = len(available_mask)\n",
    "\n",
    "plt.plot(range(n_hours), available_mask)\n",
    "plt.title(f'{market} Available Mask {np.round(np.sum(available_mask/n_hours),5)}')\n",
    "plt.show()\n",
    "\n",
    "plt.plot(range(n_hours), sample_mask, color='red')\n",
    "plt.title(f'{market} Sample Mask {np.round(np.sum(sample_mask/n_hours),5)}')\n",
    "plt.show()\n",
    "\n",
    "plt.plot(range(n_hours), train_mask, color='purple')\n",
    "plt.title(f'{market} Train Mask {np.round(np.sum(train_mask/n_hours),5)}')\n",
    "plt.show()"
   ]
  },
  {
   "cell_type": "markdown",
   "metadata": {},
   "source": [
    "# TESTING SAMPLING_MASK ON DATALOADERS"
   ]
  },
  {
   "cell_type": "code",
   "execution_count": null,
   "metadata": {},
   "outputs": [
    {
     "name": "stdout",
     "output_type": "stream",
     "text": [
      "train percentage 0.37719298245614036\n",
      "Train Validation splits\n",
      "                              ds                    \n",
      "                             min                 max\n",
      "unique_id sample_mask                               \n",
      "BE        0           2014-12-28 2018-12-24 23:00:00\n",
      "          1           2011-01-09 2014-12-27 23:00:00\n",
      "FR        0           2014-12-28 2018-12-24 23:00:00\n",
      "          1           2011-01-09 2014-12-27 23:00:00\n",
      "NP        0           2014-12-28 2018-12-24 23:00:00\n",
      "          1           2011-01-09 2014-12-27 23:00:00\n",
      "PJM       0           2014-12-28 2018-12-24 23:00:00\n",
      "          1           2011-01-09 2014-12-27 23:00:00\n",
      "Total data \t\t\t279072 time stamps\n",
      "Available percentage=75.13, \t209664 time stamps\n",
      "Train percentage=37.41, \t104400 time stamps\n",
      "Outsample percentage=50.15, \t139968 time stamps\n",
      "\n",
      "\n",
      "\n",
      "\n",
      "train_loader.ts_windows.shape torch.Size([11632, 13, 192])\n",
      "len(train_loader.windows_sampling_idx) * 24 =     4346 * 24 = 104304\n",
      "\n",
      "\n",
      "val_loader.ts_windows.shape torch.Size([11632, 13, 192])\n",
      "len(train_loader.windows_sampling_idx) * 24 =     4346 * 24 = 104304\n",
      "\n",
      "\n"
     ]
    }
   ],
   "source": [
    "mc = hacked_np\n",
    "\n",
    "train_mask_df = mask_df.copy()\n",
    "train_mask_df['sample_mask'] = (mask_df['available_mask'].values) * (1-mask_df['sample_mask'].values)\n",
    "print(\"train percentage\", sum(train_mask_df['sample_mask'])/len(train_mask_df['sample_mask']))\n",
    "\n",
    "ts_dataset = TimeSeriesDataset(Y_df=Y_balanced_df, X_df=Xt_scaled_df, S_df=S_df, mask_df=mask_df)\n",
    "\n",
    "train_loader = TimeSeriesLoader(ts_dataset=ts_dataset,\n",
    "                                model='nbeats',\n",
    "                                offset=0, #offset,\n",
    "                                window_sampling_limit=ts_dataset.max_len, \n",
    "                                input_size=int(mc['input_size_multiplier']*mc['output_size']),\n",
    "                                output_size=int(mc['output_size']),\n",
    "                                idx_to_sample_freq=int(mc['idx_to_sample_freq']),\n",
    "                                batch_size=int(mc['batch_size']),\n",
    "                                shuffle=True, \n",
    "                                complete_sample=False,\n",
    "                                complete_inputs=False)\n",
    "\n",
    "print(\"\\n\")\n",
    "print(\"train_loader.ts_windows.shape\", train_loader.ts_windows.shape)\n",
    "print(f\"len(train_loader.windows_sampling_idx) * 24 = \\\n",
    "    {len(train_loader.windows_sampling_idx)} * 24 = {len(train_loader.windows_sampling_idx) * 24}\")\n",
    "print(\"\\n\")\n",
    "\n",
    "val_loader = TimeSeriesLoader(ts_dataset=ts_dataset,\n",
    "                              model='nbeats',\n",
    "                              offset=0, #offset,\n",
    "                              window_sampling_limit=ts_dataset.max_len, \n",
    "                              input_size=int(mc['input_size_multiplier']*mc['output_size']),\n",
    "                              output_size=int(mc['output_size']),\n",
    "                              idx_to_sample_freq=int(mc['idx_to_sample_freq']),\n",
    "                              batch_size=128,# Samples the opposite of train_outsample_mask\n",
    "                              shuffle=False, \n",
    "                              complete_sample=False,\n",
    "                             complete_inputs=False)\n",
    "\n",
    "print(\"val_loader.ts_windows.shape\", val_loader.ts_windows.shape)\n",
    "print(f\"len(train_loader.windows_sampling_idx) * 24 = \\\n",
    "    {len(val_loader.windows_sampling_idx)} * 24 = {len(val_loader.windows_sampling_idx) * 24}\")\n",
    "print(\"\\n\")"
   ]
  },
  {
   "cell_type": "code",
   "execution_count": null,
   "metadata": {},
   "outputs": [
    {
     "name": "stdout",
     "output_type": "stream",
     "text": [
      "epf_dataset.t_cols ['y', 'Exogenous1', 'Exogenous2', 'week_day', 'day_0', 'day_1', 'day_2', 'day_3', 'day_4', 'day_5', 'day_6', 'available_mask', 'sample_mask']\n",
      "ts_loader.input_size 168\n",
      "ts_loader.output_size 24\n",
      "insample_y.shape torch.Size([128, 168])\n",
      "insample_x.shape torch.Size([128, 10, 168])\n",
      "outsample_y.shape torch.Size([128, 24])\n",
      "outsample_x.shape torch.Size([128, 10, 24])\n"
     ]
    }
   ],
   "source": [
    "dataset = ts_dataset\n",
    "ts_loader = val_loader\n",
    "\n",
    "dataloader = iter(ts_loader)\n",
    "batch = next(dataloader)\n",
    "insample_y = batch['insample_y']\n",
    "insample_x = batch['insample_x']\n",
    "insample_mask = batch['insample_mask']\n",
    "outsample_y = batch['outsample_y']\n",
    "outsample_x = batch['outsample_x']\n",
    "outsample_mask = batch['outsample_mask']\n",
    "\n",
    "print(\"epf_dataset.t_cols\", dataset.t_cols)\n",
    "print(\"ts_loader.input_size\", ts_loader.input_size)\n",
    "print(\"ts_loader.output_size\", ts_loader.output_size)\n",
    "print(\"insample_y.shape\", insample_y.shape)\n",
    "print(\"insample_x.shape\", insample_x.shape)\n",
    "print(\"outsample_y.shape\", outsample_y.shape)\n",
    "print(\"outsample_x.shape\", outsample_x.shape)"
   ]
  },
  {
   "cell_type": "code",
   "execution_count": null,
   "metadata": {},
   "outputs": [
    {
     "name": "stdout",
     "output_type": "stream",
     "text": [
      "insample_y.shape torch.Size([128, 168])\n",
      "insample_y.shape torch.Size([128, 168])\n",
      "insample_y.shape torch.Size([128, 168])\n",
      "check.shape (384, 168)\n",
      "Checking order for unshuffled validation\n"
     ]
    },
    {
     "data": {
      "image/png": "[encoded data removed]",
      "text/plain": [
       "<Figure size 432x288 with 1 Axes>"
      ]
     },
     "metadata": {
      "needs_background": "light"
     },
     "output_type": "display_data"
    }
   ],
   "source": [
    "check_list = []\n",
    "for i, batch in enumerate(ts_loader):\n",
    "    insample_y = batch['insample_y']\n",
    "    insample_x = batch['insample_x']\n",
    "    insample_mask = batch['insample_mask']\n",
    "    outsample_y = batch['outsample_y']\n",
    "    outsample_x = batch['outsample_x']\n",
    "    outsample_mask = batch['outsample_mask']\n",
    "\n",
    "    print(\"insample_y.shape\", insample_y.shape)\n",
    "\n",
    "    check_list += [insample_y]\n",
    "\n",
    "    if i>1: break\n",
    "\n",
    "check = np.vstack(check_list)\n",
    "print(\"check.shape\", check.shape)\n",
    "print(\"Checking order for unshuffled validation\")\n",
    "plt.plot(check[:,9])\n",
    "plt.show()"
   ]
  }
 ],
 "metadata": {
  "kernelspec": {
   "display_name": "nixtla",
   "language": "python",
   "name": "nixtla"
  }
 },
 "nbformat": 4,
 "nbformat_minor": 2
}
