{
 "cells": [
  {
   "cell_type": "markdown",
   "metadata": {},
   "source": [
    "# Nixtla"
   ]
  },
  {
   "cell_type": "markdown",
   "metadata": {},
   "source": [
    "[nikstla] (noun, nahuatl) Period of time\n",
    "> Machine learning for time series forecasting."
   ]
  },
  {
   "cell_type": "markdown",
   "metadata": {},
   "source": [
    "## Install"
   ]
  },
  {
   "cell_type": "markdown",
   "metadata": {},
   "source": [
    "`pip install nixtla`"
   ]
  },
  {
   "cell_type": "code",
   "execution_count": null,
   "metadata": {},
   "outputs": [],
   "source": [
    "#hide\n",
    "import os\n",
    "import warnings\n",
    "\n",
    "os.environ['CUDA_VISIBLE_DEVICES'] = '' # esrnn fails with device='cpu' having a cuda visible device\n",
    "warnings.filterwarnings('ignore') # compatibility warning in TimeSeriesLoader"
   ]
  },
  {
   "cell_type": "markdown",
   "metadata": {},
   "source": [
    "## How to use"
   ]
  },
  {
   "cell_type": "markdown",
   "metadata": {},
   "source": [
    "Import a dataset and NBEATS model"
   ]
  },
  {
   "cell_type": "code",
   "execution_count": null,
   "metadata": {},
   "outputs": [
    {
     "name": "stdout",
     "output_type": "stream",
     "text": [
      "Processing dataframes ...\n",
      "Creating ts tensor ...\n"
     ]
    }
   ],
   "source": [
    "from IPython.display import Markdown\n",
    "from nixtla.data.datasets import EPF\n",
    "from nixtla.data.ts_loader import TimeSeriesLoader\n",
    "from nixtla.models import Nbeats\n",
    "\n",
    "pjm = EPF.load(directory='data', group='PJM')"
   ]
  },
  {
   "cell_type": "markdown",
   "metadata": {},
   "source": [
    "Loader parameters"
   ]
  },
  {
   "cell_type": "code",
   "execution_count": null,
   "metadata": {},
   "outputs": [],
   "source": [
    "window_sampling_limit = 365\n",
    "input_size_multiplier = 3\n",
    "output_size = 24 * 4\n",
    "offset = 30 * output_size"
   ]
  },
  {
   "cell_type": "code",
   "execution_count": null,
   "metadata": {},
   "outputs": [
    {
     "name": "stdout",
     "output_type": "stream",
     "text": [
      "Creating windows matrix ...\n"
     ]
    }
   ],
   "source": [
    "ts_loader = TimeSeriesLoader(ts_dataset=pjm,\n",
    "                             offset=offset,\n",
    "                             window_sampling_limit=window_sampling_limit,\n",
    "                             input_size=input_size_multiplier * output_size,\n",
    "                             output_size=output_size,\n",
    "                             idx_to_sample_freq=1,\n",
    "                             batch_size=512,\n",
    "                             model='nbeats')"
   ]
  },
  {
   "cell_type": "code",
   "execution_count": null,
   "metadata": {},
   "outputs": [],
   "source": [
    "model = Nbeats(input_size_multiplier=input_size_multiplier,\n",
    "               output_size=output_size,\n",
    "               shared_weights=False,\n",
    "               stack_types=['identity'],\n",
    "               n_blocks=[1],\n",
    "               n_layers=[4],\n",
    "               n_hidden=[256],\n",
    "               exogenous_in_mlp=False,\n",
    "               learning_rate=0.001,\n",
    "               lr_decay=1.0,\n",
    "               n_lr_decay_steps=3,\n",
    "               n_iterations=10,\n",
    "               early_stopping=None,\n",
    "               loss='MAPE',\n",
    "               random_seed=1)"
   ]
  },
  {
   "cell_type": "code",
   "execution_count": null,
   "metadata": {},
   "outputs": [
    {
     "name": "stdout",
     "output_type": "stream",
     "text": [
      "============================== Start fitting ==============================\n",
      "Number of exogenous variables: 9\n",
      "Number of static variables: 0 , with dim_hidden: 1\n",
      "Number of iterations: 10\n",
      "Number of blocks: 1\n",
      "Step: 0, Time: 0.028, Insample MAPE: 0.39416\n",
      "Step: 2, Time: 0.098, Insample MAPE: 0.37484\n",
      "Step: 4, Time: 0.168, Insample MAPE: 0.37288\n",
      "Step: 6, Time: 0.238, Insample MAPE: 0.34576\n",
      "Step: 8, Time: 0.308, Insample MAPE: 0.29966\n"
     ]
    }
   ],
   "source": [
    "model.fit(ts_loader, eval_steps=2)"
   ]
  },
  {
   "cell_type": "code",
   "execution_count": null,
   "metadata": {},
   "outputs": [],
   "source": [
    "y_hat = model.predict(ts_loader)"
   ]
  },
  {
   "cell_type": "code",
   "execution_count": null,
   "metadata": {},
   "outputs": [
    {
     "data": {
      "text/markdown": [
       "| unique_id   | ds                  |   y_hat |\n",
       "|:------------|:--------------------|--------:|\n",
       "| PJM         | 2016-12-27 23:00:00 | 21.1163 |\n",
       "| PJM         | 2016-12-28 23:00:00 | 18.7953 |\n",
       "| PJM         | 2016-12-29 23:00:00 | 20.5183 |\n",
       "| PJM         | 2016-12-30 23:00:00 | 19.2623 |\n",
       "| PJM         | 2016-12-31 23:00:00 | 16.1545 |"
      ],
      "text/plain": [
       "<IPython.core.display.Markdown object>"
      ]
     },
     "execution_count": null,
     "metadata": {},
     "output_type": "execute_result"
    }
   ],
   "source": [
    "Markdown(y_hat.head().to_markdown(index=False))"
   ]
  },
  {
   "cell_type": "markdown",
   "metadata": {},
   "source": [
    "# ESRNN"
   ]
  },
  {
   "cell_type": "code",
   "execution_count": null,
   "metadata": {},
   "outputs": [],
   "source": [
    "from nixtla.models import ESRNN\n",
    "\n",
    "pjm = EPF.load_groups(directory='data', groups=['NP', 'PJM'], return_tensor=False)\n",
    "pjm_test = EPF.load_groups(directory='data', groups=['NP', 'PJM'], training=False, return_tensor=False)"
   ]
  },
  {
   "cell_type": "code",
   "execution_count": null,
   "metadata": {},
   "outputs": [],
   "source": [
    "esrnn_model = ESRNN(max_epochs=2, input_size=48, \n",
    "                    batch_size=2,\n",
    "                    output_size=728, seasonality=[24])"
   ]
  },
  {
   "cell_type": "code",
   "execution_count": null,
   "metadata": {},
   "outputs": [],
   "source": [
    "X = pjm.Y[['unique_id', 'ds']]\n",
    "X['x'] = 1"
   ]
  },
  {
   "cell_type": "code",
   "execution_count": null,
   "metadata": {},
   "outputs": [
    {
     "name": "stdout",
     "output_type": "stream",
     "text": [
      "Infered frequency: H\n",
      "=============== Training ESRNN  ===============\n",
      "\n",
      "========= Epoch 0 finished =========\n",
      "Training time: 5.12275\n",
      "Training loss (50 prc): 0.27288\n",
      "========= Epoch 1 finished =========\n",
      "Training time: 5.25982\n",
      "Training loss (50 prc): 0.27159\n",
      "Train finished! \n",
      "\n"
     ]
    }
   ],
   "source": [
    "esrnn_model.fit(X, pjm.Y)"
   ]
  },
  {
   "cell_type": "code",
   "execution_count": null,
   "metadata": {},
   "outputs": [
    {
     "data": {
      "text/markdown": [
       "| unique_id   | ds                  |     y |   y_hat |\n",
       "|:------------|:--------------------|------:|--------:|\n",
       "| NP          | 2016-12-27 00:00:00 | 24.08 | 28.6131 |\n",
       "| NP          | 2016-12-27 01:00:00 | 22.52 | 23.1586 |\n",
       "| NP          | 2016-12-27 02:00:00 | 20.13 | 19.901  |\n",
       "| NP          | 2016-12-27 03:00:00 | 19.86 | 24.0669 |\n",
       "| NP          | 2016-12-27 04:00:00 | 20.09 | 25.3265 |"
      ],
      "text/plain": [
       "<IPython.core.display.Markdown object>"
      ]
     },
     "execution_count": null,
     "metadata": {},
     "output_type": "execute_result"
    }
   ],
   "source": [
    "Markdown(esrnn_model.predict(pjm_test.Y).head().to_markdown(index=False))"
   ]
  }
 ],
 "metadata": {
  "kernelspec": {
   "display_name": "Python 3",
   "language": "python",
   "name": "python3"
  }
 },
 "nbformat": 4,
 "nbformat_minor": 4
}
