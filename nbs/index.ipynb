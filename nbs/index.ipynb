{
 "cells": [
  {
   "cell_type": "markdown",
   "metadata": {},
   "source": [
    "# Nixtla - Machine learning for time series forecasting\n",
    "\n",
    "[![License](https://img.shields.io/badge/License-Apache%202.0-green.svg?style=flat-square)](https://github.com/Nixtla/Nixtla/blob/master/LICENSE)\n",
    "\n",
    ">[nikstla] (noun, nahuatl) Period of time.\n",
    "\n",
    "Nixtla is a forecasting library for state of the art statistical and machine learning models, currently hosting the [ESRNN](https://www.sciencedirect.com/science/article/pii/S0169207019301153), and the [NBEATSX](https://arxiv.org/abs/1905.10437) models.\n",
    "\n",
    "Nixtla aims to store tools and models with the capacity to provide highly accurate forecasts with comparable performance to that of [Amazon Web Services](https://aws.amazon.com/es/forecast/), [Azure](https://docs.microsoft.com/en-us/azure/machine-learning/), or [DataRobot](https://www.datarobot.com/platform/automated-time-series/).\n",
    "\n",
    "* [Documentation (stable, for users)]\n",
    "\n",
    "* [Documentation (latest, for contributors)]\n",
    "\n",
    "## Installation\n",
    "\n",
    "### Users\n",
    "\n",
    "`pip install nixtla`\n",
    "\n",
    "### Contributors\n",
    "\n",
    "``\n"
   ]
  },
  {
   "cell_type": "code",
   "execution_count": null,
   "metadata": {},
   "outputs": [],
   "source": [
    "#hide\n",
    "import os\n",
    "import warnings\n",
    "\n",
    "os.environ['CUDA_VISIBLE_DEVICES'] = '' # esrnn fails with device='cpu' having a cuda visible device\n",
    "warnings.filterwarnings('ignore') # compatibility warning in TimeSeriesLoader"
   ]
  },
  {
   "cell_type": "markdown",
   "metadata": {},
   "source": [
    "## Currently available models\n",
    "\n",
    "* [Exponential Smoothing Recurrent Neural Network (ESRNN)](https://www.sciencedirect.com/science/article/pii/S0169207019301153), a hybrid model that combines the expressivity of non linear models to capture the trends while it normalizes using a Holt-Winters inspired model for the levels and seasonals.  This model is the winner of the M4 forecasting competition.\n",
    "\n",
    "<!--- ![ESRNN](/indx_imgs/ESRNN.png) -->\n",
    "\n",
    "* [Neural Basis Expansion Analysis with Exogenous Variables (NBEATSX)](https://arxiv.org/abs/1905.10437) is a model from Element-AI (Yoshua Bengio’s lab) that has proven to achieve state of the art performance on benchmark large scale forecasting datasets like Tourism, M3, and M4. The model is fast to train an has an interpretable configuration.\n",
    "\n",
    "<!--- ![NBEATSX](/indx_imgs/NBEATSX.png) -->"
   ]
  },
  {
   "cell_type": "markdown",
   "metadata": {},
   "source": [
    "## Usage\n",
    "\n",
    "KIN"
   ]
  },
  {
   "cell_type": "code",
   "execution_count": null,
   "metadata": {},
   "outputs": [],
   "source": [
    "# Code"
   ]
  },
  {
   "cell_type": "markdown",
   "metadata": {},
   "source": [
    "<!---\n",
    "\n",
    "## Citing\n",
    "\n",
    "```bibtex\n",
    "@article{,\n",
    "    author = {},\n",
    "    title = {{}},\n",
    "    journal = {},\n",
    "    year = {}\n",
    "}\n",
    "```\n",
    "-->"
   ]
  }
 ],
 "metadata": {
  "kernelspec": {
   "display_name": "Python 3.8.5 64-bit ('base': conda)",
   "metadata": {
    "interpreter": {
     "hash": "3039ee504ad8dab331a36fef7063b37ff7964978c7fdd34bb1fc37f2d45e00c3"
    }
   },
   "name": "python3"
  }
 },
 "nbformat": 4,
 "nbformat_minor": 4
}
