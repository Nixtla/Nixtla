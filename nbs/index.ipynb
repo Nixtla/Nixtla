{
 "cells": [
  {
   "cell_type": "markdown",
   "metadata": {},
   "source": [
    "# Nixtla"
   ]
  },
  {
   "cell_type": "markdown",
   "metadata": {},
   "source": [
    "[nikstla] (noun, nahuatl) Period of time\n",
    "> Machine learning for time series forecasting."
   ]
  },
  {
   "cell_type": "markdown",
   "metadata": {},
   "source": [
    "## Install"
   ]
  },
  {
   "cell_type": "markdown",
   "metadata": {},
   "source": [
    "`pip install nixtla`"
   ]
  },
  {
   "cell_type": "markdown",
   "metadata": {},
   "source": [
    "## How to use"
   ]
  },
  {
   "cell_type": "markdown",
   "metadata": {},
   "source": [
    "Import a dataset and NBEATS model"
   ]
  },
  {
   "cell_type": "code",
   "execution_count": null,
   "metadata": {},
   "outputs": [
    {
     "name": "stdout",
     "output_type": "stream",
     "text": [
      "Processing dataframes ...\n",
      "Creating ts tensor ...\n"
     ]
    }
   ],
   "source": [
    "from nixtla.data.datasets import EPF\n",
    "from nixtla.data.ts_loader import TimeSeriesLoader\n",
    "from nixtla.models import Nbeats\n",
    "\n",
    "pjm = EPF.load(directory='data', group='PJM')"
   ]
  },
  {
   "cell_type": "markdown",
   "metadata": {},
   "source": [
    "Loader parameters"
   ]
  },
  {
   "cell_type": "code",
   "execution_count": null,
   "metadata": {},
   "outputs": [],
   "source": [
    "window_sampling_limit = 365\n",
    "input_size_multiplier = 3\n",
    "output_size = 24 * 4\n",
    "offset = 30 * output_size"
   ]
  },
  {
   "cell_type": "code",
   "execution_count": null,
   "metadata": {},
   "outputs": [
    {
     "name": "stdout",
     "output_type": "stream",
     "text": [
      "Creating windows matrix ...\n"
     ]
    }
   ],
   "source": [
    "ts_loader = TimeSeriesLoader(ts_dataset=pjm,\n",
    "                             offset=offset,\n",
    "                             window_sampling_limit=window_sampling_limit,\n",
    "                             input_size=input_size_multiplier * output_size,\n",
    "                             output_size=output_size,\n",
    "                             idx_to_sample_freq=1,\n",
    "                             batch_size=512,\n",
    "                             model='nbeats')"
   ]
  },
  {
   "cell_type": "code",
   "execution_count": null,
   "metadata": {},
   "outputs": [],
   "source": [
    "model = Nbeats(input_size_multiplier=input_size_multiplier,\n",
    "               output_size=output_size,\n",
    "               shared_weights=False,\n",
    "               stack_types=['identity'],\n",
    "               n_blocks=[1],\n",
    "               n_layers=[4],\n",
    "               n_hidden=[256],\n",
    "               exogenous_in_mlp=False,\n",
    "               learning_rate=0.001,\n",
    "               lr_decay=1.0,\n",
    "               n_lr_decay_steps=3,\n",
    "               n_iterations=10,\n",
    "               early_stopping=None,\n",
    "               loss='MAPE',\n",
    "               random_seed=1)"
   ]
  },
  {
   "cell_type": "code",
   "execution_count": null,
   "metadata": {},
   "outputs": [
    {
     "name": "stdout",
     "output_type": "stream",
     "text": [
      "============================== Start fitting ==============================\n",
      "Number of exogenous variables: 9\n",
      "Number of static variables: 0 , with dim_hidden: 1\n",
      "Number of iterations: 10\n",
      "Number of blocks: 1\n",
      "Step: 0, Time: 0.078, Insample MAPE: 0.39416\n",
      "Step: 2, Time: 0.160, Insample MAPE: 0.37484\n",
      "Step: 4, Time: 0.203, Insample MAPE: 0.37288\n",
      "Step: 6, Time: 0.270, Insample MAPE: 0.34576\n",
      "Step: 8, Time: 0.335, Insample MAPE: 0.29966\n"
     ]
    }
   ],
   "source": [
    "model.fit(ts_loader, eval_steps=2)"
   ]
  },
  {
   "cell_type": "code",
   "execution_count": null,
   "metadata": {},
   "outputs": [],
   "source": [
    "y_hat = model.predict(ts_loader)"
   ]
  },
  {
   "cell_type": "code",
   "execution_count": null,
   "metadata": {},
   "outputs": [
    {
     "data": {
      "text/html": [
       "<div>\n",
       "<style scoped>\n",
       "    .dataframe tbody tr th:only-of-type {\n",
       "        vertical-align: middle;\n",
       "    }\n",
       "\n",
       "    .dataframe tbody tr th {\n",
       "        vertical-align: top;\n",
       "    }\n",
       "\n",
       "    .dataframe thead th {\n",
       "        text-align: right;\n",
       "    }\n",
       "</style>\n",
       "<table border=\"1\" class=\"dataframe\">\n",
       "  <thead>\n",
       "    <tr style=\"text-align: right;\">\n",
       "      <th></th>\n",
       "      <th>unique_id</th>\n",
       "      <th>ds</th>\n",
       "      <th>y_hat</th>\n",
       "    </tr>\n",
       "  </thead>\n",
       "  <tbody>\n",
       "    <tr>\n",
       "      <th>0</th>\n",
       "      <td>PJM</td>\n",
       "      <td>2016-12-27 23:00:00</td>\n",
       "      <td>21.116310</td>\n",
       "    </tr>\n",
       "    <tr>\n",
       "      <th>1</th>\n",
       "      <td>PJM</td>\n",
       "      <td>2016-12-28 23:00:00</td>\n",
       "      <td>18.795292</td>\n",
       "    </tr>\n",
       "    <tr>\n",
       "      <th>2</th>\n",
       "      <td>PJM</td>\n",
       "      <td>2016-12-29 23:00:00</td>\n",
       "      <td>20.518282</td>\n",
       "    </tr>\n",
       "    <tr>\n",
       "      <th>3</th>\n",
       "      <td>PJM</td>\n",
       "      <td>2016-12-30 23:00:00</td>\n",
       "      <td>19.262295</td>\n",
       "    </tr>\n",
       "    <tr>\n",
       "      <th>4</th>\n",
       "      <td>PJM</td>\n",
       "      <td>2016-12-31 23:00:00</td>\n",
       "      <td>16.154509</td>\n",
       "    </tr>\n",
       "    <tr>\n",
       "      <th>...</th>\n",
       "      <td>...</td>\n",
       "      <td>...</td>\n",
       "      <td>...</td>\n",
       "    </tr>\n",
       "    <tr>\n",
       "      <th>91</th>\n",
       "      <td>PJM</td>\n",
       "      <td>2017-03-28 23:00:00</td>\n",
       "      <td>21.821650</td>\n",
       "    </tr>\n",
       "    <tr>\n",
       "      <th>92</th>\n",
       "      <td>PJM</td>\n",
       "      <td>2017-03-29 23:00:00</td>\n",
       "      <td>23.728720</td>\n",
       "    </tr>\n",
       "    <tr>\n",
       "      <th>93</th>\n",
       "      <td>PJM</td>\n",
       "      <td>2017-03-30 23:00:00</td>\n",
       "      <td>23.458321</td>\n",
       "    </tr>\n",
       "    <tr>\n",
       "      <th>94</th>\n",
       "      <td>PJM</td>\n",
       "      <td>2017-03-31 23:00:00</td>\n",
       "      <td>26.678900</td>\n",
       "    </tr>\n",
       "    <tr>\n",
       "      <th>95</th>\n",
       "      <td>PJM</td>\n",
       "      <td>2017-04-01 23:00:00</td>\n",
       "      <td>24.330669</td>\n",
       "    </tr>\n",
       "  </tbody>\n",
       "</table>\n",
       "<p>96 rows × 3 columns</p>\n",
       "</div>"
      ],
      "text/plain": [
       "   unique_id                  ds      y_hat\n",
       "0        PJM 2016-12-27 23:00:00  21.116310\n",
       "1        PJM 2016-12-28 23:00:00  18.795292\n",
       "2        PJM 2016-12-29 23:00:00  20.518282\n",
       "3        PJM 2016-12-30 23:00:00  19.262295\n",
       "4        PJM 2016-12-31 23:00:00  16.154509\n",
       "..       ...                 ...        ...\n",
       "91       PJM 2017-03-28 23:00:00  21.821650\n",
       "92       PJM 2017-03-29 23:00:00  23.728720\n",
       "93       PJM 2017-03-30 23:00:00  23.458321\n",
       "94       PJM 2017-03-31 23:00:00  26.678900\n",
       "95       PJM 2017-04-01 23:00:00  24.330669\n",
       "\n",
       "[96 rows x 3 columns]"
      ]
     },
     "execution_count": null,
     "metadata": {},
     "output_type": "execute_result"
    }
   ],
   "source": [
    "y_hat"
   ]
  },
  {
   "cell_type": "markdown",
   "metadata": {},
   "source": [
    "# ESRNN"
   ]
  },
  {
   "cell_type": "code",
   "execution_count": null,
   "metadata": {},
   "outputs": [],
   "source": [
    "from nixtla.models import ESRNN\n",
    "\n",
    "pjm = EPF.load_groups(directory='data', groups=['NP', 'PJM'], return_tensor=False)\n",
    "pjm_test = EPF.load_groups(directory='data', groups=['NP', 'PJM'], training=False, return_tensor=False)"
   ]
  },
  {
   "cell_type": "code",
   "execution_count": null,
   "metadata": {},
   "outputs": [],
   "source": [
    "esrnn_model = ESRNN(max_epochs=2, input_size=48, \n",
    "                    batch_size=2,\n",
    "                    output_size=724, seasonality=[24])"
   ]
  },
  {
   "cell_type": "code",
   "execution_count": null,
   "metadata": {},
   "outputs": [],
   "source": [
    "X = pjm.Y[['unique_id', 'ds']]\n",
    "X['x'] = 1"
   ]
  },
  {
   "cell_type": "code",
   "execution_count": null,
   "metadata": {},
   "outputs": [
    {
     "name": "stdout",
     "output_type": "stream",
     "text": [
      "Infered frequency: H\n",
      "=============== Training ESRNN  ===============\n",
      "\n",
      "========= Epoch 0 finished =========\n",
      "Training time: 3.2403\n",
      "Training loss (50 prc): 0.27238\n",
      "========= Epoch 1 finished =========\n",
      "Training time: 3.27377\n",
      "Training loss (50 prc): 0.27114\n",
      "Train finished! \n",
      "\n"
     ]
    }
   ],
   "source": [
    "esrnn_model.fit(X, pjm.Y)"
   ]
  },
  {
   "cell_type": "code",
   "execution_count": null,
   "metadata": {},
   "outputs": [
    {
     "data": {
      "text/html": [
       "<div>\n",
       "<style scoped>\n",
       "    .dataframe tbody tr th:only-of-type {\n",
       "        vertical-align: middle;\n",
       "    }\n",
       "\n",
       "    .dataframe tbody tr th {\n",
       "        vertical-align: top;\n",
       "    }\n",
       "\n",
       "    .dataframe thead th {\n",
       "        text-align: right;\n",
       "    }\n",
       "</style>\n",
       "<table border=\"1\" class=\"dataframe\">\n",
       "  <thead>\n",
       "    <tr style=\"text-align: right;\">\n",
       "      <th></th>\n",
       "      <th>unique_id</th>\n",
       "      <th>ds</th>\n",
       "      <th>y</th>\n",
       "      <th>y_hat</th>\n",
       "    </tr>\n",
       "  </thead>\n",
       "  <tbody>\n",
       "    <tr>\n",
       "      <th>0</th>\n",
       "      <td>NP</td>\n",
       "      <td>2016-12-27 00:00:00</td>\n",
       "      <td>24.08</td>\n",
       "      <td>25.923931</td>\n",
       "    </tr>\n",
       "    <tr>\n",
       "      <th>1</th>\n",
       "      <td>NP</td>\n",
       "      <td>2016-12-27 01:00:00</td>\n",
       "      <td>22.52</td>\n",
       "      <td>20.871693</td>\n",
       "    </tr>\n",
       "    <tr>\n",
       "      <th>2</th>\n",
       "      <td>NP</td>\n",
       "      <td>2016-12-27 02:00:00</td>\n",
       "      <td>20.13</td>\n",
       "      <td>20.183880</td>\n",
       "    </tr>\n",
       "    <tr>\n",
       "      <th>3</th>\n",
       "      <td>NP</td>\n",
       "      <td>2016-12-27 03:00:00</td>\n",
       "      <td>19.86</td>\n",
       "      <td>20.858877</td>\n",
       "    </tr>\n",
       "    <tr>\n",
       "      <th>4</th>\n",
       "      <td>NP</td>\n",
       "      <td>2016-12-27 04:00:00</td>\n",
       "      <td>20.09</td>\n",
       "      <td>22.499296</td>\n",
       "    </tr>\n",
       "  </tbody>\n",
       "</table>\n",
       "</div>"
      ],
      "text/plain": [
       "  unique_id                  ds      y      y_hat\n",
       "0        NP 2016-12-27 00:00:00  24.08  25.923931\n",
       "1        NP 2016-12-27 01:00:00  22.52  20.871693\n",
       "2        NP 2016-12-27 02:00:00  20.13  20.183880\n",
       "3        NP 2016-12-27 03:00:00  19.86  20.858877\n",
       "4        NP 2016-12-27 04:00:00  20.09  22.499296"
      ]
     },
     "execution_count": null,
     "metadata": {},
     "output_type": "execute_result"
    }
   ],
   "source": [
    "esrnn_model.predict(pjm_test.Y).head()"
   ]
  },
  {
   "cell_type": "code",
   "execution_count": null,
   "metadata": {},
   "outputs": [],
   "source": []
  }
 ],
 "metadata": {
  "kernelspec": {
   "display_name": "nixtla",
   "language": "python",
   "name": "nixtla"
  }
 },
 "nbformat": 4,
 "nbformat_minor": 4
}
