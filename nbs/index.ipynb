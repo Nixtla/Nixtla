{
 "cells": [
  {
   "cell_type": "markdown",
   "metadata": {},
   "source": [
    "# Nixtla\n",
    "\n",
    "> Machine learning for time series forecasting."
   ]
  },
  {
   "cell_type": "markdown",
   "metadata": {},
   "source": [
    "salu2"
   ]
  },
  {
   "cell_type": "markdown",
   "metadata": {},
   "source": [
    "## Install"
   ]
  },
  {
   "cell_type": "markdown",
   "metadata": {},
   "source": [
    "`pip install nixtla`"
   ]
  },
  {
   "cell_type": "markdown",
   "metadata": {},
   "source": [
    "## How to use"
   ]
  },
  {
   "cell_type": "markdown",
   "metadata": {},
   "source": [
    "Import a dataset."
   ]
  },
  {
   "cell_type": "code",
   "execution_count": null,
   "metadata": {},
   "outputs": [
    {
     "data": {
      "text/html": [
       "<div>\n",
       "<style scoped>\n",
       "    .dataframe tbody tr th:only-of-type {\n",
       "        vertical-align: middle;\n",
       "    }\n",
       "\n",
       "    .dataframe tbody tr th {\n",
       "        vertical-align: top;\n",
       "    }\n",
       "\n",
       "    .dataframe thead th {\n",
       "        text-align: right;\n",
       "    }\n",
       "</style>\n",
       "<table border=\"1\" class=\"dataframe\">\n",
       "  <thead>\n",
       "    <tr style=\"text-align: right;\">\n",
       "      <th></th>\n",
       "      <th>unique_id</th>\n",
       "      <th>ds</th>\n",
       "      <th>y</th>\n",
       "    </tr>\n",
       "  </thead>\n",
       "  <tbody>\n",
       "    <tr>\n",
       "      <th>0</th>\n",
       "      <td>Y1</td>\n",
       "      <td>1979-12-31</td>\n",
       "      <td>25092.2284</td>\n",
       "    </tr>\n",
       "    <tr>\n",
       "      <th>1</th>\n",
       "      <td>Y1</td>\n",
       "      <td>1980-12-31</td>\n",
       "      <td>24271.5134</td>\n",
       "    </tr>\n",
       "    <tr>\n",
       "      <th>2</th>\n",
       "      <td>Y1</td>\n",
       "      <td>1981-12-31</td>\n",
       "      <td>25828.9883</td>\n",
       "    </tr>\n",
       "    <tr>\n",
       "      <th>3</th>\n",
       "      <td>Y1</td>\n",
       "      <td>1982-12-31</td>\n",
       "      <td>27697.5047</td>\n",
       "    </tr>\n",
       "    <tr>\n",
       "      <th>4</th>\n",
       "      <td>Y1</td>\n",
       "      <td>1983-12-31</td>\n",
       "      <td>27956.2276</td>\n",
       "    </tr>\n",
       "  </tbody>\n",
       "</table>\n",
       "</div>"
      ],
      "text/plain": [
       "  unique_id         ds           y\n",
       "0        Y1 1979-12-31  25092.2284\n",
       "1        Y1 1980-12-31  24271.5134\n",
       "2        Y1 1981-12-31  25828.9883\n",
       "3        Y1 1982-12-31  27697.5047\n",
       "4        Y1 1983-12-31  27956.2276"
      ]
     },
     "execution_count": null,
     "metadata": {},
     "output_type": "execute_result"
    }
   ],
   "source": [
    "from nixtla.data.datasets import Tourism\n",
    "from nixtla.data.dataloaders import NBeatsDataLoader, uids_ts_from_df\n",
    "\n",
    "tourism_yearly = Tourism.load(directory='data', group='Yearly')\n",
    "tourism_yearly.Y.head()"
   ]
  },
  {
   "cell_type": "markdown",
   "metadata": {},
   "source": [
    "Split dataframe into sequence of series"
   ]
  },
  {
   "cell_type": "code",
   "execution_count": null,
   "metadata": {},
   "outputs": [
    {
     "data": {
      "text/plain": [
       "(('Y1', 'Y2'),\n",
       " (array([25092.2284, 24271.5134, 25828.9883, 27697.5047, 27956.2276,\n",
       "         29924.4321, 30216.8321, 32613.4968, 36053.1674, 38472.7532,\n",
       "         38420.894 ]),\n",
       "  array([ 887896.51,  887068.98,  971549.04, 1064206.39, 1195560.94,\n",
       "         1351933.55, 1372823.36, 1532533.61, 1587760.62, 1617737.85,\n",
       "         1499631.11])))"
      ]
     },
     "execution_count": null,
     "metadata": {},
     "output_type": "execute_result"
    }
   ],
   "source": [
    "unique_ids, time_series = uids_ts_from_df(tourism_yearly.Y, id_cols='unique_id')\n",
    "unique_ids[:2], time_series[:2]"
   ]
  },
  {
   "cell_type": "markdown",
   "metadata": {},
   "source": [
    "Create a train dataloader"
   ]
  },
  {
   "cell_type": "code",
   "execution_count": null,
   "metadata": {},
   "outputs": [
    {
     "data": {
      "text/plain": [
       "(tensor([[    0.,     0.,     0.,     0.],\n",
       "         [    0.,     0.,     0.,     0.],\n",
       "         [    0.,     0.,     0.,     0.],\n",
       "         [    0.,     0.,     0., 18441.]]), tensor([[0., 0., 0., 0.],\n",
       "         [0., 0., 0., 0.],\n",
       "         [0., 0., 0., 0.],\n",
       "         [0., 0., 0., 1.]]), tensor([[    0.,     0.],\n",
       "         [    0.,     0.],\n",
       "         [    0.,     0.],\n",
       "         [21934., 23739.]]), tensor([[0., 0.],\n",
       "         [0., 0.],\n",
       "         [0., 0.],\n",
       "         [1., 1.]]))"
      ]
     },
     "execution_count": null,
     "metadata": {},
     "output_type": "execute_result"
    }
   ],
   "source": [
    "train_dl = NBeatsDataLoader(time_series, input_size=4, output_size=2, batch_size=4, shuffle=False)\n",
    "next(iter(train_dl))"
   ]
  }
 ],
 "metadata": {
  "kernelspec": {
   "display_name": "Python 3",
   "language": "python",
   "name": "python3"
  }
 },
 "nbformat": 4,
 "nbformat_minor": 4
}
