{
 "cells": [
  {
   "cell_type": "markdown",
   "metadata": {},
   "source": [
    "[![Build](https://github.com/kdgutier/esrnn_torch/workflows/Python%20package/badge.svg?branch=master)](https://github.com/kdgutier/esrnn_torch/tree/master)\n",
    "[![PyPI version fury.io](https://badge.fury.io/py/ESRNN.svg)](https://pypi.python.org/pypi/ESRNN/)\n",
    "[![Downloads](https://pepy.tech/badge/esrnn)](https://pepy.tech/project/esrnn)\n",
    "[![Python 3.7](https://img.shields.io/badge/python-3.7-blue.svg)](https://www.python.org/downloads/release/python-370/)\n",
    "[![License: MIT](https://img.shields.io/badge/License-MIT-green.svg)](https://github.com/kdgutier/esrnn_torch/blob/master/LICENSE)"
   ]
  },
  {
   "cell_type": "markdown",
   "metadata": {},
   "source": [
    "# **Nixtla** - Machine learning for time series forecasting\n",
    "\n",
    ">[nikstla] (noun, nahuatl) Period of time.\n",
    "\n",
    "**Nixtla** is a **forecasting library** for **state of the art** statistical and **machine learning models**, currently hosting the [ESRNN](https://www.sciencedirect.com/science/article/pii/S0169207019301153), and the [NBEATSX](https://arxiv.org/abs/1905.10437) models.\n",
    "\n",
    "Nixtla aims to store tools and models with the capacity to provide **highly accurate forecasts** with **comparable** performance to that of [Amazon Web Services](https://aws.amazon.com/es/forecast/), [Azure](https://docs.microsoft.com/en-us/azure/machine-learning/), or [DataRobot](https://www.datarobot.com/platform/automated-time-series/).\n"
   ]
  },
  {
   "cell_type": "markdown",
   "metadata": {},
   "source": [
    "## Installation\n",
    "\n",
    "### Stable version\n",
    "\n",
    "This code is a work in progress, any contributions or issues are welcome on\n",
    "GitHub at: https://github.com/Nixtla/nixtla\n",
    "\n",
    "You can install the *released version* of `nixtla` from the [Python package index](https://pypi.org) with:\n",
    "\n",
    "```python\n",
    "pip install nixtla\n",
    "```\n",
    "\n",
    "(installing inside a python virtualenvironment or a conda environment is warmly recommended).\n",
    "\n",
    "### Development version\n",
    "\n",
    "You may want to test the current development version; follow the steps below in that case (clone the git repository and install the Python requirements):\n",
    "```bash\n",
    "git clone https://github.com/Nixtla/nixtla.git\n",
    "cd nixtla\n",
    "python setup.py bdist_wheel\n",
    "cd ../\n",
    "pip install nixtla/dist/nixtla-XX.whl\n",
    "```\n",
    "where XX is the latest version downloaded.\n",
    "\n",
    "#### Development version in development mode\n",
    "\n",
    "If you want to make some modifications to the code and see the effects in real time (without reinstalling), follow the steps below:\n",
    "\n",
    "```bash\n",
    "git clone https://github.com/Nixtla/nixtla.git\n",
    "cd nixtla\n",
    "pip install -e .\n",
    "```"
   ]
  },
  {
   "cell_type": "markdown",
   "metadata": {},
   "source": [
    "## Currently available models\n",
    "\n",
    "* [Exponential Smoothing Recurrent Neural Network (ESRNN)](https://www.sciencedirect.com/science/article/pii/S0169207019301153), a hybrid model that combines the expressivity of non linear models to capture the trends while it normalizes using a Holt-Winters inspired model for the levels and seasonals.  This model is the winner of the M4 forecasting competition.\n",
    "\n",
    "<!--- ![ESRNN](/indx_imgs/ESRNN.png) -->\n",
    "\n",
    "* [Neural Basis Expansion Analysis with Exogenous Variables (NBEATSX)](https://arxiv.org/abs/1905.10437) is a model from Element-AI (Yoshua Bengio’s lab) that has proven to achieve state of the art performance on benchmark large scale forecasting datasets like Tourism, M3, and M4. The model is fast to train an has an interpretable configuration.\n",
    "\n",
    "<!--- ![NBEATSX](/indx_imgs/NBEATSX.png) -->"
   ]
  },
  {
   "cell_type": "markdown",
   "metadata": {},
   "source": [
    "## Usage\n",
    "\n",
    "KIN"
   ]
  },
  {
   "cell_type": "code",
   "execution_count": 4,
   "metadata": {},
   "outputs": [],
   "source": [
    "# Code"
   ]
  },
  {
   "cell_type": "markdown",
   "metadata": {},
   "source": [
    "## Authors\n",
    "This repository was developed with joint efforts from AutonLab researchers at Carnegie Mellon University and Abraxas data scientists."
   ]
  },
  {
   "cell_type": "markdown",
   "metadata": {},
   "source": [
    "## License\n",
    "This project is licensed under the MIT License - see the [LICENSE](https://github.com/kdgutier/esrnn_torch/blob/master/LICENSE) file for details."
   ]
  },
  {
   "cell_type": "markdown",
   "metadata": {},
   "source": [
    "## How to cite"
   ]
  },
  {
   "cell_type": "markdown",
   "metadata": {},
   "source": [
    "<!---\n",
    "\n",
    "## Citing\n",
    "\n",
    "```bibtex\n",
    "@article{,\n",
    "    author = {},\n",
    "    title = {{}},\n",
    "    journal = {},\n",
    "    year = {}\n",
    "}\n",
    "```\n",
    "-->"
   ]
  }
 ],
 "metadata": {
  "kernelspec": {
   "display_name": "Python 3",
   "language": "python",
   "name": "python3"
  },
  "language_info": {
   "codemirror_mode": {
    "name": "ipython",
    "version": 3
   },
   "file_extension": ".py",
   "mimetype": "text/x-python",
   "name": "python",
   "nbconvert_exporter": "python",
   "pygments_lexer": "ipython3",
   "version": "3.7.3"
  }
 },
 "nbformat": 4,
 "nbformat_minor": 4
}
