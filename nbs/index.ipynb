{
 "cells": [
  {
   "cell_type": "markdown",
   "metadata": {},
   "source": [
    "# Nixtla"
   ]
  },
  {
   "cell_type": "markdown",
   "metadata": {},
   "source": [
    "[nikstla] (noun, nahuatl) Period of time\n",
    "> Machine learning for time series forecasting."
   ]
  },
  {
   "cell_type": "markdown",
   "metadata": {},
   "source": [
    "## Install"
   ]
  },
  {
   "cell_type": "markdown",
   "metadata": {},
   "source": [
    "`pip install nixtla`"
   ]
  },
  {
   "cell_type": "markdown",
   "metadata": {},
   "source": [
    "## How to use"
   ]
  },
  {
   "cell_type": "markdown",
   "metadata": {},
   "source": [
    "Import a dataset and NBEATS model"
   ]
  },
  {
   "cell_type": "code",
   "execution_count": null,
   "metadata": {},
   "outputs": [
    {
     "name": "stdout",
     "output_type": "stream",
     "text": [
      "Processing dataframes ...\n",
      "Creating ts tensor ...\n"
     ]
    }
   ],
   "source": [
    "from nixtla.data.datasets import EPF\n",
    "from nixtla.data.ts_loader import TimeSeriesLoader\n",
    "from nixtla.models.nbeats import Nbeats\n",
    "\n",
    "pjm = EPF.load(directory='data', group='PJM')"
   ]
  },
  {
   "cell_type": "markdown",
   "metadata": {},
   "source": [
    "Loader parameters"
   ]
  },
  {
   "cell_type": "code",
   "execution_count": null,
   "metadata": {},
   "outputs": [],
   "source": [
    "window_sampling_limit = 365\n",
    "input_size_multiplier = 3\n",
    "output_size = 24 * 4\n",
    "offset = 30 * output_size"
   ]
  },
  {
   "cell_type": "code",
   "execution_count": null,
   "metadata": {},
   "outputs": [
    {
     "name": "stdout",
     "output_type": "stream",
     "text": [
      "Creating windows matrix ...\n"
     ]
    }
   ],
   "source": [
    "ts_loader = TimeSeriesLoader(ts_dataset=pjm,\n",
    "                             offset=offset,\n",
    "                             window_sampling_limit=window_sampling_limit,\n",
    "                             input_size=input_size_multiplier * output_size,\n",
    "                             output_size=output_size,\n",
    "                             idx_to_sample_freq=1,\n",
    "                             batch_size=512,\n",
    "                             model='nbeats')"
   ]
  },
  {
   "cell_type": "code",
   "execution_count": null,
   "metadata": {},
   "outputs": [],
   "source": [
    "model = Nbeats(input_size_multiplier=input_size_multiplier,\n",
    "               output_size=output_size,\n",
    "               shared_weights=False,\n",
    "               stack_types=['identity'],\n",
    "               n_blocks=[1],\n",
    "               n_layers=[4],\n",
    "               n_hidden=[256],\n",
    "               exogenous_in_mlp=False,\n",
    "               learning_rate=0.001,\n",
    "               lr_decay=1.0,\n",
    "               n_lr_decay_steps=3,\n",
    "               n_iterations=10,\n",
    "               early_stopping=None,\n",
    "               loss='MAPE',\n",
    "               random_seed=1)"
   ]
  },
  {
   "cell_type": "code",
   "execution_count": null,
   "metadata": {},
   "outputs": [
    {
     "name": "stdout",
     "output_type": "stream",
     "text": [
      "============================== Start fitting ==============================\n",
      "Number of exogenous variables: 9\n",
      "Number of static variables: 0 , with dim_hidden: 1\n",
      "Number of iterations: 10\n",
      "Number of blocks: 1\n"
     ]
    }
   ],
   "source": [
    "model.fit(ts_loader, eval_steps=2)"
   ]
  },
  {
   "cell_type": "code",
   "execution_count": null,
   "metadata": {},
   "outputs": [],
   "source": []
  }
 ],
 "metadata": {
  "kernelspec": {
   "display_name": "nixtla",
   "language": "python",
   "name": "nixtla"
  }
 },
 "nbformat": 4,
 "nbformat_minor": 4
}
