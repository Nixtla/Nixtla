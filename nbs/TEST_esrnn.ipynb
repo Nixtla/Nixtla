{
 "metadata": {
  "language_info": {
   "codemirror_mode": {
    "name": "ipython",
    "version": 3
   },
   "file_extension": ".py",
   "mimetype": "text/x-python",
   "name": "python",
   "nbconvert_exporter": "python",
   "pygments_lexer": "ipython3",
   "version": "3.7.8-final"
  },
  "orig_nbformat": 2,
  "kernelspec": {
   "name": "python3",
   "display_name": "Python 3.7.8 64-bit ('nixtla': conda)",
   "metadata": {
    "interpreter": {
     "hash": "52b0028e7074a0058398558ea661882eddbb489e66a28504cc0449d2f54d6290"
    }
   }
  }
 },
 "nbformat": 4,
 "nbformat_minor": 2,
 "cells": [
  {
   "cell_type": "code",
   "execution_count": 1,
   "metadata": {},
   "outputs": [],
   "source": [
    "import time\n",
    "import numpy as np\n",
    "import pandas as pd\n",
    "import random\n",
    "import torch as t\n",
    "import copy\n",
    "from fastcore.foundation import patch\n",
    "import matplotlib.pyplot as plt\n",
    "\n",
    "from nixtla.data.tsdataset import TimeSeriesDataset\n",
    "from nixtla.data.tsloader_general import TimeSeriesLoader\n",
    "\n",
    "from nixtla.models.esrnn.esrnn import ESRNN"
   ]
  },
  {
   "cell_type": "code",
   "execution_count": 2,
   "metadata": {},
   "outputs": [
    {
     "output_type": "stream",
     "name": "stdout",
     "text": [
      "Train Validation splits\n                              ds                    \n                             min                 max\nunique_id sample_mask                               \nNP        0.0         2013-12-31 2013-12-31 23:00:00\n          1.0         2013-01-01 2013-12-30 23:00:00\nTotal data \t\t\t8760 time stamps\nAvailable percentage=100.0, \t8760 time stamps\nTrain percentage=99.73, \t8736.0 time stamps\nOutsample percentage=0.27, \t24.0 time stamps\n\n\nTrain Validation splits\n                              ds                    \n                             min                 max\nunique_id sample_mask                               \nNP        1.0         2013-01-01 2013-12-31 23:00:00\nTotal data \t\t\t8760 time stamps\nAvailable percentage=100.0, \t8760 time stamps\nTrain percentage=100.0, \t8760.0 time stamps\nOutsample percentage=0.0, \t0.0 time stamps\n\n\n"
     ]
    }
   ],
   "source": [
    "from nixtla.data.datasets.epf import EPF, EPFInfo\n",
    "Y_df, X_df = EPF.load(directory='data', group=EPFInfo.groups[0])\n",
    "Y_df = Y_df.head(365*24)\n",
    "X_df = X_df.head(365*24)\n",
    "epf_dataset = TimeSeriesDataset(Y_df=Y_df, S_df=None, X_df=X_df, ts_in_test=24)\n",
    "epf_dataset_full = TimeSeriesDataset(Y_df=Y_df, S_df=None, X_df=X_df, ts_in_test=0)"
   ]
  },
  {
   "cell_type": "code",
   "execution_count": 3,
   "metadata": {},
   "outputs": [],
   "source": [
    "train_loader = TimeSeriesLoader(ts_dataset=epf_dataset,\n",
    "                                model='esrnn',\n",
    "                                offset=0,\n",
    "                                window_sampling_limit= 24*30,\n",
    "                                input_size=3*24,\n",
    "                                output_size=24,\n",
    "                                idx_to_sample_freq=1,\n",
    "                                complete_inputs=True,\n",
    "                                complete_sample=False,\n",
    "                                batch_size=1,\n",
    "                                shuffle=True)\n",
    "test_loader = TimeSeriesLoader(ts_dataset=epf_dataset_full,\n",
    "                                model='esrnn',\n",
    "                                offset=0,\n",
    "                                window_sampling_limit= 24*30,\n",
    "                                input_size=3*24,\n",
    "                                output_size=24,\n",
    "                                idx_to_sample_freq=1,\n",
    "                                complete_inputs=True,\n",
    "                                complete_sample=False,\n",
    "                                batch_size=1,\n",
    "                                shuffle=True)"
   ]
  },
  {
   "cell_type": "code",
   "execution_count": 4,
   "metadata": {},
   "outputs": [],
   "source": [
    "esrnn = ESRNN(input_size=3*24,\n",
    "              output_size=24,\n",
    "              max_epochs=5,\n",
    "              freq_of_test=-1,\n",
    "              learning_rate=1e-3,\n",
    "              lr_scheduler_step_size=9,\n",
    "              lr_decay=0.9,\n",
    "              per_series_lr_multip=1.0,\n",
    "              gradient_eps=1e-8,\n",
    "              gradient_clipping_threshold=20,\n",
    "              rnn_weight_decay=0,\n",
    "              noise_std=0.001,\n",
    "              level_variability_penalty=200,\n",
    "              testing_percentile=50,\n",
    "              training_percentile=50,\n",
    "              cell_type='LSTM',\n",
    "              state_hsize=40,\n",
    "              dilations=[[1, 2], [4, 8]],\n",
    "              add_nl_layer=False,\n",
    "              seasonality=[24],\n",
    "              random_seed=1,\n",
    "              device='cpu')"
   ]
  },
  {
   "cell_type": "code",
   "execution_count": 5,
   "metadata": {
    "tags": []
   },
   "outputs": [
    {
     "output_type": "stream",
     "name": "stdout",
     "text": [
      "Infered frequency: H\n",
      "=============== Training ESRNN  ===============\n",
      "\n",
      "Epoch: 0, Time: 0.729, Insample loss: 0.12862\n",
      "Epoch: 1, Time: 1.482, Insample loss: 0.12497\n",
      "Epoch: 2, Time: 2.264, Insample loss: 0.12164\n",
      "Epoch: 3, Time: 3.035, Insample loss: 0.11861\n",
      "Epoch: 4, Time: 3.788, Insample loss: 0.11583\n"
     ]
    }
   ],
   "source": [
    "esrnn.fit(train_ts_loader=train_loader, eval_epochs=1)"
   ]
  },
  {
   "cell_type": "code",
   "execution_count": 6,
   "metadata": {
    "tags": []
   },
   "outputs": [],
   "source": [
    "y_true, y_hat, y_mask = esrnn.predict(ts_loader=test_loader, eval_mode=True)"
   ]
  },
  {
   "cell_type": "code",
   "execution_count": 7,
   "metadata": {},
   "outputs": [
    {
     "output_type": "execute_result",
     "data": {
      "text/plain": [
       "[<matplotlib.lines.Line2D at 0x7ff730e2b350>]"
      ]
     },
     "metadata": {},
     "execution_count": 7
    },
    {
     "output_type": "display_data",
     "data": {
      "text/plain": "<Figure size 432x288 with 1 Axes>",
      "image/svg+xml": "<?xml version=\"1.0\" encoding=\"utf-8\" standalone=\"no\"?>\n<!DOCTYPE svg PUBLIC \"-//W3C//DTD SVG 1.1//EN\"\n  \"http://www.w3.org/Graphics/SVG/1.1/DTD/svg11.dtd\">\n<!-- Created with matplotlib (https://matplotlib.org/) -->\n<svg height=\"248.518125pt\" version=\"1.1\" viewBox=\"0 0 377.59231 248.518125\" width=\"377.59231pt\" xmlns=\"http://www.w3.org/2000/svg\" xmlns:xlink=\"http://www.w3.org/1999/xlink\">\n <metadata>\n  <rdf:RDF xmlns:cc=\"http://creativecommons.org/ns#\" xmlns:dc=\"http://purl.org/dc/elements/1.1/\" xmlns:rdf=\"http://www.w3.org/1999/02/22-rdf-syntax-ns#\">\n   <cc:Work>\n    <dc:type rdf:resource=\"http://purl.org/dc/dcmitype/StillImage\"/>\n    <dc:date>2021-01-31T14:44:15.331487</dc:date>\n    <dc:format>image/svg+xml</dc:format>\n    <dc:creator>\n     <cc:Agent>\n      <dc:title>Matplotlib v3.3.1, https://matplotlib.org/</dc:title>\n     </cc:Agent>\n    </dc:creator>\n   </cc:Work>\n  </rdf:RDF>\n </metadata>\n <defs>\n  <style type=\"text/css\">*{stroke-linecap:butt;stroke-linejoin:round;}</style>\n </defs>\n <g id=\"figure_1\">\n  <g id=\"patch_1\">\n   <path d=\"M -0 248.518125 \nL 377.59231 248.518125 \nL 377.59231 0 \nL -0 0 \nz\n\" style=\"fill:none;\"/>\n  </g>\n  <g id=\"axes_1\">\n   <g id=\"patch_2\">\n    <path d=\"M 26.925 224.64 \nL 361.725 224.64 \nL 361.725 7.2 \nL 26.925 7.2 \nz\n\" style=\"fill:#ffffff;\"/>\n   </g>\n   <g id=\"matplotlib.axis_1\">\n    <g id=\"xtick_1\">\n     <g id=\"line2d_1\">\n      <defs>\n       <path d=\"M 0 0 \nL 0 3.5 \n\" id=\"m64990789e4\" style=\"stroke:#000000;stroke-width:0.8;\"/>\n      </defs>\n      <g>\n       <use style=\"stroke:#000000;stroke-width:0.8;\" x=\"42.143182\" xlink:href=\"#m64990789e4\" y=\"224.64\"/>\n      </g>\n     </g>\n     <g id=\"text_1\">\n      <!-- 0 -->\n      <g transform=\"translate(38.961932 239.238437)scale(0.1 -0.1)\">\n       <defs>\n        <path d=\"M 31.78125 66.40625 \nQ 24.171875 66.40625 20.328125 58.90625 \nQ 16.5 51.421875 16.5 36.375 \nQ 16.5 21.390625 20.328125 13.890625 \nQ 24.171875 6.390625 31.78125 6.390625 \nQ 39.453125 6.390625 43.28125 13.890625 \nQ 47.125 21.390625 47.125 36.375 \nQ 47.125 51.421875 43.28125 58.90625 \nQ 39.453125 66.40625 31.78125 66.40625 \nz\nM 31.78125 74.21875 \nQ 44.046875 74.21875 50.515625 64.515625 \nQ 56.984375 54.828125 56.984375 36.375 \nQ 56.984375 17.96875 50.515625 8.265625 \nQ 44.046875 -1.421875 31.78125 -1.421875 \nQ 19.53125 -1.421875 13.0625 8.265625 \nQ 6.59375 17.96875 6.59375 36.375 \nQ 6.59375 54.828125 13.0625 64.515625 \nQ 19.53125 74.21875 31.78125 74.21875 \nz\n\" id=\"DejaVuSans-48\"/>\n       </defs>\n       <use xlink:href=\"#DejaVuSans-48\"/>\n      </g>\n     </g>\n    </g>\n    <g id=\"xtick_2\">\n     <g id=\"line2d_2\">\n      <g>\n       <use style=\"stroke:#000000;stroke-width:0.8;\" x=\"81.981354\" xlink:href=\"#m64990789e4\" y=\"224.64\"/>\n      </g>\n     </g>\n     <g id=\"text_2\">\n      <!-- 25 -->\n      <g transform=\"translate(75.618854 239.238437)scale(0.1 -0.1)\">\n       <defs>\n        <path d=\"M 19.1875 8.296875 \nL 53.609375 8.296875 \nL 53.609375 0 \nL 7.328125 0 \nL 7.328125 8.296875 \nQ 12.9375 14.109375 22.625 23.890625 \nQ 32.328125 33.6875 34.8125 36.53125 \nQ 39.546875 41.84375 41.421875 45.53125 \nQ 43.3125 49.21875 43.3125 52.78125 \nQ 43.3125 58.59375 39.234375 62.25 \nQ 35.15625 65.921875 28.609375 65.921875 \nQ 23.96875 65.921875 18.8125 64.3125 \nQ 13.671875 62.703125 7.8125 59.421875 \nL 7.8125 69.390625 \nQ 13.765625 71.78125 18.9375 73 \nQ 24.125 74.21875 28.421875 74.21875 \nQ 39.75 74.21875 46.484375 68.546875 \nQ 53.21875 62.890625 53.21875 53.421875 \nQ 53.21875 48.921875 51.53125 44.890625 \nQ 49.859375 40.875 45.40625 35.40625 \nQ 44.1875 33.984375 37.640625 27.21875 \nQ 31.109375 20.453125 19.1875 8.296875 \nz\n\" id=\"DejaVuSans-50\"/>\n        <path d=\"M 10.796875 72.90625 \nL 49.515625 72.90625 \nL 49.515625 64.59375 \nL 19.828125 64.59375 \nL 19.828125 46.734375 \nQ 21.96875 47.46875 24.109375 47.828125 \nQ 26.265625 48.1875 28.421875 48.1875 \nQ 40.625 48.1875 47.75 41.5 \nQ 54.890625 34.8125 54.890625 23.390625 \nQ 54.890625 11.625 47.5625 5.09375 \nQ 40.234375 -1.421875 26.90625 -1.421875 \nQ 22.3125 -1.421875 17.546875 -0.640625 \nQ 12.796875 0.140625 7.71875 1.703125 \nL 7.71875 11.625 \nQ 12.109375 9.234375 16.796875 8.0625 \nQ 21.484375 6.890625 26.703125 6.890625 \nQ 35.15625 6.890625 40.078125 11.328125 \nQ 45.015625 15.765625 45.015625 23.390625 \nQ 45.015625 31 40.078125 35.4375 \nQ 35.15625 39.890625 26.703125 39.890625 \nQ 22.75 39.890625 18.8125 39.015625 \nQ 14.890625 38.140625 10.796875 36.28125 \nz\n\" id=\"DejaVuSans-53\"/>\n       </defs>\n       <use xlink:href=\"#DejaVuSans-50\"/>\n       <use x=\"63.623047\" xlink:href=\"#DejaVuSans-53\"/>\n      </g>\n     </g>\n    </g>\n    <g id=\"xtick_3\">\n     <g id=\"line2d_3\">\n      <g>\n       <use style=\"stroke:#000000;stroke-width:0.8;\" x=\"121.819526\" xlink:href=\"#m64990789e4\" y=\"224.64\"/>\n      </g>\n     </g>\n     <g id=\"text_3\">\n      <!-- 50 -->\n      <g transform=\"translate(115.457026 239.238437)scale(0.1 -0.1)\">\n       <use xlink:href=\"#DejaVuSans-53\"/>\n       <use x=\"63.623047\" xlink:href=\"#DejaVuSans-48\"/>\n      </g>\n     </g>\n    </g>\n    <g id=\"xtick_4\">\n     <g id=\"line2d_4\">\n      <g>\n       <use style=\"stroke:#000000;stroke-width:0.8;\" x=\"161.657699\" xlink:href=\"#m64990789e4\" y=\"224.64\"/>\n      </g>\n     </g>\n     <g id=\"text_4\">\n      <!-- 75 -->\n      <g transform=\"translate(155.295199 239.238437)scale(0.1 -0.1)\">\n       <defs>\n        <path d=\"M 8.203125 72.90625 \nL 55.078125 72.90625 \nL 55.078125 68.703125 \nL 28.609375 0 \nL 18.3125 0 \nL 43.21875 64.59375 \nL 8.203125 64.59375 \nz\n\" id=\"DejaVuSans-55\"/>\n       </defs>\n       <use xlink:href=\"#DejaVuSans-55\"/>\n       <use x=\"63.623047\" xlink:href=\"#DejaVuSans-53\"/>\n      </g>\n     </g>\n    </g>\n    <g id=\"xtick_5\">\n     <g id=\"line2d_5\">\n      <g>\n       <use style=\"stroke:#000000;stroke-width:0.8;\" x=\"201.495871\" xlink:href=\"#m64990789e4\" y=\"224.64\"/>\n      </g>\n     </g>\n     <g id=\"text_5\">\n      <!-- 100 -->\n      <g transform=\"translate(191.952121 239.238437)scale(0.1 -0.1)\">\n       <defs>\n        <path d=\"M 12.40625 8.296875 \nL 28.515625 8.296875 \nL 28.515625 63.921875 \nL 10.984375 60.40625 \nL 10.984375 69.390625 \nL 28.421875 72.90625 \nL 38.28125 72.90625 \nL 38.28125 8.296875 \nL 54.390625 8.296875 \nL 54.390625 0 \nL 12.40625 0 \nz\n\" id=\"DejaVuSans-49\"/>\n       </defs>\n       <use xlink:href=\"#DejaVuSans-49\"/>\n       <use x=\"63.623047\" xlink:href=\"#DejaVuSans-48\"/>\n       <use x=\"127.246094\" xlink:href=\"#DejaVuSans-48\"/>\n      </g>\n     </g>\n    </g>\n    <g id=\"xtick_6\">\n     <g id=\"line2d_6\">\n      <g>\n       <use style=\"stroke:#000000;stroke-width:0.8;\" x=\"241.334043\" xlink:href=\"#m64990789e4\" y=\"224.64\"/>\n      </g>\n     </g>\n     <g id=\"text_6\">\n      <!-- 125 -->\n      <g transform=\"translate(231.790293 239.238437)scale(0.1 -0.1)\">\n       <use xlink:href=\"#DejaVuSans-49\"/>\n       <use x=\"63.623047\" xlink:href=\"#DejaVuSans-50\"/>\n       <use x=\"127.246094\" xlink:href=\"#DejaVuSans-53\"/>\n      </g>\n     </g>\n    </g>\n    <g id=\"xtick_7\">\n     <g id=\"line2d_7\">\n      <g>\n       <use style=\"stroke:#000000;stroke-width:0.8;\" x=\"281.172216\" xlink:href=\"#m64990789e4\" y=\"224.64\"/>\n      </g>\n     </g>\n     <g id=\"text_7\">\n      <!-- 150 -->\n      <g transform=\"translate(271.628466 239.238437)scale(0.1 -0.1)\">\n       <use xlink:href=\"#DejaVuSans-49\"/>\n       <use x=\"63.623047\" xlink:href=\"#DejaVuSans-53\"/>\n       <use x=\"127.246094\" xlink:href=\"#DejaVuSans-48\"/>\n      </g>\n     </g>\n    </g>\n    <g id=\"xtick_8\">\n     <g id=\"line2d_8\">\n      <g>\n       <use style=\"stroke:#000000;stroke-width:0.8;\" x=\"321.010388\" xlink:href=\"#m64990789e4\" y=\"224.64\"/>\n      </g>\n     </g>\n     <g id=\"text_8\">\n      <!-- 175 -->\n      <g transform=\"translate(311.466638 239.238437)scale(0.1 -0.1)\">\n       <use xlink:href=\"#DejaVuSans-49\"/>\n       <use x=\"63.623047\" xlink:href=\"#DejaVuSans-55\"/>\n       <use x=\"127.246094\" xlink:href=\"#DejaVuSans-53\"/>\n      </g>\n     </g>\n    </g>\n    <g id=\"xtick_9\">\n     <g id=\"line2d_9\">\n      <g>\n       <use style=\"stroke:#000000;stroke-width:0.8;\" x=\"360.84856\" xlink:href=\"#m64990789e4\" y=\"224.64\"/>\n      </g>\n     </g>\n     <g id=\"text_9\">\n      <!-- 200 -->\n      <g transform=\"translate(351.30481 239.238437)scale(0.1 -0.1)\">\n       <use xlink:href=\"#DejaVuSans-50\"/>\n       <use x=\"63.623047\" xlink:href=\"#DejaVuSans-48\"/>\n       <use x=\"127.246094\" xlink:href=\"#DejaVuSans-48\"/>\n      </g>\n     </g>\n    </g>\n   </g>\n   <g id=\"matplotlib.axis_2\">\n    <g id=\"ytick_1\">\n     <g id=\"line2d_10\">\n      <defs>\n       <path d=\"M 0 0 \nL -3.5 0 \n\" id=\"m3e42a6fdaa\" style=\"stroke:#000000;stroke-width:0.8;\"/>\n      </defs>\n      <g>\n       <use style=\"stroke:#000000;stroke-width:0.8;\" x=\"26.925\" xlink:href=\"#m3e42a6fdaa\" y=\"207.184288\"/>\n      </g>\n     </g>\n     <g id=\"text_10\">\n      <!-- 22 -->\n      <g transform=\"translate(7.2 210.983506)scale(0.1 -0.1)\">\n       <use xlink:href=\"#DejaVuSans-50\"/>\n       <use x=\"63.623047\" xlink:href=\"#DejaVuSans-50\"/>\n      </g>\n     </g>\n    </g>\n    <g id=\"ytick_2\">\n     <g id=\"line2d_11\">\n      <g>\n       <use style=\"stroke:#000000;stroke-width:0.8;\" x=\"26.925\" xlink:href=\"#m3e42a6fdaa\" y=\"178.369877\"/>\n      </g>\n     </g>\n     <g id=\"text_11\">\n      <!-- 24 -->\n      <g transform=\"translate(7.2 182.169096)scale(0.1 -0.1)\">\n       <defs>\n        <path d=\"M 37.796875 64.3125 \nL 12.890625 25.390625 \nL 37.796875 25.390625 \nz\nM 35.203125 72.90625 \nL 47.609375 72.90625 \nL 47.609375 25.390625 \nL 58.015625 25.390625 \nL 58.015625 17.1875 \nL 47.609375 17.1875 \nL 47.609375 0 \nL 37.796875 0 \nL 37.796875 17.1875 \nL 4.890625 17.1875 \nL 4.890625 26.703125 \nz\n\" id=\"DejaVuSans-52\"/>\n       </defs>\n       <use xlink:href=\"#DejaVuSans-50\"/>\n       <use x=\"63.623047\" xlink:href=\"#DejaVuSans-52\"/>\n      </g>\n     </g>\n    </g>\n    <g id=\"ytick_3\">\n     <g id=\"line2d_12\">\n      <g>\n       <use style=\"stroke:#000000;stroke-width:0.8;\" x=\"26.925\" xlink:href=\"#m3e42a6fdaa\" y=\"149.555466\"/>\n      </g>\n     </g>\n     <g id=\"text_12\">\n      <!-- 26 -->\n      <g transform=\"translate(7.2 153.354685)scale(0.1 -0.1)\">\n       <defs>\n        <path d=\"M 33.015625 40.375 \nQ 26.375 40.375 22.484375 35.828125 \nQ 18.609375 31.296875 18.609375 23.390625 \nQ 18.609375 15.53125 22.484375 10.953125 \nQ 26.375 6.390625 33.015625 6.390625 \nQ 39.65625 6.390625 43.53125 10.953125 \nQ 47.40625 15.53125 47.40625 23.390625 \nQ 47.40625 31.296875 43.53125 35.828125 \nQ 39.65625 40.375 33.015625 40.375 \nz\nM 52.59375 71.296875 \nL 52.59375 62.3125 \nQ 48.875 64.0625 45.09375 64.984375 \nQ 41.3125 65.921875 37.59375 65.921875 \nQ 27.828125 65.921875 22.671875 59.328125 \nQ 17.53125 52.734375 16.796875 39.40625 \nQ 19.671875 43.65625 24.015625 45.921875 \nQ 28.375 48.1875 33.59375 48.1875 \nQ 44.578125 48.1875 50.953125 41.515625 \nQ 57.328125 34.859375 57.328125 23.390625 \nQ 57.328125 12.15625 50.6875 5.359375 \nQ 44.046875 -1.421875 33.015625 -1.421875 \nQ 20.359375 -1.421875 13.671875 8.265625 \nQ 6.984375 17.96875 6.984375 36.375 \nQ 6.984375 53.65625 15.1875 63.9375 \nQ 23.390625 74.21875 37.203125 74.21875 \nQ 40.921875 74.21875 44.703125 73.484375 \nQ 48.484375 72.75 52.59375 71.296875 \nz\n\" id=\"DejaVuSans-54\"/>\n       </defs>\n       <use xlink:href=\"#DejaVuSans-50\"/>\n       <use x=\"63.623047\" xlink:href=\"#DejaVuSans-54\"/>\n      </g>\n     </g>\n    </g>\n    <g id=\"ytick_4\">\n     <g id=\"line2d_13\">\n      <g>\n       <use style=\"stroke:#000000;stroke-width:0.8;\" x=\"26.925\" xlink:href=\"#m3e42a6fdaa\" y=\"120.741056\"/>\n      </g>\n     </g>\n     <g id=\"text_13\">\n      <!-- 28 -->\n      <g transform=\"translate(7.2 124.540275)scale(0.1 -0.1)\">\n       <defs>\n        <path d=\"M 31.78125 34.625 \nQ 24.75 34.625 20.71875 30.859375 \nQ 16.703125 27.09375 16.703125 20.515625 \nQ 16.703125 13.921875 20.71875 10.15625 \nQ 24.75 6.390625 31.78125 6.390625 \nQ 38.8125 6.390625 42.859375 10.171875 \nQ 46.921875 13.96875 46.921875 20.515625 \nQ 46.921875 27.09375 42.890625 30.859375 \nQ 38.875 34.625 31.78125 34.625 \nz\nM 21.921875 38.8125 \nQ 15.578125 40.375 12.03125 44.71875 \nQ 8.5 49.078125 8.5 55.328125 \nQ 8.5 64.0625 14.71875 69.140625 \nQ 20.953125 74.21875 31.78125 74.21875 \nQ 42.671875 74.21875 48.875 69.140625 \nQ 55.078125 64.0625 55.078125 55.328125 \nQ 55.078125 49.078125 51.53125 44.71875 \nQ 48 40.375 41.703125 38.8125 \nQ 48.828125 37.15625 52.796875 32.3125 \nQ 56.78125 27.484375 56.78125 20.515625 \nQ 56.78125 9.90625 50.3125 4.234375 \nQ 43.84375 -1.421875 31.78125 -1.421875 \nQ 19.734375 -1.421875 13.25 4.234375 \nQ 6.78125 9.90625 6.78125 20.515625 \nQ 6.78125 27.484375 10.78125 32.3125 \nQ 14.796875 37.15625 21.921875 38.8125 \nz\nM 18.3125 54.390625 \nQ 18.3125 48.734375 21.84375 45.5625 \nQ 25.390625 42.390625 31.78125 42.390625 \nQ 38.140625 42.390625 41.71875 45.5625 \nQ 45.3125 48.734375 45.3125 54.390625 \nQ 45.3125 60.0625 41.71875 63.234375 \nQ 38.140625 66.40625 31.78125 66.40625 \nQ 25.390625 66.40625 21.84375 63.234375 \nQ 18.3125 60.0625 18.3125 54.390625 \nz\n\" id=\"DejaVuSans-56\"/>\n       </defs>\n       <use xlink:href=\"#DejaVuSans-50\"/>\n       <use x=\"63.623047\" xlink:href=\"#DejaVuSans-56\"/>\n      </g>\n     </g>\n    </g>\n    <g id=\"ytick_5\">\n     <g id=\"line2d_14\">\n      <g>\n       <use style=\"stroke:#000000;stroke-width:0.8;\" x=\"26.925\" xlink:href=\"#m3e42a6fdaa\" y=\"91.926645\"/>\n      </g>\n     </g>\n     <g id=\"text_14\">\n      <!-- 30 -->\n      <g transform=\"translate(7.2 95.725864)scale(0.1 -0.1)\">\n       <defs>\n        <path d=\"M 40.578125 39.3125 \nQ 47.65625 37.796875 51.625 33 \nQ 55.609375 28.21875 55.609375 21.1875 \nQ 55.609375 10.40625 48.1875 4.484375 \nQ 40.765625 -1.421875 27.09375 -1.421875 \nQ 22.515625 -1.421875 17.65625 -0.515625 \nQ 12.796875 0.390625 7.625 2.203125 \nL 7.625 11.71875 \nQ 11.71875 9.328125 16.59375 8.109375 \nQ 21.484375 6.890625 26.8125 6.890625 \nQ 36.078125 6.890625 40.9375 10.546875 \nQ 45.796875 14.203125 45.796875 21.1875 \nQ 45.796875 27.640625 41.28125 31.265625 \nQ 36.765625 34.90625 28.71875 34.90625 \nL 20.21875 34.90625 \nL 20.21875 43.015625 \nL 29.109375 43.015625 \nQ 36.375 43.015625 40.234375 45.921875 \nQ 44.09375 48.828125 44.09375 54.296875 \nQ 44.09375 59.90625 40.109375 62.90625 \nQ 36.140625 65.921875 28.71875 65.921875 \nQ 24.65625 65.921875 20.015625 65.03125 \nQ 15.375 64.15625 9.8125 62.3125 \nL 9.8125 71.09375 \nQ 15.4375 72.65625 20.34375 73.4375 \nQ 25.25 74.21875 29.59375 74.21875 \nQ 40.828125 74.21875 47.359375 69.109375 \nQ 53.90625 64.015625 53.90625 55.328125 \nQ 53.90625 49.265625 50.4375 45.09375 \nQ 46.96875 40.921875 40.578125 39.3125 \nz\n\" id=\"DejaVuSans-51\"/>\n       </defs>\n       <use xlink:href=\"#DejaVuSans-51\"/>\n       <use x=\"63.623047\" xlink:href=\"#DejaVuSans-48\"/>\n      </g>\n     </g>\n    </g>\n    <g id=\"ytick_6\">\n     <g id=\"line2d_15\">\n      <g>\n       <use style=\"stroke:#000000;stroke-width:0.8;\" x=\"26.925\" xlink:href=\"#m3e42a6fdaa\" y=\"63.112235\"/>\n      </g>\n     </g>\n     <g id=\"text_15\">\n      <!-- 32 -->\n      <g transform=\"translate(7.2 66.911453)scale(0.1 -0.1)\">\n       <use xlink:href=\"#DejaVuSans-51\"/>\n       <use x=\"63.623047\" xlink:href=\"#DejaVuSans-50\"/>\n      </g>\n     </g>\n    </g>\n    <g id=\"ytick_7\">\n     <g id=\"line2d_16\">\n      <g>\n       <use style=\"stroke:#000000;stroke-width:0.8;\" x=\"26.925\" xlink:href=\"#m3e42a6fdaa\" y=\"34.297824\"/>\n      </g>\n     </g>\n     <g id=\"text_16\">\n      <!-- 34 -->\n      <g transform=\"translate(7.2 38.097043)scale(0.1 -0.1)\">\n       <use xlink:href=\"#DejaVuSans-51\"/>\n       <use x=\"63.623047\" xlink:href=\"#DejaVuSans-52\"/>\n      </g>\n     </g>\n    </g>\n   </g>\n   <g id=\"line2d_17\">\n    <path clip-path=\"url(#p76db3737a5)\" d=\"M 42.143182 120.164768 \nL 43.736709 155.462421 \nL 45.330236 166.700041 \nL 46.923762 188.022704 \nL 48.517289 176.064724 \nL 50.110816 159.784582 \nL 51.704343 131.258316 \nL 53.29787 118.579975 \nL 54.891397 114.69003 \nL 56.484924 103.308337 \nL 58.078451 100.570968 \nL 59.671978 103.020193 \nL 61.265505 107.198283 \nL 62.859031 112.240805 \nL 64.452558 111.376372 \nL 66.046085 105.325346 \nL 67.639612 103.020193 \nL 69.233139 111.952661 \nL 70.826666 129.385379 \nL 72.420193 136.012693 \nL 74.01372 147.250314 \nL 75.607247 137.16527 \nL 77.200773 135.148261 \nL 78.7943 149.555466 \nL 80.387827 151.428403 \nL 81.981354 162.954167 \nL 83.574881 169.149266 \nL 85.168408 177.073228 \nL 86.761935 165.403392 \nL 88.355462 162.521951 \nL 89.948989 144.657017 \nL 91.542515 136.588982 \nL 93.136042 137.453414 \nL 94.729569 129.961667 \nL 96.323096 103.308337 \nL 97.916623 92.502933 \nL 99.51015 91.926645 \nL 101.103677 98.842104 \nL 102.697204 99.27432 \nL 104.290731 92.93515 \nL 105.884257 82.129746 \nL 107.477784 74.637999 \nL 109.071311 78.383872 \nL 110.664838 81.841602 \nL 112.258365 86.307835 \nL 113.851892 88.324844 \nL 115.445419 93.511438 \nL 118.632473 110.656012 \nL 120.226 152.436907 \nL 121.819526 162.233807 \nL 123.413053 170.445914 \nL 125.00658 164.827104 \nL 126.600107 156.038709 \nL 128.193634 134.139757 \nL 129.787161 120.164768 \nL 131.380688 101.579473 \nL 132.974215 85.443403 \nL 134.567742 79.824593 \nL 136.161268 76.222791 \nL 137.754795 74.926143 \nL 139.348322 76.078719 \nL 140.941849 74.493927 \nL 142.535376 71.468414 \nL 144.128903 63.688523 \nL 145.72243 62.968163 \nL 148.909484 70.459909 \nL 150.50301 72.909134 \nL 152.096537 75.646503 \nL 153.690064 80.689025 \nL 155.283591 87.604484 \nL 156.877118 99.130248 \nL 158.470645 116.274822 \nL 160.064172 128.809091 \nL 161.657699 130.105739 \nL 163.251226 121.74956 \nL 164.844752 109.935652 \nL 166.438279 99.418392 \nL 168.031806 91.782573 \nL 169.625333 79.392377 \nL 171.21886 83.570466 \nL 172.812387 88.180772 \nL 174.405914 86.740051 \nL 175.999441 89.189276 \nL 177.592968 90.629997 \nL 179.186495 90.485925 \nL 180.780021 89.47742 \nL 182.373548 78.96016 \nL 183.967075 70.603981 \nL 185.560602 76.510936 \nL 187.154129 84.434898 \nL 188.747656 101.291329 \nL 190.341183 108.206787 \nL 191.93471 119.156263 \nL 195.121763 151.572475 \nL 196.71529 181.39539 \nL 198.308817 192.63301 \nL 199.902344 212.514953 \nL 201.495871 189.175281 \nL 203.089398 179.666525 \nL 204.682925 149.987683 \nL 206.276452 133.995685 \nL 207.869979 126.936154 \nL 209.463505 109.359364 \nL 211.057032 101.867617 \nL 212.650559 103.884626 \nL 214.244086 101.291329 \nL 215.837613 101.723545 \nL 219.024667 94.231798 \nL 220.618194 78.816088 \nL 222.211721 71.90063 \nL 223.805248 76.366864 \nL 225.398774 84.434898 \nL 226.992301 91.206285 \nL 228.585828 92.214789 \nL 230.179355 99.706536 \nL 231.772882 109.503436 \nL 233.366409 110.944156 \nL 234.959936 145.089233 \nL 236.553463 169.005194 \nL 238.14699 187.158272 \nL 239.740516 183.988687 \nL 241.334043 176.064724 \nL 242.92757 153.013196 \nL 244.521097 144.080728 \nL 246.114624 133.707541 \nL 247.708151 107.918643 \nL 249.301678 95.672519 \nL 250.895205 91.062213 \nL 252.488732 91.350357 \nL 254.082258 92.791078 \nL 255.675785 92.214789 \nL 257.269312 90.197781 \nL 258.862839 76.655008 \nL 260.456366 69.595477 \nL 262.049893 73.053206 \nL 263.64342 77.231296 \nL 265.236947 86.451907 \nL 266.830474 87.748556 \nL 268.424 91.638501 \nL 270.017527 102.299833 \nL 271.611054 122.181776 \nL 273.204581 155.462421 \nL 274.798108 173.759571 \nL 276.391635 168.861121 \nL 277.985162 154.597988 \nL 279.578689 122.902137 \nL 281.172216 108.062715 \nL 282.765743 86.019691 \nL 284.359269 77.951656 \nL 285.952796 73.34135 \nL 287.546323 72.909134 \nL 289.13985 76.366864 \nL 290.733377 78.527944 \nL 292.326904 78.672016 \nL 293.920431 75.646503 \nL 297.107485 67.866612 \nL 298.701011 69.019189 \nL 300.294538 71.612486 \nL 301.888065 78.816088 \nL 303.481592 89.909636 \nL 305.075119 98.842104 \nL 306.668646 103.452409 \nL 308.262173 118.579975 \nL 309.8557 125.639506 \nL 311.449227 146.674025 \nL 313.042753 160.793087 \nL 314.63628 165.835608 \nL 316.229807 155.174276 \nL 317.823334 134.139757 \nL 319.416861 128.088731 \nL 322.603915 91.206285 \nL 324.197442 86.451907 \nL 325.790969 82.850106 \nL 327.384495 80.977169 \nL 328.978022 78.527944 \nL 330.571549 83.714538 \nL 332.165076 85.155259 \nL 333.758603 85.155259 \nL 335.35213 69.883621 \nL 336.945657 65.993676 \nL 340.132711 87.31634 \nL 341.726238 108.206787 \nL 343.319764 119.156263 \nL 344.913291 109.647508 \nL 346.506818 120.020696 \nL 346.506818 120.020696 \n\" style=\"fill:none;stroke:#1f77b4;stroke-linecap:square;stroke-width:1.5;\"/>\n   </g>\n   <g id=\"line2d_18\">\n    <path clip-path=\"url(#p76db3737a5)\" d=\"M 309.8557 207.60761 \nL 311.449227 199.045885 \nL 313.042753 182.298026 \nL 314.63628 214.756364 \nL 316.229807 188.76971 \nL 317.823334 86.073223 \nL 319.416861 45.23458 \nL 321.010388 83.641969 \nL 322.603915 42.249146 \nL 324.197442 59.826998 \nL 325.790969 24.07092 \nL 327.384495 103.74959 \nL 328.978022 20.634106 \nL 330.571549 58.692092 \nL 332.165076 48.069372 \nL 333.758603 71.94238 \nL 335.35213 62.771543 \nL 336.945657 17.083636 \nL 338.539184 54.956355 \nL 340.132711 54.717668 \nL 341.726238 71.064518 \nL 343.319764 101.461092 \nL 344.913291 70.078057 \nL 346.506818 139.165773 \n\" style=\"fill:none;stroke:#ff7f0e;stroke-linecap:square;stroke-width:1.5;\"/>\n   </g>\n   <g id=\"line2d_19\">\n    <path clip-path=\"url(#p76db3737a5)\" d=\"M 309.8557 125.639508 \nL 311.449227 146.674014 \nL 313.042753 160.793096 \nL 314.63628 165.835596 \nL 316.229807 155.174268 \nL 317.823334 134.139761 \nL 319.416861 128.088734 \nL 321.010388 109.35935 \nL 322.603915 91.206296 \nL 324.197442 86.451919 \nL 325.790969 82.850118 \nL 327.384495 80.977166 \nL 328.978022 78.52794 \nL 330.571549 83.714543 \nL 332.165076 85.155269 \nL 333.758603 85.155269 \nL 335.35213 69.883611 \nL 336.945657 65.993687 \nL 338.539184 76.655015 \nL 340.132711 87.316344 \nL 341.726238 108.206775 \nL 343.319764 119.156254 \nL 344.913291 109.647501 \nL 346.506818 120.020707 \n\" style=\"fill:none;stroke:#2ca02c;stroke-linecap:square;stroke-width:1.5;\"/>\n   </g>\n   <g id=\"patch_3\">\n    <path d=\"M 26.925 224.64 \nL 26.925 7.2 \n\" style=\"fill:none;stroke:#000000;stroke-linecap:square;stroke-linejoin:miter;stroke-width:0.8;\"/>\n   </g>\n   <g id=\"patch_4\">\n    <path d=\"M 361.725 224.64 \nL 361.725 7.2 \n\" style=\"fill:none;stroke:#000000;stroke-linecap:square;stroke-linejoin:miter;stroke-width:0.8;\"/>\n   </g>\n   <g id=\"patch_5\">\n    <path d=\"M 26.925 224.64 \nL 361.725 224.64 \n\" style=\"fill:none;stroke:#000000;stroke-linecap:square;stroke-linejoin:miter;stroke-width:0.8;\"/>\n   </g>\n   <g id=\"patch_6\">\n    <path d=\"M 26.925 7.2 \nL 361.725 7.2 \n\" style=\"fill:none;stroke:#000000;stroke-linecap:square;stroke-linejoin:miter;stroke-width:0.8;\"/>\n   </g>\n  </g>\n </g>\n <defs>\n  <clipPath id=\"p76db3737a5\">\n   <rect height=\"217.44\" width=\"334.8\" x=\"26.925\" y=\"7.2\"/>\n  </clipPath>\n </defs>\n</svg>\n",
      "image/png": "[encoded data removed]"
     },
     "metadata": {
      "needs_background": "light"
     }
    }
   ],
   "source": [
    "y_plot = Y_df['y'][-192:]\n",
    "y_hat_plot = y_hat[0,-1,:]\n",
    "plt.plot(range(len(y_plot)), y_plot)\n",
    "plt.plot(range(len(y_plot)-len(y_hat_plot),len(y_plot)), y_hat_plot)\n",
    "plt.plot(range(len(y_plot)-len(y_hat_plot),len(y_plot)), y_true[0,-1,:])"
   ]
  },
  {
   "source": [
    "# WEEKLY M4 WITH RANDOM STATIC"
   ],
   "cell_type": "markdown",
   "metadata": {}
  },
  {
   "cell_type": "code",
   "execution_count": null,
   "metadata": {},
   "outputs": [],
   "source": [
    "from nixtla.data.datasets.m4 import M4, M4Info\n",
    "group = M4Info.groups[3]\n",
    "print(\"M4Info.groups[3]\", group)\n",
    "Y_df = M4.load(directory='data', group=group)\n",
    "\n",
    "S_df = Y_df.copy()\n",
    "S_df = S_df.drop_duplicates(subset='unique_id').reset_index(drop=True)\n",
    "S_df = S_df.drop(columns=['ds','y'])\n",
    "np.random.seed(1)\n",
    "S_df['static1'] = np.random.randint(low=0, high=1000, size=len(S_df))\n",
    "S_df['static2'] = np.random.randint(low=0, high=1000, size=len(S_df))\n",
    "S_df['static3'] = np.random.randint(low=0, high=1000, size=len(S_df))\n",
    "S_df['static4'] = np.random.randint(low=0, high=1000, size=len(S_df))\n",
    "S_df['static5'] = np.random.randint(low=0, high=1000, size=len(S_df))"
   ]
  },
  {
   "cell_type": "code",
   "execution_count": null,
   "metadata": {},
   "outputs": [],
   "source": [
    "tourism_dataset = TimeSeriesDataset(Y_df=Y_df, X_df=None, S_df=S_df, ts_in_test=13)"
   ]
  },
  {
   "cell_type": "code",
   "execution_count": null,
   "metadata": {},
   "outputs": [],
   "source": [
    "train_loader = TimeSeriesLoader(ts_dataset=tourism_dataset,\n",
    "                                model='esrnn',\n",
    "                                offset=0,\n",
    "                                window_sampling_limit=500*4, \n",
    "                                input_size=13,\n",
    "                                output_size=13,\n",
    "                                idx_to_sample_freq=1,\n",
    "                                batch_size= 32,\n",
    "                                n_series_per_batch=32,\n",
    "                                complete_inputs=False,\n",
    "                                complete_sample=False,\n",
    "                                shuffle=False)"
   ]
  },
  {
   "cell_type": "code",
   "execution_count": null,
   "metadata": {},
   "outputs": [],
   "source": [
    "esrnn = ESRNN(input_size=13,\n",
    "              output_size=13,\n",
    "              max_epochs=5,\n",
    "              freq_of_test=-1,\n",
    "              learning_rate=1e-3,\n",
    "              lr_scheduler_step_size=9,\n",
    "              lr_decay=0.9,\n",
    "              per_series_lr_multip=1.0,\n",
    "              gradient_eps=1e-8,\n",
    "              gradient_clipping_threshold=20,\n",
    "              rnn_weight_decay=0,\n",
    "              noise_std=0.001,\n",
    "              level_variability_penalty=200,\n",
    "              testing_percentile=50,\n",
    "              training_percentile=50,\n",
    "              cell_type='LSTM',\n",
    "              state_hsize=40,\n",
    "              dilations=[[1, 2], [4, 8]],\n",
    "              add_nl_layer=False,\n",
    "              seasonality=[],\n",
    "              random_seed=1,\n",
    "              device='cpu')"
   ]
  },
  {
   "cell_type": "code",
   "execution_count": null,
   "metadata": {
    "tags": []
   },
   "outputs": [],
   "source": [
    "esrnn.fit(train_ts_loader=train_loader, eval_epochs=1)"
   ]
  },
  {
   "cell_type": "code",
   "execution_count": null,
   "metadata": {},
   "outputs": [],
   "source": [
    "y_hat = esrnn.predict(ts_loader=train_loader)"
   ]
  },
  {
   "cell_type": "code",
   "execution_count": null,
   "metadata": {},
   "outputs": [],
   "source": [
    "y_plot = Y_df[Y_df['unique_id']=='W100']['y']\n",
    "y_hat_plot = y_hat[y_hat['unique_id']=='W100']['y_hat']\n",
    "plt.plot(range(len(y_plot)), y_plot)\n",
    "plt.plot(range(len(y_plot), len(y_plot)+len(y_hat_plot)), y_hat_plot)"
   ]
  },
  {
   "cell_type": "code",
   "execution_count": null,
   "metadata": {},
   "outputs": [],
   "source": [
    "y_test = Y_df.groupby('unique_id').tail(13).reset_index(drop=True)\n",
    "np.mean(np.abs(y_test['y']-y_hat['y_hat'])/np.abs(y_test['y']))"
   ]
  },
  {
   "cell_type": "code",
   "execution_count": null,
   "metadata": {},
   "outputs": [],
   "source": []
  },
  {
   "cell_type": "code",
   "execution_count": null,
   "metadata": {},
   "outputs": [],
   "source": []
  }
 ]
}