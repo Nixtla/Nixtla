{
 "cells": [
  {
   "cell_type": "code",
   "execution_count": 1,
   "metadata": {},
   "outputs": [],
   "source": [
    "#default_exp data.datasets.business"
   ]
  },
  {
   "cell_type": "markdown",
   "metadata": {},
   "source": [
    "# Business G dataset\n",
    "\n",
    "> API details."
   ]
  },
  {
   "cell_type": "code",
   "execution_count": 2,
   "metadata": {},
   "outputs": [],
   "source": [
    "#export\n",
    "import os\n",
    "from dataclasses import dataclass\n",
    "from pathlib import Path\n",
    "from typing import Dict, List, Optional, Tuple, Union\n",
    "\n",
    "import numpy as np\n",
    "import pandas as pd\n",
    "import s3fs\n",
    "from dotenv import load_dotenv\n",
    "\n",
    "from nixtla.data.datasets.utils import download_file, Info, TimeSeriesDataclass\n",
    "from nixtla.data.tsdataset import TimeSeriesDataset"
   ]
  },
  {
   "cell_type": "code",
   "execution_count": 3,
   "metadata": {},
   "outputs": [
    {
     "data": {
      "text/plain": [
       "True"
      ]
     },
     "execution_count": 3,
     "metadata": {},
     "output_type": "execute_result"
    }
   ],
   "source": [
    "#export\n",
    "load_dotenv()"
   ]
  },
  {
   "cell_type": "markdown",
   "metadata": {},
   "source": [
    "Tourism meta information"
   ]
  },
  {
   "cell_type": "code",
   "execution_count": 8,
   "metadata": {},
   "outputs": [],
   "source": [
    "#export\n",
    "@dataclass\n",
    "class D1:\n",
    "    seasonality: int = 7\n",
    "    horizon: int = 7\n",
    "\n",
    "@dataclass\n",
    "class D2:\n",
    "    seasonality: int = 7\n",
    "    horizon: int = 7"
   ]
  },
  {
   "cell_type": "code",
   "execution_count": 9,
   "metadata": {},
   "outputs": [],
   "source": [
    "#export\n",
    "BusinessInfo = Info(groups=('D1', 'D2'),\n",
    "                    class_groups=(D1, D2))"
   ]
  },
  {
   "cell_type": "code",
   "execution_count": 14,
   "metadata": {},
   "outputs": [],
   "source": [
    "#export\n",
    "class Business(TimeSeriesDataclass):\n",
    "\n",
    "    @staticmethod\n",
    "    def load(directory: str,\n",
    "             group: str,\n",
    "             return_tensor: bool = True): #-> Union[TimeSeriesDataset, TimeSeriesDataclass]:\n",
    "        \"\"\"\n",
    "        Downloads and loads Tourism data.\n",
    "\n",
    "        Parameters\n",
    "        ----------\n",
    "        directory: str\n",
    "            Directory where data will be downloaded.\n",
    "        group: str\n",
    "            Group name.\n",
    "            Allowed groups: 'D1', 'D2'.\n",
    "        return_tensor: bool\n",
    "            Wheter return TimeSeriesDataset (tensors, True) or\n",
    "            TimeSeriesDataclass (dataframes)\n",
    "            \n",
    "        Notes\n",
    "        -----\n",
    "        [1] Returns train+test sets.\n",
    "        \"\"\"\n",
    "        path = Path(directory) / 'business' / 'datasets'\n",
    "\n",
    "        Business.download(directory)\n",
    "\n",
    "        df = pd.read_csv(path / f'ts-{group.lower()}.csv')\n",
    "        \n",
    "        #if return_tensor:\n",
    "        #    return TimeSeriesDataset(y_df=df, X_s_df=None, X_t_df=None, output_size=class_group.horizon)\n",
    "        #else:\n",
    "        #    return TimeSeriesDataclass(Y=df, S=None, X=None, group=group)\n",
    "        return df, None\n",
    "\n",
    "    @staticmethod\n",
    "    def download(directory: str) -> None:\n",
    "        \"\"\"Downloads Business Dataset.\"\"\"\n",
    "        \n",
    "        fs = s3fs.S3FileSystem(key=os.environ['AWS_ACCES_KEY_ID'], \n",
    "                               secret=os.environ['AWS_SECRET_ACCESS_KEY'])\n",
    "        \n",
    "        path = Path(directory) / 'business' / 'datasets'\n",
    "        if not path.exists():\n",
    "            file = 's3://research-storage-orax/business-data/ts-d{number}.csv'\n",
    "            for i in [1, 2]:\n",
    "                download_file = path / f'ts-d{i}.csv'\n",
    "                fs.download(file.format(number=i), str(download_file))"
   ]
  },
  {
   "cell_type": "code",
   "execution_count": 16,
   "metadata": {},
   "outputs": [
    {
     "name": "stdout",
     "output_type": "stream",
     "text": [
      "D1\n",
      "           unique_id          ds     y\n",
      "0  uid_12601_2_31090  2018-05-24  88.0\n",
      "1  uid_12601_2_31090  2018-05-25  23.0\n",
      "2  uid_12601_2_31090  2018-05-26  88.0\n",
      "3  uid_12601_2_31090  2018-05-27   0.0\n",
      "4  uid_12601_2_31090  2018-05-28   0.0\n",
      "D2\n",
      "         unique_id          ds     y\n",
      "0  uid_3002_122693  2018-01-01   1.0\n",
      "1  uid_3002_122693  2018-01-02  16.0\n",
      "2  uid_3002_122693  2018-01-03  14.0\n",
      "3  uid_3002_122693  2018-01-04  12.0\n",
      "4  uid_3002_122693  2018-01-05   4.0\n"
     ]
    }
   ],
   "source": [
    "for group in BusinessInfo.groups:\n",
    "    print(group)\n",
    "    dataset = Business.load(directory='data', group=group)\n",
    "    print(dataset[0].head())"
   ]
  },
  {
   "cell_type": "code",
   "execution_count": null,
   "metadata": {},
   "outputs": [],
   "source": []
  }
 ],
 "metadata": {
  "kernelspec": {
   "display_name": "nixtla",
   "language": "python",
   "name": "nixtla"
  },
  "language_info": {
   "codemirror_mode": {
    "name": "ipython",
    "version": 3
   },
   "file_extension": ".py",
   "mimetype": "text/x-python",
   "name": "python",
   "nbconvert_exporter": "python",
   "pygments_lexer": "ipython3",
   "version": "3.7.9"
  }
 },
 "nbformat": 4,
 "nbformat_minor": 4
}
