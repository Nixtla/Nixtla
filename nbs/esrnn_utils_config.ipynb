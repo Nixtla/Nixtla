{
 "cells": [
  {
   "cell_type": "code",
   "execution_count": null,
   "metadata": {},
   "outputs": [],
   "source": [
    "# default_exp models.esrnn.utils.config"
   ]
  },
  {
   "cell_type": "code",
   "execution_count": null,
   "metadata": {},
   "outputs": [],
   "source": [
    "#hide\n",
    "%load_ext autoreload\n",
    "%autoreload 2"
   ]
  },
  {
   "cell_type": "markdown",
   "metadata": {},
   "source": [
    "# ESRNN utils CONFIG\n",
    "\n",
    "> API details."
   ]
  },
  {
   "cell_type": "code",
   "execution_count": null,
   "metadata": {},
   "outputs": [],
   "source": [
    "#export\n",
    "class ModelConfig(object):\n",
    "    def __init__(self, max_epochs, batch_size, batch_size_test, freq_of_test,\n",
    "                             learning_rate, lr_scheduler_step_size, lr_decay,\n",
    "                             per_series_lr_multip, gradient_eps, gradient_clipping_threshold,\n",
    "                             rnn_weight_decay,\n",
    "                             noise_std,\n",
    "                             level_variability_penalty,\n",
    "                             testing_percentile, training_percentile, ensemble,\n",
    "                             cell_type,\n",
    "                             state_hsize, dilations, add_nl_layer, seasonality, input_size, output_size,\n",
    "                             frequency, max_periods, random_seed, device, root_dir):\n",
    "\n",
    "        # Train Parameters\n",
    "        self.max_epochs = max_epochs\n",
    "        self.batch_size = batch_size\n",
    "        self.batch_size_test = batch_size_test\n",
    "        self.freq_of_test = freq_of_test\n",
    "        self.learning_rate = learning_rate\n",
    "        self.lr_scheduler_step_size = lr_scheduler_step_size\n",
    "        self.lr_decay = lr_decay\n",
    "        self.per_series_lr_multip = per_series_lr_multip\n",
    "        self.gradient_eps = gradient_eps\n",
    "        self.gradient_clipping_threshold = gradient_clipping_threshold\n",
    "        self.rnn_weight_decay = rnn_weight_decay\n",
    "        self.noise_std = noise_std\n",
    "        self.level_variability_penalty = level_variability_penalty\n",
    "        self.testing_percentile = testing_percentile\n",
    "        self.training_percentile = training_percentile\n",
    "        self.ensemble = ensemble\n",
    "        self.device = device\n",
    "\n",
    "        # Model Parameters\n",
    "        self.cell_type = cell_type\n",
    "        self.state_hsize = state_hsize\n",
    "        self.dilations = dilations\n",
    "        self.add_nl_layer = add_nl_layer\n",
    "        self.random_seed = random_seed\n",
    "\n",
    "        # Data Parameters\n",
    "        self.seasonality = seasonality\n",
    "        if len(seasonality)>0:\n",
    "            self.naive_seasonality = seasonality[0]\n",
    "        else:\n",
    "            self.naive_seasonality = 1\n",
    "        self.input_size = input_size\n",
    "        self.input_size_i = self.input_size\n",
    "        self.output_size = output_size\n",
    "        self.output_size_i = self.output_size\n",
    "        self.frequency = frequency\n",
    "        self.min_series_length = self.input_size_i + self.output_size_i\n",
    "        self.max_series_length = (max_periods * self.input_size) + self.min_series_length\n",
    "        self.max_periods = max_periods\n",
    "        self.root_dir = root_dir\n"
   ]
  },
  {
   "cell_type": "code",
   "execution_count": null,
   "metadata": {},
   "outputs": [],
   "source": []
  }
 ],
 "metadata": {
  "kernelspec": {
   "display_name": "nixtla",
   "language": "python",
   "name": "nixtla"
  }
 },
 "nbformat": 4,
 "nbformat_minor": 2
}
