{
 "cells": [
  {
   "cell_type": "code",
   "execution_count": null,
   "metadata": {},
   "outputs": [],
   "source": [
    "# default_exp experiments.nbeats.sota_params.m3"
   ]
  },
  {
   "cell_type": "code",
   "execution_count": null,
   "metadata": {},
   "outputs": [],
   "source": [
    "#hide\n",
    "%load_ext autoreload\n",
    "%autoreload 2"
   ]
  },
  {
   "cell_type": "markdown",
   "metadata": {},
   "source": [
    "# SOTA params\n",
    "\n",
    "> API details."
   ]
  },
  {
   "cell_type": "code",
   "execution_count": null,
   "metadata": {},
   "outputs": [],
   "source": [
    "#export\n",
    "from dataclasses import dataclass\n",
    "\n",
    "from nixtla.data.datasets.utils import Info"
   ]
  },
  {
   "cell_type": "code",
   "execution_count": null,
   "metadata": {},
   "outputs": [],
   "source": [
    "#export\n",
    "common_grid = {'shared_weights': [True],\n",
    "               'stack_types': [['trend', 'seasonality']],\n",
    "               'n_blocks': [[3, 3]],\n",
    "               'n_layers': [[2, 2]],\n",
    "               'n_hidden': [[256, 2048]],\n",
    "               'n_harmonics': [1], \n",
    "               'n_polynomials': [2],\n",
    "               'learning_rate': [0.001],\n",
    "               'lr_decay': [0.5],\n",
    "               'n_lr_decay_steps': [3],\n",
    "               'batch_size': [1024]}\n",
    "common_ensemble_grid = {'input_size_multiplier': [2, 3, 4, 5, 6, 7],\n",
    "                        'random_seed': [1, 2, 3, 4, 5, 6, 7, 8, 9, 10],\n",
    "                        'loss': ['MAPE']}"
   ]
  },
  {
   "cell_type": "code",
   "execution_count": null,
   "metadata": {},
   "outputs": [],
   "source": [
    "#export\n",
    "@dataclass\n",
    "class Yearly:\n",
    "    grid = {**common_grid,\n",
    "            **{'output_size': [6],\n",
    "               'offset': [6],\n",
    "               'window_sampling_limit_multiplier': [20],\n",
    "               'n_iterations': [50],\n",
    "               'frequency': ['Y'],\n",
    "               'seasonality': [1]}}\n",
    "    \n",
    "    ensemble_grid = common_ensemble_grid"
   ]
  },
  {
   "cell_type": "code",
   "execution_count": null,
   "metadata": {},
   "outputs": [],
   "source": [
    "#export\n",
    "@dataclass\n",
    "class Quarterly:\n",
    "    grid = {**common_grid,\n",
    "            **{'output_size': [8],\n",
    "               'offset': [8],\n",
    "               'window_sampling_limit_multiplier': [5],\n",
    "               'n_iterations': [600],\n",
    "               'frequency': ['Q'],\n",
    "               'seasonality': [4]}}\n",
    "    \n",
    "    ensemble_grid = common_ensemble_grid"
   ]
  },
  {
   "cell_type": "code",
   "execution_count": null,
   "metadata": {},
   "outputs": [],
   "source": [
    "#export\n",
    "@dataclass\n",
    "class Monthly:\n",
    "    grid = {**common_grid,\n",
    "            **{'output_size': [18],\n",
    "               'offset': [18],\n",
    "               'window_sampling_limit_multiplier': [5],\n",
    "               'n_iterations': [6000],\n",
    "               'frequency': ['MS'],\n",
    "               'seasonality': [12]}}\n",
    "    \n",
    "    ensemble_grid = common_ensemble_grid"
   ]
  },
  {
   "cell_type": "code",
   "execution_count": null,
   "metadata": {},
   "outputs": [],
   "source": [
    "#export\n",
    "@dataclass\n",
    "class Other:\n",
    "    grid = {**common_grid,\n",
    "            **{'output_size': [8],\n",
    "               'offset': [8],\n",
    "               'window_sampling_limit_multiplier': [20],\n",
    "               'n_iterations': [250],\n",
    "               'frequency': ['D'],\n",
    "               'seasonality': [1]}}\n",
    "    \n",
    "    ensemble_grid = common_ensemble_grid"
   ]
  },
  {
   "cell_type": "code",
   "execution_count": null,
   "metadata": {},
   "outputs": [],
   "source": [
    "#export\n",
    "M3Params = Info(groups=('Yearly', 'Quarterly', 'Monthly', 'Other'),\n",
    "                class_groups=(Yearly, Quarterly, Monthly, Other))"
   ]
  }
 ],
 "metadata": {
  "kernelspec": {
   "display_name": "nixtla",
   "language": "python",
   "name": "nixtla"
  }
 },
 "nbformat": 4,
 "nbformat_minor": 2
}
