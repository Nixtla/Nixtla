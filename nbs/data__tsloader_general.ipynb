{
 "cells": [
  {
   "cell_type": "code",
   "execution_count": null,
   "metadata": {},
   "outputs": [],
   "source": [
    "# default_exp data.tsloader_general"
   ]
  },
  {
   "cell_type": "code",
   "execution_count": null,
   "metadata": {},
   "outputs": [],
   "source": [
    "#hide\n",
    "%load_ext autoreload\n",
    "%autoreload 2"
   ]
  },
  {
   "cell_type": "code",
   "execution_count": null,
   "metadata": {},
   "outputs": [],
   "source": [
    "#export\n",
    "import numpy as np\n",
    "import pandas as pd\n",
    "import random\n",
    "import torch as t\n",
    "import copy\n",
    "from fastcore.foundation import patch\n",
    "from nixtla.data.tsdataset import TimeSeriesDataset\n",
    "from collections import defaultdict"
   ]
  },
  {
   "cell_type": "code",
   "execution_count": null,
   "metadata": {},
   "outputs": [],
   "source": [
    "#export\n",
    "# TODO: Check if the saturday zero protection is still in place\n",
    "class TimeSeriesLoader(object):\n",
    "    def __init__(self,\n",
    "                 ts_dataset: TimeSeriesDataset,\n",
    "                 model: str,\n",
    "                 offset: int,\n",
    "                 window_sampling_limit: int, \n",
    "                 input_size: int,\n",
    "                 output_size: int,\n",
    "                 idx_to_sample_freq: int,\n",
    "                 batch_size: int,\n",
    "                 complete_inputs: bool,\n",
    "                 complete_sample: bool,\n",
    "                 shuffle: bool,\n",
    "                 n_series_per_batch: int=None,\n",
    "                 verbose: bool=False):\n",
    "        \"\"\"\n",
    "        \"\"\"\n",
    "        # Dataloader attributes\n",
    "        self.model = model\n",
    "        self.window_sampling_limit = window_sampling_limit\n",
    "        self.input_size = input_size\n",
    "        self.output_size = output_size\n",
    "        self.batch_size = batch_size\n",
    "        self.complete_inputs = complete_inputs\n",
    "        self.complete_sample = complete_sample\n",
    "        self.idx_to_sample_freq = idx_to_sample_freq\n",
    "        self.offset = offset\n",
    "        self.ts_dataset = ts_dataset\n",
    "        self.t_cols = self.ts_dataset.t_cols\n",
    "        if n_series_per_batch is not None:\n",
    "            self.n_series_per_batch = n_series_per_batch \n",
    "        else:\n",
    "            self.n_series_per_batch = min(batch_size, self.ts_dataset.n_series)\n",
    "        self.windows_per_serie = self.batch_size // self.n_series_per_batch\n",
    "        self.shuffle = shuffle\n",
    "        self.verbose = verbose\n",
    "        \n",
    "        assert offset==0, 'sample_mask and offset interaction not implemented'\n",
    "        # assert window_sampling_limit==self.ts_dataset.max_len, \\\n",
    "        #     'sample_mask and window_samplig_limit interaction not implemented'        \n",
    "\n",
    "        # Dataloader protections\n",
    "        assert self.batch_size % self.n_series_per_batch == 0, \\\n",
    "                        f'batch_size {self.batch_size} must be multiple of n_series_per_batch {self.n_series_per_batch}'\n",
    "        assert self.n_series_per_batch <= self.ts_dataset.n_series, \\\n",
    "                        f'n_series_per_batch {n_series_per_batch} needs to be smaller than n_series {self.ts_dataset.n_series}'\n",
    "        assert offset < self.ts_dataset.max_len, \\\n",
    "            f'Offset {offset} must be smaller than max_len {self.ts_dataset.max_len}'\n",
    "    \n",
    "    def _get_sampleable_windows_idxs(self, ts_windows_flatten):\n",
    "        if not self.complete_sample:\n",
    "            #print(\"\\n\")\n",
    "            #print(\"INTENTO RARO DE LIMPIEZA8\")\n",
    "            sample_condition = t.sum(ts_windows_flatten[:, self.t_cols.index('sample_mask'), -self.output_size:], axis=1)\n",
    "            available_condition = t.sum(ts_windows_flatten[:, self.t_cols.index('available_mask'), :self.input_size], axis=1)\n",
    "            if self.complete_inputs:\n",
    "                completely_available_condition = (available_condition == (self.input_size)) * 1\n",
    "                sampling_idx = t.nonzero(completely_available_condition * sample_condition > 0)\n",
    "            else:\n",
    "                sampling_idx = t.nonzero(available_condition * sample_condition > 0)\n",
    "        else:\n",
    "            sample_condition = t.sum(self.ts_windows[:, self.t_cols.index('sample_mask'), -self.output_size:], axis=1)\n",
    "            sampling_idx = t.nonzero(sample_condition)\n",
    "\n",
    "        sampling_idx = list(sampling_idx.flatten().numpy())\n",
    "        assert len(sampling_idx)>0, 'Check the data and masks as sample_idxs are empty'\n",
    "        return sampling_idx\n",
    "\n",
    "    def _create_windows_tensor(self, ts_idxs=None):\n",
    "        \"\"\"\n",
    "        Comment here\n",
    "        TODO: Cuando creemos el otro dataloader, si es compatible lo hacemos funcion transform en utils\n",
    "        \"\"\"\n",
    "        # Filter function is used to define train tensor and validation tensor with the offset\n",
    "        # Default ts_idxs=ts_idxs sends all the data, otherwise filters series      \n",
    "        tensor, right_padding = self.ts_dataset.get_filtered_ts_tensor(offset=self.offset, output_size=self.output_size,\n",
    "                                                                       window_sampling_limit=self.window_sampling_limit,\n",
    "                                                                       ts_idxs=ts_idxs)\n",
    "        tensor = t.Tensor(tensor)\n",
    "\n",
    "        padder = t.nn.ConstantPad1d(padding=(self.input_size, right_padding), value=0)\n",
    "        tensor = padder(tensor)\n",
    "\n",
    "        # Creating rolling windows and 'flattens' them\n",
    "        windows = tensor.unfold(dimension=-1, size=self.input_size + self.output_size, step=self.idx_to_sample_freq)\n",
    "        # n_serie, n_channel, n_time, window_size -> n_serie, n_time, n_channel, window_size\n",
    "        #print(f'n_serie, n_channel, n_time, window_size = {windows.shape}')\n",
    "        windows = windows.permute(0,2,1,3)\n",
    "        #print(f'n_serie, n_time, n_channel, window_size = {windows.shape}')\n",
    "        windows = windows.reshape(-1, self.ts_dataset.n_channels, self.input_size + self.output_size)\n",
    "\n",
    "        # Broadcast s_matrix: This works because unfold in windows_tensor, orders: serie, time\n",
    "        s_matrix = self.ts_dataset.s_matrix[ts_idxs]\n",
    "        windows_per_serie = len(windows)//len(ts_idxs)\n",
    "        s_matrix = s_matrix.repeat(repeats=windows_per_serie, axis=0)\n",
    "\n",
    "        return windows, s_matrix\n",
    "\n",
    "    def __iter__(self):\n",
    "        n_series = self.ts_dataset.n_series\n",
    "        # Shuffle idx before epoch if self._is_train\n",
    "        if self.shuffle:\n",
    "            sample_idxs = np.random.choice(a=range(n_series), size=n_series, replace=False)\n",
    "        else:\n",
    "            sample_idxs = np.array(range(n_series))\n",
    "\n",
    "        n_batches = int(np.ceil(n_series / self.n_series_per_batch)) # Must be multiple of batch_size for paralel gpu\n",
    "\n",
    "        for idx in range(n_batches):\n",
    "            ts_idxs = sample_idxs[(idx * self.n_series_per_batch) : (idx + 1) * self.n_series_per_batch]\n",
    "            batch = self.__get_item__(index=ts_idxs)\n",
    "            yield batch\n",
    "\n",
    "    def __get_item__(self, index):\n",
    "        if (self.model == 'nbeats') or (self.model == 'tcn'):\n",
    "            return self._windows_batch(index)\n",
    "        elif self.model in ['esrnn','rnn']:\n",
    "            return self._full_series_batch(index)\n",
    "        else:\n",
    "            assert 1<0, 'error'\n",
    "\n",
    "    def _windows_batch(self, index):\n",
    "        \"\"\" NBEATS, TCN models \"\"\"\n",
    "\n",
    "        # Create windows for each sampled ts and sample random unmasked windows from each ts\n",
    "        windows, s_matrix = self._create_windows_tensor(ts_idxs=index)\n",
    "        sampleable_windows = self._get_sampleable_windows_idxs(ts_windows_flatten=windows)\n",
    "        self.sampleable_windows = sampleable_windows\n",
    "\n",
    "        # Get sample windows_idxs of batch\n",
    "        if self.shuffle:\n",
    "            windows_idxs = np.random.choice(sampleable_windows, self.batch_size, replace=True)\n",
    "        else:\n",
    "            windows_idxs = sampleable_windows\n",
    "        \n",
    "        # Index the windows and s_matrix tensors of batch\n",
    "        windows = windows[windows_idxs]\n",
    "        s_matrix = s_matrix[windows_idxs]\n",
    "\n",
    "        # Parse windows to elements of batch\n",
    "        insample_y = windows[:, self.t_cols.index('y'), :self.input_size]\n",
    "        insample_x = windows[:, (self.t_cols.index('y')+1):self.t_cols.index('available_mask'), :self.input_size]\n",
    "        available_mask = windows[:, self.t_cols.index('available_mask'), :self.input_size]\n",
    "\n",
    "        outsample_y = windows[:, self.t_cols.index('y'), self.input_size:]\n",
    "        outsample_x = windows[:, (self.t_cols.index('y')+1):self.t_cols.index('available_mask'), self.input_size:]\n",
    "        sample_mask = windows[:, self.t_cols.index('sample_mask'), self.input_size:]\n",
    "\n",
    "        batch = {'s_matrix': s_matrix,\n",
    "                 'insample_y': insample_y, 'insample_x':insample_x, 'insample_mask':available_mask,\n",
    "                 'outsample_y': outsample_y, 'outsample_x':outsample_x, 'outsample_mask':sample_mask}\n",
    "        return batch\n",
    "\n",
    "    def _full_series_batch(self, index):\n",
    "        \"\"\" ESRNN, RNN models \"\"\"\n",
    "        #TODO: think masks, do they make sense for ESRNN and RNN??\n",
    "        #TODO: window_sampling_limit no es dinamico por el offset no usado!!\n",
    "        #TODO: padding preventivo\n",
    "        ts_tensor, _ = self.ts_dataset.get_filtered_ts_tensor(offset=self.offset, output_size=self.output_size,\n",
    "                                                              window_sampling_limit=self.window_sampling_limit,\n",
    "                                                              ts_idxs=index)\n",
    "        ts_tensor = t.Tensor(ts_tensor)\n",
    "        # Trim batch to shorter time series TO AVOID ZERO PADDING, remove non sampleable ts\n",
    "        # shorter time series is driven by the last ts_idx which is available\n",
    "        # non-sampleable ts is driver by the first ts_idx which stops beeing sampleable\n",
    "        available_mask_tensor = ts_tensor[:, self.t_cols.index('available_mask'), :]\n",
    "        min_time_stamp = int(t.nonzero(t.min(available_mask_tensor, axis=0).values).min())\n",
    "        sample_mask_tensor = ts_tensor[:, self.t_cols.index('sample_mask'), :]\n",
    "        max_time_stamp = int(t.nonzero(t.min(sample_mask_tensor, axis=0).values).max())\n",
    "\n",
    "        available_ts = max_time_stamp - min_time_stamp\n",
    "        assert available_ts >= self.input_size + self.output_size, \\\n",
    "               f'Time series too short for given input size {self.input_size} and output size {self.output_size}.'\n",
    "\n",
    "        insample_y = ts_tensor[:, self.t_cols.index('y'), :]\n",
    "        insample_y = insample_y[:, min_time_stamp:max_time_stamp+1] #+1 because is not inclusive\n",
    "\n",
    "        insample_x = ts_tensor[:, self.t_cols.index('y')+1:self.t_cols.index('available_mask'), :]\n",
    "        insample_x = insample_x[:, min_time_stamp:max_time_stamp+1] #+1 because is not inclusive\n",
    "\n",
    "        s_matrix = self.ts_dataset.s_matrix[index]\n",
    "\n",
    "        batch = {'insample_y': insample_y, 'idxs': index, 'insample_x': insample_x, 's_matrix': s_matrix}\n",
    "\n",
    "        return batch\n",
    "\n",
    "    def update_offset(self, offset):\n",
    "        if offset == self.offset:\n",
    "            return # Avoid extra computation\n",
    "        self.offset = offset\n",
    "\n",
    "    def get_meta_data_col(self, col):\n",
    "        return self.ts_dataset.get_meta_data_col(col)\n",
    "\n",
    "    def get_n_variables(self):\n",
    "        return self.ts_dataset.n_x, self.ts_dataset.n_s\n",
    "\n",
    "    def get_n_series(self):\n",
    "        return self.ts_dataset.n_series\n",
    "\n",
    "    def get_max_len(self):\n",
    "        return self.ts_dataset.max_len\n",
    "\n",
    "    def get_n_channels(self):\n",
    "        return self.ts_dataset.n_channels\n",
    "\n",
    "    def get_X_cols(self):\n",
    "        return self.ts_dataset.X_cols\n",
    "\n",
    "    def get_frequency(self):\n",
    "        return self.ts_dataset.frequency\n",
    "\n",
    "    def train(self):\n",
    "        self._is_train = True\n",
    "\n",
    "    def eval(self):\n",
    "        self._is_train = False"
   ]
  },
  {
   "cell_type": "code",
   "execution_count": null,
   "metadata": {},
   "outputs": [
    {
     "name": "stdout",
     "output_type": "stream",
     "text": [
      "Yearly\n"
     ]
    }
   ],
   "source": [
    "import matplotlib.pyplot as plt\n",
    "from nixtla.data.datasets.m4 import M4, M4Info\n",
    "print(M4Info.groups[0])\n",
    "Y_df, *_ = M4.load(directory='../data', group=M4Info.groups[0])"
   ]
  },
  {
   "cell_type": "code",
   "execution_count": null,
   "metadata": {},
   "outputs": [
    {
     "name": "stdout",
     "output_type": "stream",
     "text": [
      "Train Validation splits\n",
      "                       ds    \n",
      "                      min max\n",
      "unique_id sample_mask        \n",
      "Y1        0.0          32  37\n",
      "          1.0           1  31\n",
      "Y10       0.0          20  25\n",
      "          1.0           1  19\n",
      "Y100      0.0          55  60\n",
      "...                    ..  ..\n",
      "Y9997     1.0           1  24\n",
      "Y9998     0.0          25  30\n",
      "          1.0           1  24\n",
      "Y9999     0.0          25  30\n",
      "          1.0           1  24\n",
      "\n",
      "[46000 rows x 2 columns]\n",
      "Total data \t\t\t858458 time stamps\n",
      "Available percentage=100.0, \t858458 time stamps\n",
      "Train percentage=83.92, \t720458.0 time stamps\n",
      "Outsample percentage=16.08, \t138000.0 time stamps\n",
      "\n",
      "\n"
     ]
    }
   ],
   "source": [
    "m4_dataset = TimeSeriesDataset(Y_df=Y_df, mask_df=None, ts_in_test=6)"
   ]
  },
  {
   "cell_type": "code",
   "execution_count": null,
   "metadata": {},
   "outputs": [
    {
     "data": {
      "text/plain": [
       "(23000, 3, 841)"
      ]
     },
     "execution_count": null,
     "metadata": {},
     "output_type": "execute_result"
    }
   ],
   "source": [
    "m4_dataset.ts_tensor.shape"
   ]
  },
  {
   "cell_type": "code",
   "execution_count": null,
   "metadata": {},
   "outputs": [],
   "source": [
    "train_loader = TimeSeriesLoader(ts_dataset=m4_dataset,\n",
    "                                model='nbeats',\n",
    "                                offset=0,\n",
    "                                window_sampling_limit=m4_dataset.max_len, \n",
    "                                input_size=int(5*6),\n",
    "                                output_size=int(6),\n",
    "                                idx_to_sample_freq=int(1),\n",
    "                                batch_size=int(1024),\n",
    "                                complete_inputs=False,\n",
    "                                complete_sample=False,\n",
    "                                shuffle=False)"
   ]
  },
  {
   "cell_type": "code",
   "execution_count": null,
   "metadata": {},
   "outputs": [],
   "source": [
    "input_size = 30\n",
    "output_size = 6\n",
    "\n",
    "# For shuffle bool testing purpose\n",
    "tensor,right_padding = m4_dataset.get_filtered_ts_tensor(offset=0, output_size=output_size,\n",
    "                                                         window_sampling_limit=m4_dataset.max_len,\n",
    "                                                         ts_idxs=np.array(range(23000)))"
   ]
  },
  {
   "cell_type": "code",
   "execution_count": null,
   "metadata": {},
   "outputs": [
    {
     "name": "stdout",
     "output_type": "stream",
     "text": [
      "insample_y.shape torch.Size([30352, 30])\n",
      "outsample_y.shape torch.Size([30352, 6])\n",
      "tensor.shape (23000, 3, 841)\n"
     ]
    }
   ],
   "source": [
    "dataloader = iter(train_loader)\n",
    "batch = next(dataloader)\n",
    "insample_y = batch['insample_y']\n",
    "insample_x_t = batch['insample_x']\n",
    "insample_mask = batch['insample_mask']\n",
    "outsample_y = batch['outsample_y']\n",
    "outsample_x = batch['outsample_x']\n",
    "outsample_mask = batch['outsample_mask']\n",
    "\n",
    "print(\"insample_y.shape\", insample_y.shape)\n",
    "print(\"outsample_y.shape\", outsample_y.shape)\n",
    "print(\"tensor.shape\", tensor.shape)"
   ]
  },
  {
   "cell_type": "code",
   "execution_count": null,
   "metadata": {},
   "outputs": [
    {
     "data": {
      "text/plain": [
       "tensor([[   0.0000,    0.0000,    0.0000,  ...,    0.0000,    0.0000,\n",
       "         5172.1001],\n",
       "        [   0.0000,    0.0000,    0.0000,  ...,    0.0000, 5172.1001,\n",
       "         5133.5000],\n",
       "        [   0.0000,    0.0000,    0.0000,  ..., 5172.1001, 5133.5000,\n",
       "         5186.8999],\n",
       "        ...,\n",
       "        [1870.0000, 2130.0000, 2030.0000,  ..., 4838.0000, 4901.0000,\n",
       "         4976.0000],\n",
       "        [2130.0000, 2030.0000, 2108.0000,  ..., 4901.0000, 4976.0000,\n",
       "         5080.0000],\n",
       "        [2030.0000, 2108.0000, 2265.0000,  ..., 4976.0000, 5080.0000,\n",
       "         5073.0000]])"
      ]
     },
     "execution_count": null,
     "metadata": {},
     "output_type": "execute_result"
    }
   ],
   "source": [
    "insample_y"
   ]
  },
  {
   "cell_type": "code",
   "execution_count": null,
   "metadata": {},
   "outputs": [
    {
     "data": {
      "text/plain": [
       "tensor([[5133.5000, 5186.8999, 5084.6001, 5182.0000, 5414.2998, 5576.2002],\n",
       "        [5186.8999, 5084.6001, 5182.0000, 5414.2998, 5576.2002, 5752.8999],\n",
       "        [5084.6001, 5182.0000, 5414.2998, 5576.2002, 5752.8999, 5955.2002],\n",
       "        ...,\n",
       "        [5080.0000, 5073.0000, 5116.0000, 4937.0000, 4994.0000, 4897.0000],\n",
       "        [5073.0000, 5116.0000, 4937.0000, 4994.0000, 4897.0000, 4916.0000],\n",
       "        [5116.0000, 4937.0000, 4994.0000, 4897.0000, 4916.0000, 4813.0000]])"
      ]
     },
     "execution_count": null,
     "metadata": {},
     "output_type": "execute_result"
    }
   ],
   "source": [
    "outsample_y"
   ]
  },
  {
   "cell_type": "code",
   "execution_count": null,
   "metadata": {},
   "outputs": [
    {
     "name": "stdout",
     "output_type": "stream",
     "text": [
      "Checking order for unshuffled validation\n"
     ]
    },
    {
     "data": {
      "image/png": "[encoded data removed]",
      "text/plain": [
       "<Figure size 432x288 with 1 Axes>"
      ]
     },
     "metadata": {
      "needs_background": "light"
     },
     "output_type": "display_data"
    },
    {
     "data": {
      "image/png": "[encoded data removed]",
      "text/plain": [
       "<Figure size 432x288 with 1 Axes>"
      ]
     },
     "metadata": {
      "needs_background": "light"
     },
     "output_type": "display_data"
    }
   ],
   "source": [
    "train_loader.shuffle = False\n",
    "dataloader = iter(train_loader)\n",
    "batch = next(dataloader)\n",
    "insample_y = batch['insample_y']\n",
    "\n",
    "print(\"Checking order for unshuffled validation\")\n",
    "plt.plot(insample_y[0,:])\n",
    "plt.show()\n",
    "\n",
    "plt.plot(tensor[0,0,:])\n",
    "plt.show()"
   ]
  },
  {
   "cell_type": "markdown",
   "metadata": {},
   "source": [
    "# TOY EXAMPLE"
   ]
  },
  {
   "cell_type": "code",
   "execution_count": null,
   "metadata": {},
   "outputs": [],
   "source": [
    "import numpy as np\n",
    "import pandas as pd\n",
    "\n",
    "n_weeks = 2\n",
    "\n",
    "Y = np.concatenate([np.array(range(168*2)), 10*np.array(range(168*2))])\n",
    "X1 = -np.concatenate([np.array(range(168*2)), 10*np.array(range(168*2))])\n",
    "X2 = 1/(np.concatenate([np.array(range(168*2)), 10*np.array(range(168*2))])+1)\n",
    "\n",
    "unique_id = np.array(['u1']*168*2 + ['u2']*168*2)\n",
    "ds = pd.date_range(start='1/1/2018', end='1/15/2018', freq='H')[:-1].to_list() + \\\n",
    "     pd.date_range(start='1/1/2018', end='1/15/2018', freq='H')[:-1].to_list()\n",
    "\n",
    "X_df = pd.DataFrame({'unique_id': unique_id, 'ds': ds, 'X1': X1, 'X2': X2})\n",
    "Y_df = pd.DataFrame({'unique_id': unique_id, 'ds': ds, 'y': Y})\n",
    "S_df = Y_df.drop_duplicates('unique_id')[['unique_id']].reset_index(drop=True)\n",
    "S_df['s_0'] = [1,0]\n",
    "S_df['s_1'] = [0,1]"
   ]
  },
  {
   "cell_type": "code",
   "execution_count": null,
   "metadata": {},
   "outputs": [
    {
     "data": {
      "text/html": [
       "<div>\n",
       "<style scoped>\n",
       "    .dataframe tbody tr th:only-of-type {\n",
       "        vertical-align: middle;\n",
       "    }\n",
       "\n",
       "    .dataframe tbody tr th {\n",
       "        vertical-align: top;\n",
       "    }\n",
       "\n",
       "    .dataframe thead th {\n",
       "        text-align: right;\n",
       "    }\n",
       "</style>\n",
       "<table border=\"1\" class=\"dataframe\">\n",
       "  <thead>\n",
       "    <tr style=\"text-align: right;\">\n",
       "      <th></th>\n",
       "      <th>unique_id</th>\n",
       "      <th>ds</th>\n",
       "      <th>y</th>\n",
       "    </tr>\n",
       "  </thead>\n",
       "  <tbody>\n",
       "    <tr>\n",
       "      <th>0</th>\n",
       "      <td>u1</td>\n",
       "      <td>2018-01-01 00:00:00</td>\n",
       "      <td>0</td>\n",
       "    </tr>\n",
       "    <tr>\n",
       "      <th>1</th>\n",
       "      <td>u1</td>\n",
       "      <td>2018-01-01 01:00:00</td>\n",
       "      <td>1</td>\n",
       "    </tr>\n",
       "    <tr>\n",
       "      <th>2</th>\n",
       "      <td>u1</td>\n",
       "      <td>2018-01-01 02:00:00</td>\n",
       "      <td>2</td>\n",
       "    </tr>\n",
       "    <tr>\n",
       "      <th>3</th>\n",
       "      <td>u1</td>\n",
       "      <td>2018-01-01 03:00:00</td>\n",
       "      <td>3</td>\n",
       "    </tr>\n",
       "    <tr>\n",
       "      <th>4</th>\n",
       "      <td>u1</td>\n",
       "      <td>2018-01-01 04:00:00</td>\n",
       "      <td>4</td>\n",
       "    </tr>\n",
       "    <tr>\n",
       "      <th>...</th>\n",
       "      <td>...</td>\n",
       "      <td>...</td>\n",
       "      <td>...</td>\n",
       "    </tr>\n",
       "    <tr>\n",
       "      <th>667</th>\n",
       "      <td>u2</td>\n",
       "      <td>2018-01-14 19:00:00</td>\n",
       "      <td>3310</td>\n",
       "    </tr>\n",
       "    <tr>\n",
       "      <th>668</th>\n",
       "      <td>u2</td>\n",
       "      <td>2018-01-14 20:00:00</td>\n",
       "      <td>3320</td>\n",
       "    </tr>\n",
       "    <tr>\n",
       "      <th>669</th>\n",
       "      <td>u2</td>\n",
       "      <td>2018-01-14 21:00:00</td>\n",
       "      <td>3330</td>\n",
       "    </tr>\n",
       "    <tr>\n",
       "      <th>670</th>\n",
       "      <td>u2</td>\n",
       "      <td>2018-01-14 22:00:00</td>\n",
       "      <td>3340</td>\n",
       "    </tr>\n",
       "    <tr>\n",
       "      <th>671</th>\n",
       "      <td>u2</td>\n",
       "      <td>2018-01-14 23:00:00</td>\n",
       "      <td>3350</td>\n",
       "    </tr>\n",
       "  </tbody>\n",
       "</table>\n",
       "<p>672 rows × 3 columns</p>\n",
       "</div>"
      ],
      "text/plain": [
       "    unique_id                  ds     y\n",
       "0          u1 2018-01-01 00:00:00     0\n",
       "1          u1 2018-01-01 01:00:00     1\n",
       "2          u1 2018-01-01 02:00:00     2\n",
       "3          u1 2018-01-01 03:00:00     3\n",
       "4          u1 2018-01-01 04:00:00     4\n",
       "..        ...                 ...   ...\n",
       "667        u2 2018-01-14 19:00:00  3310\n",
       "668        u2 2018-01-14 20:00:00  3320\n",
       "669        u2 2018-01-14 21:00:00  3330\n",
       "670        u2 2018-01-14 22:00:00  3340\n",
       "671        u2 2018-01-14 23:00:00  3350\n",
       "\n",
       "[672 rows x 3 columns]"
      ]
     },
     "execution_count": null,
     "metadata": {},
     "output_type": "execute_result"
    }
   ],
   "source": [
    "Y_df"
   ]
  },
  {
   "cell_type": "code",
   "execution_count": null,
   "metadata": {},
   "outputs": [
    {
     "name": "stdout",
     "output_type": "stream",
     "text": [
      "Train Validation splits\n",
      "                                       ds                    \n",
      "                                      min                 max\n",
      "unique_id sample_mask                                        \n",
      "u1        0.0         2018-01-14 19:00:00 2018-01-14 23:00:00\n",
      "          1.0         2018-01-01 00:00:00 2018-01-14 18:00:00\n",
      "u2        0.0         2018-01-14 19:00:00 2018-01-14 23:00:00\n",
      "          1.0         2018-01-01 00:00:00 2018-01-14 18:00:00\n",
      "Total data \t\t\t672 time stamps\n",
      "Available percentage=100.0, \t672 time stamps\n",
      "Train percentage=98.51, \t662.0 time stamps\n",
      "Outsample percentage=1.49, \t10.0 time stamps\n",
      "\n",
      "\n"
     ]
    }
   ],
   "source": [
    "toy_dataset = TimeSeriesDataset(Y_df=Y_df, X_df=X_df, S_df=S_df, mask_df=None, ts_in_test=5)"
   ]
  },
  {
   "cell_type": "code",
   "execution_count": null,
   "metadata": {},
   "outputs": [],
   "source": [
    "ts_loader = TimeSeriesLoader(ts_dataset=toy_dataset,\n",
    "                             model='nbeats',\n",
    "                             offset=0,\n",
    "                             window_sampling_limit=toy_dataset.max_len,\n",
    "                             input_size=5,\n",
    "                             output_size=5,\n",
    "                             idx_to_sample_freq=24,\n",
    "                             batch_size=256,\n",
    "                             complete_inputs=False,\n",
    "                             complete_sample=False,\n",
    "                             shuffle=False)"
   ]
  },
  {
   "cell_type": "code",
   "execution_count": null,
   "metadata": {},
   "outputs": [
    {
     "name": "stdout",
     "output_type": "stream",
     "text": [
      "m4_dataset.t_cols ['y', 'available_mask', 'sample_mask']\n",
      "ts_loader.input_size 5\n",
      "ts_loader.output_size 5\n",
      "insample_y.shape torch.Size([26, 5])\n",
      "outsample_y.shape torch.Size([26, 5])\n",
      "s_matrix.shape (26, 2)\n"
     ]
    }
   ],
   "source": [
    "dataloader = iter(ts_loader)\n",
    "batch = next(dataloader)\n",
    "insample_y = batch['insample_y']\n",
    "insample_x_t = batch['insample_x']\n",
    "insample_mask = batch['insample_mask']\n",
    "outsample_y = batch['outsample_y']\n",
    "outsample_x = batch['outsample_x']\n",
    "outsample_mask = batch['outsample_mask']\n",
    "s_matrix = batch['s_matrix']\n",
    "\n",
    "print(\"m4_dataset.t_cols\", m4_dataset.t_cols)\n",
    "print(\"ts_loader.input_size\", ts_loader.input_size)\n",
    "print(\"ts_loader.output_size\", ts_loader.output_size)\n",
    "print(\"insample_y.shape\", insample_y.shape)\n",
    "print(\"outsample_y.shape\", outsample_y.shape)\n",
    "print(\"s_matrix.shape\", s_matrix.shape)"
   ]
  },
  {
   "cell_type": "code",
   "execution_count": null,
   "metadata": {},
   "outputs": [
    {
     "data": {
      "text/plain": [
       "tensor([[  19.,   20.,   21.,   22.,   23.],\n",
       "        [  43.,   44.,   45.,   46.,   47.],\n",
       "        [  67.,   68.,   69.,   70.,   71.],\n",
       "        [  91.,   92.,   93.,   94.,   95.],\n",
       "        [ 115.,  116.,  117.,  118.,  119.],\n",
       "        [ 139.,  140.,  141.,  142.,  143.],\n",
       "        [ 163.,  164.,  165.,  166.,  167.],\n",
       "        [ 187.,  188.,  189.,  190.,  191.],\n",
       "        [ 211.,  212.,  213.,  214.,  215.],\n",
       "        [ 235.,  236.,  237.,  238.,  239.],\n",
       "        [ 259.,  260.,  261.,  262.,  263.],\n",
       "        [ 283.,  284.,  285.,  286.,  287.],\n",
       "        [ 307.,  308.,  309.,  310.,  311.],\n",
       "        [ 190.,  200.,  210.,  220.,  230.],\n",
       "        [ 430.,  440.,  450.,  460.,  470.],\n",
       "        [ 670.,  680.,  690.,  700.,  710.],\n",
       "        [ 910.,  920.,  930.,  940.,  950.],\n",
       "        [1150., 1160., 1170., 1180., 1190.],\n",
       "        [1390., 1400., 1410., 1420., 1430.],\n",
       "        [1630., 1640., 1650., 1660., 1670.],\n",
       "        [1870., 1880., 1890., 1900., 1910.],\n",
       "        [2110., 2120., 2130., 2140., 2150.],\n",
       "        [2350., 2360., 2370., 2380., 2390.],\n",
       "        [2590., 2600., 2610., 2620., 2630.],\n",
       "        [2830., 2840., 2850., 2860., 2870.],\n",
       "        [3070., 3080., 3090., 3100., 3110.]])"
      ]
     },
     "execution_count": null,
     "metadata": {},
     "output_type": "execute_result"
    }
   ],
   "source": [
    "insample_y"
   ]
  },
  {
   "cell_type": "code",
   "execution_count": null,
   "metadata": {},
   "outputs": [
    {
     "data": {
      "text/plain": [
       "tensor([[  24.,   25.,   26.,   27.,   28.],\n",
       "        [  48.,   49.,   50.,   51.,   52.],\n",
       "        [  72.,   73.,   74.,   75.,   76.],\n",
       "        [  96.,   97.,   98.,   99.,  100.],\n",
       "        [ 120.,  121.,  122.,  123.,  124.],\n",
       "        [ 144.,  145.,  146.,  147.,  148.],\n",
       "        [ 168.,  169.,  170.,  171.,  172.],\n",
       "        [ 192.,  193.,  194.,  195.,  196.],\n",
       "        [ 216.,  217.,  218.,  219.,  220.],\n",
       "        [ 240.,  241.,  242.,  243.,  244.],\n",
       "        [ 264.,  265.,  266.,  267.,  268.],\n",
       "        [ 288.,  289.,  290.,  291.,  292.],\n",
       "        [ 312.,  313.,  314.,  315.,  316.],\n",
       "        [ 240.,  250.,  260.,  270.,  280.],\n",
       "        [ 480.,  490.,  500.,  510.,  520.],\n",
       "        [ 720.,  730.,  740.,  750.,  760.],\n",
       "        [ 960.,  970.,  980.,  990., 1000.],\n",
       "        [1200., 1210., 1220., 1230., 1240.],\n",
       "        [1440., 1450., 1460., 1470., 1480.],\n",
       "        [1680., 1690., 1700., 1710., 1720.],\n",
       "        [1920., 1930., 1940., 1950., 1960.],\n",
       "        [2160., 2170., 2180., 2190., 2200.],\n",
       "        [2400., 2410., 2420., 2430., 2440.],\n",
       "        [2640., 2650., 2660., 2670., 2680.],\n",
       "        [2880., 2890., 2900., 2910., 2920.],\n",
       "        [3120., 3130., 3140., 3150., 3160.]])"
      ]
     },
     "execution_count": null,
     "metadata": {},
     "output_type": "execute_result"
    }
   ],
   "source": [
    "outsample_y"
   ]
  },
  {
   "cell_type": "code",
   "execution_count": null,
   "metadata": {},
   "outputs": [
    {
     "data": {
      "text/plain": [
       "array([[1., 0.],\n",
       "       [1., 0.],\n",
       "       [1., 0.],\n",
       "       [1., 0.],\n",
       "       [1., 0.],\n",
       "       [1., 0.],\n",
       "       [1., 0.],\n",
       "       [1., 0.],\n",
       "       [1., 0.],\n",
       "       [1., 0.],\n",
       "       [1., 0.],\n",
       "       [1., 0.],\n",
       "       [1., 0.],\n",
       "       [0., 1.],\n",
       "       [0., 1.],\n",
       "       [0., 1.],\n",
       "       [0., 1.],\n",
       "       [0., 1.],\n",
       "       [0., 1.],\n",
       "       [0., 1.],\n",
       "       [0., 1.],\n",
       "       [0., 1.],\n",
       "       [0., 1.],\n",
       "       [0., 1.],\n",
       "       [0., 1.],\n",
       "       [0., 1.]])"
      ]
     },
     "execution_count": null,
     "metadata": {},
     "output_type": "execute_result"
    }
   ],
   "source": [
    "s_matrix"
   ]
  }
 ],
 "metadata": {
  "kernelspec": {
   "display_name": "nixtla",
   "language": "python",
   "name": "nixtla"
  }
 },
 "nbformat": 4,
 "nbformat_minor": 2
}
