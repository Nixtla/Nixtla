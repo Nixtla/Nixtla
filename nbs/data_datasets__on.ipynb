{
 "cells": [
  {
   "cell_type": "code",
   "execution_count": null,
   "metadata": {},
   "outputs": [],
   "source": [
    "#default_exp data.datasets.on"
   ]
  },
  {
   "cell_type": "code",
   "execution_count": null,
   "metadata": {},
   "outputs": [],
   "source": [
    "#export\n",
    "from dataclasses import dataclass\n",
    "from datetime import timedelta\n",
    "from pathlib import Path\n",
    "from typing import Dict, List, Optional, Tuple, Union\n",
    "\n",
    "import numpy as np\n",
    "import pandas as pd\n",
    "pd.options.display.max_columns = None\n",
    "pd.options.display.max_rows = 100\n",
    "from pandas.tseries.frequencies import to_offset\n",
    "\n",
    "from nixtla.data.datasets.utils import download_file, Info, TimeSeriesDataclass\n",
    "from nixtla.data.ontsdataset import TimeSeriesDataset"
   ]
  },
  {
   "cell_type": "code",
   "execution_count": null,
   "metadata": {},
   "outputs": [],
   "source": [
    "#export\n",
    "def load_on_data(root_dir, test_date, last_date):\n",
    "    # Declare future variables\n",
    "    f_cols = ['PD_0','PS_0','day_0','day_1','day_2','day_3','day_4','day_5','day_6',\n",
    "              'hour_0', 'hour_1','hour_2','hour_3','hour_4','hour_5','hour_6','hour_7','hour_8',\n",
    "              'hour_9','hour_10','hour_11','hour_12','hour_13','hour_14','hour_15','hour_16',\n",
    "              'hour_17','hour_18','hour_19','hour_20','hour_21','hour_22','hour_23',\n",
    "              'temperature_0', 'temperature_1', 'temperature_2', 'temperature_3', 'temperature_4',\n",
    "              'pressure_0', 'pressure_1', 'pressure_2', 'pressure_3', 'pressure_4', 'humidity_0',\n",
    "              'humidity_1', 'humidity_2', 'humidity_3', 'humidity_4', 'wind_speed_0', 'wind_speed_1',\n",
    "              'wind_speed_2', 'wind_speed_3', 'wind_speed_4', 'rain_0', 'rain_1', 'rain_2', 'rain_3', 'rain_4', 'total_demand']\n",
    "\n",
    "    # Demanda Final\n",
    "    demanda_final = pd.read_csv(f'{root_dir}/Demanda_Final.csv')\n",
    "    demanda_final.columns = ['ds','y']\n",
    "    demanda_final['unique_id'] = 'demanda_final'\n",
    "    demanda_final['ds'] = pd.to_datetime(demanda_final['ds'])\n",
    "    demanda_final = demanda_final[demanda_final['ds']<last_date]\n",
    "    demanda_final = demanda_final[demanda_final['ds']>='2017-10-07'].reset_index(drop=True)\n",
    "\n",
    "    # Ejecutado\n",
    "    ejecutado = pd.read_csv(f'{root_dir}/Despacho_Reprograma.csv')\n",
    "    ejecutado = ejecutado[['DATE_TIME','EJECUTADO']]\n",
    "    ejecutado.columns = ['ds','ejecutado']\n",
    "    ejecutado['ds'] = pd.to_datetime(ejecutado['ds'])\n",
    "    ejecutado = ejecutado[ejecutado['ds']<last_date]\n",
    "    ejecutado = ejecutado[ejecutado['ds']>='2017-10-07'].reset_index(drop=True)\n",
    "\n",
    "    # Train data (ON exogenous variables)\n",
    "    train_data = pd.read_csv(f'{root_dir}/Training_Data.csv')\n",
    "    train_data = train_data.rename(columns={'CURRENT_TIME':'ds'})\n",
    "    train_data['ds'] = pd.to_datetime(train_data['ds'])\n",
    "    train_data = train_data[train_data['ds']<last_date]\n",
    "    train_data = train_data[train_data['ds']>='2017-10-07'].reset_index(drop=True)\n",
    "\n",
    "    # Historic Weather\n",
    "    data_weather = pd.read_csv(f'{root_dir}/HistoricalWeather.csv')\n",
    "    data_weather['dt_iso'] = data_weather['dt_iso'].str[:-10]\n",
    "    data_weather['dt_iso'] = pd.to_datetime(data_weather['dt_iso'])\n",
    "    data_weather = data_weather[data_weather['dt_iso']>='2017-10-07'].reset_index(drop=True)\n",
    "    data_weather = data_weather[['dt_iso', 'city_name', 'temp', 'feels_like', 'rain_1h', 'pressure', 'humidity', 'wind_speed', 'clouds_all']]\n",
    "    data_weather = data_weather.drop_duplicates(subset=['dt_iso', 'city_name']).reset_index(drop=True)\n",
    "    data_weather = data_weather.pivot(index='dt_iso', columns='city_name').reset_index()\n",
    "    data_weather.columns = ['_'.join(col).strip() for col in data_weather.columns.values]\n",
    "    data_weather = data_weather.rename(columns = {'dt_iso_':'ds'})\n",
    "    data_weather = data_weather.fillna(0) # Fill rain nans with 0\n",
    "\n",
    "    # Forecast Weather\n",
    "    data_f_weather = pd.read_csv(f'{root_dir}/Historical ForecastWeather.csv')\n",
    "    # Between 1 and 21,600 takes next 6h of forecasts. Always uses last available forecast for each ds\n",
    "    data_f_weather = data_f_weather[(data_f_weather['slice dt unixtime']-data_f_weather['forecast dt unixtime']). \\\n",
    "                                    between(1, 21600)].reset_index(drop=True)\n",
    "    data_f_weather['forecast dt iso'] = data_f_weather['forecast dt iso'].str[:-10]\n",
    "    data_f_weather['forecast dt iso'] = pd.to_datetime(data_f_weather['forecast dt iso'])\n",
    "    data_f_weather = data_f_weather[data_f_weather['forecast dt iso']>='2017-10-07'].reset_index(drop=True)\n",
    "    data_f_weather = data_f_weather.rename(columns = {'forecast dt iso':'ds'})\n",
    "    data_f_weather['city'] = data_f_weather.groupby(['lat']).ngroup()\n",
    "    data_f_weather['city'] = data_f_weather['city'].astype(str)\n",
    "    data_f_weather = data_f_weather[['ds', 'city', 'temperature', 'pressure', 'humidity', 'wind_speed', 'rain']]\n",
    "    data_f_weather = data_f_weather.drop_duplicates(subset=['ds', 'city']).reset_index(drop=True)\n",
    "    data_f_weather = data_f_weather.pivot(index='ds', columns='city').reset_index()\n",
    "    data_f_weather.columns = ['_'.join(col).strip() for col in data_f_weather.columns.values]\n",
    "    data_f_weather = data_f_weather.rename(columns = {'ds_':'ds'})\n",
    "    data_f_weather = data_f_weather.fillna(0) # Fill rain nans with 0\n",
    "\n",
    "    # Total demand of large clients\n",
    "    large_demand = pd.read_csv(f'{root_dir}/usuarios_libres_demanda_prevista_semanal.csv')\n",
    "    large_demand['EQUIPO'] = pd.to_datetime(large_demand['EQUIPO'])\n",
    "    large_demand = large_demand[large_demand['EQUIPO']>='2017-10-07'].reset_index(drop=True)\n",
    "    large_demand = large_demand.fillna(0)\n",
    "    large_demand['total_demand'] = np.sum(large_demand.values[:,1:], axis=1)\n",
    "    large_demand = large_demand[['EQUIPO', 'total_demand']]\n",
    "    large_demand.columns = ['ds', 'total_demand']\n",
    "\n",
    "    # Merge\n",
    "    data = demanda_final.merge(ejecutado, how='left', indicator=False) #ejecutado needs to be first exogenous variable\n",
    "    data = data.merge(train_data, how='left', indicator=False)\n",
    "    data[['ejecutado']] = data[['ejecutado']].fillna(method='ffill') #ffill to avoid leakage from immediate next ejecutado\n",
    "    data = data.merge(data_weather, how='left', on='ds')\n",
    "    data = data.merge(data_f_weather, how='left', on='ds')\n",
    "    data = data.merge(large_demand, how='left', on='ds')\n",
    "    data = data.fillna(method='ffill') # ffill 15-mintues with last available forecast\n",
    "\n",
    "    data['hour'] = data['ds'].dt.hour\n",
    "    dummies = pd.get_dummies(data['hour'],prefix='hour')\n",
    "    data = pd.concat((data,dummies), axis=1)\n",
    "\n",
    "    data['day'] = data['ds'].dt.dayofweek\n",
    "    dummies = pd.get_dummies(data['day'],prefix='day')\n",
    "    data = pd.concat((data,dummies), axis=1)\n",
    "\n",
    "    dummies_cols = [col for col in data if (col.startswith('day') or col.startswith('hour_'))]\n",
    "\n",
    "    X_t_df = data.drop(columns=['hour','day','y'])\n",
    "    y_df = data[['unique_id','ds','y']]\n",
    "\n",
    "    Y_insample_df = y_df[y_df['ds'] < test_date].reset_index(drop=True)\n",
    "    Y_outsample_df = y_df[y_df['ds'] >= test_date].reset_index(drop=True)\n",
    "\n",
    "    X_insample_df = X_t_df[X_t_df['ds'] < test_date].reset_index(drop=True)\n",
    "    X_outsample_df = X_t_df[X_t_df['ds'] >= test_date].reset_index(drop=True)\n",
    "\n",
    "    # Filter_variables\n",
    "    variables = ['ds','unique_id','ejecutado', 'total_demand', 'PD_0', 'DECIMAL_HOUR',\n",
    "                 'temperature_0', 'temperature_1', 'temperature_2', 'temperature_3', 'temperature_4',\n",
    "                 'pressure_0', 'pressure_1', 'pressure_2', 'pressure_3', 'pressure_4',\n",
    "                 'humidity_0', 'humidity_1', 'humidity_2', 'humidity_3', 'humidity_4',\n",
    "                 'rain_0', 'rain_1', 'rain_2', 'rain_3', 'rain_4']\n",
    "\n",
    "    X_insample_df = X_insample_df[variables] \n",
    "    X_outsample_df = X_outsample_df[variables] \n",
    "    return Y_insample_df, X_insample_df, Y_outsample_df, X_outsample_df, f_cols"
   ]
  },
  {
   "cell_type": "code",
   "execution_count": null,
   "metadata": {},
   "outputs": [],
   "source": [
    "Y_df, X_df, Y_outsample_df, X_outsample_df, f_cols = load_on_data(root_dir='../data/on',\n",
    "                                                                  test_date='2020-01-01',\n",
    "                                                                  last_date='2021-01-01')"
   ]
  },
  {
   "cell_type": "code",
   "execution_count": null,
   "metadata": {},
   "outputs": [
    {
     "data": {
      "text/html": "<div>\n<style scoped>\n    .dataframe tbody tr th:only-of-type {\n        vertical-align: middle;\n    }\n\n    .dataframe tbody tr th {\n        vertical-align: top;\n    }\n\n    .dataframe thead th {\n        text-align: right;\n    }\n</style>\n<table border=\"1\" class=\"dataframe\">\n  <thead>\n    <tr style=\"text-align: right;\">\n      <th></th>\n      <th>unique_id</th>\n      <th>ds</th>\n      <th>y</th>\n    </tr>\n  </thead>\n  <tbody>\n    <tr>\n      <th>0</th>\n      <td>demanda_final</td>\n      <td>2017-10-07 00:00:00</td>\n      <td>5545.98338</td>\n    </tr>\n    <tr>\n      <th>1</th>\n      <td>demanda_final</td>\n      <td>2017-10-07 00:15:00</td>\n      <td>5448.66753</td>\n    </tr>\n    <tr>\n      <th>2</th>\n      <td>demanda_final</td>\n      <td>2017-10-07 00:30:00</td>\n      <td>5392.92989</td>\n    </tr>\n    <tr>\n      <th>3</th>\n      <td>demanda_final</td>\n      <td>2017-10-07 00:45:00</td>\n      <td>5371.67098</td>\n    </tr>\n    <tr>\n      <th>4</th>\n      <td>demanda_final</td>\n      <td>2017-10-07 01:00:00</td>\n      <td>5296.58436</td>\n    </tr>\n  </tbody>\n</table>\n</div>",
      "text/plain": [
       "       unique_id                  ds           y\n",
       "0  demanda_final 2017-10-07 00:00:00  5545.98338\n",
       "1  demanda_final 2017-10-07 00:15:00  5448.66753\n",
       "2  demanda_final 2017-10-07 00:30:00  5392.92989\n",
       "3  demanda_final 2017-10-07 00:45:00  5371.67098\n",
       "4  demanda_final 2017-10-07 01:00:00  5296.58436"
      ]
     },
     "execution_count": null,
     "metadata": {},
     "output_type": "execute_result"
    }
   ],
   "source": [
    "Y_df.head()"
   ]
  },
  {
   "cell_type": "code",
   "execution_count": null,
   "metadata": {},
   "outputs": [
    {
     "data": {
      "text/html": "<div>\n<style scoped>\n    .dataframe tbody tr th:only-of-type {\n        vertical-align: middle;\n    }\n\n    .dataframe tbody tr th {\n        vertical-align: top;\n    }\n\n    .dataframe thead th {\n        text-align: right;\n    }\n</style>\n<table border=\"1\" class=\"dataframe\">\n  <thead>\n    <tr style=\"text-align: right;\">\n      <th></th>\n      <th>ds</th>\n      <th>unique_id</th>\n      <th>ejecutado</th>\n      <th>total_demand</th>\n      <th>PD_0</th>\n      <th>DECIMAL_HOUR</th>\n      <th>temperature_0</th>\n      <th>temperature_1</th>\n      <th>temperature_2</th>\n      <th>temperature_3</th>\n      <th>temperature_4</th>\n      <th>pressure_0</th>\n      <th>pressure_1</th>\n      <th>pressure_2</th>\n      <th>pressure_3</th>\n      <th>pressure_4</th>\n      <th>humidity_0</th>\n      <th>humidity_1</th>\n      <th>humidity_2</th>\n      <th>humidity_3</th>\n      <th>humidity_4</th>\n      <th>rain_0</th>\n      <th>rain_1</th>\n      <th>rain_2</th>\n      <th>rain_3</th>\n      <th>rain_4</th>\n    </tr>\n  </thead>\n  <tbody>\n    <tr>\n      <th>0</th>\n      <td>2017-10-07 00:00:00</td>\n      <td>demanda_final</td>\n      <td>5522.52359</td>\n      <td>2236.738</td>\n      <td>5559.55969</td>\n      <td>0.00</td>\n      <td>286.522</td>\n      <td>289.192</td>\n      <td>282.922</td>\n      <td>291.182</td>\n      <td>279.682</td>\n      <td>1019.304</td>\n      <td>1018.519</td>\n      <td>1020.682</td>\n      <td>1018.701</td>\n      <td>1019.444</td>\n      <td>48.606</td>\n      <td>56.806</td>\n      <td>55.206</td>\n      <td>73.206</td>\n      <td>50.406</td>\n      <td>0.0</td>\n      <td>0.0</td>\n      <td>0.0</td>\n      <td>0.0</td>\n      <td>0.0</td>\n    </tr>\n    <tr>\n      <th>1</th>\n      <td>2017-10-07 00:15:00</td>\n      <td>demanda_final</td>\n      <td>5522.52359</td>\n      <td>2236.738</td>\n      <td>5375.72396</td>\n      <td>0.25</td>\n      <td>286.522</td>\n      <td>289.192</td>\n      <td>282.922</td>\n      <td>291.182</td>\n      <td>279.682</td>\n      <td>1019.304</td>\n      <td>1018.519</td>\n      <td>1020.682</td>\n      <td>1018.701</td>\n      <td>1019.444</td>\n      <td>48.606</td>\n      <td>56.806</td>\n      <td>55.206</td>\n      <td>73.206</td>\n      <td>50.406</td>\n      <td>0.0</td>\n      <td>0.0</td>\n      <td>0.0</td>\n      <td>0.0</td>\n      <td>0.0</td>\n    </tr>\n    <tr>\n      <th>2</th>\n      <td>2017-10-07 00:30:00</td>\n      <td>demanda_final</td>\n      <td>5400.83722</td>\n      <td>2226.981</td>\n      <td>5375.72396</td>\n      <td>0.50</td>\n      <td>286.522</td>\n      <td>289.192</td>\n      <td>282.922</td>\n      <td>291.182</td>\n      <td>279.682</td>\n      <td>1019.304</td>\n      <td>1018.519</td>\n      <td>1020.682</td>\n      <td>1018.701</td>\n      <td>1019.444</td>\n      <td>48.606</td>\n      <td>56.806</td>\n      <td>55.206</td>\n      <td>73.206</td>\n      <td>50.406</td>\n      <td>0.0</td>\n      <td>0.0</td>\n      <td>0.0</td>\n      <td>0.0</td>\n      <td>0.0</td>\n    </tr>\n    <tr>\n      <th>3</th>\n      <td>2017-10-07 00:45:00</td>\n      <td>demanda_final</td>\n      <td>5400.83722</td>\n      <td>2226.981</td>\n      <td>5275.65261</td>\n      <td>0.75</td>\n      <td>286.522</td>\n      <td>289.192</td>\n      <td>282.922</td>\n      <td>291.182</td>\n      <td>279.682</td>\n      <td>1019.304</td>\n      <td>1018.519</td>\n      <td>1020.682</td>\n      <td>1018.701</td>\n      <td>1019.444</td>\n      <td>48.606</td>\n      <td>56.806</td>\n      <td>55.206</td>\n      <td>73.206</td>\n      <td>50.406</td>\n      <td>0.0</td>\n      <td>0.0</td>\n      <td>0.0</td>\n      <td>0.0</td>\n      <td>0.0</td>\n    </tr>\n    <tr>\n      <th>4</th>\n      <td>2017-10-07 01:00:00</td>\n      <td>demanda_final</td>\n      <td>5318.78278</td>\n      <td>2230.466</td>\n      <td>5275.65261</td>\n      <td>1.00</td>\n      <td>286.522</td>\n      <td>289.192</td>\n      <td>282.922</td>\n      <td>291.182</td>\n      <td>279.682</td>\n      <td>1019.304</td>\n      <td>1018.519</td>\n      <td>1020.682</td>\n      <td>1018.701</td>\n      <td>1019.444</td>\n      <td>48.606</td>\n      <td>56.806</td>\n      <td>55.206</td>\n      <td>73.206</td>\n      <td>50.406</td>\n      <td>0.0</td>\n      <td>0.0</td>\n      <td>0.0</td>\n      <td>0.0</td>\n      <td>0.0</td>\n    </tr>\n  </tbody>\n</table>\n</div>",
      "text/plain": [
       "                   ds      unique_id   ejecutado  total_demand        PD_0  \\\n",
       "0 2017-10-07 00:00:00  demanda_final  5522.52359      2236.738  5559.55969   \n",
       "1 2017-10-07 00:15:00  demanda_final  5522.52359      2236.738  5375.72396   \n",
       "2 2017-10-07 00:30:00  demanda_final  5400.83722      2226.981  5375.72396   \n",
       "3 2017-10-07 00:45:00  demanda_final  5400.83722      2226.981  5275.65261   \n",
       "4 2017-10-07 01:00:00  demanda_final  5318.78278      2230.466  5275.65261   \n",
       "\n",
       "   DECIMAL_HOUR  temperature_0  temperature_1  temperature_2  temperature_3  \\\n",
       "0          0.00        286.522        289.192        282.922        291.182   \n",
       "1          0.25        286.522        289.192        282.922        291.182   \n",
       "2          0.50        286.522        289.192        282.922        291.182   \n",
       "3          0.75        286.522        289.192        282.922        291.182   \n",
       "4          1.00        286.522        289.192        282.922        291.182   \n",
       "\n",
       "   temperature_4  pressure_0  pressure_1  pressure_2  pressure_3  pressure_4  \\\n",
       "0        279.682    1019.304    1018.519    1020.682    1018.701    1019.444   \n",
       "1        279.682    1019.304    1018.519    1020.682    1018.701    1019.444   \n",
       "2        279.682    1019.304    1018.519    1020.682    1018.701    1019.444   \n",
       "3        279.682    1019.304    1018.519    1020.682    1018.701    1019.444   \n",
       "4        279.682    1019.304    1018.519    1020.682    1018.701    1019.444   \n",
       "\n",
       "   humidity_0  humidity_1  humidity_2  humidity_3  humidity_4  rain_0  rain_1  \\\n",
       "0      48.606      56.806      55.206      73.206      50.406     0.0     0.0   \n",
       "1      48.606      56.806      55.206      73.206      50.406     0.0     0.0   \n",
       "2      48.606      56.806      55.206      73.206      50.406     0.0     0.0   \n",
       "3      48.606      56.806      55.206      73.206      50.406     0.0     0.0   \n",
       "4      48.606      56.806      55.206      73.206      50.406     0.0     0.0   \n",
       "\n",
       "   rain_2  rain_3  rain_4  \n",
       "0     0.0     0.0     0.0  \n",
       "1     0.0     0.0     0.0  \n",
       "2     0.0     0.0     0.0  \n",
       "3     0.0     0.0     0.0  \n",
       "4     0.0     0.0     0.0  "
      ]
     },
     "execution_count": null,
     "metadata": {},
     "output_type": "execute_result"
    }
   ],
   "source": [
    "X_df.head()"
   ]
  },
  {
   "cell_type": "code",
   "execution_count": null,
   "metadata": {},
   "outputs": [],
   "source": []
  }
 ],
 "metadata": {
  "kernelspec": {
   "display_name": "Python 3.7.8 64-bit ('nixtla': conda)",
   "metadata": {
    "interpreter": {
     "hash": "52b0028e7074a0058398558ea661882eddbb489e66a28504cc0449d2f54d6290"
    }
   },
   "name": "python3"
  }
 },
 "nbformat": 4,
 "nbformat_minor": 2
}
