{
 "cells": [
  {
   "cell_type": "code",
   "execution_count": null,
   "metadata": {},
   "outputs": [],
   "source": [
    "#default_exp data.datasets.business"
   ]
  },
  {
   "cell_type": "markdown",
   "metadata": {},
   "source": [
    "# Business datasets\n",
    "\n",
    "> API details."
   ]
  },
  {
   "cell_type": "code",
   "execution_count": null,
   "metadata": {},
   "outputs": [],
   "source": [
    "#export\n",
    "import os\n",
    "from dataclasses import dataclass\n",
    "from pathlib import Path\n",
    "from typing import Dict, List, Optional, Tuple, Union\n",
    "\n",
    "import numpy as np\n",
    "import pandas as pd\n",
    "import s3fs\n",
    "from dotenv import load_dotenv\n",
    "\n",
    "from nixtla.data.datasets.utils import download_file, Info, TimeSeriesDataclass\n",
    "from nixtla.data.tsdataset import TimeSeriesDataset"
   ]
  },
  {
   "cell_type": "code",
   "execution_count": null,
   "metadata": {},
   "outputs": [
    {
     "data": {
      "text/plain": [
       "True"
      ]
     },
     "execution_count": null,
     "metadata": {},
     "output_type": "execute_result"
    }
   ],
   "source": [
    "#export\n",
    "load_dotenv()"
   ]
  },
  {
   "cell_type": "markdown",
   "metadata": {},
   "source": [
    "Tourism meta information"
   ]
  },
  {
   "cell_type": "code",
   "execution_count": null,
   "metadata": {},
   "outputs": [],
   "source": [
    "#export\n",
    "@dataclass\n",
    "class BRC:\n",
    "    seasonality: int = 7\n",
    "    horizon: int = 7\n",
    "\n",
    "@dataclass\n",
    "class GLB:\n",
    "    seasonality: int = 7\n",
    "    horizon: int = 7"
   ]
  },
  {
   "cell_type": "code",
   "execution_count": null,
   "metadata": {},
   "outputs": [],
   "source": [
    "#export\n",
    "BusinessInfo = Info(groups=('BRC', 'GLB'),\n",
    "                    class_groups=(BRC, GLB))"
   ]
  },
  {
   "cell_type": "code",
   "execution_count": null,
   "metadata": {},
   "outputs": [],
   "source": [
    "#export\n",
    "class Business(TimeSeriesDataclass):\n",
    "\n",
    "    @staticmethod\n",
    "    def load(directory: str,\n",
    "             group: str,\n",
    "             return_tensor: bool = True,\n",
    "             return_weekly: bool = False) -> Tuple[pd.DataFrame, \n",
    "                                                   Optional[pd.DataFrame], \n",
    "                                                   Optional[pd.DataFrame]]:\n",
    "        \"\"\"\n",
    "        Downloads and loads Tourism data.\n",
    "\n",
    "        Parameters\n",
    "        ----------\n",
    "        directory: str\n",
    "            Directory where data will be downloaded.\n",
    "        group: str\n",
    "            Group name.\n",
    "            Allowed groups: 'D1', 'D2'.\n",
    "            \n",
    "        Notes\n",
    "        -----\n",
    "        [1] Returns train+test sets.\n",
    "        \"\"\"\n",
    "        path = Path(directory) / 'business' / 'datasets'\n",
    "\n",
    "        Business.download(directory, group)\n",
    "\n",
    "        df = pd.read_csv(path / f'ts-{group.lower()}.csv')\n",
    "        df['ds'] = pd.to_datetime(df['ds'])\n",
    "        \n",
    "        if return_weekly:\n",
    "            df = df.groupby(['unique_id', pd.Grouper(key='ds', freq='W-THU')]) \\\n",
    "                   .sum() \\\n",
    "                   .reset_index()\n",
    "            \n",
    "        return df, None, None\n",
    "\n",
    "    @staticmethod\n",
    "    def download(directory: str, group: str) -> None:\n",
    "        \"\"\"Downloads Business Dataset.\"\"\"\n",
    "        \n",
    "        fs = s3fs.S3FileSystem(key=os.environ['AWS_ACCES_KEY_ID'], \n",
    "                               secret=os.environ['AWS_SECRET_ACCESS_KEY'])\n",
    "\n",
    "        path = Path(directory) / 'business' / 'datasets'\n",
    "        download_file = path / f'ts-{group.lower()}.csv'\n",
    "        if not download_file.exists():\n",
    "            file = f'research-storage-orax/business-data/ts-{group.lower()}.csv'\n",
    "            fs.download(file, str(download_file))"
   ]
  },
  {
   "cell_type": "code",
   "execution_count": null,
   "metadata": {},
   "outputs": [
    {
     "name": "stdout",
     "output_type": "stream",
     "text": [
      "BRC\n",
      "            unique_id         ds     y\n",
      "0  uid_12601_2_124692 2018-01-02  66.0\n",
      "1  uid_12601_2_124692 2018-01-03  70.0\n",
      "2  uid_12601_2_124692 2018-01-04  53.0\n",
      "3  uid_12601_2_124692 2018-01-05  52.0\n",
      "4  uid_12601_2_124692 2018-01-06  45.0\n",
      "GLB\n"
     ]
    }
   ],
   "source": [
    "if os.environ.get('AWS_ACCES_KEY_ID'):\n",
    "    for group in BusinessInfo.groups:\n",
    "        print(group)\n",
    "        dataset, *_ = Business.load(directory='data', group=group)\n",
    "        print(dataset.head())"
   ]
  }
 ],
 "metadata": {
  "kernelspec": {
   "display_name": "nixtla",
   "language": "python",
   "name": "nixtla"
  }
 },
 "nbformat": 4,
 "nbformat_minor": 4
}
