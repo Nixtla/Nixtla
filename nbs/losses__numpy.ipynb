{
 "cells": [
  {
   "cell_type": "code",
   "execution_count": null,
   "metadata": {},
   "outputs": [],
   "source": [
    "# default_exp losses.numpy"
   ]
  },
  {
   "cell_type": "code",
   "execution_count": null,
   "metadata": {},
   "outputs": [],
   "source": [
    "#hide\n",
    "%load_ext autoreload\n",
    "%autoreload 2"
   ]
  },
  {
   "cell_type": "markdown",
   "metadata": {},
   "source": [
    "# EVALUATION METRICS\n",
    "\n",
    "> API details."
   ]
  },
  {
   "cell_type": "code",
   "execution_count": null,
   "metadata": {},
   "outputs": [],
   "source": [
    "#export\n",
    "from math import sqrt\n",
    "\n",
    "import numpy as np\n",
    "\n",
    "# TODO: Create new file with protections shared by pytorch losses and numpy losses (divide_no_nan)\n",
    "# TODO: Think more efficient way of masking y_mask availability, without indexing (maybe 0s)\n",
    "# TODO: Think how to deal with general scaled metrics, like MASE and RMAE"
   ]
  },
  {
   "cell_type": "code",
   "execution_count": null,
   "metadata": {},
   "outputs": [],
   "source": [
    "#export\n",
    "def divide_no_nan(a, b):\n",
    "    \"\"\"\n",
    "    Auxiliary funtion to handle divide by 0\n",
    "    \"\"\"\n",
    "    div = a / b\n",
    "    div[div != div] = 0.0\n",
    "    div[div == float('inf')] = 0.0\n",
    "    return div"
   ]
  },
  {
   "cell_type": "code",
   "execution_count": null,
   "metadata": {},
   "outputs": [],
   "source": [
    "# export\n",
    "def metric_protections(y: np.ndarray, y_hat: np.ndarray, weights):\n",
    "    assert (weights is None) or (np.sum(weights)>0), 'Sum of weights cannot be 0'\n",
    "    assert (weights is None) or (weights.shape == y.shape), 'Wrong weight dimension'"
   ]
  },
  {
   "cell_type": "code",
   "execution_count": null,
   "metadata": {},
   "outputs": [],
   "source": [
    "#export\n",
    "def mape(y: np.ndarray, y_hat: np.ndarray, weights=None) -> float:\n",
    "    #TODO: weights no hace nada\n",
    "    \"\"\"Calculates Mean Absolute Percentage Error.\n",
    "    MAPE measures the relative prediction accuracy of a\n",
    "    forecasting method by calculating the percentual deviation\n",
    "    of the prediction and the true value at a given time and\n",
    "    averages these devations over the length of the series.\n",
    "    \n",
    "    Parameters\n",
    "    ----------\n",
    "    y: numpy array\n",
    "      actual test values\n",
    "    y_hat: numpy array\n",
    "      predicted values\n",
    "    weights: numpy array\n",
    "      weights for weigted average\n",
    " \n",
    "    Returns\n",
    "    -------\n",
    "    scalar: MAPE\n",
    "    \"\"\"\n",
    "    metric_protections(y, y_hat, weights)\n",
    "        \n",
    "    delta_y = np.abs(y - y_hat)\n",
    "    scale = np.abs(y)\n",
    "    mape = divide_no_nan(delta_y, scale)\n",
    "    mape = np.average(mape, weights=weights)\n",
    "    mape = 100 * mape\n",
    "    return mape"
   ]
  },
  {
   "cell_type": "code",
   "execution_count": null,
   "metadata": {},
   "outputs": [],
   "source": [
    "#export\n",
    "def mse(y: np.ndarray, y_hat: np.ndarray, weights=None) -> float:\n",
    "    \"\"\"Calculates Mean Squared Error.\n",
    "    MSE measures the prediction accuracy of a\n",
    "    forecasting method by calculating the squared deviation\n",
    "    of the prediction and the true value at a given time and\n",
    "    averages these devations over the length of the series.\n",
    "    \n",
    "    Parameters\n",
    "    ----------\n",
    "    y: numpy array\n",
    "        actual test values\n",
    "    y_hat: numpy array\n",
    "        predicted values \n",
    "    weights: numpy array\n",
    "      weights for weigted average\n",
    "        \n",
    "    Returns\n",
    "    -------\n",
    "    scalar: MSE\n",
    "    \"\"\"\n",
    "    metric_protections(y, y_hat, weights)\n",
    "\n",
    "    delta_y = np.square(y - y_hat)\n",
    "    if weights is not None:\n",
    "        mse = np.average(delta_y[~np.isnan(delta_y)], weights=weights[~np.isnan(delta_y)])\n",
    "    else:\n",
    "        mse = np.nanmean(delta_y)\n",
    "    return mse"
   ]
  },
  {
   "cell_type": "code",
   "execution_count": null,
   "metadata": {},
   "outputs": [],
   "source": [
    "#export\n",
    "def rmse(y: np.ndarray, y_hat: np.ndarray, weights=None) -> float:\n",
    "    \"\"\"Calculates Root Mean Squared Error.\n",
    "    RMSE measures the prediction accuracy of a\n",
    "    forecasting method by calculating the squared deviation\n",
    "    of the prediction and the true value at a given time and\n",
    "    averages these devations over the length of the series.\n",
    "    Finally the RMSE will be in the same scale\n",
    "    as the original time series so its comparison with other\n",
    "    series is possible only if they share a common scale.\n",
    "    \n",
    "    Parameters\n",
    "    ----------\n",
    "    y: numpy array\n",
    "      actual test values\n",
    "    y_hat: numpy array\n",
    "      predicted values    \n",
    "    weights: numpy array\n",
    "      weights for weigted average      \n",
    "      \n",
    "    Returns\n",
    "    -------\n",
    "    scalar: RMSE\n",
    "    \"\"\"\n",
    "\n",
    "    return np.sqrt(mse(y, y_hat, weights))"
   ]
  },
  {
   "cell_type": "code",
   "execution_count": null,
   "metadata": {},
   "outputs": [],
   "source": [
    "#export\n",
    "def smape(y: np.ndarray, y_hat: np.ndarray,\n",
    "          y_mask=None, weights=None) -> float:\n",
    "    \"\"\"Calculates Symmetric Mean Absolute Percentage Error.\n",
    "    \n",
    "    SMAPE measures the relative prediction accuracy of a\n",
    "    forecasting method by calculating the relative deviation\n",
    "    of the prediction and the true value scaled by the sum of the\n",
    "    absolute values for the prediction and true value at a\n",
    "    given time, then averages these devations over the length\n",
    "    of the series. This allows the SMAPE to have bounds between\n",
    "    0% and 200% which is desireble compared to normal MAPE that\n",
    "    may be undetermined.\n",
    "    \n",
    "    Parameters\n",
    "    ----------\n",
    "    y: numpy array\n",
    "      actual test values\n",
    "    y_hat: numpy array\n",
    "      predicted values\n",
    "    y_mask: numpy array\n",
    "      optional mask, 1 keep 0 omit      \n",
    "    weights: numpy array\n",
    "      weights for weigted average\n",
    "    \n",
    "    Returns\n",
    "    -------\n",
    "    scalar: SMAPE\n",
    "    \"\"\"\n",
    "    metric_protections(y, y_hat, weights)\n",
    "        \n",
    "    delta_y = np.abs(y - y_hat)\n",
    "    scale = np.abs(y) + np.abs(y_hat)\n",
    "    smape = divide_no_nan(delta_y, scale)\n",
    "    smape = 200 * np.average(smape, weights=weights)\n",
    "\n",
    "    assert smape <= 200, 'SMAPE should be lower than 200'\n",
    "    return smape"
   ]
  },
  {
   "cell_type": "code",
   "execution_count": null,
   "metadata": {},
   "outputs": [],
   "source": [
    "#export\n",
    "def mase(y: np.ndarray, y_hat: np.ndarray, weights=None):\n",
    "    \"\"\" Calculates the M4 Mean Absolute Scaled Error.\n",
    "\n",
    "    MASE measures the relative prediction accuracy of a\n",
    "    forecasting method by comparinng the mean absolute errors\n",
    "    of the prediction and the true value against the mean\n",
    "    absolute errors of the seasonal naive model.\n",
    "\n",
    "    Parameters\n",
    "    ----------\n",
    "    seasonality: int\n",
    "        main frequency of the time series\n",
    "        Hourly 24,  Daily 7, Weekly 52,\n",
    "        Monthly 12, Quarterly 4, Yearly 1\n",
    "    y: tensor (batch_size, output_size)\n",
    "        actual test values\n",
    "    y_hat: tensor (batch_size, output_size)\n",
    "        predicted values\n",
    "    y_train: tensor (batch_size, input_size)\n",
    "        actual insample values for Seasonal Naive predictions\n",
    "\n",
    "    Returns\n",
    "    -------\n",
    "    mase:\n",
    "        mean absolute scaled error\n",
    "\n",
    "    References\n",
    "    ----------\n",
    "    [1] https://robjhyndman.com/papers/mase.pdf\n",
    "    \"\"\"    \n",
    "    print(\"Not implemented yet\")"
   ]
  },
  {
   "cell_type": "code",
   "execution_count": null,
   "metadata": {},
   "outputs": [],
   "source": [
    "#export\n",
    "def mae(y: np.ndarray, y_hat: np.ndarray, weights=None):\n",
    "    \"\"\"Calculates Mean Absolute Error.\n",
    "\n",
    "    The mean absolute error \n",
    "\n",
    "    Parameters\n",
    "    ----------\n",
    "    y: numpy array\n",
    "        actual test values\n",
    "    y_hat: numpy array\n",
    "        predicted values\n",
    "    weights: numpy array\n",
    "      weights for weigted average\n",
    "\n",
    "    Return\n",
    "    ------\n",
    "    scalar: MAE\n",
    "    \"\"\"\n",
    "    metric_protections(y, y_hat, weights)\n",
    "    \n",
    "    delta_y = np.abs(y - y_hat)\n",
    "    if weights is not None:\n",
    "        mae = np.average(delta_y[~np.isnan(delta_y)], weights=weights[~np.isnan(delta_y)])\n",
    "    else:\n",
    "        mae = np.nanmean(delta_y)\n",
    "    return mae"
   ]
  },
  {
   "cell_type": "code",
   "execution_count": null,
   "metadata": {},
   "outputs": [],
   "source": [
    "#export\n",
    "def pinball_loss(y: np.ndarray, y_hat: np.ndarray, tau: float=0.5, weights=None) -> np.ndarray:\n",
    "    \"\"\"Calculates the Pinball Loss.\n",
    "\n",
    "    The Pinball loss measures the deviation of a quantile forecast.\n",
    "    By weighting the absolute deviation in a non symmetric way, the\n",
    "    loss pays more attention to under or over estimation.\n",
    "    A common value for tau is 0.5 for the deviation from the median.\n",
    "\n",
    "    Parameters\n",
    "    ----------\n",
    "    y: numpy array\n",
    "      actual test values\n",
    "    y_hat: numpy array of len h (forecasting horizon)\n",
    "      predicted values   \n",
    "    weights: numpy array\n",
    "      weights for weigted average      \n",
    "    tau: float\n",
    "      Fixes the quantile against which the predictions are compared.\n",
    "    Return\n",
    "    ------\n",
    "    return: pinball_loss\n",
    "    \"\"\"\n",
    "    metric_protections(y, y_hat, weights)\n",
    "\n",
    "    delta_y = y - y_hat\n",
    "    pinball = np.maximum(tau * delta_y, (tau - 1) * delta_y)\n",
    "\n",
    "    if weights is not None:\n",
    "        pinball = np.average(pinball[~np.isnan(pinball)], weights=weights[~np.isnan(pinball)])\n",
    "    else:\n",
    "        pinball = np.nanmean(pinball)\n",
    "    return pinball"
   ]
  },
  {
   "cell_type": "code",
   "execution_count": null,
   "metadata": {},
   "outputs": [],
   "source": [
    "# export\n",
    "def rmae(y: np.ndarray, \n",
    "         y_hat1: np.ndarray, y_hat2: np.ndarray, \n",
    "         weights=None):\n",
    "    \"\"\"Calculates Relative Mean Absolute Error.\n",
    "\n",
    "    The relative mean absolute error of two forecasts.\n",
    "    A number smaller than one implies that the forecast in the \n",
    "    numerator is better than the forecast in the denominator.\n",
    "\n",
    "    Parameters\n",
    "    ----------\n",
    "    y: numpy array\n",
    "      actual test values\n",
    "    y_hat1: numpy array\n",
    "      predicted values of first model\n",
    "    y_hat2: numpy array\n",
    "      predicted values of second model\n",
    "    weights: numpy array\n",
    "      weights for weigted average\n",
    "    freq: int\n",
    "      frequency of the y series, it will determine the\n",
    "      seasonal naive benchmark\n",
    "\n",
    "    Return\n",
    "    ------\n",
    "    scalar: rMAE\n",
    "    \"\"\"\n",
    "    numerator = mae(y=y, y_hat=y_hat1, weights=weights)\n",
    "    denominator = mae(y=y, y_hat=y_hat2, weights=weights)\n",
    "    rmae = numerator/denominator\n",
    "    return rmae"
   ]
  },
  {
   "cell_type": "markdown",
   "metadata": {},
   "source": [
    "# MULTI-QUANTILE LOSS\n",
    "\n",
    "MQLoss definition and testing"
   ]
  },
  {
   "cell_type": "code",
   "execution_count": null,
   "metadata": {},
   "outputs": [],
   "source": [
    "#export\n",
    "def mqloss(y, y_hat, quantiles, weights=None): \n",
    "    \"\"\"mqloss\n",
    "\n",
    "    Calculates Average Multi-quantile Loss function, for\n",
    "    a given set of quantiles, based on the absolute \n",
    "    difference between predicted and true values.\n",
    "\n",
    "    Parameters\n",
    "    ----------\n",
    "    y: np.array (batch_size, output_size) actual values in torch tensor.\n",
    "    y_hat: np.array (batch_size, output_size, n_quantiles) predicted values in torch tensor.\n",
    "    mask: np.array (batch_size, output_size, n_quantiles) specifies date stamps per serie\n",
    "          to consider in loss\n",
    "    quantiles: np.array(n_quantiles) quantiles to estimate from the distribution of y.\n",
    "\n",
    "    Returns\n",
    "    -------\n",
    "    lq: np.array(n_quantiles) average multi-quantile loss.\n",
    "    \"\"\"    \n",
    "    \n",
    "    if weights is None: weights = np.ones_like(y)\n",
    "\n",
    "    n_q = len(quantiles)\n",
    "    \n",
    "    y_rep = np.expand_dims(y, axis=-1)\n",
    "    error = y_hat - y_rep\n",
    "    sq = np.maximum(-error, np.zeros_like(error))\n",
    "    s1_q = np.maximum(error, np.zeros_like(error)) \n",
    "    loss = (quantiles * sq + (1 - quantiles) * s1_q) * np.expand_dims(weights, axis=-1)\n",
    "    return np.mean(np.mean(loss, axis=1))"
   ]
  },
  {
   "cell_type": "code",
   "execution_count": null,
   "metadata": {},
   "outputs": [
    {
     "data": {
      "text/plain": [
       "0.17958933926299467"
      ]
     },
     "execution_count": null,
     "metadata": {},
     "output_type": "execute_result"
    }
   ],
   "source": [
    "y = np.random.random(size=(100, 7))\n",
    "y_q = np.random.random(size=(100, 7, 4))\n",
    "weights = np.ones_like(y)\n",
    "quantiles = np.array([0.1, 0.2, 0.3, 0.4])\n",
    "\n",
    "mqloss(y, y_q, quantiles, weights)"
   ]
  },
  {
   "cell_type": "code",
   "execution_count": null,
   "metadata": {},
   "outputs": [
    {
     "data": {
      "text/plain": [
       "0.17958933926299467"
      ]
     },
     "execution_count": null,
     "metadata": {},
     "output_type": "execute_result"
    }
   ],
   "source": [
    "mqloss(y, y_q, quantiles)"
   ]
  },
  {
   "cell_type": "code",
   "execution_count": null,
   "metadata": {},
   "outputs": [],
   "source": [
    "#export\n",
    "def wmqloss(y, y_hat, quantiles, weights=None): \n",
    "    \"\"\"wmqloss\n",
    "\n",
    "    Calculates Average Multi-quantile Loss function, for\n",
    "    a given set of quantiles, based on the absolute \n",
    "    difference between predicted and true values.\n",
    "\n",
    "    Parameters\n",
    "    ----------\n",
    "    y: np.array (batch_size, output_size) actual values in torch tensor.\n",
    "    y_hat: np.array (batch_size, output_size, n_quantiles) predicted values in torch tensor.\n",
    "    mask: np.array (batch_size, output_size, n_quantiles) specifies date stamps per serie\n",
    "          to consider in loss\n",
    "    quantiles: np.array(n_quantiles) quantiles to estimate from the distribution of y.\n",
    "\n",
    "    Returns\n",
    "    -------\n",
    "    lq: np.array(n_quantiles) average multi-quantile loss.\n",
    "    \"\"\"    \n",
    "    \n",
    "    if weights is None: weights = np.ones_like(y)\n",
    "\n",
    "        \n",
    "    n_q = len(quantiles)\n",
    "    \n",
    "    y_rep = np.expand_dims(y, axis=-1)\n",
    "    error = y_hat - y_rep\n",
    "    sq = np.maximum(-error, np.zeros_like(error))\n",
    "    s1_q = np.maximum(error, np.zeros_like(error)) \n",
    "    loss = (quantiles * sq + (1 - quantiles) * s1_q)\n",
    "    \n",
    "    w = np.expand_dims(weights, axis=-1)\n",
    "    loss = divide_no_nan(np.sum(loss * w, axis=-2), \n",
    "                         np.sum(np.abs(y_rep) * w, axis=-2))\n",
    "    \n",
    "    return np.mean(loss)"
   ]
  },
  {
   "cell_type": "code",
   "execution_count": null,
   "metadata": {},
   "outputs": [
    {
     "data": {
      "text/plain": [
       "0.4205550107407827"
      ]
     },
     "execution_count": null,
     "metadata": {},
     "output_type": "execute_result"
    }
   ],
   "source": [
    "wmqloss(y, y_q, quantiles, weights)"
   ]
  },
  {
   "cell_type": "code",
   "execution_count": null,
   "metadata": {},
   "outputs": [
    {
     "data": {
      "text/plain": [
       "0.4205550107407827"
      ]
     },
     "execution_count": null,
     "metadata": {},
     "output_type": "execute_result"
    }
   ],
   "source": [
    "wmqloss(y, y_q, quantiles)"
   ]
  },
  {
   "cell_type": "markdown",
   "metadata": {},
   "source": [
    "# TEST/DEBUG NUMPY EVALUATION METRICS"
   ]
  },
  {
   "cell_type": "code",
   "execution_count": null,
   "metadata": {},
   "outputs": [
    {
     "name": "stdout",
     "output_type": "stream",
     "text": [
      "5.3\n",
      "4.777777777777778\n"
     ]
    }
   ],
   "source": [
    "y = np.array([1,1,1,0,0,0,0,0,1, np.nan])\n",
    "y_mask = np.array([1,1,1,1,1,1,1,1,2,0])\n",
    "y_hat = np.array([1,2,3,-4,-5,-6,-7,-8,-9,-10])\n",
    "\n",
    "print(mae(y=y, y_hat=y_hat, weights=y_mask))\n",
    "print(mae(y=y, y_hat=y_hat))"
   ]
  },
  {
   "cell_type": "code",
   "execution_count": null,
   "metadata": {},
   "outputs": [
    {
     "name": "stdout",
     "output_type": "stream",
     "text": [
      "5.3\n",
      "4.777777777777778\n"
     ]
    }
   ],
   "source": [
    "print(mae(y=y, y_hat=y_hat, weights=y_mask))\n",
    "print(mae(y=y, y_hat=y_hat))"
   ]
  },
  {
   "cell_type": "code",
   "execution_count": null,
   "metadata": {},
   "outputs": [
    {
     "data": {
      "text/plain": [
       "10"
      ]
     },
     "execution_count": null,
     "metadata": {},
     "output_type": "execute_result"
    }
   ],
   "source": [
    "len(y)"
   ]
  },
  {
   "cell_type": "code",
   "execution_count": null,
   "metadata": {},
   "outputs": [],
   "source": []
  }
 ],
 "metadata": {
  "kernelspec": {
   "display_name": "Python 3",
   "language": "python",
   "name": "python3"
  }
 },
 "nbformat": 4,
 "nbformat_minor": 4
}
