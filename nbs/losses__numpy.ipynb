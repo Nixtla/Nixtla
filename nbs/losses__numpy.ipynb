{
 "cells": [
  {
   "cell_type": "code",
   "execution_count": 1,
   "metadata": {},
   "outputs": [],
   "source": [
    "# default_exp losses.numpy"
   ]
  },
  {
   "cell_type": "code",
   "execution_count": 2,
   "metadata": {},
   "outputs": [],
   "source": [
    "#hide\n",
    "%load_ext autoreload\n",
    "%autoreload 2"
   ]
  },
  {
   "cell_type": "markdown",
   "metadata": {},
   "source": [
    "# Metrics\n",
    "\n",
    "> API details."
   ]
  },
  {
   "cell_type": "code",
   "execution_count": 3,
   "metadata": {},
   "outputs": [],
   "source": [
    "#export\n",
    "from math import sqrt\n",
    "import numpy as np\n",
    "from nixtla.losses.pytorch import divide_no_nan\n",
    "\n",
    "# TODO: Think more efficient way of masking y_mask availability, without indexing (maybe 0s)"
   ]
  },
  {
   "cell_type": "code",
   "execution_count": 4,
   "metadata": {},
   "outputs": [],
   "source": [
    "# export\n",
    "def metric_protections(y: np.ndarray, y_hat: np.ndarray,\n",
    "                       y_mask, weights):\n",
    "    \n",
    "    assert (weights is None) or (np.sum(weights)>0), 'Sum of weights cannot be 0'\n",
    "    assert (weights is None) or (len(weights)==len(y)), 'Wrong weight dimension'\n",
    "    assert (y_mask is None) or (len(y_mask)==len(y)), 'Wrong mask dimension'\n",
    "    \n",
    "    if y_mask is not None:\n",
    "        y = y[y_mask]\n",
    "        y_hat = y_hat[y_mask]\n",
    "        if weights is not None:\n",
    "            weights = delta_y[y_mask]                       \n",
    "\n",
    "    return y, y_hat, y_mask, weights"
   ]
  },
  {
   "cell_type": "code",
   "execution_count": 5,
   "metadata": {},
   "outputs": [],
   "source": [
    "#export\n",
    "def mae(y: np.ndarray, y_hat: np.ndarray,\n",
    "        y_mask=None, weights=None):\n",
    "    \"\"\"Calculates Mean Absolute Error.\n",
    "\n",
    "    The mean absolute error \n",
    "\n",
    "    Parameters\n",
    "    ----------\n",
    "    y: numpy array\n",
    "        actual test values\n",
    "    y_hat: numpy array\n",
    "        predicted values\n",
    "    y_mask: numpy array\n",
    "      optional mask, 1 keep 0 omit        \n",
    "    weights: numpy array\n",
    "      weights for weigted average\n",
    "\n",
    "    Return\n",
    "    ------\n",
    "    scalar: MAE\n",
    "    \"\"\"\n",
    "    y, y_hat, y_mask, weights = metric_protections(y=y, y_hat=y_hat,\n",
    "                                                   y_mask=y_mask, weights=weights)\n",
    "    \n",
    "    delta_y = np.abs(y - y_hat)\n",
    "    mae = np.average(np.abs(y - y_hat), weights=weights)\n",
    "    return mae"
   ]
  },
  {
   "cell_type": "code",
   "execution_count": 6,
   "metadata": {},
   "outputs": [],
   "source": [
    "#export\n",
    "def mse(y: np.ndarray, y_hat: np.ndarray,\n",
    "        y_mask=None, weights=None) -> float:\n",
    "    \"\"\"Calculates Mean Squared Error.\n",
    "    MSE measures the prediction accuracy of a\n",
    "    forecasting method by calculating the squared deviation\n",
    "    of the prediction and the true value at a given time and\n",
    "    averages these devations over the length of the series.\n",
    "    \n",
    "    Parameters\n",
    "    ----------\n",
    "    y: numpy array\n",
    "        actual test values\n",
    "    y_hat: numpy array\n",
    "        predicted values\n",
    "    y_mask: numpy array\n",
    "      optional mask, 1 keep 0 omit        \n",
    "    weights: numpy array\n",
    "      weights for weigted average\n",
    "        \n",
    "    Returns\n",
    "    -------\n",
    "    scalar: MSE\n",
    "    \"\"\"\n",
    "    y, y_hat, y_mask, weights = metric_protections(y=y, y_hat=y_hat,\n",
    "                                                   y_mask=y_mask, weights=weights)\n",
    "\n",
    "    mse = np.average(np.square(y - y_hat), weights=weights)\n",
    "    return mse"
   ]
  },
  {
   "cell_type": "code",
   "execution_count": 7,
   "metadata": {},
   "outputs": [],
   "source": [
    "#export\n",
    "def rmse(y: np.ndarray, y_hat: np.ndarray,\n",
    "         y_mask=None, weights=None) -> float:\n",
    "    \"\"\"Calculates Root Mean Squared Error.\n",
    "    RMSE measures the prediction accuracy of a\n",
    "    forecasting method by calculating the squared deviation\n",
    "    of the prediction and the true value at a given time and\n",
    "    averages these devations over the length of the series.\n",
    "    Finally the RMSE will be in the same scale\n",
    "    as the original time series so its comparison with other\n",
    "    series is possible only if they share a common scale.\n",
    "    \n",
    "    Parameters\n",
    "    ----------\n",
    "    y: numpy array\n",
    "      actual test values\n",
    "    y_hat: numpy array\n",
    "      predicted values\n",
    "    y_mask: numpy array\n",
    "      optional mask, 1 keep 0 omit      \n",
    "    weights: numpy array\n",
    "      weights for weigted average      \n",
    "      \n",
    "    Returns\n",
    "    -------\n",
    "    scalar: RMSE\n",
    "    \"\"\"\n",
    "    y, y_hat, y_mask, weights = metric_protections(y=y, y_hat=y_hat,\n",
    "                                                   y_mask=y_mask, weights=weights)\n",
    "\n",
    "    rmse = sqrt(mse(y, y_hat, weights))\n",
    "\n",
    "    return rmse"
   ]
  },
  {
   "cell_type": "code",
   "execution_count": 8,
   "metadata": {},
   "outputs": [],
   "source": [
    "#export\n",
    "def mape(y: np.ndarray, y_hat: np.ndarray,\n",
    "         y_mask=None, weights=None) -> float:\n",
    "    #TODO: weights no hace nada\n",
    "    \"\"\"Calculates Mean Absolute Percentage Error.\n",
    "    MAPE measures the relative prediction accuracy of a\n",
    "    forecasting method by calculating the percentual deviation\n",
    "    of the prediction and the true value at a given time and\n",
    "    averages these devations over the length of the series.\n",
    "    \n",
    "    Parameters\n",
    "    ----------\n",
    "    y: numpy array\n",
    "      actual test values\n",
    "    y_hat: numpy array\n",
    "      predicted values\n",
    "    y_mask: numpy array\n",
    "      optional mask, 1 keep 0 omit\n",
    "    weights: numpy array\n",
    "      weights for weigted average      \n",
    " \n",
    "    Returns\n",
    "    -------\n",
    "    scalar: MAPE\n",
    "    \"\"\"\n",
    "    y, y_hat, y_mask, weights = metric_protections(y=y, y_hat=y_hat,\n",
    "                                                   y_mask=y_mask, weights=weights)\n",
    "        \n",
    "    delta_y = np.abs(y - y_hat)\n",
    "    scale = np.abs(y)\n",
    "    mape = divide_no_nan(delta_y, scale)\n",
    "    mape = np.average(mape, weights=weights)\n",
    "    mape = 100 * mape\n",
    "\n",
    "    return mape"
   ]
  },
  {
   "cell_type": "code",
   "execution_count": 9,
   "metadata": {},
   "outputs": [],
   "source": [
    "#export\n",
    "def smape(y: np.ndarray, y_hat: np.ndarray,\n",
    "          y_mask=None, weights=None) -> float:\n",
    "    \"\"\"Calculates Symmetric Mean Absolute Percentage Error.\n",
    "    \n",
    "    SMAPE measures the relative prediction accuracy of a\n",
    "    forecasting method by calculating the relative deviation\n",
    "    of the prediction and the true value scaled by the sum of the\n",
    "    absolute values for the prediction and true value at a\n",
    "    given time, then averages these devations over the length\n",
    "    of the series. This allows the SMAPE to have bounds between\n",
    "    0% and 200% which is desireble compared to normal MAPE that\n",
    "    may be undetermined.\n",
    "    \n",
    "    Parameters\n",
    "    ----------\n",
    "    y: numpy array\n",
    "      actual test values\n",
    "    y_hat: numpy array\n",
    "      predicted values\n",
    "    y_mask: numpy array\n",
    "      optional mask, 1 keep 0 omit      \n",
    "    weights: numpy array\n",
    "      weights for weigted average\n",
    "    \n",
    "    Returns\n",
    "    -------\n",
    "    scalar: SMAPE\n",
    "    \"\"\"\n",
    "    y, y_hat, y_mask, weights = metric_protections(y=y, y_hat=y_hat,\n",
    "                                                   y_mask=y_mask, weights=weights)\n",
    "        \n",
    "    delta_y = np.abs(y - y_hat)\n",
    "    scale = np.abs(y) + np.abs(y_hat)\n",
    "    smape = divide_no_nan(delta_y, scale)\n",
    "    smape = 200 * np.average(smape, weights=weights)\n",
    "\n",
    "    assert smape <= 200, 'SMAPE should be lower than 200'\n",
    "\n",
    "    return smape"
   ]
  },
  {
   "cell_type": "code",
   "execution_count": 10,
   "metadata": {},
   "outputs": [],
   "source": [
    "#export\n",
    "def pinball_loss(y: np.ndarray, y_hat: np.ndarray, tau: float=0.5,\n",
    "                 y_mask=None, weights=None) -> np.ndarray:\n",
    "    \"\"\"Calculates the Pinball Loss.\n",
    "\n",
    "    The Pinball loss measures the deviation of a quantile forecast.\n",
    "    By weighting the absolute deviation in a non symmetric way, the\n",
    "    loss pays more attention to under or over estimation.\n",
    "    A common value for tau is 0.5 for the deviation from the median.\n",
    "\n",
    "    Parameters\n",
    "    ----------\n",
    "    y: numpy array\n",
    "      actual test values\n",
    "    y_hat: numpy array of len h (forecasting horizon)\n",
    "      predicted values\n",
    "    y_mask: numpy array\n",
    "      optional mask, 1 keep 0 omit      \n",
    "    weights: numpy array\n",
    "      weights for weigted average      \n",
    "    tau: float\n",
    "      Fixes the quantile against which the predictions are compared.\n",
    "    Return\n",
    "    ------\n",
    "    return: pinball_loss\n",
    "    \"\"\"\n",
    "    y, y_hat, y_mask, weights = metric_protections(y=y, y_hat=y_hat,\n",
    "                                                   y_mask=y_mask, weights=weights)\n",
    "\n",
    "    delta_y = y - y_hat\n",
    "    pinball = np.maximum(tau * delta_y, (tau - 1) * delta_y)\n",
    "    pinball = np.average(pinball, weights=weights) #pinball.mean()\n",
    "    return pinball"
   ]
  },
  {
   "cell_type": "code",
   "execution_count": 11,
   "metadata": {},
   "outputs": [],
   "source": [
    "# export\n",
    "def accuracy_logits(y: np.ndarray, y_hat: np.ndarray, weights=None, thr=0.5) -> np.ndarray:\n",
    "    \"\"\"Calculates the Accuracy.\n",
    "\n",
    "    Parameters\n",
    "    ----------\n",
    "    y: numpy array\n",
    "      actual test values\n",
    "    y_hat: numpy array of len h (forecasting horizon)\n",
    "      predicted values\n",
    "    weights: numpy array\n",
    "      weights for weigted average\n",
    "    Return\n",
    "    ------\n",
    "    return accuracy\n",
    "    \"\"\"\n",
    "    y, y_hat, y_mask, weights = metric_protections(y=y, y_hat=y_hat,\n",
    "                                                   y_mask=y_mask, weights=weights)\n",
    "\n",
    "    y_hat = ((1/(1 + np.exp(-y_hat))) > thr) * 1\n",
    "    accuracy = np.average(y_hat==y, weights=weights) * 100\n",
    "    return accuracy"
   ]
  },
  {
   "source": [
    "# TEST NUMPY EVALUATION METRICS"
   ],
   "cell_type": "markdown",
   "metadata": {}
  },
  {
   "cell_type": "code",
   "execution_count": 12,
   "metadata": {},
   "outputs": [
    {
     "output_type": "stream",
     "name": "stdout",
     "text": [
      "0.0\nnan\n"
     ]
    }
   ],
   "source": [
    "y = np.array([1,2,3,4,5,6, np.nan])\n",
    "y_mask = np.array([1,1,1,1,1,1,0])\n",
    "y_hat = np.array([1,2,3,4,5,6, 7])\n",
    "\n",
    "print(mae(y=y, y_hat=y_hat, y_mask=y_mask))\n",
    "print(mae(y=y, y_hat=y_hat))"
   ]
  },
  {
   "cell_type": "code",
   "execution_count": 13,
   "metadata": {},
   "outputs": [
    {
     "output_type": "execute_result",
     "data": {
      "text/plain": [
       "array([ 0.,  0.,  0.,  0.,  0.,  0., nan])"
      ]
     },
     "metadata": {},
     "execution_count": 13
    }
   ],
   "source": [
    "y-y_hat"
   ]
  },
  {
   "cell_type": "code",
   "execution_count": null,
   "metadata": {},
   "outputs": [],
   "source": []
  }
 ],
 "metadata": {
  "kernelspec": {
   "name": "python3",
   "display_name": "Python 3.7.9 64-bit ('nixtla': conda)",
   "metadata": {
    "interpreter": {
     "hash": "97c68c0f618c4f787b1e02bfee278e48d25b62407cb335aab5258cedc4db4ced"
    }
   }
  },
  "language_info": {
   "codemirror_mode": {
    "name": "ipython",
    "version": 3
   },
   "file_extension": ".py",
   "mimetype": "text/x-python",
   "name": "python",
   "nbconvert_exporter": "python",
   "pygments_lexer": "ipython3",
   "version": "3.7.9-final"
  }
 },
 "nbformat": 4,
 "nbformat_minor": 2
}