{
 "cells": [
  {
   "cell_type": "code",
   "execution_count": null,
   "metadata": {},
   "outputs": [],
   "source": [
    "# default_exp losses.numpy"
   ]
  },
  {
   "cell_type": "code",
   "execution_count": null,
   "metadata": {},
   "outputs": [],
   "source": [
    "#hide\n",
    "%load_ext autoreload\n",
    "%autoreload 2"
   ]
  },
  {
   "cell_type": "markdown",
   "metadata": {},
   "source": [
    "# Metrics\n",
    "\n",
    "> API details."
   ]
  },
  {
   "cell_type": "code",
   "execution_count": null,
   "metadata": {},
   "outputs": [],
   "source": [
    "#export\n",
    "from math import sqrt\n",
    "\n",
    "import numpy as np\n",
    "\n",
    "from nixtla.losses.pytorch import divide_no_nan"
   ]
  },
  {
   "cell_type": "code",
   "execution_count": null,
   "metadata": {},
   "outputs": [],
   "source": [
    "#export\n",
    "def mae(y: np.ndarray, y_hat: np.ndarray, weights=None):\n",
    "    \"\"\"Calculates Mean Absolute Error.\n",
    "\n",
    "    The mean absolute error \n",
    "\n",
    "    Parameters\n",
    "    ----------\n",
    "    y: numpy array\n",
    "        actual test values\n",
    "    y_hat: numpy array\n",
    "        predicted values\n",
    "    weights: numpy array\n",
    "        weights\n",
    "\n",
    "    Return\n",
    "    ------\n",
    "    scalar: MAE\n",
    "    \"\"\"\n",
    "    assert (weights is None) or (np.sum(weights)>0), 'Sum of weights cannot be 0'\n",
    "    assert (weights is None) or (len(weights)==len(y)), 'Wrong weight dimension'\n",
    "    mae = np.average(np.abs(y - y_hat), weights=weights)\n",
    "    return mae"
   ]
  },
  {
   "cell_type": "code",
   "execution_count": null,
   "metadata": {},
   "outputs": [],
   "source": [
    "#export\n",
    "def mse(y: np.ndarray, y_hat: np.ndarray, weights=None) -> float:\n",
    "    \"\"\"Calculates Mean Squared Error.\n",
    "    MSE measures the prediction accuracy of a\n",
    "    forecasting method by calculating the squared deviation\n",
    "    of the prediction and the true value at a given time and\n",
    "    averages these devations over the length of the series.\n",
    "    \n",
    "    Parameters\n",
    "    ----------\n",
    "    y: numpy array\n",
    "        actual test values\n",
    "    y_hat: numpy array\n",
    "        predicted values\n",
    "    weights: numpy array\n",
    "        weights\n",
    "        \n",
    "    Returns\n",
    "    -------\n",
    "    scalar: MSE\n",
    "    \"\"\"\n",
    "    assert (weights is None) or (np.sum(weights)>0), 'Sum of weights cannot be 0'\n",
    "    assert (weights is None) or (len(weights)==len(y)), 'Wrong weight dimension'\n",
    "    mse = np.average(np.square(y - y_hat), weights=weights)\n",
    "\n",
    "    return mse"
   ]
  },
  {
   "cell_type": "code",
   "execution_count": null,
   "metadata": {},
   "outputs": [],
   "source": [
    "#export\n",
    "def rmse(y: np.ndarray, y_hat: np.ndarray, weights=None) -> float:\n",
    "    \"\"\"Calculates Root Mean Squared Error.\n",
    "    RMSE measures the prediction accuracy of a\n",
    "    forecasting method by calculating the squared deviation\n",
    "    of the prediction and the true value at a given time and\n",
    "    averages these devations over the length of the series.\n",
    "    Finally the RMSE will be in the same scale\n",
    "    as the original time series so its comparison with other\n",
    "    series is possible only if they share a common scale.\n",
    "    \n",
    "    Parameters\n",
    "    ----------\n",
    "    y: numpy array\n",
    "      actual test values\n",
    "    y_hat: numpy array\n",
    "      predicted values\n",
    "      \n",
    "    Returns\n",
    "    -------\n",
    "    scalar: RMSE\n",
    "    \"\"\"\n",
    "    rmse = sqrt(mse(y, y_hat, weights))\n",
    "\n",
    "    return rmse"
   ]
  },
  {
   "cell_type": "code",
   "execution_count": null,
   "metadata": {},
   "outputs": [],
   "source": [
    "#export\n",
    "def mape(y: np.ndarray, y_hat: np.ndarray, weights=None) -> float:\n",
    "    #TODO: weights no hace nada\n",
    "    \"\"\"Calculates Mean Absolute Percentage Error.\n",
    "    MAPE measures the relative prediction accuracy of a\n",
    "    forecasting method by calculating the percentual deviation\n",
    "    of the prediction and the true value at a given time and\n",
    "    averages these devations over the length of the series.\n",
    "    \n",
    "    Parameters\n",
    "    ----------\n",
    "    y: numpy array\n",
    "      actual test values\n",
    "    y_hat: numpy array\n",
    "      predicted values\n",
    " \n",
    "    Returns\n",
    "    -------\n",
    "    scalar: MAPE\n",
    "    \"\"\"\n",
    "    delta_y = np.abs(y - y_hat)\n",
    "    scale = np.abs(y)\n",
    "    mape = divide_no_nan(delta_y, scale)\n",
    "    mape = np.mean(mape)\n",
    "    mape = 100 * mape\n",
    "\n",
    "    return mape"
   ]
  },
  {
   "cell_type": "code",
   "execution_count": null,
   "metadata": {},
   "outputs": [],
   "source": [
    "#export\n",
    "def smape(y: np.ndarray, y_hat: np.ndarray) -> float:\n",
    "    \"\"\"Calculates Symmetric Mean Absolute Percentage Error.\n",
    "    \n",
    "    SMAPE measures the relative prediction accuracy of a\n",
    "    forecasting method by calculating the relative deviation\n",
    "    of the prediction and the true value scaled by the sum of the\n",
    "    absolute values for the prediction and true value at a\n",
    "    given time, then averages these devations over the length\n",
    "    of the series. This allows the SMAPE to have bounds between\n",
    "    0% and 200% which is desireble compared to normal MAPE that\n",
    "    may be undetermined.\n",
    "    \n",
    "    Parameters\n",
    "    ----------\n",
    "    y: numpy array\n",
    "      actual test values\n",
    "    y_hat: numpy array\n",
    "      predicted values\n",
    "    \n",
    "    Returns\n",
    "    -------\n",
    "    scalar: SMAPE\n",
    "    \"\"\"\n",
    "    delta_y = np.abs(y - y_hat)\n",
    "    scale = np.abs(y) + np.abs(y_hat)\n",
    "    smape = divide_no_nan(delta_y, scale)\n",
    "    smape = 200 * np.mean(smape)\n",
    "\n",
    "    assert smape <= 200, 'SMAPE should be lower than 200'\n",
    "\n",
    "    return smape"
   ]
  },
  {
   "cell_type": "code",
   "execution_count": null,
   "metadata": {},
   "outputs": [],
   "source": [
    "#export\n",
    "def pinball_loss(y: np.ndarray, y_hat: np.ndarray, tau: float=0.5, weights=None) -> np.ndarray:\n",
    "    \"\"\"Calculates the Pinball Loss.\n",
    "\n",
    "    The Pinball loss measures the deviation of a quantile forecast.\n",
    "    By weighting the absolute deviation in a non symmetric way, the\n",
    "    loss pays more attention to under or over estimation.\n",
    "    A common value for tau is 0.5 for the deviation from the median.\n",
    "\n",
    "    Parameters\n",
    "    ----------\n",
    "    y: numpy array\n",
    "      actual test values\n",
    "    y_hat: numpy array of len h (forecasting horizon)\n",
    "      predicted values\n",
    "    tau: float\n",
    "      Fixes the quantile against which the predictions are compared.\n",
    "    Return\n",
    "    ------\n",
    "    return: pinball_loss\n",
    "    \"\"\"\n",
    "    assert (weights is None) or (np.sum(weights)>0), 'Sum of weights cannot be 0'\n",
    "    assert (weights is None) or (len(weights)==len(y)), 'Wrong weight dimension'\n",
    "\n",
    "    delta_y = y - y_hat\n",
    "    pinball = np.maximum(tau * delta_y, (tau - 1) * delta_y)\n",
    "    pinball = np.average(pinball, weights=weights) #pinball.mean()\n",
    "    return pinball"
   ]
  },
  {
   "cell_type": "code",
   "execution_count": null,
   "metadata": {},
   "outputs": [],
   "source": []
  }
 ],
 "metadata": {
  "kernelspec": {
   "name": "python3",
   "display_name": "Python 3.8.5 64-bit",
   "metadata": {
    "interpreter": {
     "hash": "aee8b7b246df8f9039afb4144a1f6fd8d2ca17a180786b69acc140d282b71a49"
    }
   }
  },
  "language_info": {
   "codemirror_mode": {
    "name": "ipython",
    "version": 3
   },
   "file_extension": ".py",
   "mimetype": "text/x-python",
   "name": "python",
   "nbconvert_exporter": "python",
   "pygments_lexer": "ipython3",
   "version": "3.8.5-final"
  }
 },
 "nbformat": 4,
 "nbformat_minor": 2
}