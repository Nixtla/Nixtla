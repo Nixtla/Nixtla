{
 "cells": [
  {
   "cell_type": "code",
   "execution_count": null,
   "metadata": {},
   "outputs": [],
   "source": [
    "# default_exp losses.numpy"
   ]
  },
  {
   "cell_type": "code",
   "execution_count": null,
   "metadata": {},
   "outputs": [],
   "source": [
    "#hide\n",
    "%load_ext autoreload\n",
    "%autoreload 2"
   ]
  },
  {
   "cell_type": "markdown",
   "metadata": {},
   "source": [
    "# Metrics\n",
    "\n",
    "> API details."
   ]
  },
  {
   "cell_type": "code",
   "execution_count": null,
   "metadata": {},
   "outputs": [],
   "source": [
    "#export\n",
    "from math import sqrt\n",
    "import numpy as np\n",
    "from nixtla.losses.pytorch import divide_no_nan\n",
    "\n",
    "# TODO: Think more efficient way of masking y_mask availability, without indexing (maybe 0s)"
   ]
  },
  {
   "cell_type": "code",
   "execution_count": null,
   "metadata": {},
   "outputs": [],
   "source": [
    "# export\n",
    "def metric_protections(y: np.ndarray, y_hat: np.ndarray, weights):\n",
    "    assert (weights is None) or (np.sum(weights)>0), 'Sum of weights cannot be 0'\n",
    "    assert (weights is None) or (len(weights)==len(y)), 'Wrong weight dimension'"
   ]
  },
  {
   "cell_type": "code",
   "execution_count": null,
   "metadata": {},
   "outputs": [],
   "source": [
    "#export\n",
    "def mae(y: np.ndarray, y_hat: np.ndarray, weights=None):\n",
    "    \"\"\"Calculates Mean Absolute Error.\n",
    "\n",
    "    The mean absolute error \n",
    "\n",
    "    Parameters\n",
    "    ----------\n",
    "    y: numpy array\n",
    "        actual test values\n",
    "    y_hat: numpy array\n",
    "        predicted values\n",
    "    weights: numpy array\n",
    "      weights for weigted average\n",
    "\n",
    "    Return\n",
    "    ------\n",
    "    scalar: MAE\n",
    "    \"\"\"\n",
    "    metric_protections(y, y_hat, weights)\n",
    "    \n",
    "    delta_y = np.abs(y - y_hat)\n",
    "    if weights is not None:\n",
    "      mae = np.average(delta_y[~np.isnan(delta_y)], weights=weights[~np.isnan(delta_y)])\n",
    "    else:\n",
    "      mae = np.nanmean(delta_y)\n",
    "    return mae"
   ]
  },
  {
   "cell_type": "code",
   "execution_count": null,
   "metadata": {},
   "outputs": [],
   "source": [
    "#export\n",
    "def mse(y: np.ndarray, y_hat: np.ndarray, weights=None) -> float:\n",
    "    \"\"\"Calculates Mean Squared Error.\n",
    "    MSE measures the prediction accuracy of a\n",
    "    forecasting method by calculating the squared deviation\n",
    "    of the prediction and the true value at a given time and\n",
    "    averages these devations over the length of the series.\n",
    "    \n",
    "    Parameters\n",
    "    ----------\n",
    "    y: numpy array\n",
    "        actual test values\n",
    "    y_hat: numpy array\n",
    "        predicted values \n",
    "    weights: numpy array\n",
    "      weights for weigted average\n",
    "        \n",
    "    Returns\n",
    "    -------\n",
    "    scalar: MSE\n",
    "    \"\"\"\n",
    "    metric_protections(y, y_hat, weights)\n",
    "\n",
    "    delta_y = np.square(y - y_hat)\n",
    "    if weights is not None:\n",
    "      mse = np.average(delta_y[~np.isnan(delta_y)], weights=weights[~np.isnan(delta_y)])\n",
    "    else:\n",
    "      mse = np.nanmean(delta_y)\n",
    "    return mse"
   ]
  },
  {
   "cell_type": "code",
   "execution_count": null,
   "metadata": {},
   "outputs": [],
   "source": [
    "#export\n",
    "def rmse(y: np.ndarray, y_hat: np.ndarray, weights=None) -> float:\n",
    "    \"\"\"Calculates Root Mean Squared Error.\n",
    "    RMSE measures the prediction accuracy of a\n",
    "    forecasting method by calculating the squared deviation\n",
    "    of the prediction and the true value at a given time and\n",
    "    averages these devations over the length of the series.\n",
    "    Finally the RMSE will be in the same scale\n",
    "    as the original time series so its comparison with other\n",
    "    series is possible only if they share a common scale.\n",
    "    \n",
    "    Parameters\n",
    "    ----------\n",
    "    y: numpy array\n",
    "      actual test values\n",
    "    y_hat: numpy array\n",
    "      predicted values    \n",
    "    weights: numpy array\n",
    "      weights for weigted average      \n",
    "      \n",
    "    Returns\n",
    "    -------\n",
    "    scalar: RMSE\n",
    "    \"\"\"\n",
    "\n",
    "    return np.sqrt(mse(y, y_hat, weights))"
   ]
  },
  {
   "cell_type": "code",
   "execution_count": null,
   "metadata": {},
   "outputs": [],
   "source": [
    "#export\n",
    "def mape(y: np.ndarray, y_hat: np.ndarray, weights=None) -> float:\n",
    "    #TODO: weights no hace nada\n",
    "    \"\"\"Calculates Mean Absolute Percentage Error.\n",
    "    MAPE measures the relative prediction accuracy of a\n",
    "    forecasting method by calculating the percentual deviation\n",
    "    of the prediction and the true value at a given time and\n",
    "    averages these devations over the length of the series.\n",
    "    \n",
    "    Parameters\n",
    "    ----------\n",
    "    y: numpy array\n",
    "      actual test values\n",
    "    y_hat: numpy array\n",
    "      predicted values\n",
    "    weights: numpy array\n",
    "      weights for weigted average\n",
    " \n",
    "    Returns\n",
    "    -------\n",
    "    scalar: MAPE\n",
    "    \"\"\"\n",
    "    metric_protections(y, y_hat, weights)\n",
    "        \n",
    "    delta_y = np.abs(y - y_hat)\n",
    "    scale = np.abs(y)\n",
    "    mape = divide_no_nan(delta_y, scale)\n",
    "    mape = np.average(mape, weights=weights)\n",
    "    mape = 100 * mape\n",
    "    return mape"
   ]
  },
  {
   "cell_type": "code",
   "execution_count": null,
   "metadata": {},
   "outputs": [],
   "source": [
    "#export\n",
    "def smape(y: np.ndarray, y_hat: np.ndarray,\n",
    "          y_mask=None, weights=None) -> float:\n",
    "    \"\"\"Calculates Symmetric Mean Absolute Percentage Error.\n",
    "    \n",
    "    SMAPE measures the relative prediction accuracy of a\n",
    "    forecasting method by calculating the relative deviation\n",
    "    of the prediction and the true value scaled by the sum of the\n",
    "    absolute values for the prediction and true value at a\n",
    "    given time, then averages these devations over the length\n",
    "    of the series. This allows the SMAPE to have bounds between\n",
    "    0% and 200% which is desireble compared to normal MAPE that\n",
    "    may be undetermined.\n",
    "    \n",
    "    Parameters\n",
    "    ----------\n",
    "    y: numpy array\n",
    "      actual test values\n",
    "    y_hat: numpy array\n",
    "      predicted values\n",
    "    y_mask: numpy array\n",
    "      optional mask, 1 keep 0 omit      \n",
    "    weights: numpy array\n",
    "      weights for weigted average\n",
    "    \n",
    "    Returns\n",
    "    -------\n",
    "    scalar: SMAPE\n",
    "    \"\"\"\n",
    "    metric_protections(y, y_hat, weights)\n",
    "        \n",
    "    delta_y = np.abs(y - y_hat)\n",
    "    scale = np.abs(y) + np.abs(y_hat)\n",
    "    smape = divide_no_nan(delta_y, scale)\n",
    "    smape = 200 * np.average(smape, weights=weights)\n",
    "\n",
    "    assert smape <= 200, 'SMAPE should be lower than 200'\n",
    "    return smape"
   ]
  },
  {
   "cell_type": "code",
   "execution_count": null,
   "metadata": {},
   "outputs": [],
   "source": [
    "#export\n",
    "def pinball_loss(y: np.ndarray, y_hat: np.ndarray, tau: float=0.5, weights=None) -> np.ndarray:\n",
    "    \"\"\"Calculates the Pinball Loss.\n",
    "\n",
    "    The Pinball loss measures the deviation of a quantile forecast.\n",
    "    By weighting the absolute deviation in a non symmetric way, the\n",
    "    loss pays more attention to under or over estimation.\n",
    "    A common value for tau is 0.5 for the deviation from the median.\n",
    "\n",
    "    Parameters\n",
    "    ----------\n",
    "    y: numpy array\n",
    "      actual test values\n",
    "    y_hat: numpy array of len h (forecasting horizon)\n",
    "      predicted values   \n",
    "    weights: numpy array\n",
    "      weights for weigted average      \n",
    "    tau: float\n",
    "      Fixes the quantile against which the predictions are compared.\n",
    "    Return\n",
    "    ------\n",
    "    return: pinball_loss\n",
    "    \"\"\"\n",
    "    metric_protections(y, y_hat, weights)\n",
    "\n",
    "    delta_y = y - y_hat\n",
    "    pinball = np.maximum(tau * delta_y, (tau - 1) * delta_y)\n",
    "\n",
    "    if weights is not None:\n",
    "      pinball = np.average(pinball[~np.isnan(pinball)], weights=weights[~np.isnan(pinball)])\n",
    "    else:\n",
    "      pinball = np.nanmean(pinball)\n",
    "    return pinball"
   ]
  },
  {
   "cell_type": "code",
   "execution_count": null,
   "metadata": {},
   "outputs": [],
   "source": [
    "# export\n",
    "def accuracy_logits(y: np.ndarray, y_hat: np.ndarray, weights=None, thr=0.5) -> np.ndarray:\n",
    "    \"\"\"Calculates the Accuracy.\n",
    "\n",
    "    Parameters\n",
    "    ----------\n",
    "    y: numpy array\n",
    "      actual test values\n",
    "    y_hat: numpy array of len h (forecasting horizon)\n",
    "      predicted values\n",
    "    weights: numpy array\n",
    "      weights for weigted average\n",
    "    Return\n",
    "    ------\n",
    "    return accuracy\n",
    "    \"\"\"\n",
    "    metric_protections(y, y_hat, weights)\n",
    "\n",
    "    y_hat = ((1/(1 + np.exp(-y_hat))) > thr) * 1\n",
    "    correct = (y==y_hat)[~np.isnan(y)]\n",
    "    if weights is not None:\n",
    "      accuracy = np.average(correct, weights=weights[~np.isnan(y)]) * 100\n",
    "    else:\n",
    "      accuracy = np.nanmean(correct) * 100\n",
    "    return accuracy"
   ]
  },
  {
   "cell_type": "markdown",
   "metadata": {},
   "source": [
    "# TEST NUMPY EVALUATION METRICS"
   ]
  },
  {
   "cell_type": "code",
   "execution_count": null,
   "metadata": {},
   "outputs": [
    {
     "name": "stdout",
     "output_type": "stream",
     "text": [
      "80.0\n88.88888888888889\n"
     ]
    }
   ],
   "source": [
    "y = np.array([1,1,1,0,0,0,0,0,1, np.nan])\n",
    "y_mask = np.array([1,1,1,1,1,1,1,1,2,0])\n",
    "y_hat = np.array([1,2,3,-4,-5,-6,-7,-8,-9,-10])\n",
    "\n",
    "print(accuracy_logits(y=y, y_hat=y_hat, weights=y_mask))\n",
    "print(accuracy_logits(y=y, y_hat=y_hat))"
   ]
  },
  {
   "cell_type": "code",
   "execution_count": null,
   "metadata": {},
   "outputs": [
    {
     "name": "stdout",
     "output_type": "stream",
     "text": [
      "5.3\n4.777777777777778\n"
     ]
    }
   ],
   "source": [
    "print(mae(y=y, y_hat=y_hat, weights=y_mask))\n",
    "print(mae(y=y, y_hat=y_hat))"
   ]
  },
  {
   "cell_type": "code",
   "execution_count": null,
   "metadata": {},
   "outputs": [
    {
     "data": {
      "text/plain": [
       "11"
      ]
     },
     "execution_count": null,
     "metadata": {},
     "output_type": "execute_result"
    }
   ],
   "source": [
    "len(y)"
   ]
  },
  {
   "cell_type": "code",
   "execution_count": null,
   "metadata": {},
   "outputs": [],
   "source": []
  }
 ],
 "metadata": {
  "kernelspec": {
   "display_name": "Python 3.7.9 64-bit ('nixtla': conda)",
   "metadata": {
    "interpreter": {
     "hash": "97c68c0f618c4f787b1e02bfee278e48d25b62407cb335aab5258cedc4db4ced"
    }
   },
   "name": "python3"
  }
 },
 "nbformat": 4,
 "nbformat_minor": 2
}
