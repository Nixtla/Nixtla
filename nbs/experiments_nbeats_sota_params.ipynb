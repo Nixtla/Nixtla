{
 "cells": [
  {
   "cell_type": "code",
   "execution_count": 5,
   "metadata": {},
   "outputs": [],
   "source": [
    "# default_exp experiments.nbeats.sota_params.tourism"
   ]
  },
  {
   "cell_type": "code",
   "execution_count": 2,
   "metadata": {},
   "outputs": [],
   "source": [
    "#hide\n",
    "%load_ext autoreload\n",
    "%autoreload 2"
   ]
  },
  {
   "cell_type": "markdown",
   "metadata": {},
   "source": [
    "# SOTA params\n",
    "\n",
    "> API details."
   ]
  },
  {
   "cell_type": "code",
   "execution_count": 21,
   "metadata": {},
   "outputs": [],
   "source": [
    "#export\n",
    "from dataclasses import dataclass\n",
    "\n",
    "from nixtla.data.datasets.utils import Info"
   ]
  },
  {
   "cell_type": "code",
   "execution_count": 27,
   "metadata": {},
   "outputs": [],
   "source": [
    "#export\n",
    "common_grid = {'shared_weights': [True],\n",
    "               'stack_types': [['trend', 'seasonality']],\n",
    "               'n_blocks': [[3, 3]],\n",
    "               'n_layers': [[2, 2]],\n",
    "               'n_hidden': [[256, 2048]],\n",
    "               'n_harmonics': [1], \n",
    "               'n_polynomials': [2],\n",
    "               'learning_rate': [0.001],\n",
    "               'lr_decay': [0.5],\n",
    "               'n_lr_decay_steps': [3],\n",
    "               'batch_size': [1024]}\n",
    "common_ensemble_grid = {'input_size_multiplier': [2, 3, 4, 5, 6, 7],\n",
    "                        'random_seed': [1, 2, 3, 4, 5, 6, 7, 8, 9, 10],\n",
    "                        'loss': ['MAPE']}"
   ]
  },
  {
   "cell_type": "code",
   "execution_count": 23,
   "metadata": {},
   "outputs": [],
   "source": [
    "#export\n",
    "@dataclass\n",
    "class Yearly:\n",
    "    grid = {**common_grid,\n",
    "            **{'output_size': [4],\n",
    "               'offset': [4],\n",
    "               'window_sampling_limit': [20],\n",
    "               'n_iterations': [30],\n",
    "               'frequency': ['Y'],\n",
    "               'seasonality': [1]}}\n",
    "    \n",
    "    ensemble_grid = common_ensemble_grid"
   ]
  },
  {
   "cell_type": "code",
   "execution_count": 24,
   "metadata": {},
   "outputs": [],
   "source": [
    "#export\n",
    "@dataclass\n",
    "class Quarterly:\n",
    "    grid = {**common_grid,\n",
    "            **{'output_size': [8],\n",
    "               'offset': [8],\n",
    "               'window_sampling_limit': [10],\n",
    "               'n_iterations': [500],\n",
    "               'frequency': ['Q'],\n",
    "               'seasonality': [4]}}\n",
    "    \n",
    "    ensemble_grid = common_ensemble_grid"
   ]
  },
  {
   "cell_type": "code",
   "execution_count": 25,
   "metadata": {},
   "outputs": [],
   "source": [
    "#export\n",
    "@dataclass\n",
    "class Monthly:\n",
    "    grid = {**common_grid,\n",
    "            **{'output_size': [24],\n",
    "               'offset': [24],\n",
    "               'window_sampling_limit': [20],\n",
    "               'n_iterations': [300],\n",
    "               'frequency': ['MS'],\n",
    "               'seasonality': [12]}}\n",
    "    \n",
    "    ensemble_grid = common_ensemble_grid"
   ]
  },
  {
   "cell_type": "code",
   "execution_count": 26,
   "metadata": {},
   "outputs": [],
   "source": [
    "#export\n",
    "TourismParams = Info(groups=('Yearly', 'Quarterly', 'Monthly'),\n",
    "                     class_groups=(Yearly, Quarterly, Monthly))"
   ]
  }
 ],
 "metadata": {
  "kernelspec": {
   "display_name": "nixtla",
   "language": "python",
   "name": "nixtla"
  },
  "language_info": {
   "codemirror_mode": {
    "name": "ipython",
    "version": 3
   },
   "file_extension": ".py",
   "mimetype": "text/x-python",
   "name": "python",
   "nbconvert_exporter": "python",
   "pygments_lexer": "ipython3",
   "version": "3.7.8"
  }
 },
 "nbformat": 4,
 "nbformat_minor": 2
}
