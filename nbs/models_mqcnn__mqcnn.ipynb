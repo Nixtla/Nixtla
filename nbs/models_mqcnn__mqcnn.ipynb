{
 "cells": [
  {
   "cell_type": "code",
   "execution_count": null,
   "id": "worst-drunk",
   "metadata": {},
   "outputs": [],
   "source": [
    "# default_exp models.mqcnn.mqcnn"
   ]
  },
  {
   "cell_type": "code",
   "execution_count": null,
   "id": "latin-hollow",
   "metadata": {},
   "outputs": [],
   "source": [
    "#hide\n",
    "%load_ext autoreload\n",
    "%autoreload 2"
   ]
  },
  {
   "cell_type": "markdown",
   "id": "naughty-contributor",
   "metadata": {},
   "source": [
    "# MQ-CNN(RNN): A Multi-Horizon Quantile Recurrent Forecaster\n",
    "\n",
    "> API details.\n",
    "- https://arxiv.org/abs/1711.11053"
   ]
  },
  {
   "cell_type": "code",
   "execution_count": null,
   "id": "related-collar",
   "metadata": {},
   "outputs": [],
   "source": [
    "class MQCNN(object):\n",
    "    \"\"\" Multi Quantile Convolutional Neural Network\n",
    "    \"\"\"\n",
    "    def __init__(self,\n",
    "             input_size,\n",
    "             output_size,\n",
    "             learning_rate,\n",
    "             lr_scheduler_step_size,\n",
    "             lr_decay,\n",
    "             n_iterations,\n",
    "             early_stopping,\n",
    "             loss,\n",
    "             val_loss,\n",
    "             random_seed,\n",
    "             device=None):\n",
    "        pass"
   ]
  },
  {
   "cell_type": "code",
   "execution_count": null,
   "id": "under-jewel",
   "metadata": {},
   "outputs": [],
   "source": []
  }
 ],
 "metadata": {
  "kernelspec": {
   "display_name": "nixtla",
   "language": "python",
   "name": "nixtla"
  }
 },
 "nbformat": 4,
 "nbformat_minor": 5
}
