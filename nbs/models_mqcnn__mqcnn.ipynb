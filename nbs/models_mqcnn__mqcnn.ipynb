{
 "cells": [
  {
   "cell_type": "code",
   "execution_count": null,
   "id": "promising-purpose",
   "metadata": {},
   "outputs": [],
   "source": [
    "# default_exp models.mqcnn.mqcnn"
   ]
  },
  {
   "cell_type": "code",
   "execution_count": null,
   "id": "military-working",
   "metadata": {},
   "outputs": [],
   "source": [
    "#hide\n",
    "%load_ext autoreload\n",
    "%autoreload 2"
   ]
  },
  {
   "cell_type": "code",
   "execution_count": null,
   "id": "golden-vampire",
   "metadata": {},
   "outputs": [],
   "source": [
    "# export\n",
    "import os\n",
    "\n",
    "import numpy as np\n",
    "import pandas as pd\n",
    "\n",
    "import torch as t\n",
    "import torch.nn as nn\n",
    "from torch import optim\n",
    "\n",
    "from nixtla.data.tsdataset import TimeSeriesDataset\n",
    "from nixtla.data.tsloader_general import TimeSeriesLoader\n",
    "from nixtla.models.components.common import CausalConv1d"
   ]
  },
  {
   "cell_type": "markdown",
   "id": "expired-familiar",
   "metadata": {},
   "source": [
    "# MQ-CNN(RNN): A Multi-Horizon Quantile Recurrent Forecaster\n",
    "\n",
    "> API details.\n",
    "- https://arxiv.org/abs/1711.11053"
   ]
  },
  {
   "cell_type": "code",
   "execution_count": null,
   "id": "earned-algeria",
   "metadata": {},
   "outputs": [],
   "source": [
    "# export\n",
    "class Sencoder(nn.Module):\n",
    "    def __init__(self, in_features, out_features, trnn):\n",
    "        super(Sencoder, self).__init__()\n",
    "        self.trnn = trnn\n",
    "        layers = [nn.Dropout(p=0.5),\n",
    "                  nn.Linear(in_features=in_features, out_features=out_features),\n",
    "                  nn.ReLU()]\n",
    "        self.encoder = nn.Sequential(*layers)\n",
    "    \n",
    "    def forward(self, x):\n",
    "        x = self.encoder(x)\n",
    "        x = torch.cat(self.trnn * [x]) # Repeat values to match time\n",
    "        return x\n",
    "\n",
    "class Xencoder(nn.Module):\n",
    "    def __init__(self, in_channels, out_channels, kernel_size, dilation_levels):\n",
    "        super(Xencoder, self).__init__()\n",
    "        self.l1_regularizer = TimeDistributed(FeaturewiseL1Regularizer(in_features=in_channels))\n",
    "        self.causal_convs = CausalConvs1d(in_channels=in_channels, out_channels=out_channels, \n",
    "                                          kernel_size=kernel_size, dilation_levels=dilation_levels)\n",
    "    \n",
    "    def forward(self, x):\n",
    "        x = self.l1_regularizer(x)\n",
    "        x = self.causal_convs(x)\n",
    "        return x\n",
    "    \n",
    "class Fencoder(nn.Module):\n",
    "    def __init__(self, in_channels, out_channels, kernel_size, dilation_levels):\n",
    "        super(Fencoder, self).__init__()\n",
    "        self.l1_regularizer = TimeDistributed(FeaturewiseL1Regularizer(in_features=in_channels))\n",
    "        self.causal_convs = CausalConvs1d(in_channels=in_channels, out_channels=out_channels, \n",
    "                                          kernel_size=kernel_size, dilation_levels=dilation_levels)\n",
    "    \n",
    "    def forward(self, x):\n",
    "        x = self.l1_regularizer(x)\n",
    "        x = self.causal_convs(x)\n",
    "        return x"
   ]
  },
  {
   "cell_type": "code",
   "execution_count": null,
   "id": "thick-portfolio",
   "metadata": {},
   "outputs": [],
   "source": [
    "# export\n",
    "class MQCNN(object):\n",
    "    \"\"\" Multi Quantile Convolutional Neural Network\n",
    "    \"\"\"\n",
    "    def __init__(self,\n",
    "                 # Architecture parameters\n",
    "                 \n",
    "                 # Optimization and regularization\n",
    "                 \n",
    "                 # Data parameters\n",
    "                 input_size,\n",
    "                 output_size,\n",
    "                 learning_rate,\n",
    "                 lr_scheduler_step_size,\n",
    "                 lr_decay,\n",
    "                 n_iterations,\n",
    "                 early_stopping,\n",
    "                 loss,\n",
    "                 val_loss,\n",
    "                 random_seed,\n",
    "                 device=None):\n",
    "        \n",
    "        self.sencoder = None\n",
    "        self.xencoder = None\n",
    "        self.fencoder = None\n",
    "        \n",
    "        "
   ]
  },
  {
   "cell_type": "code",
   "execution_count": null,
   "id": "positive-parks",
   "metadata": {},
   "outputs": [],
   "source": []
  }
 ],
 "metadata": {
  "kernelspec": {
   "display_name": "nixtla",
   "language": "python",
   "name": "nixtla"
  }
 },
 "nbformat": 4,
 "nbformat_minor": 5
}
