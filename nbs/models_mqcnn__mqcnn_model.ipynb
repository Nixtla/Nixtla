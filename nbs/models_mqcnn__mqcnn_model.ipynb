{
 "cells": [
  {
   "cell_type": "code",
   "execution_count": null,
   "id": "recent-willow",
   "metadata": {},
   "outputs": [],
   "source": [
    "# default_exp models.mqcnn.mqcnn_model"
   ]
  },
  {
   "cell_type": "code",
   "execution_count": null,
   "id": "efficient-vietnamese",
   "metadata": {},
   "outputs": [],
   "source": [
    "# hide\n",
    "%load_ext autoreload\n",
    "%autoreload 2"
   ]
  },
  {
   "cell_type": "code",
   "execution_count": null,
   "id": "compliant-shepherd",
   "metadata": {},
   "outputs": [],
   "source": [
    "# export\n",
    "from nixtla.models.components.common import CausalConv1d\n",
    "from nixtla.models.components.common import TimeDistributed"
   ]
  },
  {
   "cell_type": "code",
   "execution_count": null,
   "id": "wired-explosion",
   "metadata": {},
   "outputs": [],
   "source": []
  },
  {
   "cell_type": "code",
   "execution_count": null,
   "id": "foreign-green",
   "metadata": {},
   "outputs": [],
   "source": []
  }
 ],
 "metadata": {
  "kernelspec": {
   "display_name": "Python [conda env:nixtla] *",
   "language": "python",
   "name": "conda-env-nixtla-py"
  }
 },
 "nbformat": 4,
 "nbformat_minor": 5
}
