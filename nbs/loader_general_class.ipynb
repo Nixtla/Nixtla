{
 "cells": [
  {
   "cell_type": "code",
   "execution_count": 1,
   "metadata": {},
   "outputs": [],
   "source": [
    "# default_exp data.ts_loader_general"
   ]
  },
  {
   "cell_type": "code",
   "execution_count": 1,
   "metadata": {},
   "outputs": [],
   "source": [
    "#hide\n",
    "%load_ext autoreload\n",
    "%autoreload 2"
   ]
  },
  {
   "cell_type": "code",
   "execution_count": 2,
   "metadata": {},
   "outputs": [],
   "source": [
    "#export\n",
    "import numpy as np\n",
    "import pandas as pd\n",
    "import random\n",
    "import torch as t\n",
    "import copy\n",
    "from fastcore.foundation import patch\n",
    "from nixtla.data.ts_dataset import TimeSeriesDataset\n",
    "from collections import defaultdict"
   ]
  },
  {
   "cell_type": "code",
   "execution_count": 3,
   "metadata": {},
   "outputs": [],
   "source": [
    "#export\n",
    "class TimeSeriesLoader(object):\n",
    "    def __init__(self,\n",
    "                 ts_dataset:TimeSeriesDataset,\n",
    "                 model:str,\n",
    "                 offset:int,\n",
    "                 window_sampling_limit: int, \n",
    "                 input_size: int,\n",
    "                 output_size: int,\n",
    "                 idx_to_sample_freq: int, #TODO: not active yet\n",
    "                 batch_size: int,\n",
    "                 n_series_per_batch: int = None,\n",
    "                 ts_outsample_mask: list=[]):\n",
    "        \"\"\"\n",
    "        \"\"\"\n",
    "        self.model = model\n",
    "        self.window_sampling_limit = window_sampling_limit\n",
    "        self.input_size = input_size\n",
    "        self.output_size = output_size\n",
    "        self.batch_size = batch_size\n",
    "        self.idx_to_sample_freq = idx_to_sample_freq\n",
    "        self.offset = offset\n",
    "        self.ts_dataset = copy.deepcopy(ts_dataset) #TODO: sacar deep_copy\n",
    "        self.ts_outsample_mask = ts_outsample_mask\n",
    "        self.t_cols = self.ts_dataset.t_cols\n",
    "        self.n_series_per_batch = n_series_per_batch if n_series_per_batch is not None else batch_size\n",
    "        self.windows_per_serie = self.batch_size // self.n_series_per_batch\n",
    "\n",
    "        if len(self.ts_outsample_mask) > 0:\n",
    "            self.ts_dataset.ts_tensor[:, self.t_cols.index('outsample_mask'), :] = t.as_tensor(ts_outsample_mask,dtype=t.float32)\n",
    "       \n",
    "        self._is_train = True\n",
    "\n",
    "    def _get_sampleable_windows_idxs(self, ts_windows):\n",
    "        # Only sample during training windows with at least one active output mask\n",
    "        sampling_idx = t.sum(ts_windows[:, self.t_cols.index('outsample_mask'), -self.output_size:], axis=1)\n",
    "        sampling_idx = t.nonzero(sampling_idx > 0)\n",
    "        return list(sampling_idx.flatten().numpy())\n",
    "\n",
    "    def _create_windows_tensor(self, ts_idxs=None):\n",
    "        \"\"\"\n",
    "        Comment here\n",
    "        TODO: Cuando creemos el otro dataloader, si es compatible lo hacemos funcion transform en utils\n",
    "        \"\"\"\n",
    "        tensor, right_padding = self.ts_dataset.get_filtered_tensor(offset=self.offset, output_size=self.output_size,\n",
    "                                                                    window_sampling_limit=self.window_sampling_limit,\n",
    "                                                                    ts_idxs=ts_idxs)\n",
    "        tensor = t.Tensor(tensor)\n",
    "        _, n_channels, _ = tensor.size()\n",
    "\n",
    "        padder = t.nn.ConstantPad1d(padding=(self.input_size-1, right_padding), value=0)\n",
    "        tensor = padder(tensor)\n",
    "\n",
    "        # Last output_size outsample_mask and y to 0\n",
    "        tensor[:, self.t_cols.index('y'), -self.output_size:] = 0 # overkill to ensure no leakage\n",
    "        tensor[:, self.t_cols.index('outsample_mask'), -self.output_size:] = 0\n",
    "\n",
    "        # Creating rolling windows\n",
    "        windows = tensor.unfold(dimension=-1, size=self.input_size + self.output_size, step=1)\n",
    "        windows = windows.permute(2,0,1,3)\n",
    "        windows = windows.reshape(-1, n_channels, self.input_size + self.output_size)\n",
    "        return windows\n",
    "\n",
    "    def __iter__(self):\n",
    "        while True:\n",
    "            if self._is_train:\n",
    "                ts_idxs = np.random.choice(range(self.ts_dataset.n_series),\n",
    "                                           size=self.n_series_per_batch, \n",
    "                                           replace=True)\n",
    "            else:\n",
    "                ts_idxs = range(self.get_n_series())\n",
    "        \n",
    "            batch = self.__get_item__(index=ts_idxs)\n",
    "\n",
    "            yield batch\n",
    "\n",
    "    def __get_item__(self, index):\n",
    "        if self.model == 'nbeats':\n",
    "            return self._nbeats_batch(index)\n",
    "        elif self.model == 'esrnn':\n",
    "            assert 1<0, 'hacer esrnn'\n",
    "        else:\n",
    "            assert 1<0, 'error'\n",
    "\n",
    "    def _nbeats_batch(self, index):\n",
    "\n",
    "        # Create windows for each sampled ts and sample random unmasked windows from each ts\n",
    "        windows = self._create_windows_tensor(index)\n",
    "    \n",
    "        sampleable_windows = self._get_sampleable_windows_idxs(windows)\n",
    "\n",
    "        if self._is_train:\n",
    "            windows_idxs = np.random.choice(sampleable_windows, self.batch_size, replace=True)\n",
    "            windows = windows[windows_idxs]\n",
    "        else:\n",
    "            windows_idxs = index\n",
    "            windows = windows[-self.get_n_series():]\n",
    "        \n",
    "        \n",
    "        #TODO: Fix this part. \n",
    "        x_s = self.ts_dataset.x_s[index]\n",
    "        x_s = x_s.repeat(self.windows_per_serie, 1)\n",
    "        x_s = x_s[windows_idxs]\n",
    "\n",
    "        insample_y = windows[:, self.t_cols.index('y'), :self.input_size]\n",
    "        insample_x_t = windows[:, (self.t_cols.index('y')+1):self.t_cols.index('insample_mask'), :self.input_size]\n",
    "        insample_mask = windows[:, self.t_cols.index('insample_mask'), :self.input_size]\n",
    "\n",
    "        outsample_y = windows[:, self.t_cols.index('y'), self.input_size:]\n",
    "        outsample_x_t = windows[:, (self.t_cols.index('y')+1):self.t_cols.index('insample_mask'), self.input_size:]\n",
    "        outsample_mask = windows[:, self.t_cols.index('outsample_mask'), self.input_size:]\n",
    "\n",
    "        batch = {'insample_y': insample_y, 'insample_x_t':insample_x_t, 'insample_mask':insample_mask,\n",
    "                  'outsample_y': outsample_y, 'outsample_x_t':outsample_x_t, 'outsample_mask':outsample_mask,\n",
    "                  'x_s':x_s}\n",
    "\n",
    "        return batch\n",
    "\n",
    "    def update_offset(self, offset):\n",
    "        if offset == self.offset:\n",
    "            return # Avoid extra computation\n",
    "        self.offset = offset\n",
    "\n",
    "    def get_meta_data_var(self, var):\n",
    "        \"\"\"\n",
    "        \"\"\"\n",
    "        return self.ts_dataset.get_meta_data_var(var)\n",
    "\n",
    "    def get_n_variables(self):\n",
    "        return self.ts_dataset.n_x_t, self.ts_dataset.n_s_t\n",
    "\n",
    "    def get_n_series(self):\n",
    "        return self.ts_dataset.n_series\n",
    "\n",
    "    def get_max_len(self):\n",
    "        return self.ts_dataset.max_len\n",
    "\n",
    "    def get_n_channels(self):\n",
    "        return self.ts_dataset.n_channels\n",
    "\n",
    "    def get_frequency(self):\n",
    "        return self.ts_dataset.frequency\n",
    "\n",
    "    def train(self):\n",
    "        self._is_train = True\n",
    "\n",
    "    def eval(self):\n",
    "        self._is_train = False"
   ]
  },
  {
   "cell_type": "code",
   "execution_count": null,
   "metadata": {},
   "outputs": [],
   "source": [
    "from nixtla.data.datasets.m4 import M4, M4Info\n",
    "m3_dataset = M4.load(directory='../data', group=M4Info.groups[0])"
   ]
  },
  {
   "cell_type": "code",
   "execution_count": 11,
   "metadata": {},
   "outputs": [],
   "source": [
    "ts_loader = TimeSeriesLoader(ts_dataset= m3_dataset,\n",
    "                             model='nbeats',\n",
    "                             offset=0,\n",
    "                             window_sampling_limit=50, \n",
    "                             input_size=8,\n",
    "                             output_size=6,\n",
    "                             idx_to_sample_freq=1,\n",
    "                             batch_size=1024)"
   ]
  },
  {
   "cell_type": "code",
   "execution_count": 12,
   "metadata": {},
   "outputs": [],
   "source": [
    "dataloader = iter(ts_loader)\n",
    "batch = next(dataloader)\n",
    "insample_y = batch['insample_y']\n",
    "insample_x_t = batch['insample_x_t']\n",
    "insample_mask = batch['insample_mask']\n",
    "outsample_x_t = batch['outsample_x_t']\n",
    "outsample_y = batch['outsample_y']\n",
    "outsample_mask = batch['outsample_mask']"
   ]
  },
  {
   "cell_type": "code",
   "execution_count": 13,
   "metadata": {},
   "outputs": [
    {
     "data": {
      "text/plain": [
       "tensor([[ 4340.4399,  4789.9502,  5128.6602,  ...,  5640.7202,  5730.7900,\n",
       "          6037.7598],\n",
       "        [ 1706.0300,  1984.7300,  2358.7500,  ...,  3717.4500,  4201.3501,\n",
       "          4796.0298],\n",
       "        [    0.0000,     0.0000,     0.0000,  ...,  1950.0000,  2540.0000,\n",
       "          2670.0000],\n",
       "        ...,\n",
       "        [10100.0000, 10400.0000, 13800.0000,  ..., 10500.0000, 10600.0000,\n",
       "          8800.0000],\n",
       "        [ 6300.0000,  3900.0000,  3600.0000,  ...,  5100.0000,  4700.0000,\n",
       "          4900.0000],\n",
       "        [ 8473.0000,  8787.5000,  8819.0000,  ..., 10264.5000,  9622.0000,\n",
       "          9088.5000]])"
      ]
     },
     "execution_count": 13,
     "metadata": {},
     "output_type": "execute_result"
    }
   ],
   "source": [
    "insample_y"
   ]
  },
  {
   "cell_type": "code",
   "execution_count": 14,
   "metadata": {},
   "outputs": [
    {
     "data": {
      "text/plain": [
       "tensor([[ 4340.4399,  4789.9502,  5128.6602,  ...,  5640.7202,  5730.7900,\n",
       "          6037.7598],\n",
       "        [ 1706.0300,  1984.7300,  2358.7500,  ...,  3717.4500,  4201.3501,\n",
       "          4796.0298],\n",
       "        [    0.0000,     0.0000,     0.0000,  ...,  1950.0000,  2540.0000,\n",
       "          2670.0000],\n",
       "        ...,\n",
       "        [10100.0000, 10400.0000, 13800.0000,  ..., 10500.0000, 10600.0000,\n",
       "          8800.0000],\n",
       "        [ 6300.0000,  3900.0000,  3600.0000,  ...,  5100.0000,  4700.0000,\n",
       "          4900.0000],\n",
       "        [ 8473.0000,  8787.5000,  8819.0000,  ..., 10264.5000,  9622.0000,\n",
       "          9088.5000]])"
      ]
     },
     "execution_count": 14,
     "metadata": {},
     "output_type": "execute_result"
    }
   ],
   "source": [
    "insample_y"
   ]
  },
  {
   "cell_type": "code",
   "execution_count": 15,
   "metadata": {},
   "outputs": [
    {
     "data": {
      "text/plain": [
       "tensor([[ 6225.0000,  6491.6899,  6818.6299,  7070.0400,  7959.7500,  8308.8701],\n",
       "        [ 5224.8799,  5669.1699,  6139.4199,  6965.0298,  7657.7300,  8130.2300],\n",
       "        [ 2930.0000,  3120.0000,  3390.0000,  3360.0000,  3780.0000,  4090.0000],\n",
       "        ...,\n",
       "        [ 8100.0000,  8000.0000,  8100.0000,  9900.0000, 11500.0000, 10600.0000],\n",
       "        [ 7900.0000,  6100.0000,  6200.0000,  7500.0000,  6100.0000,  6100.0000],\n",
       "        [ 8940.0000,  8085.5000,  7955.5000,  7635.0000,  7402.5000,  6958.0000]])"
      ]
     },
     "execution_count": 15,
     "metadata": {},
     "output_type": "execute_result"
    }
   ],
   "source": [
    "outsample_y"
   ]
  },
  {
   "cell_type": "code",
   "execution_count": 16,
   "metadata": {},
   "outputs": [
    {
     "data": {
      "text/plain": [
       "torch.Size([1024, 8])"
      ]
     },
     "execution_count": 16,
     "metadata": {},
     "output_type": "execute_result"
    }
   ],
   "source": [
    "insample_mask.shape"
   ]
  },
  {
   "cell_type": "code",
   "execution_count": 17,
   "metadata": {},
   "outputs": [
    {
     "data": {
      "text/plain": [
       "tensor(0.8547)"
      ]
     },
     "execution_count": 17,
     "metadata": {},
     "output_type": "execute_result"
    }
   ],
   "source": [
    "outsample_mask.mean()"
   ]
  },
  {
   "cell_type": "code",
   "execution_count": null,
   "metadata": {},
   "outputs": [],
   "source": []
  }
 ],
 "metadata": {
  "kernelspec": {
   "display_name": "nixtla",
   "language": "python",
   "name": "nixtla"
  },
  "language_info": {
   "codemirror_mode": {
    "name": "ipython",
    "version": 3
   },
   "file_extension": ".py",
   "mimetype": "text/x-python",
   "name": "python",
   "nbconvert_exporter": "python",
   "pygments_lexer": "ipython3",
   "version": "3.7.8"
  }
 },
 "nbformat": 4,
 "nbformat_minor": 2
}
