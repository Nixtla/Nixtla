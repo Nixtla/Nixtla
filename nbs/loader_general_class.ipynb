{
 "cells": [
  {
   "cell_type": "code",
   "execution_count": 1,
   "metadata": {},
   "outputs": [],
   "source": [
    "# default_exp data.ts_loader_general"
   ]
  },
  {
   "cell_type": "code",
   "execution_count": 2,
   "metadata": {},
   "outputs": [],
   "source": [
    "#hide\n",
    "%load_ext autoreload\n",
    "%autoreload 2"
   ]
  },
  {
   "cell_type": "code",
   "execution_count": 3,
   "metadata": {},
   "outputs": [],
   "source": [
    "#export\n",
    "import numpy as np\n",
    "import pandas as pd\n",
    "import random\n",
    "import torch as t\n",
    "import copy\n",
    "from fastcore.foundation import patch\n",
    "from nixtla.data.ts_dataset import TimeSeriesDataset\n",
    "from collections import defaultdict\n",
    "\n",
    "# np.random.seed(1)"
   ]
  },
  {
   "cell_type": "code",
   "execution_count": 4,
   "metadata": {},
   "outputs": [],
   "source": [
    "#export\n",
    "# TODO: train_masks no estan definidass para el DataloaderGeneral\n",
    "# TODO: revisar _create_windows_tensor method para checar que la declaracion de la train_mask y su uso es correcto\n",
    "#.      no sabemos si hay algo diferente respecto a su uso en el DataLoaderFast\n",
    "# TODO: pensar variable shuffle para compatibilidad con dataloader de pytorch y keras\n",
    "#.      por el momento tenemos solo validacion boostrapeada, no existe modo no shuffle\n",
    "#.      para evaluacion no estocástica, nuestra validación está hackeada.\n",
    "# TODO: _get_sampleable_windows_idxs linea muy malvada de windows con frequencia aumenta de 3.0 a 3.6 segundos el batch\n",
    "class TimeSeriesLoader(object):\n",
    "    def __init__(self,\n",
    "                 ts_dataset: TimeSeriesDataset,\n",
    "                 model: str,\n",
    "                 offset: int,\n",
    "                 window_sampling_limit: int, \n",
    "                 input_size: int,\n",
    "                 output_size: int,\n",
    "                 idx_to_sample_freq: int,\n",
    "                 batch_size: int,\n",
    "                 is_train_loader: bool,\n",
    "                 n_series_per_batch: int=None):\n",
    "        \"\"\"\n",
    "        \"\"\"\n",
    "        # Dataloader attributes\n",
    "        self.model = model\n",
    "        self.window_sampling_limit = window_sampling_limit\n",
    "        self.input_size = input_size\n",
    "        self.output_size = output_size\n",
    "        self.batch_size = batch_size\n",
    "        self.idx_to_sample_freq = idx_to_sample_freq\n",
    "        self.offset = offset\n",
    "        self.ts_dataset = ts_dataset\n",
    "        self.t_cols = self.ts_dataset.t_cols\n",
    "        self.is_train_loader = is_train_loader # Boolean variable for train and validation mask\n",
    "        if n_series_per_batch is not None:\n",
    "            self.n_series_per_batch = n_series_per_batch \n",
    "        else:\n",
    "            self.n_series_per_batch = min(batch_size, self.ts_dataset.n_series)\n",
    "        self.windows_per_serie = self.batch_size // self.n_series_per_batch\n",
    "        self._is_train = True\n",
    "\n",
    "        assert self.batch_size % self.n_series_per_batch == 0, \\\n",
    "                        f'batch_size {self.batch_size} must be multiple of n_series_per_batch {self.n_series_per_batch}'\n",
    "        assert self.n_series_per_batch <= self.ts_dataset.n_series, \\\n",
    "                        f'n_series_per_batch {n_series_per_batch} needs to be smaller than n_series {self.ts_dataset.n_series}'\n",
    "\n",
    "    def _get_sampleable_windows_idxs(self, ts_windows_flatten):\n",
    "        # Only sample during training windows with at least one active output mask\n",
    "        sampling_idx = t.sum(ts_windows_flatten[:, self.t_cols.index('outsample_mask'), -self.output_size:], axis=1)\n",
    "        sampling_idx = t.nonzero(sampling_idx > 0)\n",
    "        sampling_idx = list(sampling_idx.flatten().numpy())\n",
    "        # TODO: pensar como resolver el hack de +1, \n",
    "        #.      el +1 está diseñado para addressear el shift que tenemos que garantiza que el primer train tenga\n",
    "        #.      por lo menos un input en la train_mask, además este código necesita la condición de que la serie más larga empieza\n",
    "        #.      en el ds del que se va a querer samplear con la frecuencia particular. Hay dos hacks ENORMES.\n",
    "        sampling_idx = [idx for idx in sampling_idx if (idx+1) % self.idx_to_sample_freq==0] # TODO: Esta linea muy malvada aumenta .6 segundos\n",
    "        return sampling_idx        \n",
    "\n",
    "    def _create_windows_tensor(self, ts_idxs=None):\n",
    "        \"\"\"\n",
    "        Comment here\n",
    "        TODO: Cuando creemos el otro dataloader, si es compatible lo hacemos funcion transform en utils\n",
    "        \"\"\"\n",
    "        # Filter function is used to define train tensor and validation tensor with the offset\n",
    "        # Default ts_idxs=ts_idxs sends all the data, otherwise filters series      \n",
    "        tensor, right_padding, train_mask = self.ts_dataset.get_filtered_ts_tensor(offset=self.offset, output_size=self.output_size,\n",
    "                                                                                   window_sampling_limit=self.window_sampling_limit,\n",
    "                                                                                   ts_idxs=ts_idxs)\n",
    "        tensor = t.Tensor(tensor)\n",
    "\n",
    "        # Outsample mask checks existance of values in ts, train_mask mask is used to filter out validation\n",
    "        # is_train_loader inverts the train_mask in case the dataloader is in validation mode\n",
    "        mask = train_mask if self.is_train_loader else (1 - train_mask)\n",
    "        tensor[:, self.t_cols.index('outsample_mask'), :] = tensor[:, self.t_cols.index('outsample_mask'), :] * mask\n",
    "\n",
    "        padder = t.nn.ConstantPad1d(padding=(self.input_size-1, right_padding), value=0)\n",
    "        tensor = padder(tensor)\n",
    "\n",
    "        # Last output_size outsample_mask and y to 0\n",
    "        tensor[:, self.t_cols.index('y'), -self.output_size:] = 0 # overkill to ensure no validation leakage\n",
    "        tensor[:, self.t_cols.index('outsample_mask'), -self.output_size:] = 0\n",
    "\n",
    "        # Creating rolling windows and 'flattens' them\n",
    "        windows = tensor.unfold(dimension=-1, size=self.input_size + self.output_size, step=1)\n",
    "        windows = windows.permute(2,0,1,3)\n",
    "        windows = windows.reshape(-1, self.ts_dataset.n_channels, self.input_size + self.output_size)\n",
    "        return windows\n",
    "\n",
    "    def __iter__(self):\n",
    "        while True:\n",
    "            if self._is_train:\n",
    "                # ts idxs for hierarchical sampling\n",
    "                ts_idxs = np.random.choice(range(self.ts_dataset.n_series),\n",
    "                                           size=self.n_series_per_batch, \n",
    "                                           replace=False) # If replace=True scales poorly, sample precomputed rolled windows\n",
    "            else:\n",
    "                # Get last n_series windows, dataset is ordered because of rolling windows\n",
    "                ts_idxs = range(self.ts_dataset.n_series)\n",
    "        \n",
    "            batch = self.__get_item__(index=ts_idxs)\n",
    "\n",
    "            yield batch\n",
    "\n",
    "    def __get_item__(self, index):\n",
    "        if self.model == 'nbeats':\n",
    "            return self._nbeats_batch(index)\n",
    "        elif self.model == 'esrnn':\n",
    "            assert 1<0, 'hacer esrnn'\n",
    "        else:\n",
    "            assert 1<0, 'error'\n",
    "\n",
    "    def _nbeats_batch(self, index):\n",
    "\n",
    "        # Create windows for each sampled ts and sample random unmasked windows from each ts\n",
    "        windows = self._create_windows_tensor(ts_idxs=index)\n",
    "    \n",
    "        if self._is_train:\n",
    "            sampleable_windows = self._get_sampleable_windows_idxs(ts_windows_flatten=windows)\n",
    "            windows_idxs = np.random.choice(sampleable_windows, self.batch_size, replace=True)\n",
    "            windows = windows[windows_idxs]\n",
    "        else:\n",
    "            windows_idxs = index\n",
    "            windows = windows[-self.ts_dataset.n_series:]\n",
    "        \n",
    "        #TODO: Fix this part. We have not tested the addition of static variables in DataLoaderGeneral\n",
    "        #.     This is inspired in the repeat of the in DataLoaderFast\n",
    "        s_matrix = self.ts_dataset.s_matrix[index]\n",
    "        s_matrix = s_matrix.repeat(self.windows_per_serie, 1)\n",
    "        s_matrix = s_matrix[windows_idxs]\n",
    "\n",
    "        insample_y = windows[:, self.t_cols.index('y'), :self.input_size]\n",
    "        insample_x = windows[:, (self.t_cols.index('y')+1):self.t_cols.index('insample_mask'), :self.input_size]\n",
    "        insample_mask = windows[:, self.t_cols.index('insample_mask'), :self.input_size]\n",
    "\n",
    "        outsample_y = windows[:, self.t_cols.index('y'), self.input_size:]\n",
    "        outsample_x = windows[:, (self.t_cols.index('y')+1):self.t_cols.index('insample_mask'), self.input_size:]\n",
    "        outsample_mask = windows[:, self.t_cols.index('outsample_mask'), self.input_size:]\n",
    "\n",
    "        batch = {'s_matrix': s_matrix,\n",
    "                 'insample_y': insample_y, 'insample_x':insample_x, 'insample_mask':insample_mask,\n",
    "                 'outsample_y': outsample_y, 'outsample_x':outsample_x, 'outsample_mask':outsample_mask}\n",
    "        return batch\n",
    "\n",
    "    def update_offset(self, offset):\n",
    "        if offset == self.offset:\n",
    "            return # Avoid extra computation\n",
    "        self.offset = offset\n",
    "\n",
    "    def get_meta_data_col(self, col):\n",
    "        return self.ts_dataset.get_meta_data_col(col)\n",
    "\n",
    "    def get_n_variables(self):\n",
    "        return self.ts_dataset.n_x, self.ts_dataset.n_s\n",
    "\n",
    "    def get_n_series(self):\n",
    "        return self.ts_dataset.n_series\n",
    "\n",
    "    def get_max_len(self):\n",
    "        return self.ts_dataset.max_len\n",
    "\n",
    "    def get_n_channels(self):\n",
    "        return self.ts_dataset.n_channels\n",
    "\n",
    "    def get_X_cols(self):\n",
    "        return self.ts_dataset.X_cols\n",
    "\n",
    "    def get_frequency(self):\n",
    "        return self.ts_dataset.frequency\n",
    "\n",
    "    def train(self):\n",
    "        self._is_train = True\n",
    "\n",
    "    def eval(self):\n",
    "        self._is_train = False"
   ]
  },
  {
   "cell_type": "code",
   "execution_count": 5,
   "metadata": {},
   "outputs": [
    {
     "output_type": "stream",
     "name": "stdout",
     "text": [
      "Processing dataframes ...\n",
      "Creating ts tensor ...\n"
     ]
    }
   ],
   "source": [
    "from nixtla.data.datasets.m4 import M4, M4Info\n",
    "m4_dataset = M4.load(directory='../data', group=M4Info.groups[0])"
   ]
  },
  {
   "cell_type": "code",
   "execution_count": 6,
   "metadata": {},
   "outputs": [],
   "source": [
    "ts_loader = TimeSeriesLoader(ts_dataset=m4_dataset,\n",
    "                             model='nbeats',\n",
    "                             offset=0,\n",
    "                             window_sampling_limit=50, \n",
    "                             input_size=8,\n",
    "                             output_size=6,\n",
    "                             idx_to_sample_freq=1,\n",
    "                             batch_size=1024,\n",
    "                             is_train_loader=True)"
   ]
  },
  {
   "cell_type": "code",
   "execution_count": 7,
   "metadata": {},
   "outputs": [
    {
     "output_type": "stream",
     "name": "stdout",
     "text": [
      "m4_dataset.t_cols ['y', 'insample_mask', 'outsample_mask']\nts_loader.input_size 8\nts_loader.output_size 6\ninsample_y.shape torch.Size([1024, 8])\noutsample_y.shape torch.Size([1024, 6])\n"
     ]
    }
   ],
   "source": [
    "dataloader = iter(ts_loader)\n",
    "batch = next(dataloader)\n",
    "insample_y = batch['insample_y']\n",
    "insample_x_t = batch['insample_x']\n",
    "insample_mask = batch['insample_mask']\n",
    "outsample_y = batch['outsample_y']\n",
    "outsample_x = batch['outsample_x']\n",
    "outsample_mask = batch['outsample_mask']\n",
    "\n",
    "print(\"m4_dataset.t_cols\", m4_dataset.t_cols)\n",
    "print(\"ts_loader.input_size\", ts_loader.input_size)\n",
    "print(\"ts_loader.output_size\", ts_loader.output_size)\n",
    "print(\"insample_y.shape\", insample_y.shape)\n",
    "print(\"outsample_y.shape\", outsample_y.shape)"
   ]
  },
  {
   "cell_type": "code",
   "execution_count": 8,
   "metadata": {},
   "outputs": [
    {
     "output_type": "execute_result",
     "data": {
      "text/plain": [
       "tensor([[3660.0000, 4190.0000, 4380.0000,  ..., 5570.0000, 7630.0000,\n",
       "         7870.0000],\n",
       "        [2220.0000, 2270.0000, 2220.0000,  ..., 2110.0000, 2050.0000,\n",
       "         2130.0000],\n",
       "        [4070.0000, 4730.0000, 3580.0000,  ..., 4480.0000, 4220.0000,\n",
       "         5260.0000],\n",
       "        ...,\n",
       "        [1044.0000, 1007.0000, 1005.0000,  ..., 1106.0000, 1082.0000,\n",
       "         1138.0000],\n",
       "        [1355.0000, 1424.0000, 1487.0000,  ..., 1778.0000, 1843.0000,\n",
       "         1923.0000],\n",
       "        [4157.8452, 4380.0732, 4582.4878,  ..., 5868.0010, 6202.7920,\n",
       "         6571.0190]])"
      ]
     },
     "metadata": {},
     "execution_count": 8
    }
   ],
   "source": [
    "insample_y"
   ]
  },
  {
   "cell_type": "code",
   "execution_count": 9,
   "metadata": {},
   "outputs": [
    {
     "output_type": "execute_result",
     "data": {
      "text/plain": [
       "tensor([[ 8360.0000,  9310.0000,  9770.0000, 10090.0000,  9690.0000, 10940.0000],\n",
       "        [ 2120.0000,     0.0000,     0.0000,     0.0000,     0.0000,     0.0000],\n",
       "        [ 2860.0000,  3350.0000,  5640.0000,  4630.0000,  4780.0000,  5440.0000],\n",
       "        ...,\n",
       "        [ 1175.0000,  1143.0000,  1204.0000,  1288.0000,  1274.0000,  1245.0000],\n",
       "        [ 1964.0000,  1971.0000,  2045.0000,  2144.0000,  1972.0000,     0.0000],\n",
       "        [ 6967.4600,  7248.4380,  7573.1021,  8064.9287,     0.0000,     0.0000]])"
      ]
     },
     "metadata": {},
     "execution_count": 9
    }
   ],
   "source": [
    "outsample_y"
   ]
  },
  {
   "cell_type": "code",
   "execution_count": 10,
   "metadata": {},
   "outputs": [
    {
     "output_type": "execute_result",
     "data": {
      "text/plain": [
       "torch.Size([1024, 8])"
      ]
     },
     "metadata": {},
     "execution_count": 10
    }
   ],
   "source": [
    "insample_mask.shape"
   ]
  },
  {
   "cell_type": "code",
   "execution_count": 11,
   "metadata": {},
   "outputs": [
    {
     "output_type": "execute_result",
     "data": {
      "text/plain": [
       "tensor(0.8683)"
      ]
     },
     "metadata": {},
     "execution_count": 11
    }
   ],
   "source": [
    "outsample_mask.mean()"
   ]
  },
  {
   "cell_type": "code",
   "execution_count": null,
   "metadata": {},
   "outputs": [],
   "source": []
  }
 ],
 "metadata": {
  "kernelspec": {
   "name": "python3",
   "display_name": "Python 3.7.9 64-bit ('nixtla': conda)",
   "metadata": {
    "interpreter": {
     "hash": "97c68c0f618c4f787b1e02bfee278e48d25b62407cb335aab5258cedc4db4ced"
    }
   }
  },
  "language_info": {
   "codemirror_mode": {
    "name": "ipython",
    "version": 3
   },
   "file_extension": ".py",
   "mimetype": "text/x-python",
   "name": "python",
   "nbconvert_exporter": "python",
   "pygments_lexer": "ipython3",
   "version": "3.7.9-final"
  }
 },
 "nbformat": 4,
 "nbformat_minor": 2
}