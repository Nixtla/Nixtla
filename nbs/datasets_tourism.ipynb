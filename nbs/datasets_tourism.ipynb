{
 "cells": [
  {
   "cell_type": "code",
   "execution_count": null,
   "metadata": {},
   "outputs": [],
   "source": [
    "#default_exp data.datasets.tourism"
   ]
  },
  {
   "cell_type": "markdown",
   "metadata": {},
   "source": [
    "# Tourism dataset\n",
    "\n",
    "> API details."
   ]
  },
  {
   "cell_type": "code",
   "execution_count": null,
   "metadata": {},
   "outputs": [],
   "source": [
    "#export\n",
    "from dataclasses import dataclass\n",
    "from pathlib import Path\n",
    "from typing import Dict, List, Optional, Tuple, Union\n",
    "\n",
    "import numpy as np\n",
    "import pandas as pd\n",
    "from pandas.tseries.frequencies import to_offset\n",
    "\n",
    "from nixtla.data.datasets.utils import download_file, Info, TimeSeriesDataclass"
   ]
  },
  {
   "cell_type": "code",
   "execution_count": null,
   "metadata": {},
   "outputs": [],
   "source": [
    "#export\n",
    "SOURCE_URL = 'https://robjhyndman.com/data/27-3-Athanasopoulos1.zip'"
   ]
  },
  {
   "cell_type": "markdown",
   "metadata": {},
   "source": [
    "Tourism meta information"
   ]
  },
  {
   "cell_type": "code",
   "execution_count": null,
   "metadata": {},
   "outputs": [],
   "source": [
    "#export\n",
    "@dataclass\n",
    "class Yearly:\n",
    "    seasonality: int = 1\n",
    "    horizon: int = 4\n",
    "    freq: str = 'Y'\n",
    "    rows: int = 2\n",
    "    name: str = 'Yearly'\n",
    "\n",
    "@dataclass\n",
    "class Quarterly:\n",
    "    seasonality: int = 4\n",
    "    horizon: int = 8\n",
    "    freq: str = 'Q'\n",
    "    rows: int = 3\n",
    "    name: str = 'Quarterly'\n",
    "\n",
    "@dataclass\n",
    "class Monthly:\n",
    "    seasonality: int = 12\n",
    "    horizon: int = 24\n",
    "    freq: str = 'M'\n",
    "    rows: int = 3\n",
    "    name: str = 'Monthly'"
   ]
  },
  {
   "cell_type": "code",
   "execution_count": null,
   "metadata": {},
   "outputs": [],
   "source": [
    "#export\n",
    "TourismInfo = Info(groups=('Yearly', 'Quarterly', 'Monthly'),\n",
    "                   class_groups=(Yearly, Quarterly, Monthly))"
   ]
  },
  {
   "cell_type": "code",
   "execution_count": null,
   "metadata": {},
   "outputs": [],
   "source": [
    "#export\n",
    "class Tourism(TimeSeriesDataclass):\n",
    "\n",
    "    @staticmethod\n",
    "    def load(directory: str,\n",
    "             group: str,\n",
    "             training: bool = True) -> 'Tourism':\n",
    "        \"\"\"\n",
    "        Downloads and loads Tourism data.\n",
    "\n",
    "        Parameters\n",
    "        ----------\n",
    "        directory: str\n",
    "            Directory where data will be downloaded.\n",
    "        group: str\n",
    "            Group name.\n",
    "            Allowed groups: 'Yearly', 'Quarterly', 'Monthly'.\n",
    "        training: bool\n",
    "            Wheter return training or testing data. Default True.\n",
    "        \"\"\"\n",
    "        path = Path(directory) / 'tourism' / 'datasets'\n",
    "\n",
    "        Tourism.download(directory)\n",
    "\n",
    "        class_group = TourismInfo.get_group(group)\n",
    "\n",
    "        if training:\n",
    "            file = path / f'{class_group.name.lower()}_in.csv'\n",
    "        else:\n",
    "            file = path / f'{class_group.name.lower()}_oos.csv'\n",
    "\n",
    "        df = pd.read_csv(file)\n",
    "\n",
    "        dfs = []\n",
    "        freq = to_offset(class_group.freq)\n",
    "        for col in df.columns:\n",
    "            df_col = df[col]\n",
    "            length, year = df_col[:2].astype(int)\n",
    "            skip_rows = class_group.rows\n",
    "            start_date = pd.to_datetime(f'{year}-01-01')         \n",
    "            if group != 'Yearly':\n",
    "                n_offsets = df_col[2].astype(int)\n",
    "                start_date += n_offsets * freq\n",
    "            elif col == 'Y18' and not training: # viene mal en el archivo esta serie\n",
    "                start_date += 2 * freq\n",
    "            df_col = df_col[skip_rows:length + skip_rows]\n",
    "            df_col = df_col.rename('y').to_frame()\n",
    "            df_col['unique_id'] = col\n",
    "            df_col['ds'] = pd.date_range(start_date, periods=length, freq=freq)\n",
    "\n",
    "            dfs.append(df_col)\n",
    "\n",
    "        df = pd.concat(dfs)\n",
    "\n",
    "        df = df.reset_index().filter(items=['unique_id', 'ds', 'y'])\n",
    "        df = df.sort_values(['unique_id', 'ds'])\n",
    "\n",
    "        return Tourism(Y=df, S=None, X=None, group=group)\n",
    "\n",
    "    @staticmethod\n",
    "    def download(directory: str) -> None:\n",
    "        \"\"\"Downloads Tourism Dataset.\"\"\"\n",
    "        path = Path(directory) / 'tourism' / 'datasets'\n",
    "        if not path.exists():\n",
    "            download_file(path, SOURCE_URL, decompress=True)"
   ]
  },
  {
   "cell_type": "code",
   "execution_count": null,
   "metadata": {},
   "outputs": [
    {
     "name": "stdout",
     "output_type": "stream",
     "text": [
      "Yearly\n",
      "  unique_id         ds           y\n",
      "0        Y1 1979-12-31  25092.2284\n",
      "1        Y1 1980-12-31  24271.5134\n",
      "2        Y1 1981-12-31  25828.9883\n",
      "3        Y1 1982-12-31  27697.5047\n",
      "4        Y1 1983-12-31  27956.2276\n",
      "Quarterly\n",
      "  unique_id         ds           y\n",
      "0        q1 1979-03-31   3592.5500\n",
      "1        q1 1979-06-30   6409.3403\n",
      "2        q1 1979-09-30  10953.4928\n",
      "3        q1 1979-12-31   4136.8453\n",
      "4        q1 1980-03-31   3369.4600\n",
      "Monthly\n",
      "  unique_id         ds          y\n",
      "0        m1 1979-01-31  1149.8700\n",
      "1        m1 1979-02-28  1053.8002\n",
      "2        m1 1979-03-31  1388.8798\n",
      "3        m1 1979-04-30  1783.3702\n",
      "4        m1 1979-05-31  1921.0252\n"
     ]
    }
   ],
   "source": [
    "for group in TourismInfo.groups:\n",
    "    print(group)\n",
    "    tourism_dataset = Tourism.load(directory='data', group=group)\n",
    "    print(tourism_dataset.Y.head())"
   ]
  },
  {
   "cell_type": "code",
   "execution_count": null,
   "metadata": {},
   "outputs": [],
   "source": [
    "for group_name, group in zip(TourismInfo.groups, TourismInfo.class_groups):\n",
    "    train_data = Tourism.load(directory='data', group=group_name, training=True).Y\n",
    "    valid_data = Tourism.load(directory='data', group=group_name, training=False).Y   \n",
    "    train_end_dates = train_data.groupby('unique_id').ds.max()\n",
    "    valid_start_dates = valid_data.groupby('unique_id').ds.min()\n",
    "    all_dates = train_end_dates.to_frame('end').join(valid_start_dates.rename('start'))\n",
    "    \n",
    "    assert (all_dates['end'] + to_offset(group.freq) == all_dates['start']).all()"
   ]
  }
 ],
 "metadata": {
  "kernelspec": {
   "display_name": "Python 3",
   "language": "python",
   "name": "python3"
  }
 },
 "nbformat": 4,
 "nbformat_minor": 4
}
