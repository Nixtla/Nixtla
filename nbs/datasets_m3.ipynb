{
 "cells": [
  {
   "cell_type": "code",
   "execution_count": null,
   "metadata": {},
   "outputs": [],
   "source": [
    "#default_exp data.datasets.m3"
   ]
  },
  {
   "cell_type": "markdown",
   "metadata": {},
   "source": [
    "# M3 dataset\n",
    "\n",
    "> API details."
   ]
  },
  {
   "cell_type": "code",
   "execution_count": null,
   "metadata": {},
   "outputs": [],
   "source": [
    "#export\n",
    "from dataclasses import dataclass\n",
    "from pathlib import Path\n",
    "from typing import Dict, List, Optional, Tuple, Union\n",
    "\n",
    "import numpy as np\n",
    "import pandas as pd\n",
    "\n",
    "from nixtla.data.datasets.utils import download_file, Info, TimeSeriesDataclass"
   ]
  },
  {
   "cell_type": "code",
   "execution_count": null,
   "metadata": {},
   "outputs": [],
   "source": [
    "#export\n",
    "SOURCE_URL = 'https://forecasters.org/data/m3comp/M3C.xls'"
   ]
  },
  {
   "cell_type": "markdown",
   "metadata": {},
   "source": [
    "Tourism meta information"
   ]
  },
  {
   "cell_type": "code",
   "execution_count": null,
   "metadata": {},
   "outputs": [],
   "source": [
    "#export\n",
    "@dataclass\n",
    "class Yearly:\n",
    "    seasonality: int = 1\n",
    "    horizon: int = 6\n",
    "    freq: str = 'D'\n",
    "    sheet_name: str = 'M3Year'\n",
    "    name: str = 'Yearly'\n",
    "\n",
    "@dataclass\n",
    "class Quarterly:\n",
    "    seasonality: int = 4\n",
    "    horizon: int = 8\n",
    "    freq: str = 'Q'\n",
    "    sheet_name: str = 'M3Quart'\n",
    "    name: str = 'Quarterly'\n",
    "\n",
    "@dataclass\n",
    "class Monthly:\n",
    "    seasonality: int = 12\n",
    "    horizon: int = 18\n",
    "    freq: str = 'M'\n",
    "    sheet_name: str = 'M3Month'\n",
    "    name: str = 'Monthly'\n",
    "\n",
    "@dataclass\n",
    "class Other:\n",
    "    seasonality: int = 1\n",
    "    horizon: int = 8\n",
    "    freq: str = 'D'\n",
    "    sheet_name: str = 'M3Other'\n",
    "    name: str = 'Other'\n",
    "\n",
    "@dataclass\n",
    "class M3Info:\n",
    "    groups: Tuple = ('Yearly', 'Quarterly', 'Monthly', 'Other')\n",
    "    class_groups: Tuple = (Yearly, Quarterly, Monthly, Other)\n",
    "\n",
    "    def get_group(self, group: str):\n",
    "        \"\"\"Gets dataclass of group.\"\"\"\n",
    "        if group not in self.groups:\n",
    "            raise Exception(f'Unkown group {group}')\n",
    "\n",
    "        return self.class_groups[self.groups.index(group)]"
   ]
  },
  {
   "cell_type": "code",
   "execution_count": null,
   "metadata": {},
   "outputs": [],
   "source": [
    "#export\n",
    "M3Info = Info(groups=('Yearly', 'Quarterly', 'Monthly', 'Other'),\n",
    "              class_groups=(Yearly, Quarterly, Monthly, Other))"
   ]
  },
  {
   "cell_type": "code",
   "execution_count": null,
   "metadata": {},
   "outputs": [],
   "source": [
    "#export\n",
    "@dataclass\n",
    "class M3(TimeSeriesDataclass):\n",
    "\n",
    "    @staticmethod\n",
    "    def load(directory: str,\n",
    "             group: str,\n",
    "             training: bool = True) -> 'M3':\n",
    "        \"\"\"\n",
    "        Downloads and loads M3 data.\n",
    "\n",
    "        Parameters\n",
    "        ----------\n",
    "        directory: str\n",
    "            Directory where data will be downloaded.\n",
    "        group: str\n",
    "            Group name.\n",
    "            Allowed groups: 'Yearly', 'Quarterly', 'Monthly', 'Other'.\n",
    "        training: bool\n",
    "            Wheter return training or testing data. Default True.\n",
    "        \"\"\"\n",
    "        path = Path(directory) / 'm3' / 'datasets'\n",
    "\n",
    "        M3.download(directory)\n",
    "\n",
    "        class_group = M3Info.get_group(group)\n",
    "\n",
    "        df = pd.read_excel(path / 'M3C.xls', sheet_name=class_group.sheet_name)\n",
    "        df = df.rename(columns={'Series': 'unique_id'})\n",
    "        df['unique_id'] = [class_group.name[0] + str(i + 1) for i in range(len(df))]\n",
    "\n",
    "        id_vars = list(df.columns[:6])\n",
    "\n",
    "        df = pd.melt(df, id_vars=id_vars, var_name='ds', value_name='y')\n",
    "        df = df.dropna().sort_values(['unique_id', 'ds']).reset_index(drop=True)\n",
    "\n",
    "        df = df.filter(items=['unique_id', 'ds', 'y'])\n",
    "        df = df.sort_values(by=['unique_id', 'ds']).reset_index(drop=True)\n",
    "\n",
    "        if training:\n",
    "            df = df.groupby('unique_id').apply(lambda df: df.head(-class_group.horizon)).reset_index(drop=True)\n",
    "        else:\n",
    "            df = df.groupby('unique_id').tail(class_group.horizon)\n",
    "            df['ds'] = df.groupby('unique_id').cumcount() + 1\n",
    "\n",
    "        return M3(Y=df, S=None, X=None)\n",
    "\n",
    "    @staticmethod\n",
    "    def download(directory: Path) -> None:\n",
    "        \"\"\"Download M3 Dataset.\"\"\"\n",
    "        path = Path(directory) / 'm3' / 'datasets'\n",
    "        if not path.exists():\n",
    "            download_file(path, SOURCE_URL)"
   ]
  },
  {
   "cell_type": "code",
   "execution_count": null,
   "metadata": {},
   "outputs": [
    {
     "data": {
      "text/html": [
       "<div>\n",
       "<style scoped>\n",
       "    .dataframe tbody tr th:only-of-type {\n",
       "        vertical-align: middle;\n",
       "    }\n",
       "\n",
       "    .dataframe tbody tr th {\n",
       "        vertical-align: top;\n",
       "    }\n",
       "\n",
       "    .dataframe thead th {\n",
       "        text-align: right;\n",
       "    }\n",
       "</style>\n",
       "<table border=\"1\" class=\"dataframe\">\n",
       "  <thead>\n",
       "    <tr style=\"text-align: right;\">\n",
       "      <th></th>\n",
       "      <th>unique_id</th>\n",
       "      <th>ds</th>\n",
       "      <th>y</th>\n",
       "    </tr>\n",
       "  </thead>\n",
       "  <tbody>\n",
       "    <tr>\n",
       "      <th>0</th>\n",
       "      <td>Y1</td>\n",
       "      <td>1</td>\n",
       "      <td>940.66</td>\n",
       "    </tr>\n",
       "    <tr>\n",
       "      <th>1</th>\n",
       "      <td>Y1</td>\n",
       "      <td>2</td>\n",
       "      <td>1084.86</td>\n",
       "    </tr>\n",
       "    <tr>\n",
       "      <th>2</th>\n",
       "      <td>Y1</td>\n",
       "      <td>3</td>\n",
       "      <td>1244.98</td>\n",
       "    </tr>\n",
       "    <tr>\n",
       "      <th>3</th>\n",
       "      <td>Y1</td>\n",
       "      <td>4</td>\n",
       "      <td>1445.02</td>\n",
       "    </tr>\n",
       "    <tr>\n",
       "      <th>4</th>\n",
       "      <td>Y1</td>\n",
       "      <td>5</td>\n",
       "      <td>1683.17</td>\n",
       "    </tr>\n",
       "  </tbody>\n",
       "</table>\n",
       "</div>"
      ],
      "text/plain": [
       "  unique_id ds        y\n",
       "0        Y1  1   940.66\n",
       "1        Y1  2  1084.86\n",
       "2        Y1  3  1244.98\n",
       "3        Y1  4  1445.02\n",
       "4        Y1  5  1683.17"
      ]
     },
     "execution_count": null,
     "metadata": {},
     "output_type": "execute_result"
    }
   ],
   "source": [
    "M3.load(directory='data', group='Yearly').Y.head()"
   ]
  },
  {
   "cell_type": "code",
   "execution_count": null,
   "metadata": {},
   "outputs": [
    {
     "name": "stdout",
     "output_type": "stream",
     "text": [
      "Yearly\n",
      "  unique_id ds        y\n",
      "0        Y1  1   940.66\n",
      "1        Y1  2  1084.86\n",
      "2        Y1  3  1244.98\n",
      "3        Y1  4  1445.02\n",
      "4        Y1  5  1683.17\n",
      "Quarterly\n",
      "  unique_id ds        y\n",
      "0        Q1  1  3142.63\n",
      "1        Q1  2  3190.75\n",
      "2        Q1  3  3178.69\n",
      "3        Q1  4  3170.94\n",
      "4        Q1  5  3124.38\n",
      "Monthly\n",
      "  unique_id ds       y\n",
      "0        M1  1  2640.0\n",
      "1        M1  2  2640.0\n",
      "2        M1  3  2160.0\n",
      "3        M1  4  4200.0\n",
      "4        M1  5  3360.0\n",
      "Other\n",
      "  unique_id ds        y\n",
      "0        O1  1  3060.42\n",
      "1        O1  2  3021.19\n",
      "2        O1  3  3301.13\n",
      "3        O1  4  3287.03\n",
      "4        O1  5  3080.71\n"
     ]
    }
   ],
   "source": [
    "for group in M3Info.groups:\n",
    "    print(group)\n",
    "    m3_dataset = M3.load(directory='data', group=group)\n",
    "    print(m3_dataset.Y.head())"
   ]
  }
 ],
 "metadata": {
  "kernelspec": {
   "display_name": "Python 3",
   "language": "python",
   "name": "python3"
  }
 },
 "nbformat": 4,
 "nbformat_minor": 4
}
