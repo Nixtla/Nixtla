{
 "cells": [
  {
   "cell_type": "code",
   "execution_count": null,
   "metadata": {},
   "outputs": [],
   "source": [
    "#default_exp data.datasets.m3"
   ]
  },
  {
   "cell_type": "markdown",
   "metadata": {},
   "source": [
    "# M3 dataset\n",
    "\n",
    "> API details."
   ]
  },
  {
   "cell_type": "code",
   "execution_count": null,
   "metadata": {},
   "outputs": [],
   "source": [
    "#export\n",
    "from dataclasses import dataclass\n",
    "from pathlib import Path\n",
    "from typing import Dict, List, Optional, Tuple, Union\n",
    "\n",
    "import numpy as np\n",
    "import pandas as pd\n",
    "\n",
    "from nixtla.data.datasets.utils import download_file, Info, TimeSeriesDataclass"
   ]
  },
  {
   "cell_type": "code",
   "execution_count": null,
   "metadata": {},
   "outputs": [],
   "source": [
    "#export\n",
    "SOURCE_URL = 'https://forecasters.org/data/m3comp/M3C.xls'"
   ]
  },
  {
   "cell_type": "markdown",
   "metadata": {},
   "source": [
    "Tourism meta information"
   ]
  },
  {
   "cell_type": "code",
   "execution_count": null,
   "metadata": {},
   "outputs": [],
   "source": [
    "#export\n",
    "@dataclass\n",
    "class Yearly:\n",
    "    seasonality: int = 1\n",
    "    horizon: int = 6\n",
    "    freq: str = 'Y'\n",
    "    sheet_name: str = 'M3Year'\n",
    "    name: str = 'Yearly'\n",
    "\n",
    "@dataclass\n",
    "class Quarterly:\n",
    "    seasonality: int = 4\n",
    "    horizon: int = 8\n",
    "    freq: str = 'Q'\n",
    "    sheet_name: str = 'M3Quart'\n",
    "    name: str = 'Quarterly'\n",
    "\n",
    "@dataclass\n",
    "class Monthly:\n",
    "    seasonality: int = 12\n",
    "    horizon: int = 18\n",
    "    freq: str = 'M'\n",
    "    sheet_name: str = 'M3Month'\n",
    "    name: str = 'Monthly'\n",
    "\n",
    "@dataclass\n",
    "class Other:\n",
    "    seasonality: int = 1\n",
    "    horizon: int = 8\n",
    "    freq: str = 'D'\n",
    "    sheet_name: str = 'M3Other'\n",
    "    name: str = 'Other'"
   ]
  },
  {
   "cell_type": "code",
   "execution_count": null,
   "metadata": {},
   "outputs": [],
   "source": [
    "#export\n",
    "M3Info = Info(groups=('Yearly', 'Quarterly', 'Monthly', 'Other'),\n",
    "              class_groups=(Yearly, Quarterly, Monthly, Other))"
   ]
  },
  {
   "cell_type": "code",
   "execution_count": null,
   "metadata": {},
   "outputs": [],
   "source": [
    "#exporti\n",
    "def _return_year(ts):\n",
    "    year = ts.iloc[0]\n",
    "    year = year if year != 0 else 1970\n",
    "\n",
    "    return year"
   ]
  },
  {
   "cell_type": "code",
   "execution_count": null,
   "metadata": {},
   "outputs": [],
   "source": [
    "#export\n",
    "@dataclass\n",
    "class M3(TimeSeriesDataclass):\n",
    "\n",
    "    @staticmethod\n",
    "    def load(directory: str,\n",
    "             group: str,\n",
    "             training: bool = True) -> 'M3':\n",
    "        \"\"\"\n",
    "        Downloads and loads M3 data.\n",
    "\n",
    "        Parameters\n",
    "        ----------\n",
    "        directory: str\n",
    "            Directory where data will be downloaded.\n",
    "        group: str\n",
    "            Group name.\n",
    "            Allowed groups: 'Yearly', 'Quarterly', 'Monthly', 'Other'.\n",
    "        training: bool\n",
    "            Wheter return training or testing data. Default True.\n",
    "        \"\"\"\n",
    "        path = Path(directory) / 'm3' / 'datasets'\n",
    "\n",
    "        M3.download(directory)\n",
    "\n",
    "        class_group = M3Info.get_group(group)\n",
    "\n",
    "        df = pd.read_excel(path / 'M3C.xls', sheet_name=class_group.sheet_name)\n",
    "\n",
    "        df = df.rename(columns={'Series': 'unique_id',\n",
    "                                'Category': 'category',\n",
    "                                'Starting Year': 'year',\n",
    "                                'Starting Month': 'month'})\n",
    "\n",
    "        df['unique_id'] = [class_group.name[0] + str(i + 1) for i in range(len(df))]\n",
    "        S = df.filter(items=['unique_id', 'category'])\n",
    "\n",
    "        id_vars = list(df.columns[:6])\n",
    "        df = pd.melt(df, id_vars=id_vars, var_name='ds', value_name='y')\n",
    "        df = df.dropna().sort_values(['unique_id', 'ds']).reset_index(drop=True)\n",
    "\n",
    "        freq = pd.tseries.frequencies.to_offset(class_group.freq)\n",
    "\n",
    "        if group == 'Other':\n",
    "            df['year'] = 1970\n",
    "\n",
    "        df['ds'] = df.groupby('unique_id')['year'] \\\n",
    "                     .transform(lambda df: pd.date_range(f'{_return_year(df)}-01-01',\n",
    "                                                         periods=df.shape[0],\n",
    "                                                         freq=freq))\n",
    "\n",
    "        df = df.filter(items=['unique_id', 'ds', 'y'])\n",
    "\n",
    "        if training:\n",
    "            df = df.groupby('unique_id').apply(lambda df: df.head(-class_group.horizon)).reset_index(drop=True)\n",
    "        else:\n",
    "            df = df.groupby('unique_id').tail(class_group.horizon)\n",
    "            df['ds'] = df.groupby('unique_id').cumcount() + 1\n",
    "\n",
    "        return M3(Y=df, S=S, X=None, idx_categorical_static=[0], group=group)\n",
    "\n",
    "    @staticmethod\n",
    "    def download(directory: Path) -> None:\n",
    "        \"\"\"Download M3 Dataset.\"\"\"\n",
    "        path = Path(directory) / 'm3' / 'datasets'\n",
    "        if not path.exists():\n",
    "            download_file(path, SOURCE_URL)"
   ]
  },
  {
   "cell_type": "markdown",
   "metadata": {},
   "source": [
    "Observaciones:\n",
    "\n",
    "1. Hay series mensuales que no tienen año de inicio, en este caso iniciarán en 1970.\n",
    "2. Las series `Other` no tienen fecha como tal. Serán consideradas como diarias y empezarán en 1970."
   ]
  },
  {
   "cell_type": "code",
   "execution_count": null,
   "metadata": {},
   "outputs": [
    {
     "name": "stdout",
     "output_type": "stream",
     "text": [
      "Yearly\n",
      "  unique_id         ds        y\n",
      "0        Y1 1975-01-01   940.66\n",
      "1        Y1 1975-01-02  1084.86\n",
      "2        Y1 1975-01-03  1244.98\n",
      "3        Y1 1975-01-04  1445.02\n",
      "4        Y1 1975-01-05  1683.17 \n",
      "   unique_id      category\n",
      "0        Y1  MICRO       \n",
      "1        Y2  MICRO       \n",
      "2        Y3  MICRO       \n",
      "3        Y4  MICRO       \n",
      "4        Y5  MICRO       \n",
      "Quarterly\n",
      "  unique_id         ds        y\n",
      "0        Q1 1984-03-31  3142.63\n",
      "1        Q1 1984-06-30  3190.75\n",
      "2        Q1 1984-09-30  3178.69\n",
      "3        Q1 1984-12-31  3170.94\n",
      "4        Q1 1985-03-31  3124.38 \n",
      "   unique_id      category\n",
      "0        Q1  MICRO       \n",
      "1        Q2  MICRO       \n",
      "2        Q3  MICRO       \n",
      "3        Q4  MICRO       \n",
      "4        Q5  MICRO       \n",
      "Monthly\n",
      "  unique_id         ds       y\n",
      "0        M1 1990-01-31  2640.0\n",
      "1        M1 1990-02-28  2640.0\n",
      "2        M1 1990-03-31  2160.0\n",
      "3        M1 1990-04-30  4200.0\n",
      "4        M1 1990-05-31  3360.0 \n",
      "   unique_id      category\n",
      "0        M1  MICRO       \n",
      "1        M2  MICRO       \n",
      "2        M3  MICRO       \n",
      "3        M4  MICRO       \n",
      "4        M5  MICRO       \n",
      "Other\n",
      "  unique_id         ds        y\n",
      "0        O1 1970-01-01  3060.42\n",
      "1        O1 1970-01-02  3021.19\n",
      "2        O1 1970-01-03  3301.13\n",
      "3        O1 1970-01-04  3287.03\n",
      "4        O1 1970-01-05  3080.71 \n",
      "   unique_id      category\n",
      "0        O1  MICRO       \n",
      "1        O2  MICRO       \n",
      "2        O3  MICRO       \n",
      "3        O4  MICRO       \n",
      "4        O5  FINANCE     \n"
     ]
    }
   ],
   "source": [
    "for group in M3Info.groups:\n",
    "    print(group)\n",
    "    m3_dataset = M3.load(directory='data', group=group)\n",
    "    print(m3_dataset.Y.head(), '\\n', m3_dataset.S.head())"
   ]
  },
  {
   "cell_type": "code",
   "execution_count": null,
   "metadata": {},
   "outputs": [],
   "source": []
  }
 ],
 "metadata": {
  "kernelspec": {
   "display_name": "nixtla",
   "language": "python",
   "name": "nixtla"
  }
 },
 "nbformat": 4,
 "nbformat_minor": 4
}
