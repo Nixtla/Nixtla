{
 "metadata": {
  "language_info": {
   "codemirror_mode": {
    "name": "ipython",
    "version": 3
   },
   "file_extension": ".py",
   "mimetype": "text/x-python",
   "name": "python",
   "nbconvert_exporter": "python",
   "pygments_lexer": "ipython3",
   "version": "3.7.9-final"
  },
  "orig_nbformat": 2,
  "kernelspec": {
   "name": "python3",
   "display_name": "Python 3.7.9 64-bit ('nixtla': conda)",
   "metadata": {
    "interpreter": {
     "hash": "97c68c0f618c4f787b1e02bfee278e48d25b62407cb335aab5258cedc4db4ced"
    }
   }
  }
 },
 "nbformat": 4,
 "nbformat_minor": 2,
 "cells": [
  {
   "cell_type": "code",
   "execution_count": 5,
   "metadata": {},
   "outputs": [],
   "source": [
    "import time\n",
    "import numpy as np\n",
    "import pandas as pd\n",
    "import random\n",
    "import torch as t\n",
    "import copy\n",
    "from fastcore.foundation import patch\n",
    "from nixtla.data.ts_dataset import TimeSeriesDataset\n",
    "from nixtla.data.ts_loader import TimeSeriesLoader as TimeSeriesLoaderFast\n",
    "from nixtla.data.ts_loader_pinche import TimeSeriesLoader as TimeSeriesLoaderPinche\n",
    "from nixtla.data.ts_loader_general import TimeSeriesLoader as TimeSeriesLoaderGeneral\n",
    "\n",
    "from nixtla.models.nbeats import Nbeats"
   ]
  },
  {
   "source": [
    "## READ NORD POOL ELECTRICITY PRICE FORECASTING DATASET"
   ],
   "cell_type": "markdown",
   "metadata": {}
  },
  {
   "cell_type": "code",
   "execution_count": 6,
   "metadata": {},
   "outputs": [
    {
     "output_type": "stream",
     "name": "stdout",
     "text": [
      "Processing dataframes ...\nCreating ts tensor ...\n"
     ]
    },
    {
     "output_type": "execute_result",
     "data": {
      "text/plain": [
       "  unique_id                  ds      y\n",
       "0        NP 2013-01-01 00:00:00  31.05\n",
       "1        NP 2013-01-01 01:00:00  30.47\n",
       "2        NP 2013-01-01 02:00:00  28.92\n",
       "3        NP 2013-01-01 03:00:00  27.88\n",
       "4        NP 2013-01-01 04:00:00  26.96"
      ],
      "text/html": "<div>\n<style scoped>\n    .dataframe tbody tr th:only-of-type {\n        vertical-align: middle;\n    }\n\n    .dataframe tbody tr th {\n        vertical-align: top;\n    }\n\n    .dataframe thead th {\n        text-align: right;\n    }\n</style>\n<table border=\"1\" class=\"dataframe\">\n  <thead>\n    <tr style=\"text-align: right;\">\n      <th></th>\n      <th>unique_id</th>\n      <th>ds</th>\n      <th>y</th>\n    </tr>\n  </thead>\n  <tbody>\n    <tr>\n      <th>0</th>\n      <td>NP</td>\n      <td>2013-01-01 00:00:00</td>\n      <td>31.05</td>\n    </tr>\n    <tr>\n      <th>1</th>\n      <td>NP</td>\n      <td>2013-01-01 01:00:00</td>\n      <td>30.47</td>\n    </tr>\n    <tr>\n      <th>2</th>\n      <td>NP</td>\n      <td>2013-01-01 02:00:00</td>\n      <td>28.92</td>\n    </tr>\n    <tr>\n      <th>3</th>\n      <td>NP</td>\n      <td>2013-01-01 03:00:00</td>\n      <td>27.88</td>\n    </tr>\n    <tr>\n      <th>4</th>\n      <td>NP</td>\n      <td>2013-01-01 04:00:00</td>\n      <td>26.96</td>\n    </tr>\n  </tbody>\n</table>\n</div>"
     },
     "metadata": {},
     "execution_count": 6
    }
   ],
   "source": [
    "from nixtla.data.datasets.epf import EPF, EPFInfo\n",
    "Y_df, X_df = EPF.load(directory='data', group=EPFInfo.groups[0])\n",
    "train_outsample_mask = np.ones(len(Y_df))\n",
    "train_outsample_mask[-365 * 24:] = 0\n",
    "sum(train_outsample_mask)\n",
    "epf_dataset = TimeSeriesDataset(Y_df=Y_df, S_df=None, X_df=X_df, ts_train_mask=train_outsample_mask)\n",
    "# print('X: time series features, of shape (#series,#times,#features): \\t' + str(X.shape))\n",
    "# print('Y: target series (in X), of shape (#series,#times): \\t \\t' + str(Y.shape))\n",
    "# print('S: static features, of shape (#series,#features): \\t \\t' + str(S.shape))\n",
    "Y_df.head()"
   ]
  },
  {
   "source": [
    "## TRAIN AND VALIDATION DATALOADERS"
   ],
   "cell_type": "markdown",
   "metadata": {}
  },
  {
   "cell_type": "code",
   "execution_count": 7,
   "metadata": {},
   "outputs": [],
   "source": [
    "train_loader = TimeSeriesLoaderFast(ts_dataset=epf_dataset,\n",
    "                                    model='nbeats',\n",
    "                                    offset=0,\n",
    "                                    window_sampling_limit=365*4*24, \n",
    "                                    input_size=7*24,\n",
    "                                    output_size=24,\n",
    "                                    idx_to_sample_freq=1,\n",
    "                                    batch_size=1024,\n",
    "                                    is_train_loader=True)\n",
    "\n",
    "val_loader = TimeSeriesLoaderFast(ts_dataset=epf_dataset,\n",
    "                                  model='nbeats',\n",
    "                                  offset=0,\n",
    "                                  window_sampling_limit=365*4*24, \n",
    "                                  input_size=7*24,\n",
    "                                  output_size=24,\n",
    "                                  idx_to_sample_freq=1,\n",
    "                                  batch_size=1024,\n",
    "                                  is_train_loader=False)"
   ]
  },
  {
   "cell_type": "code",
   "execution_count": 8,
   "metadata": {},
   "outputs": [
    {
     "output_type": "stream",
     "name": "stdout",
     "text": [
      "============================== Start fitting ==============================\n",
      "Number of exogenous variables: 10\n",
      "Number of static variables: 0 , with dim_hidden: 0\n",
      "Number of iterations: 100\n",
      "Number of blocks: 4\n",
      "Step: 0, Time: 1.073, Insample MAE: 4611562.00000, Outsample MAE: 21127006.00000\n",
      "Step: 5, Time: 6.680, Insample MAE: 3077835.25000, Outsample MAE: 2518521.75000\n",
      "Step: 10, Time: 11.890, Insample MAE: 481513.09375, Outsample MAE: 633501.00000\n",
      "Step: 15, Time: 16.947, Insample MAE: 141029.14062, Outsample MAE: 76808.22656\n",
      "Step: 20, Time: 22.085, Insample MAE: 10478.07520, Outsample MAE: 1846.41101\n",
      "Step: 25, Time: 27.159, Insample MAE: 1857.35522, Outsample MAE: 554.22729\n",
      "Step: 30, Time: 32.281, Insample MAE: 484.18457, Outsample MAE: 138.78003\n",
      "Step: 35, Time: 37.308, Insample MAE: 150.51764, Outsample MAE: 13.62875\n",
      "Step: 40, Time: 42.383, Insample MAE: 62.75420, Outsample MAE: 14.81495\n",
      "Step: 45, Time: 47.444, Insample MAE: 25.47292, Outsample MAE: 12.88299\n",
      "Step: 50, Time: 53.795, Insample MAE: 20.73441, Outsample MAE: 5.69913\n",
      "Step: 55, Time: 58.786, Insample MAE: 10.06674, Outsample MAE: 4.55127\n",
      "Step: 60, Time: 63.788, Insample MAE: 7.71168, Outsample MAE: 4.52847\n",
      "Step: 65, Time: 68.729, Insample MAE: 6.54523, Outsample MAE: 4.09794\n",
      "Step: 70, Time: 73.658, Insample MAE: 5.60891, Outsample MAE: 3.52618\n",
      "Step: 75, Time: 78.687, Insample MAE: 5.46324, Outsample MAE: 3.55686\n",
      "Step: 80, Time: 83.617, Insample MAE: 5.24554, Outsample MAE: 3.33372\n",
      "Step: 85, Time: 89.371, Insample MAE: 5.08480, Outsample MAE: 3.18597\n",
      "Step: 90, Time: 95.297, Insample MAE: 5.43739, Outsample MAE: 3.15316\n",
      "Step: 95, Time: 100.404, Insample MAE: 5.78290, Outsample MAE: 3.45741\n",
      "Step: 99, Time: 105.276, Insample MAE: 4.68157, Outsample MAE: 3.39266\n",
      "==============================End fitting ==============================\n"
     ]
    }
   ],
   "source": [
    "nbeatsx = Nbeats(input_size_multiplier=7,\n",
    "                 output_size=24,\n",
    "                 shared_weights=False,\n",
    "                 activation='relu',\n",
    "                 initialization='lecun_normal',\n",
    "                 stack_types=['exogenous_tcn']+3*['identity'],\n",
    "                 n_blocks=4*[1],\n",
    "                 n_layers=4*[2],\n",
    "                 n_hidden=4*[[256,256]],\n",
    "                 n_harmonics=1,\n",
    "                 n_polynomials=2,\n",
    "                 exogenous_n_channels=9,\n",
    "                 include_var_dict={'y': [-2, -3, -8],\n",
    "                                   'Exogenous1': [-1, -2, -8],\n",
    "                                   'Exogenous2': [-1, -2, -8],\n",
    "                                   'week_day': [-1]},\n",
    "                 t_cols=epf_dataset.t_cols,\n",
    "                 batch_normalization=False,\n",
    "                 dropout_prob_theta=0.1,\n",
    "                 dropout_prob_exogenous=0.1,\n",
    "                 x_s_n_hidden=0,\n",
    "                 learning_rate=0.001,\n",
    "                 lr_decay=0.5,\n",
    "                 n_lr_decay_steps=3,\n",
    "                 weight_decay=0.0000001,\n",
    "                 l1_theta=0.0001,\n",
    "                 n_iterations=100,\n",
    "                 early_stopping=10,\n",
    "                 loss='MAE',\n",
    "                 frequency=24,\n",
    "                 random_seed=1,\n",
    "                 seasonality='H')\n",
    "\n",
    "nbeatsx.fit(train_ts_loader=train_loader, val_ts_loader=val_loader, verbose=True, eval_steps=5)"
   ]
  },
  {
   "cell_type": "code",
   "execution_count": null,
   "metadata": {},
   "outputs": [],
   "source": []
  }
 ]
}