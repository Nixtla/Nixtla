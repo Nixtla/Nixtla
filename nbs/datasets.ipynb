{
 "cells": [
  {
   "cell_type": "code",
   "execution_count": null,
   "metadata": {},
   "outputs": [],
   "source": [
    "#default_exp data.datasets"
   ]
  },
  {
   "cell_type": "markdown",
   "metadata": {},
   "source": [
    "# Datasets\n",
    "\n",
    "> API details."
   ]
  },
  {
   "cell_type": "code",
   "execution_count": null,
   "metadata": {},
   "outputs": [],
   "source": [
    "#export\n",
    "import logging\n",
    "import requests\n",
    "import subprocess\n",
    "import zipfile\n",
    "from dataclasses import dataclass\n",
    "from pathlib import Path\n",
    "from typing import Dict, List, Optional, Tuple, Union\n",
    "\n",
    "import numpy as np\n",
    "import pandas as pd\n",
    "from tqdm import tqdm\n",
    "\n",
    "SOURCE_URL = 'https://robjhyndman.com/data/27-3-Athanasopoulos1.zip'\n",
    "BASE_URL = 'https://github.com/FedericoGarza/meta-data/releases/download/vtourism/'\n",
    "\n",
    "logging.basicConfig(level=logging.INFO)\n",
    "logger = logging.getLogger(__name__)"
   ]
  },
  {
   "cell_type": "markdown",
   "metadata": {},
   "source": [
    "# Utils para descargar archivos"
   ]
  },
  {
   "cell_type": "code",
   "execution_count": null,
   "metadata": {},
   "outputs": [],
   "source": [
    "#export\n",
    "def download_file(directory: Union[str, Path], source_url: str, decompress: bool = False) -> None:\n",
    "    \"\"\"Download data from source_ulr inside directory.\n",
    "\n",
    "    Parameters\n",
    "    ----------\n",
    "    directory: str, Path\n",
    "        Custom directory where data will be downloaded.\n",
    "    source_url: str\n",
    "        URL where data is hosted.\n",
    "    decompress: bool\n",
    "        Wheter decompress downloaded file. Default False.\n",
    "    \"\"\"\n",
    "    if isinstance(directory, str):\n",
    "        directory = Path(directory)\n",
    "    directory.mkdir(parents=True, exist_ok=True)\n",
    "\n",
    "    filename = source_url.split('/')[-1]\n",
    "    filepath = directory / filename\n",
    "\n",
    "    # Streaming, so we can iterate over the response.\n",
    "    r = requests.get(source_url, stream=True)\n",
    "    # Total size in bytes.\n",
    "    total_size = int(r.headers.get('content-length', 0))\n",
    "    block_size = 1024 #1 Kibibyte\n",
    "\n",
    "    t = tqdm(total=total_size, unit='iB', unit_scale=True)\n",
    "    with open(filepath, 'wb') as f:\n",
    "        for data in r.iter_content(block_size):\n",
    "            t.update(len(data))\n",
    "            f.write(data)\n",
    "    t.close()\n",
    "\n",
    "    if total_size != 0 and t.n != total_size:\n",
    "        logger.error('ERROR, something went wrong downloading data')\n",
    "\n",
    "    size = filepath.stat().st_size\n",
    "    logger.info(f'Successfully downloaded {filename}, {size}, bytes.')\n",
    "\n",
    "    if decompress:\n",
    "        with zipfile.ZipFile(filepath, 'r') as zip_ref:\n",
    "            zip_ref.extractall(directory)\n",
    "\n",
    "        logger.info(f'Successfully decompressed {filepath}')"
   ]
  },
  {
   "cell_type": "markdown",
   "metadata": {},
   "source": [
    "Todos los datasets se heredarían de esta dataclass que tiene los atributos que queremos"
   ]
  },
  {
   "cell_type": "code",
   "execution_count": null,
   "metadata": {},
   "outputs": [],
   "source": [
    "#export\n",
    "@dataclass\n",
    "class TimeSeriesDataset:\n",
    "    \"\"\"\n",
    "    Args:\n",
    "        S (pd.DataFrame): Array of static features of shape\n",
    "            (n_time_series, n_features).\n",
    "        X (pd.DataFrame): Array of exogenous variables of shape\n",
    "            (n_time_series, n_exogenous, n_periods).\n",
    "        Y (pd.DataFrame): Array of target variable of shape\n",
    "            (n_time_series, n_periods).\n",
    "        idx_categorical_static (list, optional): List of categorical indexes\n",
    "            of S.\n",
    "        groups (dict, optional): Dictionary of groups. \n",
    "            Example: {'Yearly': ['Y1', 'Y2']}\n",
    "    \"\"\"\n",
    "    S: np.ndarray\n",
    "    X: np.ndarray\n",
    "    Y: np.ndarray\n",
    "    idx_categorical_static: Optional[List] = None\n",
    "    groups: Optional[Dict[str, np.array]] = None"
   ]
  },
  {
   "cell_type": "markdown",
   "metadata": {},
   "source": [
    "Información meta de Turismo"
   ]
  },
  {
   "cell_type": "code",
   "execution_count": null,
   "metadata": {},
   "outputs": [],
   "source": [
    "#export\n",
    "@dataclass\n",
    "class Yearly:\n",
    "    seasonality: int = 1\n",
    "    horizon: int = 4\n",
    "    freq: str = 'D'\n",
    "    rows: int = 2\n",
    "    name: str = 'Yearly'\n",
    "\n",
    "@dataclass\n",
    "class Quarterly:\n",
    "    seasonality: int = 4\n",
    "    horizon: int = 8\n",
    "    freq: str = 'Q'\n",
    "    rows: int = 3\n",
    "    name: str = 'Quarterly'\n",
    "\n",
    "@dataclass\n",
    "class Monthly:\n",
    "    seasonality: int = 12\n",
    "    horizon: int = 24\n",
    "    freq: str = 'M'\n",
    "    rows: int = 3\n",
    "    name: str = 'Monthly'\n",
    "\n",
    "@dataclass\n",
    "class TourismInfo:\n",
    "    groups: Tuple = (Yearly, Quarterly, Monthly)"
   ]
  },
  {
   "cell_type": "code",
   "execution_count": null,
   "metadata": {},
   "outputs": [],
   "source": [
    "#export\n",
    "class Tourism(TimeSeriesDataset):\n",
    "    \n",
    "    @staticmethod\n",
    "    def load(directory: str, training: bool = True, download: bool = True) -> 'Tourism':\n",
    "        \"\"\"\n",
    "        Downloads and loads Tourism data.\n",
    "\n",
    "        Parameters\n",
    "        ----------\n",
    "        directory: str\n",
    "            Directory where data will be downloaded.\n",
    "        training: bool\n",
    "            Wheter return training or testing data. Default True.\n",
    "        download: bool\n",
    "            Wheter download dataset first.\n",
    "        \"\"\"\n",
    "        path = Path(directory) / 'tourism' / 'datasets'\n",
    "        \n",
    "        if download:\n",
    "            Tourism.download(directory)\n",
    "\n",
    "        data = []\n",
    "        groups = {}\n",
    "\n",
    "        for group in TourismInfo.groups:\n",
    "            if training:\n",
    "                file = path / f'{group.name.lower()}_in.csv'\n",
    "            else:\n",
    "                file = path / f'{group.name.lower()}_oos.csv'\n",
    "\n",
    "            df = pd.read_csv(file)\n",
    "            groups[group.name] = df.columns.values\n",
    "\n",
    "            dfs = []\n",
    "            for col in df.columns:\n",
    "                df_col = df[col]\n",
    "                lenght = df_col[0].astype(int)\n",
    "                skip_rows = group.rows\n",
    "\n",
    "                df_col = df_col[skip_rows:lenght + skip_rows]\n",
    "                df_col = df_col.rename('y').to_frame()\n",
    "                df_col['unique_id'] = col\n",
    "\n",
    "                dfs.append(df_col)\n",
    "\n",
    "            df = pd.concat(dfs)\n",
    "            df['ds'] = df.groupby('unique_id').cumcount() + 1\n",
    "\n",
    "            data.append(df)\n",
    "\n",
    "        data = pd.concat(data).reset_index(drop=True)[['unique_id', 'ds', 'y']]\n",
    "\n",
    "        return Tourism(Y=data, S=None, X=None, groups=groups)\n",
    "\n",
    "    @staticmethod\n",
    "    def download(directory: str) -> None:\n",
    "        \"\"\"Download Tourism Dataset.\"\"\"\n",
    "        path = Path(directory) / 'tourism' / 'datasets'\n",
    "        download_file(path, SOURCE_URL, decompress=True)\n",
    "    \n",
    "    def get_group(self, group: str) -> 'Tourism':\n",
    "        \"\"\"Filters group data.\n",
    "\n",
    "        Parameters\n",
    "        ----------\n",
    "        group: str\n",
    "            Group name.\n",
    "        \"\"\"\n",
    "        assert group in self.groups, \\\n",
    "            f'Please provide a valid group: {\", \".join(self.groups.keys())}'\n",
    "\n",
    "        ids = self.groups[group]\n",
    "\n",
    "        y = self.Y.query('unique_id in @ids')\n",
    "\n",
    "        return Tourism(Y=y, S=None, X=None, groups={group: ids})"
   ]
  },
  {
   "cell_type": "code",
   "execution_count": null,
   "metadata": {},
   "outputs": [
    {
     "name": "stderr",
     "output_type": "stream",
     "text": [
      "100%|██████████| 356k/356k [00:00<00:00, 1.46MiB/s]\n",
      "INFO:__main__:Successfully downloaded 27-3-Athanasopoulos1.zip, 356334, bytes.\n",
      "INFO:__main__:Successfully decompressed data/tourism/datasets/27-3-Athanasopoulos1.zip\n"
     ]
    }
   ],
   "source": [
    "tourism_dataset = Tourism.load('data')"
   ]
  },
  {
   "cell_type": "markdown",
   "metadata": {},
   "source": [
    "Si se necesita un grupo en particular se usa el método `get_group`."
   ]
  },
  {
   "cell_type": "code",
   "execution_count": null,
   "metadata": {},
   "outputs": [],
   "source": [
    "tourism_dataset_yearly = tourism_dataset.get_group('Yearly')"
   ]
  },
  {
   "cell_type": "code",
   "execution_count": null,
   "metadata": {},
   "outputs": [
    {
     "data": {
      "text/html": [
       "<div>\n",
       "<style scoped>\n",
       "    .dataframe tbody tr th:only-of-type {\n",
       "        vertical-align: middle;\n",
       "    }\n",
       "\n",
       "    .dataframe tbody tr th {\n",
       "        vertical-align: top;\n",
       "    }\n",
       "\n",
       "    .dataframe thead th {\n",
       "        text-align: right;\n",
       "    }\n",
       "</style>\n",
       "<table border=\"1\" class=\"dataframe\">\n",
       "  <thead>\n",
       "    <tr style=\"text-align: right;\">\n",
       "      <th></th>\n",
       "      <th>unique_id</th>\n",
       "      <th>ds</th>\n",
       "      <th>y</th>\n",
       "    </tr>\n",
       "  </thead>\n",
       "  <tbody>\n",
       "    <tr>\n",
       "      <th>0</th>\n",
       "      <td>Y1</td>\n",
       "      <td>1</td>\n",
       "      <td>25092.2284</td>\n",
       "    </tr>\n",
       "    <tr>\n",
       "      <th>1</th>\n",
       "      <td>Y1</td>\n",
       "      <td>2</td>\n",
       "      <td>24271.5134</td>\n",
       "    </tr>\n",
       "    <tr>\n",
       "      <th>2</th>\n",
       "      <td>Y1</td>\n",
       "      <td>3</td>\n",
       "      <td>25828.9883</td>\n",
       "    </tr>\n",
       "    <tr>\n",
       "      <th>3</th>\n",
       "      <td>Y1</td>\n",
       "      <td>4</td>\n",
       "      <td>27697.5047</td>\n",
       "    </tr>\n",
       "    <tr>\n",
       "      <th>4</th>\n",
       "      <td>Y1</td>\n",
       "      <td>5</td>\n",
       "      <td>27956.2276</td>\n",
       "    </tr>\n",
       "  </tbody>\n",
       "</table>\n",
       "</div>"
      ],
      "text/plain": [
       "  unique_id  ds           y\n",
       "0        Y1   1  25092.2284\n",
       "1        Y1   2  24271.5134\n",
       "2        Y1   3  25828.9883\n",
       "3        Y1   4  27697.5047\n",
       "4        Y1   5  27956.2276"
      ]
     },
     "execution_count": null,
     "metadata": {},
     "output_type": "execute_result"
    }
   ],
   "source": [
    "tourism_dataset_yearly.Y.head()"
   ]
  }
 ],
 "metadata": {
  "kernelspec": {
   "display_name": "Python 3",
   "language": "python",
   "name": "python3"
  }
 },
 "nbformat": 4,
 "nbformat_minor": 4
}
