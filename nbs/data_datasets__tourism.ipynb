{
 "cells": [
  {
   "cell_type": "code",
   "execution_count": null,
   "metadata": {},
   "outputs": [],
   "source": [
    "#default_exp data.datasets.tourism"
   ]
  },
  {
   "cell_type": "markdown",
   "metadata": {},
   "source": [
    "# Tourism dataset\n",
    "\n",
    "> API details."
   ]
  },
  {
   "cell_type": "code",
   "execution_count": null,
   "metadata": {},
   "outputs": [],
   "source": [
    "#export\n",
    "from dataclasses import dataclass\n",
    "from pathlib import Path\n",
    "from typing import Dict, List, Optional, Tuple, Union\n",
    "\n",
    "import numpy as np\n",
    "import pandas as pd\n",
    "from pandas.tseries.frequencies import to_offset\n",
    "\n",
    "from nixtla.data.datasets.utils import download_file, Info, TimeSeriesDataclass\n",
    "from nixtla.data.tsdataset import TimeSeriesDataset"
   ]
  },
  {
   "cell_type": "code",
   "execution_count": null,
   "metadata": {},
   "outputs": [],
   "source": [
    "#export\n",
    "SOURCE_URL = 'https://robjhyndman.com/data/27-3-Athanasopoulos1.zip'"
   ]
  },
  {
   "cell_type": "markdown",
   "metadata": {},
   "source": [
    "Tourism meta information"
   ]
  },
  {
   "cell_type": "code",
   "execution_count": null,
   "metadata": {},
   "outputs": [],
   "source": [
    "#export\n",
    "@dataclass\n",
    "class Yearly:\n",
    "    seasonality: int = 1\n",
    "    horizon: int = 4\n",
    "    freq: str = 'Y'\n",
    "    rows: int = 2\n",
    "    name: str = 'Yearly'\n",
    "    n_ts: int = 518\n",
    "\n",
    "@dataclass\n",
    "class Quarterly:\n",
    "    seasonality: int = 4\n",
    "    horizon: int = 8\n",
    "    freq: str = 'Q'\n",
    "    rows: int = 3\n",
    "    name: str = 'Quarterly'\n",
    "    n_ts: int = 427\n",
    "\n",
    "@dataclass\n",
    "class Monthly:\n",
    "    seasonality: int = 12\n",
    "    horizon: int = 24\n",
    "    freq: str = 'M'\n",
    "    rows: int = 3\n",
    "    name: str = 'Monthly'\n",
    "    n_ts: int = 366"
   ]
  },
  {
   "cell_type": "code",
   "execution_count": null,
   "metadata": {},
   "outputs": [],
   "source": [
    "#export\n",
    "TourismInfo = Info(groups=('Yearly', 'Quarterly', 'Monthly'),\n",
    "                   class_groups=(Yearly, Quarterly, Monthly))"
   ]
  },
  {
   "cell_type": "code",
   "execution_count": null,
   "metadata": {},
   "outputs": [],
   "source": [
    "#export\n",
    "class Tourism(TimeSeriesDataclass):\n",
    "\n",
    "    @staticmethod\n",
    "    def load(directory: str,\n",
    "             group: str) -> Tuple[pd.DataFrame, \n",
    "                                  Optional[pd.DataFrame], \n",
    "                                  Optional[pd.DataFrame]]:\n",
    "        \"\"\"\n",
    "        Downloads and loads Tourism data.\n",
    "\n",
    "        Parameters\n",
    "        ----------\n",
    "        directory: str\n",
    "            Directory where data will be downloaded.\n",
    "        group: str\n",
    "            Group name.\n",
    "            Allowed groups: 'Yearly', 'Quarterly', 'Monthly'.\n",
    "    \n",
    "        Notes\n",
    "        -----\n",
    "        [1] Returns train+test sets.\n",
    "        \"\"\"\n",
    "        path = Path(directory) / 'tourism' / 'datasets'\n",
    "\n",
    "        Tourism.download(directory)\n",
    "\n",
    "        class_group = TourismInfo.get_group(group)\n",
    "\n",
    "        train_file = path / f'{class_group.name.lower()}_in.csv'\n",
    "        test_file = path / f'{class_group.name.lower()}_oos.csv'\n",
    "        \n",
    "        train, test = pd.read_csv(train_file), pd.read_csv(test_file)\n",
    "\n",
    "        dfs = []\n",
    "        freq = to_offset(class_group.freq)\n",
    "        for col in train.columns:\n",
    "            df_appended = []\n",
    "            for df, training in zip([train, test], [True, False]):\n",
    "                df_col = df[col]\n",
    "                length, year = df_col[:2].astype(int)\n",
    "                skip_rows = class_group.rows\n",
    "                start_date = pd.to_datetime(f'{year}-01-01')\n",
    "                if group != 'Yearly':\n",
    "                    n_offsets = df_col[2].astype(int)\n",
    "                    start_date += n_offsets * freq\n",
    "                elif col == 'Y18' and not training: # viene mal en el archivo esta serie\n",
    "                    start_date += 2 * freq\n",
    "                df_col = df_col[skip_rows:length + skip_rows]\n",
    "                df_col = df_col.rename('y').to_frame()\n",
    "                df_col['unique_id'] = col\n",
    "                df_col['ds'] = pd.date_range(start_date, periods=length, freq=freq)\n",
    "                df_appended.append(df_col)\n",
    "            df_appended = pd.concat(df_appended)\n",
    "            dfs.append(df_appended)\n",
    "\n",
    "        df = pd.concat(dfs)\n",
    "\n",
    "        df = df.reset_index().filter(items=['unique_id', 'ds', 'y'])\n",
    "        df = df.sort_values(['unique_id', 'ds'])\n",
    "        \n",
    "        return df, None, None\n",
    "\n",
    "    @staticmethod\n",
    "    def download(directory: str) -> None:\n",
    "        \"\"\"Downloads Tourism Dataset.\"\"\"\n",
    "        path = Path(directory) / 'tourism' / 'datasets'\n",
    "        if not path.exists():\n",
    "            download_file(path, SOURCE_URL, decompress=True)"
   ]
  },
  {
   "cell_type": "code",
   "execution_count": null,
   "metadata": {},
   "outputs": [],
   "source": [
    "for group, meta in TourismInfo:\n",
    "    data, *_ = Tourism.load(directory='data', group=group)\n",
    "    unique_elements = data.groupby(['unique_id', 'ds']).size()\n",
    "    unique_ts = data.groupby('unique_id').size()\n",
    "\n",
    "    assert (unique_elements != 1).sum() == 0, f'Duplicated records found: {group}'\n",
    "    assert unique_ts.shape[0] == meta.n_ts, f'Number of time series not match: {group}'"
   ]
  },
  {
   "cell_type": "code",
   "execution_count": null,
   "metadata": {},
   "outputs": [],
   "source": []
  }
 ],
 "metadata": {
  "kernelspec": {
   "display_name": "nixtla",
   "language": "python",
   "name": "nixtla"
  }
 },
 "nbformat": 4,
 "nbformat_minor": 4
}
