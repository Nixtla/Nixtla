{
 "cells": [
  {
   "cell_type": "code",
   "execution_count": null,
   "metadata": {},
   "outputs": [],
   "source": [
    "#default_exp losses.gw_test"
   ]
  },
  {
   "cell_type": "code",
   "execution_count": null,
   "metadata": {},
   "outputs": [],
   "source": [
    "#hide\n",
    "%load_ext autoreload\n",
    "%autoreload 2"
   ]
  },
  {
   "cell_type": "markdown",
   "metadata": {},
   "source": [
    "# Giacomini-White Test\n",
    "\n",
    "Test on out-of-sample conditional predictive ability.\n",
    "\n",
    "References:\n",
    "- Giacomini, R., & White, H. (2006). Tests of conditional predictive ability. Econometrica, 74(6), 1545-1578.\n",
    "- https://onlinelibrary.wiley.com/doi/abs/10.1111/j.1468-0262.2006.00718.x\n",
    "- http://www.runmycode.org/companion/view/88"
   ]
  },
  {
   "cell_type": "markdown",
   "metadata": {},
   "source": [
    "## Newey-West estimator\n",
    "\n",
    "Estimator of the Newey-West Heteroskedasticity and Autocorrelation Consistent Covariance Matrix (Newey-West HAC) to calculate robust error estimations."
   ]
  },
  {
   "cell_type": "code",
   "execution_count": null,
   "metadata": {},
   "outputs": [],
   "source": [
    "#export\n",
    "import numpy as np\n",
    "import matplotlib.pyplot as plt\n",
    "from matplotlib.colors import ListedColormap\n",
    "\n",
    "from scipy.stats.distributions import chi2"
   ]
  },
  {
   "cell_type": "code",
   "execution_count": null,
   "metadata": {},
   "outputs": [],
   "source": [
    "# export\n",
    "def Newey_West(Z, n_lags):\n",
    "    \"\"\" Newey-West HAC estimator\n",
    "    Parameters\n",
    "    ----------\n",
    "    Z: (n, k) ndarray\n",
    "    n_lags: number of lags\n",
    "\n",
    "    Returns\n",
    "    -------\n",
    "    omega_hat: Newey-West HAC estimator of the covariance matrix\n",
    "    \"\"\"\n",
    "\n",
    "    assert n_lags > 0\n",
    "\n",
    "    n, k = Z.shape\n",
    "\n",
    "    Z = Z - np.ones((n, 1)) * np.mean(Z, axis=0)\n",
    "    gamma = -999 * np.ones((n_lags, k))\n",
    "    omega_hat = (1/n) * np.matmul(np.transpose(Z), Z)\n",
    "\n",
    "    Zlag = np.array([np.pad(Z, ((i,0), (0,0)), mode='constant', \n",
    "                            constant_values = 0)[:n] \n",
    "                     for i in range(1, n_lags + 1)])\n",
    "    gamma = (1/n) * (np.matmul(np.transpose(Z), Zlag) + \n",
    "            np.matmul(np.einsum('ijk -> ikj', Zlag), Z))\n",
    "    weights = 1 - np.array(range(1,n_lags + 1))/(n_lags + 1)\n",
    "    omega_hat = omega_hat + \\\n",
    "                np.sum(gamma * np.expand_dims(weights, \n",
    "                                              axis = (1,2)), \n",
    "                                              axis = 0)\n",
    "    return omega_hat"
   ]
  },
  {
   "cell_type": "code",
   "execution_count": null,
   "metadata": {},
   "outputs": [],
   "source": [
    "n_lags=3\n",
    "Z = np.reshape(list(range(1,101)), (20,-1))\n",
    "omega_Z = Newey_West(Z=Z, n_lags=n_lags)"
   ]
  },
  {
   "cell_type": "code",
   "execution_count": null,
   "metadata": {},
   "outputs": [],
   "source": [
    "# export\n",
    "def GW_CPA_test(loss1, loss2, tau, alpha=0.05, \n",
    "                unconditional=True, verbose=True):\n",
    "    \"\"\" Giacomini-White Conditional Predictive Ability Test\n",
    "    Parameters\n",
    "    ----------\n",
    "    loss1, loss2: 1-D ndarray of length T\n",
    "    tau: forecast horizon, scalar\n",
    "    unconditional: boolean, True if unconditional, False if conditional\n",
    "    verbose: boolean, True if prints of test are needed\n",
    "\n",
    "    Returns\n",
    "    -------\n",
    "    test_stat: test statistic of the conditional predictive ability test\n",
    "    crit_val: critical value of the chi-square test for a 5% confidence level\n",
    "    p-val: p-value of the test\n",
    "    \"\"\"\n",
    "\n",
    "    assert len(loss1) == len(loss2)\n",
    "\n",
    "    lossdiff = loss1 - loss2\n",
    "    t = len(loss1)\n",
    "    instruments = np.ones_like(loss1)\n",
    "\n",
    "    if not unconditional:\n",
    "        instruments = np.hstack((instruments[:t-tau], \n",
    "                                 lossdiff[:-tau]))\n",
    "        lossdiff = lossdiff[tau:]\n",
    "        t = t - tau\n",
    "\n",
    "    reg = instruments * lossdiff\n",
    "\n",
    "    if tau == 1:\n",
    "\n",
    "        res_beta = np.linalg.solve(reg.T.dot(reg), \n",
    "                                   reg.T.dot(np.ones((t,1))))\n",
    "        err = np.ones((t,1)) - reg.dot(res_beta)\n",
    "        r2 = 1 - np.mean(err**2)\n",
    "        test_stat = t * r2\n",
    "        q = reg.shape[1]\n",
    "        crit_val = chi2.ppf(1-alpha, df=q)\n",
    "        p_val = 1 - chi2.cdf(np.abs(test_stat), q)\n",
    "    \n",
    "    else:\n",
    "\n",
    "        zbar = np.mean(reg, axis=0)\n",
    "        n_lags = tau - 1\n",
    "        omega = Newey_West(Z=reg, n_lags=n_lags)\n",
    "        print(omega)\n",
    "        test_stat = np.expand_dims(t*zbar, \n",
    "                                   axis=0).dot(np.linalg.inv(omega)).\\\n",
    "                                   dot(zbar)\n",
    "        q = reg.shape[1]\n",
    "        crit_val = chi2.ppf(1-alpha, df=q)\n",
    "        p_val = 1 - chi2.cdf(np.abs(test_stat), q)\n",
    "\n",
    "    av_diff_loss = np.mean(loss1-loss2)\n",
    "    s = '+' if np.mean(loss1-loss2) > 0 else '-'\n",
    "    \n",
    "    if verbose:\n",
    "        if unconditional: print('\\nUnconditional test:\\n')\n",
    "        if not unconditional: print('\\nConditional test:\\n')\n",
    "        print(f'Forecast horizon: {tau}, Nominal Risk Level: {alpha}')\n",
    "        print(f'Test-statistic: {test_stat} ({s})')\n",
    "        print(f'Critical value: {crit_val}')\n",
    "        print(f'p-value: {p_val}\\n')\n",
    "    return test_stat, crit_val, p_val"
   ]
  },
  {
   "cell_type": "code",
   "execution_count": null,
   "metadata": {},
   "outputs": [
    {
     "name": "stdout",
     "output_type": "stream",
     "text": [
      "loss1:\n[[ 0.6971438 ]\n [-0.96489945]\n [-1.89586417]\n [ 0.49904883]\n [ 0.36498169]\n [ 1.13793146]\n [-0.03053989]\n [-1.59301423]\n [ 0.835824  ]\n [-0.09918497]]\n\nloss2:\n[[ 0.53758334]\n [ 0.64654716]\n [-2.80311586]\n [ 1.12407115]\n [ 0.66495922]\n [-1.1585949 ]\n [-1.85334736]\n [ 0.74014517]\n [ 1.7861432 ]\n [-0.10800919]]\n\nUnconditional test:\n\nForecast horizon: 1, Nominal Risk Level: 0.05\nTest-statistic: 0.020698469412645526 (-)\nCritical value: 3.841458820694124\np-value: 0.885603420712144\n\n\nConditional test:\n\nForecast horizon: 1, Nominal Risk Level: 0.05\nTest-statistic: 0.03291832231221514 (-)\nCritical value: 5.991464547107979\np-value: 0.9836755507426486\n\n"
     ]
    },
    {
     "data": {
      "text/plain": [
       "(0.03291832231221514, 5.991464547107979, 0.9836755507426486)"
      ]
     },
     "execution_count": null,
     "metadata": {},
     "output_type": "execute_result"
    }
   ],
   "source": [
    "t = 10\n",
    "tau = 1\n",
    "\n",
    "loss1 = np.random.randn(10,1)\n",
    "loss2 = np.random.randn(10,1)\n",
    "\n",
    "print(f'loss1:\\n{loss1}\\n\\nloss2:\\n{loss2}')\n",
    "\n",
    "GW_CPA_test(loss1=loss1, \n",
    "            loss2=loss2, \n",
    "            tau=tau)\n",
    "\n",
    "GW_CPA_test(loss1=loss1, \n",
    "            loss2=loss2, \n",
    "            tau=tau, \n",
    "            unconditional=False)"
   ]
  },
  {
   "cell_type": "code",
   "execution_count": null,
   "metadata": {},
   "outputs": [],
   "source": [
    "# export\n",
    "def GW_test_p_values(y, y_hat, tau, alpha=0.05, unconditional=True):\n",
    "    \"\"\" Plotting function of the GW Test p-values\n",
    "    Parameters\n",
    "    ----------\n",
    "    y: (batch_size,) observed values\n",
    "    y_hat: (k, batch_size) numpy array with predictions from k different models\n",
    "\n",
    "\n",
    "    Returns\n",
    "    -------\n",
    "    \n",
    "    \"\"\"\n",
    "    losses = np.abs(y - y_hat)\n",
    "    k = y_hat.shape[1]\n",
    "    p_values = np.zeros((k, k))\n",
    "\n",
    "    for i in range(k):\n",
    "        for j in range(k):\n",
    "            if i == j: pass             \n",
    "            else:\n",
    "                test_stat, crit_val, p_val = \\\n",
    "                    GW_CPA_test(loss1=np.expand_dims(losses[:,i], axis=1),\n",
    "                                loss2=np.expand_dims(losses[:,j], axis=1),\n",
    "                                tau=tau, alpha=alpha, \n",
    "                                unconditional=unconditional,\n",
    "                                verbose=False)\n",
    "                p_values[i,j] = p_val\n",
    "    \n",
    "    #hm = sns.heatmap(p_values, linewidth=0.05)\n",
    "    #hm.plot()\n",
    "\n",
    "    return p_values#, hm\n",
    "\n",
    "\n",
    "def plot_GW_test_p_values(y, y_hat, model_names, \n",
    "                          tau, alpha=0.05, unconditional=True, title='GW Test'):\n",
    "    p_values = GW_test_p_values(y=y, y_hat=y_hat, tau=tau, \n",
    "                                alpha=0.05, unconditional=True)\n",
    "\n",
    "    fig, ax = plt.subplots()\n",
    "\n",
    "    #im = ax.imshow(p_values, cmap=plt.get_cmap('GnBu'), alpha=0.4)\n",
    "    im = ax.imshow(p_values, cmap=plt.get_cmap('Blues_r'), alpha=0.8)\n",
    "    #im = ax.imshow(p_values, cmap=plt.get_cmap('RdYlGn'), alpha=0.3)\n",
    "\n",
    "    # Ticks and labels\n",
    "    assert len(model_names) == len(p_values)\n",
    "    ax.set_xticks(np.arange(len(p_values)))\n",
    "    ax.set_yticks(np.arange(len(p_values)))\n",
    "\n",
    "    ax.set_xticklabels(model_names)\n",
    "    ax.set_yticklabels(model_names)\n",
    "\n",
    "    for i in range(len(model_names)):\n",
    "        text = ax.text(i, i, 'x',\n",
    "                       ha=\"center\", va=\"center\", color=\"w\")\n",
    "\n",
    "    # Rotate the tick labels and set their alignment.\n",
    "    plt.setp(ax.get_xticklabels(), rotation=90, \n",
    "             ha=\"right\", rotation_mode=\"anchor\")\n",
    "\n",
    "    fig.colorbar(im)\n",
    "\n",
    "    ax.set_title(title)\n",
    "    fig.tight_layout()\n",
    "    plt.show()"
   ]
  },
  {
   "cell_type": "code",
   "execution_count": null,
   "metadata": {},
   "outputs": [
    {
     "data": {
      "image/png": "[encoded data removed]",
      "image/svg+xml": "<?xml version=\"1.0\" encoding=\"utf-8\" standalone=\"no\"?>\n<!DOCTYPE svg PUBLIC \"-//W3C//DTD SVG 1.1//EN\"\n  \"http://www.w3.org/Graphics/SVG/1.1/DTD/svg11.dtd\">\n<!-- Created with matplotlib (https://matplotlib.org/) -->\n<svg height=\"279.932188pt\" version=\"1.1\" viewBox=\"0 0 331.313438 279.932188\" width=\"331.313438pt\" xmlns=\"http://www.w3.org/2000/svg\" xmlns:xlink=\"http://www.w3.org/1999/xlink\">\n <metadata>\n  <rdf:RDF xmlns:cc=\"http://creativecommons.org/ns#\" xmlns:dc=\"http://purl.org/dc/elements/1.1/\" xmlns:rdf=\"http://www.w3.org/1999/02/22-rdf-syntax-ns#\">\n   <cc:Work>\n    <dc:type rdf:resource=\"http://purl.org/dc/dcmitype/StillImage\"/>\n    <dc:date>2021-02-26T12:25:05.563366</dc:date>\n    <dc:format>image/svg+xml</dc:format>\n    <dc:creator>\n     <cc:Agent>\n      <dc:title>Matplotlib v3.3.4, https://matplotlib.org/</dc:title>\n     </cc:Agent>\n    </dc:creator>\n   </cc:Work>\n  </rdf:RDF>\n </metadata>\n <defs>\n  <style type=\"text/css\">*{stroke-linecap:butt;stroke-linejoin:round;}</style>\n </defs>\n <g id=\"figure_1\">\n  <g id=\"patch_1\">\n   <path d=\"M 0 279.932188 \nL 331.313438 279.932188 \nL 331.313438 0 \nL 0 0 \nz\n\" style=\"fill:none;\"/>\n  </g>\n  <g id=\"axes_1\">\n   <g id=\"patch_2\">\n    <path d=\"M 50.589062 229.343125 \nL 257.614062 229.343125 \nL 257.614062 22.318125 \nL 50.589062 22.318125 \nz\n\" style=\"fill:#ffffff;\"/>\n   </g>\n   <g clip-path=\"url(#p74b0ac8de4)\">\n    <image height=\"208\" id=\"image6ea841cae9\" transform=\"scale(1 -1)translate(0 -208)\" width=\"208\" x=\"50.589062\" xlink:href=\"data:image/png;base64,\niVBORw0KGgoAAAANSUhEUgAAANAAAADQCAYAAAB2pO90AAAC5ElEQVR4nO3VsWmVYRiG4USOoAEJ2UKxjoKd+2QNncB5HEDTx0KwCbYShUQ4nOgI/wd38ZJwXRM8zc1z/Oz9h8ujh2D/d3rBtvvD9ILH4/ZmesGSJ9MD4CETEAQCgkBAEAgIAgFBICAIBASBgCAQEAQCgkBAEAgIAgFBICAIBASBgCAQEAQCgkBAEAgIAgFBICAIBASBgCAQEAQCgkBAEAgIAgFBICAIBASBgCAQEAQCgkBAEAgIAgFBICAIBASBgCDYHT1/Mb1hzWE/vWDb/WF6wZrbm+kF205Opxcs8UAQCAgCAUEgIAgEBIGAIBAQBAKCQEAQCAgCAUEgIAgEBIGAIBAQBAKCQEAQCAgCAUEgIAgEBIGAIBAQBAKCQEAQCAgCAUEgIAgEBIGAIBAQBAKCQEAQCAgCAUEgIAgEBIGAIBAQBAKCYPfq7evpDUu+X11PT9i0//ZlesKak9PpBY+GB4JAQBAICAIBQSAgCAQEgYAgEBAEAoJAQBAICAIBQSAgCAQEgYAgEBAEAoJAQBAICAIBQSAgCAQEgYAgEBAEAoJAQBAICAIBQSAgCAQEgYAgEBAEAoJAQBAICAIBQSAgCAQEgYAgEBAEAoLg+G7/73J6xIqz84vpCZuevnwzPWHJ/ueP6Qnb7g/TC5Z4IAgEBIGAIBAQBAKCQEAQCAgCAUEgIAgEBIGAIBAQBAKCQEAQCAgCAUEgIAgEBIGAIBAQBAKCQEAQCAgCAUEgIAgEBIGAIBAQBAKCQEAQCAgCAUEgIAgEBIGAIBAQBAKCQEAQCAgCAUGwOzu/mN6w5NfXT9MTNr37+Hl6wpKr3zfTE7bd/ZlesMQDQSAgCAQEgYAgEBAEAoJAQBAICAIBQSAgCAQEgYAgEBAEAoJAQBAICAIBQSAgCAQEgYAgEBAEAoJAQBAICAIBQSAgCAQEgYAgEBAEAoJAQBAICAIBQSAgCAQEgYAgEBAEAoJAQBAICAIBQfAfaeknpLwVCG0AAAAASUVORK5CYII=\" y=\"-21.343125\"/>\n   </g>\n   <g id=\"matplotlib.axis_1\">\n    <g id=\"xtick_1\">\n     <g id=\"line2d_1\">\n      <defs>\n       <path d=\"M 0 0 \nL 0 3.5 \n\" id=\"m3dd524b3a7\" style=\"stroke:#000000;stroke-width:0.8;\"/>\n      </defs>\n      <g>\n       <use style=\"stroke:#000000;stroke-width:0.8;\" x=\"71.291562\" xlink:href=\"#m3dd524b3a7\" y=\"229.343125\"/>\n      </g>\n     </g>\n     <g id=\"text_1\">\n      <!-- Model1 -->\n      <g transform=\"translate(78.89 272.732188)rotate(-90)scale(0.1 -0.1)\">\n       <defs>\n        <path d=\"M 9.8125 72.90625 \nL 24.515625 72.90625 \nL 43.109375 23.296875 \nL 61.8125 72.90625 \nL 76.515625 72.90625 \nL 76.515625 0 \nL 66.890625 0 \nL 66.890625 64.015625 \nL 48.09375 14.015625 \nL 38.1875 14.015625 \nL 19.390625 64.015625 \nL 19.390625 0 \nL 9.8125 0 \nz\n\" id=\"DejaVuSans-77\"/>\n        <path d=\"M 30.609375 48.390625 \nQ 23.390625 48.390625 19.1875 42.75 \nQ 14.984375 37.109375 14.984375 27.296875 \nQ 14.984375 17.484375 19.15625 11.84375 \nQ 23.34375 6.203125 30.609375 6.203125 \nQ 37.796875 6.203125 41.984375 11.859375 \nQ 46.1875 17.53125 46.1875 27.296875 \nQ 46.1875 37.015625 41.984375 42.703125 \nQ 37.796875 48.390625 30.609375 48.390625 \nz\nM 30.609375 56 \nQ 42.328125 56 49.015625 48.375 \nQ 55.71875 40.765625 55.71875 27.296875 \nQ 55.71875 13.875 49.015625 6.21875 \nQ 42.328125 -1.421875 30.609375 -1.421875 \nQ 18.84375 -1.421875 12.171875 6.21875 \nQ 5.515625 13.875 5.515625 27.296875 \nQ 5.515625 40.765625 12.171875 48.375 \nQ 18.84375 56 30.609375 56 \nz\n\" id=\"DejaVuSans-111\"/>\n        <path d=\"M 45.40625 46.390625 \nL 45.40625 75.984375 \nL 54.390625 75.984375 \nL 54.390625 0 \nL 45.40625 0 \nL 45.40625 8.203125 \nQ 42.578125 3.328125 38.25 0.953125 \nQ 33.9375 -1.421875 27.875 -1.421875 \nQ 17.96875 -1.421875 11.734375 6.484375 \nQ 5.515625 14.40625 5.515625 27.296875 \nQ 5.515625 40.1875 11.734375 48.09375 \nQ 17.96875 56 27.875 56 \nQ 33.9375 56 38.25 53.625 \nQ 42.578125 51.265625 45.40625 46.390625 \nz\nM 14.796875 27.296875 \nQ 14.796875 17.390625 18.875 11.75 \nQ 22.953125 6.109375 30.078125 6.109375 \nQ 37.203125 6.109375 41.296875 11.75 \nQ 45.40625 17.390625 45.40625 27.296875 \nQ 45.40625 37.203125 41.296875 42.84375 \nQ 37.203125 48.484375 30.078125 48.484375 \nQ 22.953125 48.484375 18.875 42.84375 \nQ 14.796875 37.203125 14.796875 27.296875 \nz\n\" id=\"DejaVuSans-100\"/>\n        <path d=\"M 56.203125 29.59375 \nL 56.203125 25.203125 \nL 14.890625 25.203125 \nQ 15.484375 15.921875 20.484375 11.0625 \nQ 25.484375 6.203125 34.421875 6.203125 \nQ 39.59375 6.203125 44.453125 7.46875 \nQ 49.3125 8.734375 54.109375 11.28125 \nL 54.109375 2.78125 \nQ 49.265625 0.734375 44.1875 -0.34375 \nQ 39.109375 -1.421875 33.890625 -1.421875 \nQ 20.796875 -1.421875 13.15625 6.1875 \nQ 5.515625 13.8125 5.515625 26.8125 \nQ 5.515625 40.234375 12.765625 48.109375 \nQ 20.015625 56 32.328125 56 \nQ 43.359375 56 49.78125 48.890625 \nQ 56.203125 41.796875 56.203125 29.59375 \nz\nM 47.21875 32.234375 \nQ 47.125 39.59375 43.09375 43.984375 \nQ 39.0625 48.390625 32.421875 48.390625 \nQ 24.90625 48.390625 20.390625 44.140625 \nQ 15.875 39.890625 15.1875 32.171875 \nz\n\" id=\"DejaVuSans-101\"/>\n        <path d=\"M 9.421875 75.984375 \nL 18.40625 75.984375 \nL 18.40625 0 \nL 9.421875 0 \nz\n\" id=\"DejaVuSans-108\"/>\n        <path d=\"M 12.40625 8.296875 \nL 28.515625 8.296875 \nL 28.515625 63.921875 \nL 10.984375 60.40625 \nL 10.984375 69.390625 \nL 28.421875 72.90625 \nL 38.28125 72.90625 \nL 38.28125 8.296875 \nL 54.390625 8.296875 \nL 54.390625 0 \nL 12.40625 0 \nz\n\" id=\"DejaVuSans-49\"/>\n       </defs>\n       <use xlink:href=\"#DejaVuSans-77\"/>\n       <use x=\"86.279297\" xlink:href=\"#DejaVuSans-111\"/>\n       <use x=\"147.460938\" xlink:href=\"#DejaVuSans-100\"/>\n       <use x=\"210.9375\" xlink:href=\"#DejaVuSans-101\"/>\n       <use x=\"272.460938\" xlink:href=\"#DejaVuSans-108\"/>\n       <use x=\"300.244141\" xlink:href=\"#DejaVuSans-49\"/>\n      </g>\n     </g>\n    </g>\n    <g id=\"xtick_2\">\n     <g id=\"line2d_2\">\n      <g>\n       <use style=\"stroke:#000000;stroke-width:0.8;\" x=\"112.696562\" xlink:href=\"#m3dd524b3a7\" y=\"229.343125\"/>\n      </g>\n     </g>\n     <g id=\"text_2\">\n      <!-- Model2 -->\n      <g transform=\"translate(120.295 272.732188)rotate(-90)scale(0.1 -0.1)\">\n       <defs>\n        <path d=\"M 19.1875 8.296875 \nL 53.609375 8.296875 \nL 53.609375 0 \nL 7.328125 0 \nL 7.328125 8.296875 \nQ 12.9375 14.109375 22.625 23.890625 \nQ 32.328125 33.6875 34.8125 36.53125 \nQ 39.546875 41.84375 41.421875 45.53125 \nQ 43.3125 49.21875 43.3125 52.78125 \nQ 43.3125 58.59375 39.234375 62.25 \nQ 35.15625 65.921875 28.609375 65.921875 \nQ 23.96875 65.921875 18.8125 64.3125 \nQ 13.671875 62.703125 7.8125 59.421875 \nL 7.8125 69.390625 \nQ 13.765625 71.78125 18.9375 73 \nQ 24.125 74.21875 28.421875 74.21875 \nQ 39.75 74.21875 46.484375 68.546875 \nQ 53.21875 62.890625 53.21875 53.421875 \nQ 53.21875 48.921875 51.53125 44.890625 \nQ 49.859375 40.875 45.40625 35.40625 \nQ 44.1875 33.984375 37.640625 27.21875 \nQ 31.109375 20.453125 19.1875 8.296875 \nz\n\" id=\"DejaVuSans-50\"/>\n       </defs>\n       <use xlink:href=\"#DejaVuSans-77\"/>\n       <use x=\"86.279297\" xlink:href=\"#DejaVuSans-111\"/>\n       <use x=\"147.460938\" xlink:href=\"#DejaVuSans-100\"/>\n       <use x=\"210.9375\" xlink:href=\"#DejaVuSans-101\"/>\n       <use x=\"272.460938\" xlink:href=\"#DejaVuSans-108\"/>\n       <use x=\"300.244141\" xlink:href=\"#DejaVuSans-50\"/>\n      </g>\n     </g>\n    </g>\n    <g id=\"xtick_3\">\n     <g id=\"line2d_3\">\n      <g>\n       <use style=\"stroke:#000000;stroke-width:0.8;\" x=\"154.101562\" xlink:href=\"#m3dd524b3a7\" y=\"229.343125\"/>\n      </g>\n     </g>\n     <g id=\"text_3\">\n      <!-- Model3 -->\n      <g transform=\"translate(161.7 272.732188)rotate(-90)scale(0.1 -0.1)\">\n       <defs>\n        <path d=\"M 40.578125 39.3125 \nQ 47.65625 37.796875 51.625 33 \nQ 55.609375 28.21875 55.609375 21.1875 \nQ 55.609375 10.40625 48.1875 4.484375 \nQ 40.765625 -1.421875 27.09375 -1.421875 \nQ 22.515625 -1.421875 17.65625 -0.515625 \nQ 12.796875 0.390625 7.625 2.203125 \nL 7.625 11.71875 \nQ 11.71875 9.328125 16.59375 8.109375 \nQ 21.484375 6.890625 26.8125 6.890625 \nQ 36.078125 6.890625 40.9375 10.546875 \nQ 45.796875 14.203125 45.796875 21.1875 \nQ 45.796875 27.640625 41.28125 31.265625 \nQ 36.765625 34.90625 28.71875 34.90625 \nL 20.21875 34.90625 \nL 20.21875 43.015625 \nL 29.109375 43.015625 \nQ 36.375 43.015625 40.234375 45.921875 \nQ 44.09375 48.828125 44.09375 54.296875 \nQ 44.09375 59.90625 40.109375 62.90625 \nQ 36.140625 65.921875 28.71875 65.921875 \nQ 24.65625 65.921875 20.015625 65.03125 \nQ 15.375 64.15625 9.8125 62.3125 \nL 9.8125 71.09375 \nQ 15.4375 72.65625 20.34375 73.4375 \nQ 25.25 74.21875 29.59375 74.21875 \nQ 40.828125 74.21875 47.359375 69.109375 \nQ 53.90625 64.015625 53.90625 55.328125 \nQ 53.90625 49.265625 50.4375 45.09375 \nQ 46.96875 40.921875 40.578125 39.3125 \nz\n\" id=\"DejaVuSans-51\"/>\n       </defs>\n       <use xlink:href=\"#DejaVuSans-77\"/>\n       <use x=\"86.279297\" xlink:href=\"#DejaVuSans-111\"/>\n       <use x=\"147.460938\" xlink:href=\"#DejaVuSans-100\"/>\n       <use x=\"210.9375\" xlink:href=\"#DejaVuSans-101\"/>\n       <use x=\"272.460938\" xlink:href=\"#DejaVuSans-108\"/>\n       <use x=\"300.244141\" xlink:href=\"#DejaVuSans-51\"/>\n      </g>\n     </g>\n    </g>\n    <g id=\"xtick_4\">\n     <g id=\"line2d_4\">\n      <g>\n       <use style=\"stroke:#000000;stroke-width:0.8;\" x=\"195.506563\" xlink:href=\"#m3dd524b3a7\" y=\"229.343125\"/>\n      </g>\n     </g>\n     <g id=\"text_4\">\n      <!-- Model4 -->\n      <g transform=\"translate(203.105 272.732188)rotate(-90)scale(0.1 -0.1)\">\n       <defs>\n        <path d=\"M 37.796875 64.3125 \nL 12.890625 25.390625 \nL 37.796875 25.390625 \nz\nM 35.203125 72.90625 \nL 47.609375 72.90625 \nL 47.609375 25.390625 \nL 58.015625 25.390625 \nL 58.015625 17.1875 \nL 47.609375 17.1875 \nL 47.609375 0 \nL 37.796875 0 \nL 37.796875 17.1875 \nL 4.890625 17.1875 \nL 4.890625 26.703125 \nz\n\" id=\"DejaVuSans-52\"/>\n       </defs>\n       <use xlink:href=\"#DejaVuSans-77\"/>\n       <use x=\"86.279297\" xlink:href=\"#DejaVuSans-111\"/>\n       <use x=\"147.460938\" xlink:href=\"#DejaVuSans-100\"/>\n       <use x=\"210.9375\" xlink:href=\"#DejaVuSans-101\"/>\n       <use x=\"272.460938\" xlink:href=\"#DejaVuSans-108\"/>\n       <use x=\"300.244141\" xlink:href=\"#DejaVuSans-52\"/>\n      </g>\n     </g>\n    </g>\n    <g id=\"xtick_5\">\n     <g id=\"line2d_5\">\n      <g>\n       <use style=\"stroke:#000000;stroke-width:0.8;\" x=\"236.911563\" xlink:href=\"#m3dd524b3a7\" y=\"229.343125\"/>\n      </g>\n     </g>\n     <g id=\"text_5\">\n      <!-- Model5 -->\n      <g transform=\"translate(244.51 272.732188)rotate(-90)scale(0.1 -0.1)\">\n       <defs>\n        <path d=\"M 10.796875 72.90625 \nL 49.515625 72.90625 \nL 49.515625 64.59375 \nL 19.828125 64.59375 \nL 19.828125 46.734375 \nQ 21.96875 47.46875 24.109375 47.828125 \nQ 26.265625 48.1875 28.421875 48.1875 \nQ 40.625 48.1875 47.75 41.5 \nQ 54.890625 34.8125 54.890625 23.390625 \nQ 54.890625 11.625 47.5625 5.09375 \nQ 40.234375 -1.421875 26.90625 -1.421875 \nQ 22.3125 -1.421875 17.546875 -0.640625 \nQ 12.796875 0.140625 7.71875 1.703125 \nL 7.71875 11.625 \nQ 12.109375 9.234375 16.796875 8.0625 \nQ 21.484375 6.890625 26.703125 6.890625 \nQ 35.15625 6.890625 40.078125 11.328125 \nQ 45.015625 15.765625 45.015625 23.390625 \nQ 45.015625 31 40.078125 35.4375 \nQ 35.15625 39.890625 26.703125 39.890625 \nQ 22.75 39.890625 18.8125 39.015625 \nQ 14.890625 38.140625 10.796875 36.28125 \nz\n\" id=\"DejaVuSans-53\"/>\n       </defs>\n       <use xlink:href=\"#DejaVuSans-77\"/>\n       <use x=\"86.279297\" xlink:href=\"#DejaVuSans-111\"/>\n       <use x=\"147.460938\" xlink:href=\"#DejaVuSans-100\"/>\n       <use x=\"210.9375\" xlink:href=\"#DejaVuSans-101\"/>\n       <use x=\"272.460938\" xlink:href=\"#DejaVuSans-108\"/>\n       <use x=\"300.244141\" xlink:href=\"#DejaVuSans-53\"/>\n      </g>\n     </g>\n    </g>\n   </g>\n   <g id=\"matplotlib.axis_2\">\n    <g id=\"ytick_1\">\n     <g id=\"line2d_6\">\n      <defs>\n       <path d=\"M 0 0 \nL -3.5 0 \n\" id=\"m3ed19cb52a\" style=\"stroke:#000000;stroke-width:0.8;\"/>\n      </defs>\n      <g>\n       <use style=\"stroke:#000000;stroke-width:0.8;\" x=\"50.589062\" xlink:href=\"#m3ed19cb52a\" y=\"43.020625\"/>\n      </g>\n     </g>\n     <g id=\"text_6\">\n      <!-- Model1 -->\n      <g transform=\"translate(7.2 46.819844)scale(0.1 -0.1)\">\n       <use xlink:href=\"#DejaVuSans-77\"/>\n       <use x=\"86.279297\" xlink:href=\"#DejaVuSans-111\"/>\n       <use x=\"147.460938\" xlink:href=\"#DejaVuSans-100\"/>\n       <use x=\"210.9375\" xlink:href=\"#DejaVuSans-101\"/>\n       <use x=\"272.460938\" xlink:href=\"#DejaVuSans-108\"/>\n       <use x=\"300.244141\" xlink:href=\"#DejaVuSans-49\"/>\n      </g>\n     </g>\n    </g>\n    <g id=\"ytick_2\">\n     <g id=\"line2d_7\">\n      <g>\n       <use style=\"stroke:#000000;stroke-width:0.8;\" x=\"50.589062\" xlink:href=\"#m3ed19cb52a\" y=\"84.425625\"/>\n      </g>\n     </g>\n     <g id=\"text_7\">\n      <!-- Model2 -->\n      <g transform=\"translate(7.2 88.224844)scale(0.1 -0.1)\">\n       <use xlink:href=\"#DejaVuSans-77\"/>\n       <use x=\"86.279297\" xlink:href=\"#DejaVuSans-111\"/>\n       <use x=\"147.460938\" xlink:href=\"#DejaVuSans-100\"/>\n       <use x=\"210.9375\" xlink:href=\"#DejaVuSans-101\"/>\n       <use x=\"272.460938\" xlink:href=\"#DejaVuSans-108\"/>\n       <use x=\"300.244141\" xlink:href=\"#DejaVuSans-50\"/>\n      </g>\n     </g>\n    </g>\n    <g id=\"ytick_3\">\n     <g id=\"line2d_8\">\n      <g>\n       <use style=\"stroke:#000000;stroke-width:0.8;\" x=\"50.589062\" xlink:href=\"#m3ed19cb52a\" y=\"125.830625\"/>\n      </g>\n     </g>\n     <g id=\"text_8\">\n      <!-- Model3 -->\n      <g transform=\"translate(7.2 129.629844)scale(0.1 -0.1)\">\n       <use xlink:href=\"#DejaVuSans-77\"/>\n       <use x=\"86.279297\" xlink:href=\"#DejaVuSans-111\"/>\n       <use x=\"147.460938\" xlink:href=\"#DejaVuSans-100\"/>\n       <use x=\"210.9375\" xlink:href=\"#DejaVuSans-101\"/>\n       <use x=\"272.460938\" xlink:href=\"#DejaVuSans-108\"/>\n       <use x=\"300.244141\" xlink:href=\"#DejaVuSans-51\"/>\n      </g>\n     </g>\n    </g>\n    <g id=\"ytick_4\">\n     <g id=\"line2d_9\">\n      <g>\n       <use style=\"stroke:#000000;stroke-width:0.8;\" x=\"50.589062\" xlink:href=\"#m3ed19cb52a\" y=\"167.235625\"/>\n      </g>\n     </g>\n     <g id=\"text_9\">\n      <!-- Model4 -->\n      <g transform=\"translate(7.2 171.034844)scale(0.1 -0.1)\">\n       <use xlink:href=\"#DejaVuSans-77\"/>\n       <use x=\"86.279297\" xlink:href=\"#DejaVuSans-111\"/>\n       <use x=\"147.460938\" xlink:href=\"#DejaVuSans-100\"/>\n       <use x=\"210.9375\" xlink:href=\"#DejaVuSans-101\"/>\n       <use x=\"272.460938\" xlink:href=\"#DejaVuSans-108\"/>\n       <use x=\"300.244141\" xlink:href=\"#DejaVuSans-52\"/>\n      </g>\n     </g>\n    </g>\n    <g id=\"ytick_5\">\n     <g id=\"line2d_10\">\n      <g>\n       <use style=\"stroke:#000000;stroke-width:0.8;\" x=\"50.589062\" xlink:href=\"#m3ed19cb52a\" y=\"208.640625\"/>\n      </g>\n     </g>\n     <g id=\"text_10\">\n      <!-- Model5 -->\n      <g transform=\"translate(7.2 212.439844)scale(0.1 -0.1)\">\n       <use xlink:href=\"#DejaVuSans-77\"/>\n       <use x=\"86.279297\" xlink:href=\"#DejaVuSans-111\"/>\n       <use x=\"147.460938\" xlink:href=\"#DejaVuSans-100\"/>\n       <use x=\"210.9375\" xlink:href=\"#DejaVuSans-101\"/>\n       <use x=\"272.460938\" xlink:href=\"#DejaVuSans-108\"/>\n       <use x=\"300.244141\" xlink:href=\"#DejaVuSans-53\"/>\n      </g>\n     </g>\n    </g>\n   </g>\n   <g id=\"patch_3\">\n    <path d=\"M 50.589062 229.343125 \nL 50.589062 22.318125 \n\" style=\"fill:none;stroke:#000000;stroke-linecap:square;stroke-linejoin:miter;stroke-width:0.8;\"/>\n   </g>\n   <g id=\"patch_4\">\n    <path d=\"M 257.614062 229.343125 \nL 257.614062 22.318125 \n\" style=\"fill:none;stroke:#000000;stroke-linecap:square;stroke-linejoin:miter;stroke-width:0.8;\"/>\n   </g>\n   <g id=\"patch_5\">\n    <path d=\"M 50.589062 229.343125 \nL 257.614062 229.343125 \n\" style=\"fill:none;stroke:#000000;stroke-linecap:square;stroke-linejoin:miter;stroke-width:0.8;\"/>\n   </g>\n   <g id=\"patch_6\">\n    <path d=\"M 50.589062 22.318125 \nL 257.614062 22.318125 \n\" style=\"fill:none;stroke:#000000;stroke-linecap:square;stroke-linejoin:miter;stroke-width:0.8;\"/>\n   </g>\n   <g id=\"text_11\">\n    <!-- x -->\n    <g style=\"fill:#ffffff;\" transform=\"translate(68.332188 45.78)scale(0.1 -0.1)\">\n     <defs>\n      <path d=\"M 54.890625 54.6875 \nL 35.109375 28.078125 \nL 55.90625 0 \nL 45.3125 0 \nL 29.390625 21.484375 \nL 13.484375 0 \nL 2.875 0 \nL 24.125 28.609375 \nL 4.6875 54.6875 \nL 15.28125 54.6875 \nL 29.78125 35.203125 \nL 44.28125 54.6875 \nz\n\" id=\"DejaVuSans-120\"/>\n     </defs>\n     <use xlink:href=\"#DejaVuSans-120\"/>\n    </g>\n   </g>\n   <g id=\"text_12\">\n    <!-- x -->\n    <g style=\"fill:#ffffff;\" transform=\"translate(109.737188 87.185)scale(0.1 -0.1)\">\n     <use xlink:href=\"#DejaVuSans-120\"/>\n    </g>\n   </g>\n   <g id=\"text_13\">\n    <!-- x -->\n    <g style=\"fill:#ffffff;\" transform=\"translate(151.142188 128.59)scale(0.1 -0.1)\">\n     <use xlink:href=\"#DejaVuSans-120\"/>\n    </g>\n   </g>\n   <g id=\"text_14\">\n    <!-- x -->\n    <g style=\"fill:#ffffff;\" transform=\"translate(192.547188 169.995)scale(0.1 -0.1)\">\n     <use xlink:href=\"#DejaVuSans-120\"/>\n    </g>\n   </g>\n   <g id=\"text_15\">\n    <!-- x -->\n    <g style=\"fill:#ffffff;\" transform=\"translate(233.952188 211.4)scale(0.1 -0.1)\">\n     <use xlink:href=\"#DejaVuSans-120\"/>\n    </g>\n   </g>\n   <g id=\"text_16\">\n    <!-- GW Test -->\n    <g transform=\"translate(129.79875 16.318125)scale(0.12 -0.12)\">\n     <defs>\n      <path d=\"M 59.515625 10.40625 \nL 59.515625 29.984375 \nL 43.40625 29.984375 \nL 43.40625 38.09375 \nL 69.28125 38.09375 \nL 69.28125 6.78125 \nQ 63.578125 2.734375 56.6875 0.65625 \nQ 49.8125 -1.421875 42 -1.421875 \nQ 24.90625 -1.421875 15.25 8.5625 \nQ 5.609375 18.5625 5.609375 36.375 \nQ 5.609375 54.25 15.25 64.234375 \nQ 24.90625 74.21875 42 74.21875 \nQ 49.125 74.21875 55.546875 72.453125 \nQ 61.96875 70.703125 67.390625 67.28125 \nL 67.390625 56.78125 \nQ 61.921875 61.421875 55.765625 63.765625 \nQ 49.609375 66.109375 42.828125 66.109375 \nQ 29.4375 66.109375 22.71875 58.640625 \nQ 16.015625 51.171875 16.015625 36.375 \nQ 16.015625 21.625 22.71875 14.15625 \nQ 29.4375 6.6875 42.828125 6.6875 \nQ 48.046875 6.6875 52.140625 7.59375 \nQ 56.25 8.5 59.515625 10.40625 \nz\n\" id=\"DejaVuSans-71\"/>\n      <path d=\"M 3.328125 72.90625 \nL 13.28125 72.90625 \nL 28.609375 11.28125 \nL 43.890625 72.90625 \nL 54.984375 72.90625 \nL 70.3125 11.28125 \nL 85.59375 72.90625 \nL 95.609375 72.90625 \nL 77.296875 0 \nL 64.890625 0 \nL 49.515625 63.28125 \nL 33.984375 0 \nL 21.578125 0 \nz\n\" id=\"DejaVuSans-87\"/>\n      <path id=\"DejaVuSans-32\"/>\n      <path d=\"M -0.296875 72.90625 \nL 61.375 72.90625 \nL 61.375 64.59375 \nL 35.5 64.59375 \nL 35.5 0 \nL 25.59375 0 \nL 25.59375 64.59375 \nL -0.296875 64.59375 \nz\n\" id=\"DejaVuSans-84\"/>\n      <path d=\"M 44.28125 53.078125 \nL 44.28125 44.578125 \nQ 40.484375 46.53125 36.375 47.5 \nQ 32.28125 48.484375 27.875 48.484375 \nQ 21.1875 48.484375 17.84375 46.4375 \nQ 14.5 44.390625 14.5 40.28125 \nQ 14.5 37.15625 16.890625 35.375 \nQ 19.28125 33.59375 26.515625 31.984375 \nL 29.59375 31.296875 \nQ 39.15625 29.25 43.1875 25.515625 \nQ 47.21875 21.78125 47.21875 15.09375 \nQ 47.21875 7.46875 41.1875 3.015625 \nQ 35.15625 -1.421875 24.609375 -1.421875 \nQ 20.21875 -1.421875 15.453125 -0.5625 \nQ 10.6875 0.296875 5.421875 2 \nL 5.421875 11.28125 \nQ 10.40625 8.6875 15.234375 7.390625 \nQ 20.0625 6.109375 24.8125 6.109375 \nQ 31.15625 6.109375 34.5625 8.28125 \nQ 37.984375 10.453125 37.984375 14.40625 \nQ 37.984375 18.0625 35.515625 20.015625 \nQ 33.0625 21.96875 24.703125 23.78125 \nL 21.578125 24.515625 \nQ 13.234375 26.265625 9.515625 29.90625 \nQ 5.8125 33.546875 5.8125 39.890625 \nQ 5.8125 47.609375 11.28125 51.796875 \nQ 16.75 56 26.8125 56 \nQ 31.78125 56 36.171875 55.265625 \nQ 40.578125 54.546875 44.28125 53.078125 \nz\n\" id=\"DejaVuSans-115\"/>\n      <path d=\"M 18.3125 70.21875 \nL 18.3125 54.6875 \nL 36.8125 54.6875 \nL 36.8125 47.703125 \nL 18.3125 47.703125 \nL 18.3125 18.015625 \nQ 18.3125 11.328125 20.140625 9.421875 \nQ 21.96875 7.515625 27.59375 7.515625 \nL 36.8125 7.515625 \nL 36.8125 0 \nL 27.59375 0 \nQ 17.1875 0 13.234375 3.875 \nQ 9.28125 7.765625 9.28125 18.015625 \nL 9.28125 47.703125 \nL 2.6875 47.703125 \nL 2.6875 54.6875 \nL 9.28125 54.6875 \nL 9.28125 70.21875 \nz\n\" id=\"DejaVuSans-116\"/>\n     </defs>\n     <use xlink:href=\"#DejaVuSans-71\"/>\n     <use x=\"77.490234\" xlink:href=\"#DejaVuSans-87\"/>\n     <use x=\"176.367188\" xlink:href=\"#DejaVuSans-32\"/>\n     <use x=\"208.154297\" xlink:href=\"#DejaVuSans-84\"/>\n     <use x=\"252.238281\" xlink:href=\"#DejaVuSans-101\"/>\n     <use x=\"313.761719\" xlink:href=\"#DejaVuSans-115\"/>\n     <use x=\"365.861328\" xlink:href=\"#DejaVuSans-116\"/>\n    </g>\n   </g>\n  </g>\n  <g id=\"axes_2\">\n   <g id=\"patch_7\">\n    <path clip-path=\"url(#p011a3c2422)\" d=\"M 278.134062 229.343125 \nL 278.134062 228.534434 \nL 278.134062 23.126816 \nL 278.134062 22.318125 \nL 288.485313 22.318125 \nL 288.485313 23.126816 \nL 288.485313 228.534434 \nL 288.485313 229.343125 \nz\n\" style=\"fill:#ffffff;stroke:#ffffff;stroke-linejoin:miter;stroke-width:0.01;\"/>\n   </g>\n   <image height=\"207\" id=\"image755473288b\" transform=\"scale(1 -1)translate(0 -207)\" width=\"10\" x=\"278\" xlink:href=\"data:image/png;base64,\niVBORw0KGgoAAAANSUhEUgAAAAoAAADPCAYAAADMF0C6AAABLUlEQVR4nO2YUQ7CMAxDE7cfOw4H476cBIlPbjBeJFdh0H1bseu4WbY8bvdngGdGJsHFDI0DVtTLTJ2CQK4xqUZKzX2cUKMaNe5ee4BXMBwCU8k0JjU8MfXW6KH+z8P0aQyGiynpAhobe41whYpjxNcf5gqGr9AIqfFhpN3rUyDCVS6X3XD5DU9ouPqC6/eR35lf8hFXHPZbyL4UlkyzguF2H+2hwHn091oZ7iGFYJUBsMJH96QY6Q8upMad8Rte0AiBhcsFg7ui13iQ2jUiWPHU7lAg4tKqEH07LoJVBgDXCD9eF6wzOLiiGvneQys2Gs5fw/bg4h8alcO4p9mCUPgHAKeGwAV5hNQ7FB8q7lCcABX+dQZShz0U6py4FNgXispruCsUe0h9on4Q4BsXnTj3GQlftQAAAABJRU5ErkJggg==\" y=\"-21\"/>\n   <g id=\"matplotlib.axis_3\"/>\n   <g id=\"matplotlib.axis_4\">\n    <g id=\"ytick_6\">\n     <g id=\"line2d_11\">\n      <defs>\n       <path d=\"M 0 0 \nL 3.5 0 \n\" id=\"mff55399474\" style=\"stroke:#000000;stroke-width:0.8;\"/>\n      </defs>\n      <g>\n       <use style=\"stroke:#000000;stroke-width:0.8;\" x=\"288.485313\" xlink:href=\"#mff55399474\" y=\"229.343125\"/>\n      </g>\n     </g>\n     <g id=\"text_17\">\n      <!-- 0.000 -->\n      <g transform=\"translate(295.485313 233.142344)scale(0.1 -0.1)\">\n       <defs>\n        <path d=\"M 31.78125 66.40625 \nQ 24.171875 66.40625 20.328125 58.90625 \nQ 16.5 51.421875 16.5 36.375 \nQ 16.5 21.390625 20.328125 13.890625 \nQ 24.171875 6.390625 31.78125 6.390625 \nQ 39.453125 6.390625 43.28125 13.890625 \nQ 47.125 21.390625 47.125 36.375 \nQ 47.125 51.421875 43.28125 58.90625 \nQ 39.453125 66.40625 31.78125 66.40625 \nz\nM 31.78125 74.21875 \nQ 44.046875 74.21875 50.515625 64.515625 \nQ 56.984375 54.828125 56.984375 36.375 \nQ 56.984375 17.96875 50.515625 8.265625 \nQ 44.046875 -1.421875 31.78125 -1.421875 \nQ 19.53125 -1.421875 13.0625 8.265625 \nQ 6.59375 17.96875 6.59375 36.375 \nQ 6.59375 54.828125 13.0625 64.515625 \nQ 19.53125 74.21875 31.78125 74.21875 \nz\n\" id=\"DejaVuSans-48\"/>\n        <path d=\"M 10.6875 12.40625 \nL 21 12.40625 \nL 21 0 \nL 10.6875 0 \nz\n\" id=\"DejaVuSans-46\"/>\n       </defs>\n       <use xlink:href=\"#DejaVuSans-48\"/>\n       <use x=\"63.623047\" xlink:href=\"#DejaVuSans-46\"/>\n       <use x=\"95.410156\" xlink:href=\"#DejaVuSans-48\"/>\n       <use x=\"159.033203\" xlink:href=\"#DejaVuSans-48\"/>\n       <use x=\"222.65625\" xlink:href=\"#DejaVuSans-48\"/>\n      </g>\n     </g>\n    </g>\n    <g id=\"ytick_7\">\n     <g id=\"line2d_12\">\n      <g>\n       <use style=\"stroke:#000000;stroke-width:0.8;\" x=\"288.485313\" xlink:href=\"#mff55399474\" y=\"201.801638\"/>\n      </g>\n     </g>\n     <g id=\"text_18\">\n      <!-- 0.005 -->\n      <g transform=\"translate(295.485313 205.600856)scale(0.1 -0.1)\">\n       <use xlink:href=\"#DejaVuSans-48\"/>\n       <use x=\"63.623047\" xlink:href=\"#DejaVuSans-46\"/>\n       <use x=\"95.410156\" xlink:href=\"#DejaVuSans-48\"/>\n       <use x=\"159.033203\" xlink:href=\"#DejaVuSans-48\"/>\n       <use x=\"222.65625\" xlink:href=\"#DejaVuSans-53\"/>\n      </g>\n     </g>\n    </g>\n    <g id=\"ytick_8\">\n     <g id=\"line2d_13\">\n      <g>\n       <use style=\"stroke:#000000;stroke-width:0.8;\" x=\"288.485313\" xlink:href=\"#mff55399474\" y=\"174.26015\"/>\n      </g>\n     </g>\n     <g id=\"text_19\">\n      <!-- 0.010 -->\n      <g transform=\"translate(295.485313 178.059369)scale(0.1 -0.1)\">\n       <use xlink:href=\"#DejaVuSans-48\"/>\n       <use x=\"63.623047\" xlink:href=\"#DejaVuSans-46\"/>\n       <use x=\"95.410156\" xlink:href=\"#DejaVuSans-48\"/>\n       <use x=\"159.033203\" xlink:href=\"#DejaVuSans-49\"/>\n       <use x=\"222.65625\" xlink:href=\"#DejaVuSans-48\"/>\n      </g>\n     </g>\n    </g>\n    <g id=\"ytick_9\">\n     <g id=\"line2d_14\">\n      <g>\n       <use style=\"stroke:#000000;stroke-width:0.8;\" x=\"288.485313\" xlink:href=\"#mff55399474\" y=\"146.718663\"/>\n      </g>\n     </g>\n     <g id=\"text_20\">\n      <!-- 0.015 -->\n      <g transform=\"translate(295.485313 150.517881)scale(0.1 -0.1)\">\n       <use xlink:href=\"#DejaVuSans-48\"/>\n       <use x=\"63.623047\" xlink:href=\"#DejaVuSans-46\"/>\n       <use x=\"95.410156\" xlink:href=\"#DejaVuSans-48\"/>\n       <use x=\"159.033203\" xlink:href=\"#DejaVuSans-49\"/>\n       <use x=\"222.65625\" xlink:href=\"#DejaVuSans-53\"/>\n      </g>\n     </g>\n    </g>\n    <g id=\"ytick_10\">\n     <g id=\"line2d_15\">\n      <g>\n       <use style=\"stroke:#000000;stroke-width:0.8;\" x=\"288.485313\" xlink:href=\"#mff55399474\" y=\"119.177175\"/>\n      </g>\n     </g>\n     <g id=\"text_21\">\n      <!-- 0.020 -->\n      <g transform=\"translate(295.485313 122.976394)scale(0.1 -0.1)\">\n       <use xlink:href=\"#DejaVuSans-48\"/>\n       <use x=\"63.623047\" xlink:href=\"#DejaVuSans-46\"/>\n       <use x=\"95.410156\" xlink:href=\"#DejaVuSans-48\"/>\n       <use x=\"159.033203\" xlink:href=\"#DejaVuSans-50\"/>\n       <use x=\"222.65625\" xlink:href=\"#DejaVuSans-48\"/>\n      </g>\n     </g>\n    </g>\n    <g id=\"ytick_11\">\n     <g id=\"line2d_16\">\n      <g>\n       <use style=\"stroke:#000000;stroke-width:0.8;\" x=\"288.485313\" xlink:href=\"#mff55399474\" y=\"91.635688\"/>\n      </g>\n     </g>\n     <g id=\"text_22\">\n      <!-- 0.025 -->\n      <g transform=\"translate(295.485313 95.434907)scale(0.1 -0.1)\">\n       <use xlink:href=\"#DejaVuSans-48\"/>\n       <use x=\"63.623047\" xlink:href=\"#DejaVuSans-46\"/>\n       <use x=\"95.410156\" xlink:href=\"#DejaVuSans-48\"/>\n       <use x=\"159.033203\" xlink:href=\"#DejaVuSans-50\"/>\n       <use x=\"222.65625\" xlink:href=\"#DejaVuSans-53\"/>\n      </g>\n     </g>\n    </g>\n    <g id=\"ytick_12\">\n     <g id=\"line2d_17\">\n      <g>\n       <use style=\"stroke:#000000;stroke-width:0.8;\" x=\"288.485313\" xlink:href=\"#mff55399474\" y=\"64.0942\"/>\n      </g>\n     </g>\n     <g id=\"text_23\">\n      <!-- 0.030 -->\n      <g transform=\"translate(295.485313 67.893419)scale(0.1 -0.1)\">\n       <use xlink:href=\"#DejaVuSans-48\"/>\n       <use x=\"63.623047\" xlink:href=\"#DejaVuSans-46\"/>\n       <use x=\"95.410156\" xlink:href=\"#DejaVuSans-48\"/>\n       <use x=\"159.033203\" xlink:href=\"#DejaVuSans-51\"/>\n       <use x=\"222.65625\" xlink:href=\"#DejaVuSans-48\"/>\n      </g>\n     </g>\n    </g>\n    <g id=\"ytick_13\">\n     <g id=\"line2d_18\">\n      <g>\n       <use style=\"stroke:#000000;stroke-width:0.8;\" x=\"288.485313\" xlink:href=\"#mff55399474\" y=\"36.552713\"/>\n      </g>\n     </g>\n     <g id=\"text_24\">\n      <!-- 0.035 -->\n      <g transform=\"translate(295.485313 40.351932)scale(0.1 -0.1)\">\n       <use xlink:href=\"#DejaVuSans-48\"/>\n       <use x=\"63.623047\" xlink:href=\"#DejaVuSans-46\"/>\n       <use x=\"95.410156\" xlink:href=\"#DejaVuSans-48\"/>\n       <use x=\"159.033203\" xlink:href=\"#DejaVuSans-51\"/>\n       <use x=\"222.65625\" xlink:href=\"#DejaVuSans-53\"/>\n      </g>\n     </g>\n    </g>\n   </g>\n   <g id=\"patch_8\">\n    <path d=\"M 278.134062 229.343125 \nL 278.134062 228.534434 \nL 278.134062 23.126816 \nL 278.134062 22.318125 \nL 288.485313 22.318125 \nL 288.485313 23.126816 \nL 288.485313 228.534434 \nL 288.485313 229.343125 \nz\n\" style=\"fill:none;stroke:#000000;stroke-linejoin:miter;stroke-width:0.8;\"/>\n   </g>\n  </g>\n </g>\n <defs>\n  <clipPath id=\"p74b0ac8de4\">\n   <rect height=\"207.025\" width=\"207.025\" x=\"50.589062\" y=\"22.318125\"/>\n  </clipPath>\n  <clipPath id=\"p011a3c2422\">\n   <rect height=\"207.025\" width=\"10.35125\" x=\"278.134062\" y=\"22.318125\"/>\n  </clipPath>\n </defs>\n</svg>\n",
      "text/plain": "<Figure size 432x288 with 2 Axes>"
     },
     "metadata": {
      "needs_background": "light"
     },
     "output_type": "display_data"
    }
   ],
   "source": [
    "y = np.random.randn(10,1)\n",
    "y_hat = np.hstack([i*np.ones((10,1)) for i in range(5)])\n",
    "\n",
    "GW_test_p_values(y=y, y_hat=y_hat, tau=tau, alpha=0.05, unconditional=True)\n",
    "\n",
    "plot_GW_test_p_values(y=y, y_hat=y_hat, \n",
    "                      model_names=['Model1', 'Model2', 'Model3', 'Model4', 'Model5'],\n",
    "                      tau=tau, alpha=0.05, unconditional=True)"
   ]
  },
  {
   "cell_type": "code",
   "execution_count": null,
   "metadata": {},
   "outputs": [],
   "source": []
  }
 ],
 "metadata": {
  "kernelspec": {
   "display_name": "Python 3.7.10 64-bit ('nixtla': conda)",
   "metadata": {
    "interpreter": {
     "hash": "97c68c0f618c4f787b1e02bfee278e48d25b62407cb335aab5258cedc4db4ced"
    }
   },
   "name": "python3"
  }
 },
 "nbformat": 4,
 "nbformat_minor": 2
}
