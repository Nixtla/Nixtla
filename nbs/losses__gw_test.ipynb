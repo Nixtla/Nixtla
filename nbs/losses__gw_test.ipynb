{
 "cells": [
  {
   "cell_type": "code",
   "execution_count": null,
   "metadata": {},
   "outputs": [],
   "source": [
    "#default_exp losses.gw_test"
   ]
  },
  {
   "cell_type": "code",
   "execution_count": null,
   "metadata": {},
   "outputs": [],
   "source": [
    "#hide\n",
    "%load_ext autoreload\n",
    "%autoreload 2"
   ]
  },
  {
   "cell_type": "markdown",
   "metadata": {},
   "source": [
    "# Giacomini-White Test\n",
    "\n",
    "Test on out-of-sample conditional predictive ability.\n",
    "\n",
    "References:\n",
    "- Giacomini, R., & White, H. (2006). Tests of conditional predictive ability. Econometrica, 74(6), 1545-1578.\n",
    "- https://onlinelibrary.wiley.com/doi/abs/10.1111/j.1468-0262.2006.00718.x\n",
    "- http://www.runmycode.org/companion/view/88"
   ]
  },
  {
   "cell_type": "markdown",
   "metadata": {},
   "source": [
    "## Newey-West estimator\n",
    "\n",
    "Estimator of the Newey-West Heteroskedasticity and Autocorrelation Consistent Covariance Matrix (Newey-West HAC) to calculate robust error estimations."
   ]
  },
  {
   "cell_type": "code",
   "execution_count": null,
   "metadata": {},
   "outputs": [],
   "source": [
    "#export\n",
    "import os\n",
    "import numpy as np\n",
    "from scipy.stats.distributions import chi2"
   ]
  },
  {
   "cell_type": "code",
   "execution_count": null,
   "metadata": {},
   "outputs": [],
   "source": [
    "#export\n",
    "import matplotlib.pyplot as plt\n",
    "from mpl_toolkits.axes_grid1 import make_axes_locatable\n",
    "\n",
    "from matplotlib import rcParams\n",
    "plt.rcParams['font.family'] = 'serif'\n",
    "\n",
    "from matplotlib.colors import ListedColormap"
   ]
  },
  {
   "cell_type": "code",
   "execution_count": null,
   "metadata": {},
   "outputs": [],
   "source": [
    "# export\n",
    "def Newey_West(Z, n_lags):\n",
    "    \"\"\" Newey-West HAC estimator\n",
    "    Parameters\n",
    "    ----------\n",
    "    Z: (n, k) ndarray\n",
    "    n_lags: number of lags\n",
    "\n",
    "    Returns\n",
    "    -------\n",
    "    omega_hat: Newey-West HAC estimator of the covariance matrix\n",
    "    \"\"\"\n",
    "\n",
    "    assert n_lags > 0\n",
    "\n",
    "    n, k = Z.shape\n",
    "\n",
    "    Z = Z - np.ones((n, 1)) * np.mean(Z, axis=0)\n",
    "    gamma = -999 * np.ones((n_lags, k))\n",
    "    omega_hat = (1/n) * np.matmul(np.transpose(Z), Z)\n",
    "\n",
    "    Zlag = np.array([np.pad(Z, ((i,0), (0,0)), mode='constant', \n",
    "                            constant_values = 0)[:n] \n",
    "                     for i in range(1, n_lags + 1)])\n",
    "    gamma = (1/n) * (np.matmul(np.transpose(Z), Zlag) + \n",
    "            np.matmul(np.einsum('ijk -> ikj', Zlag), Z))\n",
    "    weights = 1 - np.array(range(1,n_lags + 1))/(n_lags + 1)\n",
    "    omega_hat = omega_hat + \\\n",
    "                np.sum(gamma * np.expand_dims(weights, \n",
    "                                              axis = (1,2)), \n",
    "                                              axis = 0)\n",
    "    return omega_hat"
   ]
  },
  {
   "cell_type": "code",
   "execution_count": null,
   "metadata": {},
   "outputs": [],
   "source": [
    "n_lags=3\n",
    "Z = np.reshape(list(range(1,101)), (20,-1))\n",
    "omega_Z = Newey_West(Z=Z, n_lags=n_lags)"
   ]
  },
  {
   "cell_type": "code",
   "execution_count": null,
   "metadata": {},
   "outputs": [],
   "source": [
    "# export\n",
    "def GW_CPA_test(loss1, loss2, tau, alpha=0.05, \n",
    "                unconditional=True, verbose=True):\n",
    "    \"\"\" Giacomini-White Conditional Predictive Ability Test\n",
    "    Parameters\n",
    "    ----------\n",
    "    loss1, loss2: 1-D ndarray of length T\n",
    "    tau: forecast horizon, scalar\n",
    "    unconditional: boolean, True if unconditional, False if conditional\n",
    "    verbose: boolean, True if prints of test are needed\n",
    "\n",
    "    Returns\n",
    "    -------\n",
    "    test_stat: test statistic of the conditional predictive ability test\n",
    "    crit_val: critical value of the chi-square test for a 5% confidence level\n",
    "    p-val: p-value of the test\n",
    "    \"\"\"\n",
    "\n",
    "    assert len(loss1) == len(loss2)\n",
    "\n",
    "    lossdiff = loss1 - loss2\n",
    "    t = len(loss1)\n",
    "    instruments = np.ones_like(loss1)\n",
    "\n",
    "    if not unconditional:\n",
    "        instruments = np.hstack((instruments[:t-tau], \n",
    "                                 lossdiff[:-tau]))\n",
    "        lossdiff = lossdiff[tau:]\n",
    "        t = t - tau\n",
    "\n",
    "    reg = instruments * lossdiff\n",
    "\n",
    "    if tau == 1:\n",
    "\n",
    "        res_beta = np.linalg.solve(reg.T.dot(reg), \n",
    "                                   reg.T.dot(np.ones((t,1))))\n",
    "        err = np.ones((t,1)) - reg.dot(res_beta)\n",
    "        r2 = 1 - np.mean(err**2)\n",
    "        test_stat = t * r2\n",
    "        q = reg.shape[1]\n",
    "        crit_val = chi2.ppf(1-alpha, df=q)\n",
    "        p_val = 1 - chi2.cdf(np.abs(test_stat), q)\n",
    "    \n",
    "    else:\n",
    "\n",
    "        zbar = np.mean(reg, axis=0)\n",
    "        n_lags = tau - 1\n",
    "        omega = Newey_West(Z=reg, n_lags=n_lags)\n",
    "        print(omega)\n",
    "        test_stat = np.expand_dims(t*zbar, \n",
    "                                   axis=0).dot(np.linalg.inv(omega)).\\\n",
    "                                   dot(zbar)\n",
    "        q = reg.shape[1]\n",
    "        crit_val = chi2.ppf(1-alpha, df=q)\n",
    "        p_val = 1 - chi2.cdf(np.abs(test_stat), q)\n",
    "\n",
    "    av_diff_loss = np.mean(loss1-loss2)\n",
    "    s = '+' if np.mean(loss1-loss2) > 0 else '-'\n",
    "    \n",
    "    if verbose:\n",
    "        if unconditional: print('\\nUnconditional test:\\n')\n",
    "        if not unconditional: print('\\nConditional test:\\n')\n",
    "        print(f'Forecast horizon: {tau}, Nominal Risk Level: {alpha}')\n",
    "        print(f'Test-statistic: {test_stat} ({s})')\n",
    "        print(f'Critical value: {crit_val}')\n",
    "        print(f'p-value: {p_val}\\n')\n",
    "    return test_stat, crit_val, p_val"
   ]
  },
  {
   "cell_type": "code",
   "execution_count": null,
   "metadata": {},
   "outputs": [
    {
     "name": "stdout",
     "output_type": "stream",
     "text": [
      "loss1:\n[[-1.78552115]\n [-0.01473592]\n [ 0.78708458]\n [-1.3916422 ]\n [-0.52936965]\n [-0.4329787 ]\n [ 0.54436758]\n [-1.02775637]\n [-0.70098597]\n [-0.48933647]]\n\nloss2:\n[[-1.49149177]\n [ 0.16135929]\n [ 1.17734034]\n [-0.11158471]\n [ 0.5825789 ]\n [-0.67077661]\n [ 0.5556575 ]\n [ 0.84033782]\n [ 0.43203722]\n [ 0.64457833]]\n\nUnconditional test:\n\nForecast horizon: 1, Nominal Risk Level: 0.05\nTest-statistic: 5.537234745934791 (-)\nCritical value: 3.841458820694124\np-value: 0.018615976047044236\n\n\nConditional test:\n\nForecast horizon: 1, Nominal Risk Level: 0.05\nTest-statistic: 5.209756218077267 (-)\nCritical value: 5.991464547107979\np-value: 0.0739121458710238\n\n"
     ]
    },
    {
     "data": {
      "text/plain": [
       "(5.209756218077267, 5.991464547107979, 0.0739121458710238)"
      ]
     },
     "execution_count": null,
     "metadata": {},
     "output_type": "execute_result"
    }
   ],
   "source": [
    "t = 10\n",
    "tau = 1\n",
    "\n",
    "loss1 = np.random.randn(10,1)\n",
    "loss2 = np.random.randn(10,1)\n",
    "\n",
    "print(f'loss1:\\n{loss1}\\n\\nloss2:\\n{loss2}')\n",
    "\n",
    "GW_CPA_test(loss1=loss1, \n",
    "            loss2=loss2, \n",
    "            tau=tau)\n",
    "\n",
    "GW_CPA_test(loss1=loss1, \n",
    "            loss2=loss2, \n",
    "            tau=tau, \n",
    "            unconditional=False)"
   ]
  },
  {
   "cell_type": "code",
   "execution_count": null,
   "metadata": {},
   "outputs": [],
   "source": [
    "# export\n",
    "def GW_test_p_values(y, y_hat, tau, alpha=0.05, unconditional=True):\n",
    "    \"\"\" Plotting function of the GW Test p-values\n",
    "    Parameters\n",
    "    ----------\n",
    "    y: (batch_size,) observed values\n",
    "    y_hat: (k, batch_size) numpy array with predictions from k different models\n",
    "\n",
    "\n",
    "    Returns\n",
    "    -------\n",
    "    \n",
    "    \"\"\"\n",
    "    losses = np.abs(y - y_hat)\n",
    "    k = y_hat.shape[1]\n",
    "    p_values = np.zeros((k, k))\n",
    "\n",
    "    for i in range(k):\n",
    "        for j in range(k):\n",
    "            if i == j: pass             \n",
    "            else:\n",
    "                test_stat, crit_val, p_val = \\\n",
    "                    GW_CPA_test(loss1=np.expand_dims(losses[:,i], axis=1),\n",
    "                                loss2=np.expand_dims(losses[:,j], axis=1),\n",
    "                                tau=tau, alpha=alpha, \n",
    "                                unconditional=unconditional,\n",
    "                                verbose=False)\n",
    "                p_values[i,j] = p_val\n",
    "    \n",
    "    return p_values\n",
    "\n",
    "\n",
    "def plot_GW_test_p_values(y, y_hat, model_names, \n",
    "                          tau, alpha=0.05, unconditional=True, \n",
    "                          verbose=True, title='GW Test'):\n",
    "    \n",
    "    p_values = GW_test_p_values(y=y, y_hat=y_hat, tau=tau, \n",
    "                                alpha=0.05, unconditional=True)\n",
    "\n",
    "    if verbose:\n",
    "        print(p_values)\n",
    "    \n",
    "    fig, ax = plt.subplots(figsize=(6, 6))\n",
    "\n",
    "    # # Defining color map\n",
    "    # red = np.concatenate([np.linspace(0, 1, 50), np.linspace(1, 0.5, 50)[1:], [0]])\n",
    "    # green = np.concatenate([np.linspace(0.5, 1, 50), np.zeros(50)])\n",
    "    # blue = np.zeros(100)\n",
    "    # rgb_color_map = np.concatenate([red.reshape(-1, 1), green.reshape(-1, 1), \n",
    "    #                                 blue.reshape(-1, 1)], axis=1)\n",
    "    # rgb_color_map = mpl.colors.ListedColormap(rgb_color_map)\n",
    "\n",
    "    # Generating figure\n",
    "    # im = plt.imshow(p_values, cmap=plt.get_cmap('Blues_r'), vmin=0, vmax=0.1)\n",
    "    im = ax.imshow(p_values, cmap=plt.get_cmap('GnBu_r'), vmin=0, vmax=0.1)\n",
    "    #im = ax.imshow(p_values, cmap=plt.get_cmap('Blues_r'), alpha=0.8)\n",
    "    #im = ax.imshow(p_values, cmap=plt.get_cmap('RdYlGn'), alpha=0.3)\n",
    "\n",
    "    # Ticks and labels\n",
    "    assert len(model_names) == len(p_values)\n",
    "    ax.set_xticks(np.arange(len(p_values)))\n",
    "    ax.set_yticks(np.arange(len(p_values)))\n",
    "\n",
    "    ax.set_xticklabels(model_names, fontsize=16)\n",
    "    ax.set_yticklabels(model_names, fontsize=16)\n",
    "\n",
    "    for i in range(len(model_names)):\n",
    "        text = ax.text(i, i, 'x',\n",
    "                       ha=\"center\", va=\"center\", color=\"w\")\n",
    "\n",
    "    # Rotate the tick labels and set their alignment.\n",
    "    plt.setp(ax.get_xticklabels(), rotation=90, \n",
    "             ha=\"right\", rotation_mode=\"anchor\")\n",
    "\n",
    "    # Colorbar\n",
    "    divider = make_axes_locatable(ax)\n",
    "    cax = divider.append_axes(\"right\", size=\"5%\", pad=0.05)\n",
    "    plt.colorbar(im, cax=cax)\n",
    "\n",
    "    ax.set_title(title, fontsize=17, fontweight='bold')\n",
    "    fig.tight_layout()\n",
    "    plt.savefig(f'./results/{title}.pdf', bbox_inches = 'tight')\n",
    "    plt.show()"
   ]
  },
  {
   "cell_type": "code",
   "execution_count": null,
   "metadata": {},
   "outputs": [
    {
     "name": "stdout",
     "output_type": "stream",
     "text": [
      "[[0.         0.33058546 0.01557367 0.00396435 0.00251962]\n [0.33058546 0.         0.00235784 0.00172593 0.00163313]\n [0.01557367 0.00235784 0.         0.0015654  0.0015654 ]\n [0.00396435 0.00172593 0.0015654  0.         0.0015654 ]\n [0.00251962 0.00163313 0.0015654  0.0015654  0.        ]]\n"
     ]
    },
    {
     "data": {
      "image/png": "[encoded data removed]",
      "image/svg+xml": "<?xml version=\"1.0\" encoding=\"utf-8\" standalone=\"no\"?>\n<!DOCTYPE svg PUBLIC \"-//W3C//DTD SVG 1.1//EN\"\n  \"http://www.w3.org/Graphics/SVG/1.1/DTD/svg11.dtd\">\n<!-- Created with matplotlib (https://matplotlib.org/) -->\n<svg height=\"396.03282pt\" version=\"1.1\" viewBox=\"0 0 424.715625 396.03282\" width=\"424.715625pt\" xmlns=\"http://www.w3.org/2000/svg\" xmlns:xlink=\"http://www.w3.org/1999/xlink\">\n <metadata>\n  <rdf:RDF xmlns:cc=\"http://creativecommons.org/ns#\" xmlns:dc=\"http://purl.org/dc/elements/1.1/\" xmlns:rdf=\"http://www.w3.org/1999/02/22-rdf-syntax-ns#\">\n   <cc:Work>\n    <dc:type rdf:resource=\"http://purl.org/dc/dcmitype/StillImage\"/>\n    <dc:date>2021-02-26T16:45:55.395715</dc:date>\n    <dc:format>image/svg+xml</dc:format>\n    <dc:creator>\n     <cc:Agent>\n      <dc:title>Matplotlib v3.3.4, https://matplotlib.org/</dc:title>\n     </cc:Agent>\n    </dc:creator>\n   </cc:Work>\n  </rdf:RDF>\n </metadata>\n <defs>\n  <style type=\"text/css\">*{stroke-linecap:butt;stroke-linejoin:round;}</style>\n </defs>\n <g id=\"figure_1\">\n  <g id=\"patch_1\">\n   <path d=\"M -0 396.03282 \nL 424.715625 396.03282 \nL 424.715625 0 \nL -0 0 \nz\n\" style=\"fill:none;\"/>\n  </g>\n  <g id=\"axes_1\">\n   <g id=\"patch_2\">\n    <path d=\"M 75.225 320.80782 \nL 369.915476 320.80782 \nL 369.915476 26.117344 \nL 75.225 26.117344 \nz\n\" style=\"fill:#ffffff;\"/>\n   </g>\n   <g clip-path=\"url(#pf7c44f7983)\">\n    <image height=\"295\" id=\"imageaa566fb258\" transform=\"scale(1 -1)translate(0 -295)\" width=\"295\" x=\"75.225\" xlink:href=\"data:image/png;base64,\niVBORw0KGgoAAAANSUhEUgAAAScAAAEnCAYAAADrWoVBAAAEZUlEQVR4nO3WsU2cYRBFUbB2BSkZsUUpSC7HiZtwSD8EdIGQEC3gzF79XnADZNZ+cyXOqeAlczXnl99+vp99Fm/H6QXwf7ZtesEyX6YHAHxEnIAkcQKSxAlIEicgSZyAJHECksQJSBInIEmcgCRxApLECUgSJyBJnIAkcQKSxAlIEicgSZyAJHECksQJSBInIEmcgCRxApLECUgSJyBJnIAkcQKSxAlIEicgSZyAJHECksQJSBInIEmcgCRxApLECUgSJyBJnIAkcQKSxAlIEicgSZyAJHECksQJSBInIEmcgCRxApLECUgSJyBJnIAkcQKSxAlIEicgSZyAJHECksQJSBInIEmcgKTd2X4/vWGdw3F6AaewbdML1vlE9+pzApLECUgSJyBJnIAkcQKSxAlIEicgSZyAJHECksQJSBInIEmcgCRxApLECUgSJyBJnIAkcQKSxAlIEicgSZyAJHECksQJSBInIEmcgCRxApLECUgSJyBJnIAkcQKSxAlIEicgSZyAJHECksQJSBInIEmcgCRxApLECUgSJyBJnIAkcQKSxAlIEicgSZyAJHECksQJSBInIEmcgCRxApLECUgSJyBJnIAkcQKSxAlIEicgSZyAJHECksQJSNpd3Hyd3rDM4fFpesI6hz/TC9bZ76cXcAI+JyBJnIAkcQKSxAlIEicgSZyAJHECksQJSBInIEmcgCRxApLECUgSJyBJnIAkcQKSxAlIEicgSZyAJHECksQJSBInIEmcgCRxApLECUgSJyBJnIAkcQKSxAlIEicgSZyAJHECksQJSBInIEmcgCRxApLECUgSJyBJnIAkcQKSxAlIEicgSZyAJHECksQJSBInIEmcgCRxApLECUgSJyBJnIAkcQKSxAlIEicgSZyAJHECksQJSBInIEmcgKTz339/vU+PWOXq9m56wjoXl9ML1nk7Ti/gBHxOQJI4AUniBCSJE5AkTkCSOAFJ4gQkiROQJE5AkjgBSeIEJIkTkCROQJI4AUniBCSJE5AkTkCSOAFJ4gQkiROQJE5AkjgBSeIEJIkTkCROQJI4AUniBCSJE5AkTkCSOAFJ4gQkiROQJE5AkjgBSeIEJIkTkCROQJI4AUniBCSJE5AkTkCSOAFJ4gQkiROQJE5AkjgBSeIEJIkTkCROQJI4AUniBCSJE5AkTkCSOAFJ4gQkiROQJE5AkjgBSbur27vpDcu83n+fnrDM9Y+H6QnLHJ5fpiess23TC5bxOQFJ4gQkiROQJE5AkjgBSeIEJIkTkCROQJI4AUniBCSJE5AkTkCSOAFJ4gQkiROQJE5AkjgBSeIEJIkTkCROQJI4AUniBCSJE5AkTkCSOAFJ4gQkiROQJE5AkjgBSeIEJIkTkCROQJI4AUniBCSJE5AkTkCSOAFJ4gQkiROQJE5AkjgBSeIEJIkTkCROQJI4AUniBCSJE5AkTkCSOAFJ4gQkiROQJE5AkjgBSeIEJIkTkCROQJI4AUniBCT9A/9QINMyaPfMAAAAAElFTkSuQmCC\" y=\"-25.80782\"/>\n   </g>\n   <g id=\"matplotlib.axis_1\">\n    <g id=\"xtick_1\">\n     <g id=\"line2d_1\">\n      <defs>\n       <path d=\"M 0 0 \nL 0 3.5 \n\" id=\"mc06b9e2caf\" style=\"stroke:#000000;stroke-width:0.8;\"/>\n      </defs>\n      <g>\n       <use style=\"stroke:#000000;stroke-width:0.8;\" x=\"104.694048\" xlink:href=\"#mc06b9e2caf\" y=\"320.80782\"/>\n      </g>\n     </g>\n     <g id=\"text_1\">\n      <!-- Model1 -->\n      <g transform=\"translate(116.851548 388.83282)rotate(-90)scale(0.16 -0.16)\">\n       <defs>\n        <path d=\"M 5.515625 0 \nL 5.515625 5.171875 \nL 14.796875 5.171875 \nL 14.796875 67.671875 \nL 4.984375 67.671875 \nL 4.984375 72.90625 \nL 26.21875 72.90625 \nL 51.8125 21 \nL 77.390625 72.90625 \nL 97.3125 72.90625 \nL 97.3125 67.671875 \nL 87.59375 67.671875 \nL 87.59375 5.171875 \nL 96.921875 5.171875 \nL 96.921875 0 \nL 68.40625 0 \nL 68.40625 5.171875 \nL 77.6875 5.171875 \nL 77.6875 61.53125 \nL 52.6875 10.6875 \nL 45.796875 10.6875 \nL 20.796875 61.53125 \nL 20.796875 5.171875 \nL 30.078125 5.171875 \nL 30.078125 0 \nz\n\" id=\"DejaVuSerif-77\"/>\n        <path d=\"M 30.078125 3.421875 \nQ 37.3125 3.421875 40.984375 9.125 \nQ 44.671875 14.84375 44.671875 25.984375 \nQ 44.671875 37.109375 40.984375 42.796875 \nQ 37.3125 48.484375 30.078125 48.484375 \nQ 22.859375 48.484375 19.171875 42.796875 \nQ 15.484375 37.109375 15.484375 25.984375 \nQ 15.484375 14.84375 19.1875 9.125 \nQ 22.90625 3.421875 30.078125 3.421875 \nz\nM 30.078125 -1.421875 \nQ 18.75 -1.421875 11.859375 6.078125 \nQ 4.984375 13.578125 4.984375 25.984375 \nQ 4.984375 38.375 11.84375 45.84375 \nQ 18.703125 53.328125 30.078125 53.328125 \nQ 41.453125 53.328125 48.3125 45.84375 \nQ 55.171875 38.375 55.171875 25.984375 \nQ 55.171875 13.578125 48.3125 6.078125 \nQ 41.453125 -1.421875 30.078125 -1.421875 \nz\n\" id=\"DejaVuSerif-111\"/>\n        <path d=\"M 52.484375 5.171875 \nL 61.078125 5.171875 \nL 61.078125 0 \nL 43.5 0 \nL 43.5 8.109375 \nQ 40.875 3.21875 36.796875 0.890625 \nQ 32.71875 -1.421875 26.703125 -1.421875 \nQ 17.140625 -1.421875 11.0625 6.171875 \nQ 4.984375 13.765625 4.984375 25.984375 \nQ 4.984375 38.1875 11.03125 45.75 \nQ 17.09375 53.328125 26.703125 53.328125 \nQ 32.71875 53.328125 36.796875 51 \nQ 40.875 48.6875 43.5 43.796875 \nL 43.5 70.796875 \nL 35.015625 70.796875 \nL 35.015625 75.984375 \nL 52.484375 75.984375 \nz\nM 43.5 23.390625 \nL 43.5 28.515625 \nQ 43.5 37.84375 39.90625 42.765625 \nQ 36.328125 47.703125 29.5 47.703125 \nQ 22.5625 47.703125 19.015625 42.234375 \nQ 15.484375 36.765625 15.484375 25.984375 \nQ 15.484375 15.234375 19.015625 9.71875 \nQ 22.5625 4.203125 29.5 4.203125 \nQ 36.328125 4.203125 39.90625 9.109375 \nQ 43.5 14.015625 43.5 23.390625 \nz\n\" id=\"DejaVuSerif-100\"/>\n        <path d=\"M 54.203125 25 \nL 15.484375 25 \nL 15.484375 24.609375 \nQ 15.484375 14.109375 19.4375 8.765625 \nQ 23.390625 3.421875 31.109375 3.421875 \nQ 37.015625 3.421875 40.796875 6.515625 \nQ 44.578125 9.625 46.09375 15.71875 \nL 53.328125 15.71875 \nQ 51.171875 7.171875 45.375 2.875 \nQ 39.59375 -1.421875 30.171875 -1.421875 \nQ 18.796875 -1.421875 11.890625 6.078125 \nQ 4.984375 13.578125 4.984375 25.984375 \nQ 4.984375 38.28125 11.765625 45.796875 \nQ 18.5625 53.328125 29.59375 53.328125 \nQ 41.359375 53.328125 47.65625 46.0625 \nQ 53.953125 38.8125 54.203125 25 \nz\nM 43.609375 30.171875 \nQ 43.3125 39.265625 39.765625 43.875 \nQ 36.234375 48.484375 29.59375 48.484375 \nQ 23.390625 48.484375 19.828125 43.84375 \nQ 16.265625 39.203125 15.484375 30.171875 \nz\n\" id=\"DejaVuSerif-101\"/>\n        <path d=\"M 20.515625 5.171875 \nL 29 5.171875 \nL 29 0 \nL 2.875 0 \nL 2.875 5.171875 \nL 11.53125 5.171875 \nL 11.53125 70.796875 \nL 2.875 70.796875 \nL 2.875 75.984375 \nL 20.515625 75.984375 \nz\n\" id=\"DejaVuSerif-108\"/>\n        <path d=\"M 14.203125 0 \nL 14.203125 5.171875 \nL 26.90625 5.171875 \nL 26.90625 65.828125 \nL 12.203125 56.296875 \nL 12.203125 62.703125 \nL 29.984375 74.21875 \nL 36.71875 74.21875 \nL 36.71875 5.171875 \nL 49.421875 5.171875 \nL 49.421875 0 \nz\n\" id=\"DejaVuSerif-49\"/>\n       </defs>\n       <use xlink:href=\"#DejaVuSerif-77\"/>\n       <use x=\"102.392578\" xlink:href=\"#DejaVuSerif-111\"/>\n       <use x=\"162.597656\" xlink:href=\"#DejaVuSerif-100\"/>\n       <use x=\"226.611328\" xlink:href=\"#DejaVuSerif-101\"/>\n       <use x=\"285.791016\" xlink:href=\"#DejaVuSerif-108\"/>\n       <use x=\"317.773438\" xlink:href=\"#DejaVuSerif-49\"/>\n      </g>\n     </g>\n    </g>\n    <g id=\"xtick_2\">\n     <g id=\"line2d_2\">\n      <g>\n       <use style=\"stroke:#000000;stroke-width:0.8;\" x=\"163.632143\" xlink:href=\"#mc06b9e2caf\" y=\"320.80782\"/>\n      </g>\n     </g>\n     <g id=\"text_2\">\n      <!-- Model2 -->\n      <g transform=\"translate(175.789643 388.83282)rotate(-90)scale(0.16 -0.16)\">\n       <defs>\n        <path d=\"M 12.796875 55.515625 \nL 7.328125 55.515625 \nL 7.328125 68.5 \nQ 12.546875 71.296875 17.84375 72.75 \nQ 23.140625 74.21875 28.21875 74.21875 \nQ 39.59375 74.21875 46.1875 68.703125 \nQ 52.78125 63.1875 52.78125 53.71875 \nQ 52.78125 43.015625 37.84375 28.125 \nQ 36.671875 27 36.078125 26.421875 \nL 17.671875 8.015625 \nL 48.09375 8.015625 \nL 48.09375 17 \nL 53.8125 17 \nL 53.8125 0 \nL 6.78125 0 \nL 6.78125 5.328125 \nL 28.90625 27.390625 \nQ 36.234375 34.71875 39.359375 40.84375 \nQ 42.484375 46.96875 42.484375 53.71875 \nQ 42.484375 61.078125 38.640625 65.234375 \nQ 34.8125 69.390625 28.078125 69.390625 \nQ 21.09375 69.390625 17.28125 65.921875 \nQ 13.484375 62.453125 12.796875 55.515625 \nz\n\" id=\"DejaVuSerif-50\"/>\n       </defs>\n       <use xlink:href=\"#DejaVuSerif-77\"/>\n       <use x=\"102.392578\" xlink:href=\"#DejaVuSerif-111\"/>\n       <use x=\"162.597656\" xlink:href=\"#DejaVuSerif-100\"/>\n       <use x=\"226.611328\" xlink:href=\"#DejaVuSerif-101\"/>\n       <use x=\"285.791016\" xlink:href=\"#DejaVuSerif-108\"/>\n       <use x=\"317.773438\" xlink:href=\"#DejaVuSerif-50\"/>\n      </g>\n     </g>\n    </g>\n    <g id=\"xtick_3\">\n     <g id=\"line2d_3\">\n      <g>\n       <use style=\"stroke:#000000;stroke-width:0.8;\" x=\"222.570238\" xlink:href=\"#mc06b9e2caf\" y=\"320.80782\"/>\n      </g>\n     </g>\n     <g id=\"text_3\">\n      <!-- Model3 -->\n      <g transform=\"translate(234.727738 388.83282)rotate(-90)scale(0.16 -0.16)\">\n       <defs>\n        <path d=\"M 9.71875 69.828125 \nQ 15.4375 71.96875 20.671875 73.09375 \nQ 25.921875 74.21875 30.515625 74.21875 \nQ 41.21875 74.21875 47.21875 69.59375 \nQ 53.21875 64.984375 53.21875 56.78125 \nQ 53.21875 50.203125 49.0625 45.78125 \nQ 44.921875 41.359375 37.3125 39.796875 \nQ 46.296875 38.53125 51.25 33.28125 \nQ 56.203125 28.03125 56.203125 19.671875 \nQ 56.203125 9.46875 49.34375 4.015625 \nQ 42.484375 -1.421875 29.59375 -1.421875 \nQ 23.875 -1.421875 18.421875 -0.1875 \nQ 12.984375 1.03125 7.625 3.515625 \nL 7.625 17.671875 \nL 13.09375 17.671875 \nQ 13.578125 10.640625 17.828125 7.03125 \nQ 22.078125 3.421875 29.78125 3.421875 \nQ 37.25 3.421875 41.578125 7.734375 \nQ 45.90625 12.0625 45.90625 19.578125 \nQ 45.90625 28.171875 41.453125 32.59375 \nQ 37.015625 37.015625 28.421875 37.015625 \nL 23.78125 37.015625 \nL 23.78125 42 \nL 26.21875 42 \nQ 34.765625 42 39.03125 45.53125 \nQ 43.3125 49.078125 43.3125 56.203125 \nQ 43.3125 62.59375 39.796875 65.984375 \nQ 36.28125 69.390625 29.6875 69.390625 \nQ 23.09375 69.390625 19.453125 66.265625 \nQ 15.828125 63.140625 15.1875 56.984375 \nL 9.71875 56.984375 \nz\n\" id=\"DejaVuSerif-51\"/>\n       </defs>\n       <use xlink:href=\"#DejaVuSerif-77\"/>\n       <use x=\"102.392578\" xlink:href=\"#DejaVuSerif-111\"/>\n       <use x=\"162.597656\" xlink:href=\"#DejaVuSerif-100\"/>\n       <use x=\"226.611328\" xlink:href=\"#DejaVuSerif-101\"/>\n       <use x=\"285.791016\" xlink:href=\"#DejaVuSerif-108\"/>\n       <use x=\"317.773438\" xlink:href=\"#DejaVuSerif-51\"/>\n      </g>\n     </g>\n    </g>\n    <g id=\"xtick_4\">\n     <g id=\"line2d_4\">\n      <g>\n       <use style=\"stroke:#000000;stroke-width:0.8;\" x=\"281.508333\" xlink:href=\"#mc06b9e2caf\" y=\"320.80782\"/>\n      </g>\n     </g>\n     <g id=\"text_4\">\n      <!-- Model4 -->\n      <g transform=\"translate(293.665833 388.83282)rotate(-90)scale(0.16 -0.16)\">\n       <defs>\n        <path d=\"M 34.90625 24.703125 \nL 34.90625 63.484375 \nL 10.015625 24.703125 \nz\nM 56.390625 0 \nL 23.1875 0 \nL 23.1875 5.171875 \nL 34.90625 5.171875 \nL 34.90625 19.484375 \nL 3.078125 19.484375 \nL 3.078125 24.8125 \nL 35.015625 74.21875 \nL 44.671875 74.21875 \nL 44.671875 24.703125 \nL 58.59375 24.703125 \nL 58.59375 19.484375 \nL 44.671875 19.484375 \nL 44.671875 5.171875 \nL 56.390625 5.171875 \nz\n\" id=\"DejaVuSerif-52\"/>\n       </defs>\n       <use xlink:href=\"#DejaVuSerif-77\"/>\n       <use x=\"102.392578\" xlink:href=\"#DejaVuSerif-111\"/>\n       <use x=\"162.597656\" xlink:href=\"#DejaVuSerif-100\"/>\n       <use x=\"226.611328\" xlink:href=\"#DejaVuSerif-101\"/>\n       <use x=\"285.791016\" xlink:href=\"#DejaVuSerif-108\"/>\n       <use x=\"317.773438\" xlink:href=\"#DejaVuSerif-52\"/>\n      </g>\n     </g>\n    </g>\n    <g id=\"xtick_5\">\n     <g id=\"line2d_5\">\n      <g>\n       <use style=\"stroke:#000000;stroke-width:0.8;\" x=\"340.446429\" xlink:href=\"#mc06b9e2caf\" y=\"320.80782\"/>\n      </g>\n     </g>\n     <g id=\"text_5\">\n      <!-- Model5 -->\n      <g transform=\"translate(352.603929 388.83282)rotate(-90)scale(0.16 -0.16)\">\n       <defs>\n        <path d=\"M 50.296875 72.90625 \nL 50.296875 64.890625 \nL 16.890625 64.890625 \nL 16.890625 44 \nQ 19.4375 45.75 22.828125 46.625 \nQ 26.21875 47.515625 30.421875 47.515625 \nQ 42.234375 47.515625 49.0625 40.96875 \nQ 55.90625 34.421875 55.90625 23.09375 \nQ 55.90625 11.53125 49 5.046875 \nQ 42.09375 -1.421875 29.59375 -1.421875 \nQ 24.5625 -1.421875 19.28125 -0.1875 \nQ 14.015625 1.03125 8.5 3.515625 \nL 8.5 17.671875 \nL 14.015625 17.671875 \nQ 14.453125 10.75 18.421875 7.078125 \nQ 22.40625 3.421875 29.59375 3.421875 \nQ 37.3125 3.421875 41.453125 8.5 \nQ 45.609375 13.578125 45.609375 23.09375 \nQ 45.609375 32.5625 41.484375 37.609375 \nQ 37.359375 42.671875 29.59375 42.671875 \nQ 25.203125 42.671875 21.84375 41.109375 \nQ 18.5 39.546875 15.921875 36.28125 \nL 11.71875 36.28125 \nL 11.71875 72.90625 \nz\n\" id=\"DejaVuSerif-53\"/>\n       </defs>\n       <use xlink:href=\"#DejaVuSerif-77\"/>\n       <use x=\"102.392578\" xlink:href=\"#DejaVuSerif-111\"/>\n       <use x=\"162.597656\" xlink:href=\"#DejaVuSerif-100\"/>\n       <use x=\"226.611328\" xlink:href=\"#DejaVuSerif-101\"/>\n       <use x=\"285.791016\" xlink:href=\"#DejaVuSerif-108\"/>\n       <use x=\"317.773438\" xlink:href=\"#DejaVuSerif-53\"/>\n      </g>\n     </g>\n    </g>\n   </g>\n   <g id=\"matplotlib.axis_2\">\n    <g id=\"ytick_1\">\n     <g id=\"line2d_6\">\n      <defs>\n       <path d=\"M 0 0 \nL -3.5 0 \n\" id=\"m2b4f60be11\" style=\"stroke:#000000;stroke-width:0.8;\"/>\n      </defs>\n      <g>\n       <use style=\"stroke:#000000;stroke-width:0.8;\" x=\"75.225\" xlink:href=\"#m2b4f60be11\" y=\"55.586391\"/>\n      </g>\n     </g>\n     <g id=\"text_6\">\n      <!-- Model1 -->\n      <g transform=\"translate(7.2 61.665141)scale(0.16 -0.16)\">\n       <use xlink:href=\"#DejaVuSerif-77\"/>\n       <use x=\"102.392578\" xlink:href=\"#DejaVuSerif-111\"/>\n       <use x=\"162.597656\" xlink:href=\"#DejaVuSerif-100\"/>\n       <use x=\"226.611328\" xlink:href=\"#DejaVuSerif-101\"/>\n       <use x=\"285.791016\" xlink:href=\"#DejaVuSerif-108\"/>\n       <use x=\"317.773438\" xlink:href=\"#DejaVuSerif-49\"/>\n      </g>\n     </g>\n    </g>\n    <g id=\"ytick_2\">\n     <g id=\"line2d_7\">\n      <g>\n       <use style=\"stroke:#000000;stroke-width:0.8;\" x=\"75.225\" xlink:href=\"#m2b4f60be11\" y=\"114.524487\"/>\n      </g>\n     </g>\n     <g id=\"text_7\">\n      <!-- Model2 -->\n      <g transform=\"translate(7.2 120.603237)scale(0.16 -0.16)\">\n       <use xlink:href=\"#DejaVuSerif-77\"/>\n       <use x=\"102.392578\" xlink:href=\"#DejaVuSerif-111\"/>\n       <use x=\"162.597656\" xlink:href=\"#DejaVuSerif-100\"/>\n       <use x=\"226.611328\" xlink:href=\"#DejaVuSerif-101\"/>\n       <use x=\"285.791016\" xlink:href=\"#DejaVuSerif-108\"/>\n       <use x=\"317.773438\" xlink:href=\"#DejaVuSerif-50\"/>\n      </g>\n     </g>\n    </g>\n    <g id=\"ytick_3\">\n     <g id=\"line2d_8\">\n      <g>\n       <use style=\"stroke:#000000;stroke-width:0.8;\" x=\"75.225\" xlink:href=\"#m2b4f60be11\" y=\"173.462582\"/>\n      </g>\n     </g>\n     <g id=\"text_8\">\n      <!-- Model3 -->\n      <g transform=\"translate(7.2 179.541332)scale(0.16 -0.16)\">\n       <use xlink:href=\"#DejaVuSerif-77\"/>\n       <use x=\"102.392578\" xlink:href=\"#DejaVuSerif-111\"/>\n       <use x=\"162.597656\" xlink:href=\"#DejaVuSerif-100\"/>\n       <use x=\"226.611328\" xlink:href=\"#DejaVuSerif-101\"/>\n       <use x=\"285.791016\" xlink:href=\"#DejaVuSerif-108\"/>\n       <use x=\"317.773438\" xlink:href=\"#DejaVuSerif-51\"/>\n      </g>\n     </g>\n    </g>\n    <g id=\"ytick_4\">\n     <g id=\"line2d_9\">\n      <g>\n       <use style=\"stroke:#000000;stroke-width:0.8;\" x=\"75.225\" xlink:href=\"#m2b4f60be11\" y=\"232.400677\"/>\n      </g>\n     </g>\n     <g id=\"text_9\">\n      <!-- Model4 -->\n      <g transform=\"translate(7.2 238.479427)scale(0.16 -0.16)\">\n       <use xlink:href=\"#DejaVuSerif-77\"/>\n       <use x=\"102.392578\" xlink:href=\"#DejaVuSerif-111\"/>\n       <use x=\"162.597656\" xlink:href=\"#DejaVuSerif-100\"/>\n       <use x=\"226.611328\" xlink:href=\"#DejaVuSerif-101\"/>\n       <use x=\"285.791016\" xlink:href=\"#DejaVuSerif-108\"/>\n       <use x=\"317.773438\" xlink:href=\"#DejaVuSerif-52\"/>\n      </g>\n     </g>\n    </g>\n    <g id=\"ytick_5\">\n     <g id=\"line2d_10\">\n      <g>\n       <use style=\"stroke:#000000;stroke-width:0.8;\" x=\"75.225\" xlink:href=\"#m2b4f60be11\" y=\"291.338772\"/>\n      </g>\n     </g>\n     <g id=\"text_10\">\n      <!-- Model5 -->\n      <g transform=\"translate(7.2 297.417522)scale(0.16 -0.16)\">\n       <use xlink:href=\"#DejaVuSerif-77\"/>\n       <use x=\"102.392578\" xlink:href=\"#DejaVuSerif-111\"/>\n       <use x=\"162.597656\" xlink:href=\"#DejaVuSerif-100\"/>\n       <use x=\"226.611328\" xlink:href=\"#DejaVuSerif-101\"/>\n       <use x=\"285.791016\" xlink:href=\"#DejaVuSerif-108\"/>\n       <use x=\"317.773438\" xlink:href=\"#DejaVuSerif-53\"/>\n      </g>\n     </g>\n    </g>\n   </g>\n   <g id=\"patch_3\">\n    <path d=\"M 75.225 320.80782 \nL 75.225 26.117344 \n\" style=\"fill:none;stroke:#000000;stroke-linecap:square;stroke-linejoin:miter;stroke-width:0.8;\"/>\n   </g>\n   <g id=\"patch_4\">\n    <path d=\"M 369.915476 320.80782 \nL 369.915476 26.117344 \n\" style=\"fill:none;stroke:#000000;stroke-linecap:square;stroke-linejoin:miter;stroke-width:0.8;\"/>\n   </g>\n   <g id=\"patch_5\">\n    <path d=\"M 75.225 320.80782 \nL 369.915476 320.80782 \n\" style=\"fill:none;stroke:#000000;stroke-linecap:square;stroke-linejoin:miter;stroke-width:0.8;\"/>\n   </g>\n   <g id=\"patch_6\">\n    <path d=\"M 75.225 26.117344 \nL 369.915476 26.117344 \n\" style=\"fill:none;stroke:#000000;stroke-linecap:square;stroke-linejoin:miter;stroke-width:0.8;\"/>\n   </g>\n   <g id=\"text_11\">\n    <!-- x -->\n    <g style=\"fill:#ffffff;\" transform=\"translate(101.874516 58.345766)scale(0.1 -0.1)\">\n     <defs>\n      <path d=\"M 29.109375 31.6875 \nL 39.984375 46.6875 \nL 33.015625 46.6875 \nL 33.015625 51.90625 \nL 52.984375 51.90625 \nL 52.984375 46.6875 \nL 46.09375 46.6875 \nL 32.171875 27.484375 \nL 48.390625 5.171875 \nL 55.171875 5.171875 \nL 55.171875 0 \nL 31.203125 0 \nL 31.203125 5.171875 \nL 37.796875 5.171875 \nL 26.515625 20.703125 \nL 15.1875 5.171875 \nL 21.921875 5.171875 \nL 21.921875 0 \nL 2.203125 0 \nL 2.203125 5.171875 \nL 9.078125 5.171875 \nL 23.390625 24.90625 \nL 7.625 46.6875 \nL 1.21875 46.6875 \nL 1.21875 51.90625 \nL 24.421875 51.90625 \nL 24.421875 46.6875 \nL 18.21875 46.6875 \nz\n\" id=\"DejaVuSerif-120\"/>\n     </defs>\n     <use xlink:href=\"#DejaVuSerif-120\"/>\n    </g>\n   </g>\n   <g id=\"text_12\">\n    <!-- x -->\n    <g style=\"fill:#ffffff;\" transform=\"translate(160.812612 117.283862)scale(0.1 -0.1)\">\n     <use xlink:href=\"#DejaVuSerif-120\"/>\n    </g>\n   </g>\n   <g id=\"text_13\">\n    <!-- x -->\n    <g style=\"fill:#ffffff;\" transform=\"translate(219.750707 176.221957)scale(0.1 -0.1)\">\n     <use xlink:href=\"#DejaVuSerif-120\"/>\n    </g>\n   </g>\n   <g id=\"text_14\">\n    <!-- x -->\n    <g style=\"fill:#ffffff;\" transform=\"translate(278.688802 235.160052)scale(0.1 -0.1)\">\n     <use xlink:href=\"#DejaVuSerif-120\"/>\n    </g>\n   </g>\n   <g id=\"text_15\">\n    <!-- x -->\n    <g style=\"fill:#ffffff;\" transform=\"translate(337.626897 294.098147)scale(0.1 -0.1)\">\n     <use xlink:href=\"#DejaVuSerif-120\"/>\n    </g>\n   </g>\n   <g id=\"text_16\">\n    <!-- GW Test -->\n    <g transform=\"translate(183.337426 20.117344)scale(0.17 -0.17)\">\n     <defs>\n      <path d=\"M 68.796875 50 \nQ 66.609375 59.671875 61.46875 63.984375 \nQ 56.34375 68.3125 47.015625 68.3125 \nQ 35.6875 68.3125 30.390625 60.625 \nQ 25.09375 52.9375 25.09375 36.375 \nQ 25.09375 19.96875 30.171875 12.234375 \nQ 35.25 4.5 46 4.5 \nQ 50.09375 4.5 53.609375 5.421875 \nQ 57.125 6.34375 60.015625 8.203125 \nL 60.015625 28.21875 \nL 51.21875 28.21875 \nL 51.21875 34.078125 \nL 77.484375 34.078125 \nL 77.484375 6.109375 \nQ 69.28125 2.296875 61.109375 0.4375 \nQ 52.9375 -1.421875 44.390625 -1.421875 \nQ 25.640625 -1.421875 14.921875 8.6875 \nQ 4.203125 18.796875 4.203125 36.375 \nQ 4.203125 54 14.921875 64.109375 \nQ 25.640625 74.21875 44.390625 74.21875 \nQ 52.203125 74.21875 59.765625 72.65625 \nQ 67.328125 71.09375 75 67.921875 \nL 75 50 \nz\n\" id=\"DejaVuSerif-Bold-71\"/>\n      <path d=\"M 85.203125 0 \nL 72.609375 0 \nL 56.109375 53.078125 \nL 39.59375 0 \nL 27 0 \nL 6.203125 67 \nL -0.875 67 \nL -0.875 72.90625 \nL 33.6875 72.90625 \nL 33.6875 67 \nL 25.875 67 \nL 39.796875 22.21875 \nL 55.515625 72.90625 \nL 69.390625 72.90625 \nL 85.40625 21.390625 \nL 99.609375 67 \nL 90.921875 67 \nL 90.921875 72.90625 \nL 113.484375 72.90625 \nL 113.484375 67 \nL 106 67 \nz\n\" id=\"DejaVuSerif-Bold-87\"/>\n      <path id=\"DejaVuSerif-Bold-32\"/>\n      <path d=\"M 18.109375 0 \nL 18.109375 5.90625 \nL 27.78125 5.90625 \nL 27.78125 66.21875 \nL 7.8125 66.21875 \nL 7.8125 54.6875 \nL 1.125 54.6875 \nL 1.125 72.90625 \nL 73.390625 72.90625 \nL 73.390625 54.6875 \nL 66.796875 54.6875 \nL 66.796875 66.21875 \nL 46.6875 66.21875 \nL 46.6875 5.90625 \nL 56.390625 5.90625 \nL 56.390625 0 \nz\n\" id=\"DejaVuSerif-Bold-84\"/>\n      <path d=\"M 40.09375 29.296875 \nQ 40.09375 39.546875 38.1875 43.671875 \nQ 36.28125 47.796875 31.6875 47.796875 \nQ 27.25 47.796875 25.3125 43.75 \nQ 23.390625 39.703125 23.390625 30.171875 \nL 23.390625 29.296875 \nz\nM 59.078125 23.484375 \nL 23.390625 23.484375 \nL 23.390625 23.09375 \nQ 23.390625 13.03125 26.40625 8.5625 \nQ 29.4375 4.109375 36.1875 4.109375 \nQ 41.796875 4.109375 45.265625 7.078125 \nQ 48.734375 10.0625 49.703125 15.71875 \nL 57.8125 15.71875 \nQ 55.71875 6.890625 49.46875 2.734375 \nQ 43.21875 -1.421875 31.984375 -1.421875 \nQ 18.5 -1.421875 11.296875 5.6875 \nQ 4.109375 12.796875 4.109375 25.984375 \nQ 4.109375 38.875 11.46875 46.09375 \nQ 18.84375 53.328125 31.984375 53.328125 \nQ 44.875 53.328125 51.75 45.734375 \nQ 58.640625 38.140625 59.078125 23.484375 \nz\n\" id=\"DejaVuSerif-Bold-101\"/>\n      <path d=\"M 4.6875 1.515625 \nL 4.6875 16.015625 \nL 10.203125 16.015625 \nQ 10.890625 10.203125 14.546875 7.15625 \nQ 18.21875 4.109375 24.515625 4.109375 \nQ 29.78125 4.109375 32.59375 5.9375 \nQ 35.40625 7.765625 35.40625 11.1875 \nQ 35.40625 14.3125 33.625 16.015625 \nQ 31.84375 17.71875 26.703125 19 \nL 19.578125 20.796875 \nQ 11.53125 22.796875 7.90625 26.53125 \nQ 4.296875 30.28125 4.296875 36.625 \nQ 4.296875 45.0625 10.15625 49.1875 \nQ 16.015625 53.328125 28.21875 53.328125 \nQ 32.8125 53.328125 38.015625 52.5625 \nQ 43.21875 51.8125 49.515625 50.203125 \nL 49.515625 37.109375 \nL 44 37.109375 \nQ 43.5625 42.4375 40.203125 45.109375 \nQ 36.859375 47.796875 30.609375 47.796875 \nQ 25.34375 47.796875 22.625 46.109375 \nQ 19.921875 44.4375 19.921875 41.21875 \nQ 19.921875 38.578125 21.484375 37.0625 \nQ 23.046875 35.546875 27.09375 34.515625 \nL 34.1875 32.71875 \nQ 44.390625 30.125 48.296875 26.3125 \nQ 52.203125 22.515625 52.203125 15.71875 \nQ 52.203125 6.9375 45.921875 2.75 \nQ 39.65625 -1.421875 26.421875 -1.421875 \nQ 21.578125 -1.421875 16.15625 -0.6875 \nQ 10.75 0.046875 4.6875 1.515625 \nz\n\" id=\"DejaVuSerif-Bold-115\"/>\n      <path d=\"M 9.90625 46 \nL 2.390625 46 \nL 2.390625 51.90625 \nL 9.90625 51.90625 \nL 9.90625 68.015625 \nL 27.203125 68.015625 \nL 27.203125 51.90625 \nL 41.609375 51.90625 \nL 41.609375 46 \nL 27.203125 46 \nL 27.203125 14.203125 \nQ 27.203125 7.421875 28.265625 5.765625 \nQ 29.34375 4.109375 32.171875 4.109375 \nQ 35.296875 4.109375 36.8125 6.203125 \nQ 38.328125 8.296875 38.421875 12.703125 \nL 45.703125 12.703125 \nQ 45.265625 4.890625 41.421875 1.734375 \nQ 37.59375 -1.421875 28.21875 -1.421875 \nQ 17.53125 -1.421875 13.71875 1.921875 \nQ 9.90625 5.28125 9.90625 14.203125 \nz\n\" id=\"DejaVuSerif-Bold-116\"/>\n     </defs>\n     <use xlink:href=\"#DejaVuSerif-Bold-71\"/>\n     <use x=\"85.400391\" xlink:href=\"#DejaVuSerif-Bold-87\"/>\n     <use x=\"197.705078\" xlink:href=\"#DejaVuSerif-Bold-32\"/>\n     <use x=\"232.519531\" xlink:href=\"#DejaVuSerif-Bold-84\"/>\n     <use x=\"295.433594\" xlink:href=\"#DejaVuSerif-Bold-101\"/>\n     <use x=\"359.056641\" xlink:href=\"#DejaVuSerif-Bold-115\"/>\n     <use x=\"415.355469\" xlink:href=\"#DejaVuSerif-Bold-116\"/>\n    </g>\n   </g>\n  </g>\n  <g id=\"axes_2\">\n   <g id=\"patch_7\">\n    <path clip-path=\"url(#pf6b1f3fc08)\" d=\"M 373.515476 320.80782 \nL 373.515476 319.656685 \nL 373.515476 27.268478 \nL 373.515476 26.117344 \nL 388.25 26.117344 \nL 388.25 27.268478 \nL 388.25 319.656685 \nL 388.25 320.80782 \nz\n\" style=\"fill:#ffffff;stroke:#ffffff;stroke-linejoin:miter;stroke-width:0.01;\"/>\n   </g>\n   <image height=\"295\" id=\"image095a1a16f5\" transform=\"scale(1 -1)translate(0 -295)\" width=\"14\" x=\"374\" xlink:href=\"data:image/png;base64,\niVBORw0KGgoAAAANSUhEUgAAAA4AAAEnCAYAAACZnHKbAAABjUlEQVR4nO2aQY5DIQxDA8qix+rV5uTtCfoXLxpbFvy9ZYgdB0rX6/33KfB1rUVw1bU3BGJGDmRLZaiq6tope5wYIEcOfVWvAX5+Ex1zMicmHh1y3O54YoyJx8WBCFe9aFUhzrBHruNgqXIdMSMsD2acyAGB+wQd1Qlg0DFKDnmuXh3/hTFnWtFRfkSu8uIc0FZy5wziMUcOteVOcE7SYV4+yoOckzTmkpyz0KuF51LGltqQcMLI5YBAutSBjhToqCpkpNUxtJU8AQaMpTaA3HITHdUpl1PV3mrnTMacvK1iUg4zGuQwjDk9I09y9iXFoyOQUxp5oCMF5hRHbznHpUx+lgtq5KBLmaOt6I8kakaHHCV/mpEzyvc40TGmOLcfnxgxUF8cbAC15RwvZTn9mJMAhpeywlVFsKilGqYV/xsqgs2qqu5HulTHqYMyDgwgBurDavDvbn3K5SSA3gBcDnV06NuqIc7SyDF7PCHJDZcyx7Rin96rllNHyigP6sek0+M9dTww5uwxaLBiOb6vfyYqdMrI0QAAAABJRU5ErkJggg==\" y=\"-26\"/>\n   <g id=\"matplotlib.axis_3\"/>\n   <g id=\"matplotlib.axis_4\">\n    <g id=\"ytick_6\">\n     <g id=\"line2d_11\">\n      <defs>\n       <path d=\"M 0 0 \nL 3.5 0 \n\" id=\"mf62e18db7a\" style=\"stroke:#000000;stroke-width:0.8;\"/>\n      </defs>\n      <g>\n       <use style=\"stroke:#000000;stroke-width:0.8;\" x=\"388.25\" xlink:href=\"#mf62e18db7a\" y=\"320.80782\"/>\n      </g>\n     </g>\n     <g id=\"text_17\">\n      <!-- 0.00 -->\n      <g transform=\"translate(395.25 324.607039)scale(0.1 -0.1)\">\n       <defs>\n        <path d=\"M 31.78125 3.421875 \nQ 39.265625 3.421875 42.96875 11.625 \nQ 46.6875 19.828125 46.6875 36.375 \nQ 46.6875 52.984375 42.96875 61.1875 \nQ 39.265625 69.390625 31.78125 69.390625 \nQ 24.3125 69.390625 20.59375 61.1875 \nQ 16.890625 52.984375 16.890625 36.375 \nQ 16.890625 19.828125 20.59375 11.625 \nQ 24.3125 3.421875 31.78125 3.421875 \nz\nM 31.78125 -1.421875 \nQ 19.921875 -1.421875 13.25 8.53125 \nQ 6.59375 18.5 6.59375 36.375 \nQ 6.59375 54.296875 13.25 64.25 \nQ 19.921875 74.21875 31.78125 74.21875 \nQ 43.703125 74.21875 50.34375 64.25 \nQ 56.984375 54.296875 56.984375 36.375 \nQ 56.984375 18.5 50.34375 8.53125 \nQ 43.703125 -1.421875 31.78125 -1.421875 \nz\n\" id=\"DejaVuSerif-48\"/>\n        <path d=\"M 9.421875 5.078125 \nQ 9.421875 7.8125 11.28125 9.71875 \nQ 13.140625 11.625 15.921875 11.625 \nQ 18.609375 11.625 20.5 9.71875 \nQ 22.40625 7.8125 22.40625 5.078125 \nQ 22.40625 2.390625 20.5 0.484375 \nQ 18.609375 -1.421875 15.921875 -1.421875 \nQ 13.140625 -1.421875 11.28125 0.453125 \nQ 9.421875 2.34375 9.421875 5.078125 \nz\n\" id=\"DejaVuSerif-46\"/>\n       </defs>\n       <use xlink:href=\"#DejaVuSerif-48\"/>\n       <use x=\"63.623047\" xlink:href=\"#DejaVuSerif-46\"/>\n       <use x=\"95.410156\" xlink:href=\"#DejaVuSerif-48\"/>\n       <use x=\"159.033203\" xlink:href=\"#DejaVuSerif-48\"/>\n      </g>\n     </g>\n    </g>\n    <g id=\"ytick_7\">\n     <g id=\"line2d_12\">\n      <g>\n       <use style=\"stroke:#000000;stroke-width:0.8;\" x=\"388.25\" xlink:href=\"#mf62e18db7a\" y=\"261.869725\"/>\n      </g>\n     </g>\n     <g id=\"text_18\">\n      <!-- 0.02 -->\n      <g transform=\"translate(395.25 265.668943)scale(0.1 -0.1)\">\n       <use xlink:href=\"#DejaVuSerif-48\"/>\n       <use x=\"63.623047\" xlink:href=\"#DejaVuSerif-46\"/>\n       <use x=\"95.410156\" xlink:href=\"#DejaVuSerif-48\"/>\n       <use x=\"159.033203\" xlink:href=\"#DejaVuSerif-50\"/>\n      </g>\n     </g>\n    </g>\n    <g id=\"ytick_8\">\n     <g id=\"line2d_13\">\n      <g>\n       <use style=\"stroke:#000000;stroke-width:0.8;\" x=\"388.25\" xlink:href=\"#mf62e18db7a\" y=\"202.931629\"/>\n      </g>\n     </g>\n     <g id=\"text_19\">\n      <!-- 0.04 -->\n      <g transform=\"translate(395.25 206.730848)scale(0.1 -0.1)\">\n       <use xlink:href=\"#DejaVuSerif-48\"/>\n       <use x=\"63.623047\" xlink:href=\"#DejaVuSerif-46\"/>\n       <use x=\"95.410156\" xlink:href=\"#DejaVuSerif-48\"/>\n       <use x=\"159.033203\" xlink:href=\"#DejaVuSerif-52\"/>\n      </g>\n     </g>\n    </g>\n    <g id=\"ytick_9\">\n     <g id=\"line2d_14\">\n      <g>\n       <use style=\"stroke:#000000;stroke-width:0.8;\" x=\"388.25\" xlink:href=\"#mf62e18db7a\" y=\"143.993534\"/>\n      </g>\n     </g>\n     <g id=\"text_20\">\n      <!-- 0.06 -->\n      <g transform=\"translate(395.25 147.792753)scale(0.1 -0.1)\">\n       <defs>\n        <path d=\"M 32.71875 3.421875 \nQ 39.59375 3.421875 43.296875 8.46875 \nQ 47.015625 13.53125 47.015625 23 \nQ 47.015625 32.46875 43.296875 37.515625 \nQ 39.59375 42.578125 32.71875 42.578125 \nQ 25.734375 42.578125 22.0625 37.6875 \nQ 18.40625 32.8125 18.40625 23.578125 \nQ 18.40625 13.875 22.109375 8.640625 \nQ 25.828125 3.421875 32.71875 3.421875 \nz\nM 16.796875 40.140625 \nQ 20.125 43.796875 24.3125 45.59375 \nQ 28.515625 47.40625 33.796875 47.40625 \nQ 44.671875 47.40625 51 40.859375 \nQ 57.328125 34.328125 57.328125 23 \nQ 57.328125 11.921875 50.515625 5.25 \nQ 43.703125 -1.421875 32.328125 -1.421875 \nQ 19.96875 -1.421875 13.328125 7.78125 \nQ 6.6875 17 6.6875 34.078125 \nQ 6.6875 53.21875 14.546875 63.71875 \nQ 22.40625 74.21875 36.71875 74.21875 \nQ 40.578125 74.21875 44.828125 73.484375 \nQ 49.078125 72.75 53.515625 71.296875 \nL 53.515625 59.28125 \nL 48 59.28125 \nQ 47.40625 64.203125 44.234375 66.796875 \nQ 41.0625 69.390625 35.6875 69.390625 \nQ 26.21875 69.390625 21.578125 62.203125 \nQ 16.9375 55.03125 16.796875 40.140625 \nz\n\" id=\"DejaVuSerif-54\"/>\n       </defs>\n       <use xlink:href=\"#DejaVuSerif-48\"/>\n       <use x=\"63.623047\" xlink:href=\"#DejaVuSerif-46\"/>\n       <use x=\"95.410156\" xlink:href=\"#DejaVuSerif-48\"/>\n       <use x=\"159.033203\" xlink:href=\"#DejaVuSerif-54\"/>\n      </g>\n     </g>\n    </g>\n    <g id=\"ytick_10\">\n     <g id=\"line2d_15\">\n      <g>\n       <use style=\"stroke:#000000;stroke-width:0.8;\" x=\"388.25\" xlink:href=\"#mf62e18db7a\" y=\"85.055439\"/>\n      </g>\n     </g>\n     <g id=\"text_21\">\n      <!-- 0.08 -->\n      <g transform=\"translate(395.25 88.854658)scale(0.1 -0.1)\">\n       <defs>\n        <path d=\"M 46.578125 19.921875 \nQ 46.578125 27.734375 42.6875 32.046875 \nQ 38.8125 36.375 31.78125 36.375 \nQ 24.75 36.375 20.875 32.046875 \nQ 17 27.734375 17 19.921875 \nQ 17 12.0625 20.875 7.734375 \nQ 24.75 3.421875 31.78125 3.421875 \nQ 38.8125 3.421875 42.6875 7.734375 \nQ 46.578125 12.0625 46.578125 19.921875 \nz\nM 44.578125 55.328125 \nQ 44.578125 61.96875 41.203125 65.671875 \nQ 37.84375 69.390625 31.78125 69.390625 \nQ 25.78125 69.390625 22.390625 65.671875 \nQ 19 61.96875 19 55.328125 \nQ 19 48.640625 22.390625 44.921875 \nQ 25.78125 41.21875 31.78125 41.21875 \nQ 37.84375 41.21875 41.203125 44.921875 \nQ 44.578125 48.640625 44.578125 55.328125 \nz\nM 39.3125 38.8125 \nQ 47.609375 37.703125 52.25 32.6875 \nQ 56.890625 27.6875 56.890625 19.921875 \nQ 56.890625 9.671875 50.390625 4.125 \nQ 43.890625 -1.421875 31.78125 -1.421875 \nQ 19.734375 -1.421875 13.203125 4.125 \nQ 6.6875 9.671875 6.6875 19.921875 \nQ 6.6875 27.6875 11.328125 32.6875 \nQ 15.96875 37.703125 24.3125 38.8125 \nQ 16.9375 40.140625 13 44.40625 \nQ 9.078125 48.6875 9.078125 55.328125 \nQ 9.078125 64.109375 15.125 69.15625 \nQ 21.1875 74.21875 31.78125 74.21875 \nQ 42.390625 74.21875 48.4375 69.15625 \nQ 54.5 64.109375 54.5 55.328125 \nQ 54.5 48.6875 50.5625 44.40625 \nQ 46.625 40.140625 39.3125 38.8125 \nz\n\" id=\"DejaVuSerif-56\"/>\n       </defs>\n       <use xlink:href=\"#DejaVuSerif-48\"/>\n       <use x=\"63.623047\" xlink:href=\"#DejaVuSerif-46\"/>\n       <use x=\"95.410156\" xlink:href=\"#DejaVuSerif-48\"/>\n       <use x=\"159.033203\" xlink:href=\"#DejaVuSerif-56\"/>\n      </g>\n     </g>\n    </g>\n    <g id=\"ytick_11\">\n     <g id=\"line2d_16\">\n      <g>\n       <use style=\"stroke:#000000;stroke-width:0.8;\" x=\"388.25\" xlink:href=\"#mf62e18db7a\" y=\"26.117344\"/>\n      </g>\n     </g>\n     <g id=\"text_22\">\n      <!-- 0.10 -->\n      <g transform=\"translate(395.25 29.916562)scale(0.1 -0.1)\">\n       <use xlink:href=\"#DejaVuSerif-48\"/>\n       <use x=\"63.623047\" xlink:href=\"#DejaVuSerif-46\"/>\n       <use x=\"95.410156\" xlink:href=\"#DejaVuSerif-49\"/>\n       <use x=\"159.033203\" xlink:href=\"#DejaVuSerif-48\"/>\n      </g>\n     </g>\n    </g>\n   </g>\n   <g id=\"patch_8\">\n    <path d=\"M 373.515476 320.80782 \nL 373.515476 319.656685 \nL 373.515476 27.268478 \nL 373.515476 26.117344 \nL 388.25 26.117344 \nL 388.25 27.268478 \nL 388.25 319.656685 \nL 388.25 320.80782 \nz\n\" style=\"fill:none;stroke:#000000;stroke-linejoin:miter;stroke-width:0.8;\"/>\n   </g>\n  </g>\n </g>\n <defs>\n  <clipPath id=\"pf7c44f7983\">\n   <rect height=\"294.690476\" width=\"294.690476\" x=\"75.225\" y=\"26.117344\"/>\n  </clipPath>\n  <clipPath id=\"pf6b1f3fc08\">\n   <rect height=\"294.690476\" width=\"14.734524\" x=\"373.515476\" y=\"26.117344\"/>\n  </clipPath>\n </defs>\n</svg>\n",
      "text/plain": "<Figure size 432x432 with 2 Axes>"
     },
     "metadata": {
      "needs_background": "light"
     },
     "output_type": "display_data"
    }
   ],
   "source": [
    "y = np.random.randn(10,1)\n",
    "y_hat = np.hstack([i*np.ones((10,1)) for i in range(5)])\n",
    "\n",
    "GW_test_p_values(y=y, y_hat=y_hat, tau=tau, alpha=0.05, unconditional=True)\n",
    "\n",
    "plot_GW_test_p_values(y=y, y_hat=y_hat,\n",
    "                      model_names=['Model1', 'Model2', 'Model3', 'Model4', 'Model5'],\n",
    "                      tau=tau, alpha=0.05, unconditional=True)"
   ]
  },
  {
   "cell_type": "code",
   "execution_count": null,
   "metadata": {},
   "outputs": [],
   "source": []
  }
 ],
 "metadata": {
  "kernelspec": {
   "display_name": "Python 3.7.10 64-bit ('nixtla': conda)",
   "metadata": {
    "interpreter": {
     "hash": "97c68c0f618c4f787b1e02bfee278e48d25b62407cb335aab5258cedc4db4ced"
    }
   },
   "name": "python3"
  }
 },
 "nbformat": 4,
 "nbformat_minor": 2
}
