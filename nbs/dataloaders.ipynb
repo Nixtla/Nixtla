{
 "cells": [
  {
   "cell_type": "code",
   "execution_count": null,
   "metadata": {},
   "outputs": [],
   "source": [
    "# default_exp data.dataloaders"
   ]
  },
  {
   "cell_type": "code",
   "execution_count": null,
   "metadata": {},
   "outputs": [],
   "source": [
    "#hide\n",
    "%load_ext autoreload\n",
    "%autoreload 2"
   ]
  },
  {
   "cell_type": "code",
   "execution_count": null,
   "metadata": {},
   "outputs": [],
   "source": [
    "#export\n",
    "from typing import Collection, Dict, List, Optional, Sequence, Tuple\n",
    "\n",
    "import numpy as np\n",
    "import pandas as pd\n",
    "import torch\n",
    "\n",
    "from nixtla.data.datasets import Tourism"
   ]
  },
  {
   "cell_type": "markdown",
   "metadata": {},
   "source": [
    "# Dataloaders\n",
    "\n",
    "> API details."
   ]
  },
  {
   "cell_type": "code",
   "execution_count": null,
   "metadata": {},
   "outputs": [],
   "source": [
    "#export\n",
    "def uids_ts_from_df(df: pd.DataFrame,\n",
    "                    id_cols: Collection[str]) -> Tuple[Tuple[str],Tuple[np.ndarray]]:\n",
    "    return zip(*((uid, serie.y.values) for uid, serie in df.groupby(id_cols, sort=False)))"
   ]
  },
  {
   "cell_type": "code",
   "execution_count": null,
   "metadata": {},
   "outputs": [
    {
     "name": "stderr",
     "output_type": "stream",
     "text": [
      "100%|██████████| 356k/356k [00:00<00:00, 1.17MiB/s]\n",
      "INFO:nixtla.data.datasets:Successfully downloaded 27-3-Athanasopoulos1.zip, 356334, bytes.\n",
      "INFO:nixtla.data.datasets:Successfully decompressed data/tourism/datasets/27-3-Athanasopoulos1.zip\n"
     ]
    },
    {
     "data": {
      "text/html": [
       "<div>\n",
       "<style scoped>\n",
       "    .dataframe tbody tr th:only-of-type {\n",
       "        vertical-align: middle;\n",
       "    }\n",
       "\n",
       "    .dataframe tbody tr th {\n",
       "        vertical-align: top;\n",
       "    }\n",
       "\n",
       "    .dataframe thead th {\n",
       "        text-align: right;\n",
       "    }\n",
       "</style>\n",
       "<table border=\"1\" class=\"dataframe\">\n",
       "  <thead>\n",
       "    <tr style=\"text-align: right;\">\n",
       "      <th></th>\n",
       "      <th>unique_id</th>\n",
       "      <th>ds</th>\n",
       "      <th>y</th>\n",
       "    </tr>\n",
       "  </thead>\n",
       "  <tbody>\n",
       "    <tr>\n",
       "      <th>0</th>\n",
       "      <td>Y1</td>\n",
       "      <td>1</td>\n",
       "      <td>25092.2284</td>\n",
       "    </tr>\n",
       "    <tr>\n",
       "      <th>1</th>\n",
       "      <td>Y1</td>\n",
       "      <td>2</td>\n",
       "      <td>24271.5134</td>\n",
       "    </tr>\n",
       "    <tr>\n",
       "      <th>2</th>\n",
       "      <td>Y1</td>\n",
       "      <td>3</td>\n",
       "      <td>25828.9883</td>\n",
       "    </tr>\n",
       "    <tr>\n",
       "      <th>3</th>\n",
       "      <td>Y1</td>\n",
       "      <td>4</td>\n",
       "      <td>27697.5047</td>\n",
       "    </tr>\n",
       "    <tr>\n",
       "      <th>4</th>\n",
       "      <td>Y1</td>\n",
       "      <td>5</td>\n",
       "      <td>27956.2276</td>\n",
       "    </tr>\n",
       "  </tbody>\n",
       "</table>\n",
       "</div>"
      ],
      "text/plain": [
       "  unique_id  ds           y\n",
       "0        Y1   1  25092.2284\n",
       "1        Y1   2  24271.5134\n",
       "2        Y1   3  25828.9883\n",
       "3        Y1   4  27697.5047\n",
       "4        Y1   5  27956.2276"
      ]
     },
     "execution_count": null,
     "metadata": {},
     "output_type": "execute_result"
    }
   ],
   "source": [
    "tourism_dataset = Tourism.load('data')\n",
    "tourism_dataset_yearly = tourism_dataset.get_group('Yearly')\n",
    "tourism_dataset_yearly.Y.head()"
   ]
  },
  {
   "cell_type": "code",
   "execution_count": null,
   "metadata": {},
   "outputs": [
    {
     "data": {
      "text/plain": [
       "(('Y1', 'Y2'),\n",
       " (array([25092.2284, 24271.5134, 25828.9883, 27697.5047, 27956.2276,\n",
       "         29924.4321, 30216.8321, 32613.4968, 36053.1674, 38472.7532,\n",
       "         38420.894 ]),\n",
       "  array([ 887896.51,  887068.98,  971549.04, 1064206.39, 1195560.94,\n",
       "         1351933.55, 1372823.36, 1532533.61, 1587760.62, 1617737.85,\n",
       "         1499631.11])))"
      ]
     },
     "execution_count": null,
     "metadata": {},
     "output_type": "execute_result"
    }
   ],
   "source": [
    "unique_ids, time_series = uids_ts_from_df(tourism_dataset_yearly.Y, id_cols='unique_id')\n",
    "unique_ids[:2], time_series[:2]"
   ]
  },
  {
   "cell_type": "code",
   "execution_count": null,
   "metadata": {},
   "outputs": [],
   "source": [
    "df = tourism_dataset_yearly.Y.set_index('unique_id')\n",
    "uids = df.index.unique()\n",
    "ts = [df.loc[unique_id, 'y'] for unique_id in uids]\n",
    "\n",
    "assert set(unique_ids) == set(uids)\n",
    "assert all(np.allclose(time_serie, serie) for time_serie, serie in zip(time_series, ts))"
   ]
  },
  {
   "cell_type": "code",
   "execution_count": null,
   "metadata": {},
   "outputs": [],
   "source": [
    "#exporti\n",
    "def _nbeats_tensors_from_time_series(time_series: Sequence[np.ndarray],\n",
    "                                     input_size: int,\n",
    "                                     output_size: Optional[int] = None) -> Tuple[torch.Tensor,torch.Tensor]:\n",
    "    n_series = len(time_series)\n",
    "    if output_size is None:\n",
    "        max_timesteps = input_size\n",
    "    else:\n",
    "        max_ts_length = max(time_serie.size for time_serie in time_series)\n",
    "        max_timesteps = max(max_ts_length, input_size + output_size)\n",
    "    series = torch.zeros((n_series, max_timesteps), dtype=torch.float32)\n",
    "    mask = torch.zeros((n_series, max_timesteps), dtype=torch.float32)\n",
    "    for i, time_serie in enumerate(time_series):\n",
    "        idx = time_serie.size\n",
    "        if output_size is None:\n",
    "            idx = min(idx, input_size)\n",
    "            input_arr = time_serie[-idx:]\n",
    "        else:\n",
    "            input_arr = time_serie\n",
    "        series[i, -idx:] = torch.from_numpy(input_arr)\n",
    "        mask[i, -idx:] = 1\n",
    "\n",
    "    return series, mask"
   ]
  },
  {
   "cell_type": "code",
   "execution_count": null,
   "metadata": {},
   "outputs": [],
   "source": [
    "#hide\n",
    "input_size = 4\n",
    "output_size = 1\n",
    "series, mask = _nbeats_tensors_from_time_series(time_series, input_size, output_size)\n",
    "max_ts_length = max(ts.size for ts in time_series)\n",
    "\n",
    "assert series.shape[0] == len(time_series)\n",
    "assert series.shape[1] == max(max_ts_length, input_size + output_size)\n",
    "assert series.shape == mask.shape\n",
    "assert np.allclose((series > 0).sum(1), mask.sum(1))\n",
    "assert np.allclose(series.sum(), sum(time_serie.sum() for time_serie in time_series))"
   ]
  },
  {
   "cell_type": "code",
   "execution_count": null,
   "metadata": {},
   "outputs": [],
   "source": [
    "#export\n",
    "class NBeatsDataLoader:\n",
    "\n",
    "    def __init__(self,\n",
    "                 time_series: Sequence[np.ndarray],\n",
    "                 input_size: int,\n",
    "                 output_size: Optional[int] = None,\n",
    "                 batch_size: int = 1024,\n",
    "                 shuffle: bool = False,\n",
    "                 seed: int = 0):\n",
    "        self.series, self.mask = _nbeats_tensors_from_time_series(time_series, input_size, output_size)\n",
    "        self.input_size, self.output_size = input_size, output_size\n",
    "        self.batch_size = batch_size\n",
    "        self.shuffle = shuffle\n",
    "        self.rng = np.random.RandomState(seed)\n",
    "\n",
    "    def __iter__(self):\n",
    "        n_series, max_timesteps = self.series.shape\n",
    "        time_indices = np.arange(max_timesteps)\n",
    "        if self.shuffle:\n",
    "            indices = self.rng.permutation(n_series)\n",
    "        else:\n",
    "            indices = np.arange(n_series)\n",
    "        for i in range(0, n_series, self.batch_size):\n",
    "            batch_indices = indices[i:i+self.batch_size].reshape(-1, 1)\n",
    "            if self.output_size is not None:\n",
    "                cut_points = self.rng.randint(self.input_size, max_timesteps-self.output_size+1, batch_indices.size)\n",
    "                slices = [time_indices[cut_point-self.input_size : cut_point+self.output_size] for cut_point in cut_points]\n",
    "                y = self.series[batch_indices, slices]\n",
    "                mask = self.mask[batch_indices, slices]\n",
    "                insample_y, outsample_y = y[:, :self.input_size], y[:, self.input_size:]\n",
    "                insample_mask, outsample_mask = mask[:, :self.input_size], mask[:, self.input_size:]\n",
    "                yield insample_y, insample_mask, outsample_y, outsample_mask\n",
    "            else:\n",
    "                y = self.series[i : i+self.batch_size]\n",
    "                mask = self.mask[i : i+self.batch_size]\n",
    "                yield y, mask"
   ]
  },
  {
   "cell_type": "code",
   "execution_count": null,
   "metadata": {},
   "outputs": [],
   "source": [
    "input_size = 4\n",
    "output_size = 1\n",
    "batch_size = 4\n",
    "\n",
    "for shuffle in (True, False):\n",
    "    train_dl = NBeatsDataLoader(time_series, input_size=input_size, output_size=output_size, \n",
    "                                     batch_size=batch_size, shuffle=shuffle)\n",
    "    batch = next(iter(train_dl))\n",
    "    \n",
    "    n_series = len(time_series)\n",
    "    max_timesteps = max(max(ts.size for ts in time_series), input_size + output_size)    \n",
    "    rng = np.random.RandomState(0)\n",
    "    if shuffle:\n",
    "        batch_indices = rng.permutation(n_series)[:batch_size]\n",
    "    else:\n",
    "        batch_indices = np.arange(batch_size)\n",
    "    tmp_y = torch.zeros(max_timesteps)\n",
    "    tmp_mask = torch.zeros(max_timesteps)\n",
    "    cut_points = rng.randint(input_size, max_timesteps-output_size+1, batch_size)\n",
    "\n",
    "    for i, cut_point in enumerate(cut_points):\n",
    "        tmp_y.zero_()\n",
    "        tmp_mask.zero_()\n",
    "        time_serie = time_series[batch_indices[i]]\n",
    "        insample_y, insample_mask, outsample_y, outsample_mask = [_[i] for _ in batch]\n",
    "        ts_size = time_serie.size\n",
    "        tmp_y[-ts_size:] += time_serie\n",
    "        tmp_mask[-ts_size:] += 1\n",
    "\n",
    "        insample_slice = slice(cut_point-input_size, cut_point)\n",
    "        outsample_slice = slice(cut_point, cut_point+output_size)\n",
    "        assert torch.allclose(insample_y, tmp_y[insample_slice])\n",
    "        assert torch.allclose(insample_mask, tmp_mask[insample_slice])\n",
    "        assert torch.allclose(outsample_y, tmp_y[outsample_slice])\n",
    "        assert torch.allclose(outsample_mask, tmp_mask[outsample_slice])"
   ]
  },
  {
   "cell_type": "code",
   "execution_count": null,
   "metadata": {},
   "outputs": [],
   "source": [
    "input_size = 4\n",
    "batch_size = 4\n",
    "\n",
    "for shuffle in (True, False):\n",
    "    test_dl = NBeatsDataLoader(time_series, input_size=input_size, batch_size=batch_size)\n",
    "    batch = next(iter(test_dl))\n",
    "    \n",
    "    n_series = len(time_series)\n",
    "    tmp_y = torch.zeros(input_size)\n",
    "    tmp_mask = torch.zeros(input_size)\n",
    "\n",
    "    for i in range(batch_size):\n",
    "        tmp_y.zero_()\n",
    "        tmp_mask.zero_()\n",
    "        time_serie = time_series[i]\n",
    "        y, mask = [_[i] for _ in batch]\n",
    "        tmp_y[-input_size:] += time_serie[-input_size:]\n",
    "        tmp_mask[-input_size:] += 1\n",
    "\n",
    "        assert torch.allclose(y, tmp_y)\n",
    "        assert torch.allclose(mask, tmp_mask)"
   ]
  }
 ],
 "metadata": {
  "kernelspec": {
   "display_name": "Python 3",
   "language": "python",
   "name": "python3"
  }
 },
 "nbformat": 4,
 "nbformat_minor": 4
}
