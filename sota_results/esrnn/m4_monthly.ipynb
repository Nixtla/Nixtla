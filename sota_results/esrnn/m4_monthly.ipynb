{
 "cells": [
  {
   "cell_type": "markdown",
   "metadata": {},
   "source": [
    "# Colab flow"
   ]
  },
  {
   "cell_type": "markdown",
   "metadata": {},
   "source": [
    "### GPU usage"
   ]
  },
  {
   "cell_type": "markdown",
   "metadata": {},
   "source": [
    "To use GPU in colab: `Edit > Notebook settings or Runtime>Change runtime type and select GPU as Hardware accelerator`."
   ]
  },
  {
   "cell_type": "markdown",
   "metadata": {},
   "source": [
    "### Setting repo"
   ]
  },
  {
   "cell_type": "code",
   "execution_count": 1,
   "metadata": {},
   "outputs": [],
   "source": [
    "colab = False"
   ]
  },
  {
   "cell_type": "markdown",
   "metadata": {},
   "source": [
    "For `colab=True` you need to rewrite the `branch` and `github_token` below."
   ]
  },
  {
   "cell_type": "code",
   "execution_count": 2,
   "metadata": {},
   "outputs": [],
   "source": [
    "if colab:\n",
    "    !pip install condacolab # Handling conda environment installation\n",
    "    import condacolab\n",
    "    condacolab.install()\n",
    "    !git clone -b branch https://github_token@github.com/Nixtla/nixtlats.git\n",
    "    %cd nixtlats\n",
    "    !mamba env update -n base -f environment.yml\n",
    "    !pip install -e ."
   ]
  },
  {
   "cell_type": "markdown",
   "metadata": {},
   "source": [
    "# Standard flow"
   ]
  },
  {
   "cell_type": "code",
   "execution_count": 1,
   "metadata": {},
   "outputs": [],
   "source": [
    "import numpy as np\n",
    "import pytorch_lightning as pl\n",
    "import torch as t\n",
    "from pytorch_lightning import loggers as pl_loggers\n",
    "from pytorch_lightning import seed_everything\n",
    "\n",
    "from nixtla.data.datasets.m4 import M4, M4Info, M4Evaluation\n",
    "from nixtla.data.tsdataset import TimeSeriesDataset\n",
    "from nixtla.data.tsloader import TimeSeriesLoader\n",
    "from nixtla.models.esrnn.esrnn import ESRNN"
   ]
  },
  {
   "cell_type": "code",
   "execution_count": 2,
   "metadata": {},
   "outputs": [
    {
     "name": "stderr",
     "output_type": "stream",
     "text": [
      "Global seed set to 117982\n"
     ]
    },
    {
     "data": {
      "text/plain": [
       "117982"
      ]
     },
     "execution_count": 2,
     "metadata": {},
     "output_type": "execute_result"
    }
   ],
   "source": [
    "seed_everything(117982, workers=True)"
   ]
  },
  {
   "cell_type": "markdown",
   "metadata": {},
   "source": [
    "## Import Monthly data"
   ]
  },
  {
   "cell_type": "code",
   "execution_count": 3,
   "metadata": {},
   "outputs": [],
   "source": [
    "group = M4Info['Monthly']\n",
    "Y_df, _, S_df = M4.load(directory='data', group=group.name)"
   ]
  },
  {
   "cell_type": "code",
   "execution_count": 4,
   "metadata": {},
   "outputs": [],
   "source": [
    "train_ts_dataset = TimeSeriesDataset(Y_df=Y_df, \n",
    "                                     S_df=S_df,\n",
    "                                     ds_in_test=group.horizon,\n",
    "                                     mode='full',\n",
    "                                     window_sampling_limit=272, # To limit backprop time\n",
    "                                     input_size=12,\n",
    "                                     output_size=group.horizon,\n",
    "                                     idx_to_sample_freq=1,\n",
    "                                     len_sample_chunks=60,\n",
    "                                     complete_inputs=True, \n",
    "                                     skip_nonsamplable=True)"
   ]
  },
  {
   "cell_type": "code",
   "execution_count": 5,
   "metadata": {},
   "outputs": [],
   "source": [
    "test_ts_dataset = TimeSeriesDataset(Y_df=Y_df, \n",
    "                                    S_df=S_df,\n",
    "                                    ds_in_test=0,\n",
    "                                    mode='full',\n",
    "                                    window_sampling_limit=200_000, # To limit backprop time\n",
    "                                    input_size=12,\n",
    "                                    output_size=group.horizon,\n",
    "                                    idx_to_sample_freq=1,\n",
    "                                    complete_inputs=True,\n",
    "                                    complete_outputs=True,\n",
    "                                    len_sample_chunks=60,\n",
    "                                    skip_nonsamplable=False,\n",
    "                                    last_samplable_window=True)"
   ]
  },
  {
   "cell_type": "code",
   "execution_count": 6,
   "metadata": {},
   "outputs": [],
   "source": [
    "train_ts_loader = TimeSeriesLoader(dataset=train_ts_dataset,\n",
    "                                   batch_size=32,\n",
    "                                   eq_batch_size=True,\n",
    "                                   num_workers=8,\n",
    "                                   shuffle=True)"
   ]
  },
  {
   "cell_type": "code",
   "execution_count": 7,
   "metadata": {},
   "outputs": [],
   "source": [
    "test_ts_loader = TimeSeriesLoader(dataset=test_ts_dataset,\n",
    "                                  batch_size=2048,\n",
    "                                  eq_batch_size=False,\n",
    "                                  num_workers=8,\n",
    "                                  shuffle=False)"
   ]
  },
  {
   "cell_type": "code",
   "execution_count": 8,
   "metadata": {},
   "outputs": [],
   "source": [
    "model = ESRNN(n_series=group.n_ts,\n",
    "              n_x=0, n_s=1,\n",
    "              idx_to_sample_freq=1,\n",
    "              input_size=12,\n",
    "              output_size=group.horizon,\n",
    "              learning_rate=0.0128,\n",
    "              lr_scheduler_step_size=15,\n",
    "              lr_decay=0.1744,\n",
    "              per_series_lr_multip=1,\n",
    "              gradient_clipping_threshold=20,\n",
    "              rnn_weight_decay=0,\n",
    "              level_variability_penalty=55,\n",
    "              testing_percentile=50,\n",
    "              training_percentile=45,\n",
    "              cell_type='LSTM',\n",
    "              state_hsize=55,\n",
    "              dilations=[[1, 3, 6, 12]],\n",
    "              add_nl_layer=False,\n",
    "              loss='SMYL',\n",
    "              val_loss='SMAPE',\n",
    "              seasonality=[12])"
   ]
  },
  {
   "cell_type": "code",
   "execution_count": 9,
   "metadata": {},
   "outputs": [
    {
     "name": "stderr",
     "output_type": "stream",
     "text": [
      "GPU available: False, used: False\n",
      "TPU available: False, using: 0 TPU cores\n",
      "/home/ubuntu/anaconda3/envs/nixtla/lib/python3.7/site-packages/pytorch_lightning/utilities/distributed.py:69: UserWarning: you defined a validation_step but have no val_dataloader. Skipping val loop\n",
      "  warnings.warn(*args, **kwargs)\n",
      "\n",
      "  | Name  | Type   | Params\n",
      "---------------------------------\n",
      "0 | esrnn | _ESRNN | 762 K \n",
      "---------------------------------\n",
      "762 K     Trainable params\n",
      "0         Non-trainable params\n",
      "762 K     Total params\n",
      "3.049     Total estimated model params size (MB)\n"
     ]
    },
    {
     "data": {
      "application/vnd.jupyter.widget-view+json": {
       "model_id": "",
       "version_major": 2,
       "version_minor": 0
      },
      "text/plain": [
       "Validation sanity check: 0it [00:00, ?it/s]"
      ]
     },
     "metadata": {},
     "output_type": "display_data"
    },
    {
     "name": "stderr",
     "output_type": "stream",
     "text": [
      "Global seed set to 117982\n"
     ]
    },
    {
     "data": {
      "application/vnd.jupyter.widget-view+json": {
       "model_id": "8fe35f616b394adbb4d4914349184f96",
       "version_major": 2,
       "version_minor": 0
      },
      "text/plain": [
       "Training: 0it [00:00, ?it/s]"
      ]
     },
     "metadata": {},
     "output_type": "display_data"
    }
   ],
   "source": [
    "trainer = pl.Trainer(max_epochs=20, progress_bar_refresh_rate=5, deterministic=True)\n",
    "trainer.fit(model, train_ts_loader)"
   ]
  },
  {
   "cell_type": "code",
   "execution_count": 10,
   "metadata": {},
   "outputs": [
    {
     "data": {
      "application/vnd.jupyter.widget-view+json": {
       "model_id": "86cf2eb44987411c8e32da26a06d6348",
       "version_major": 2,
       "version_minor": 0
      },
      "text/plain": [
       "Predicting: 1500it [00:00, ?it/s]"
      ]
     },
     "metadata": {},
     "output_type": "display_data"
    }
   ],
   "source": [
    "outputs = trainer.predict(model, test_ts_loader)"
   ]
  },
  {
   "cell_type": "code",
   "execution_count": 11,
   "metadata": {},
   "outputs": [],
   "source": [
    "_, y_hat = zip(*outputs)"
   ]
  },
  {
   "cell_type": "code",
   "execution_count": 12,
   "metadata": {},
   "outputs": [],
   "source": [
    "y_hat = t.cat(y_hat)[:, -1].cpu().numpy()"
   ]
  },
  {
   "cell_type": "markdown",
   "metadata": {},
   "source": [
    "*Note*: this is an individual model rather than the ensemble used by Smyl which gets an OWA of *0.836*."
   ]
  },
  {
   "cell_type": "code",
   "execution_count": 13,
   "metadata": {},
   "outputs": [
    {
     "data": {
      "text/html": [
       "<div>\n",
       "<style scoped>\n",
       "    .dataframe tbody tr th:only-of-type {\n",
       "        vertical-align: middle;\n",
       "    }\n",
       "\n",
       "    .dataframe tbody tr th {\n",
       "        vertical-align: top;\n",
       "    }\n",
       "\n",
       "    .dataframe thead th {\n",
       "        text-align: right;\n",
       "    }\n",
       "</style>\n",
       "<table border=\"1\" class=\"dataframe\">\n",
       "  <thead>\n",
       "    <tr style=\"text-align: right;\">\n",
       "      <th></th>\n",
       "      <th>SMAPE</th>\n",
       "      <th>MASE</th>\n",
       "      <th>OWA</th>\n",
       "    </tr>\n",
       "  </thead>\n",
       "  <tbody>\n",
       "    <tr>\n",
       "      <th>Monthly</th>\n",
       "      <td>12.529585</td>\n",
       "      <td>0.8956</td>\n",
       "      <td>0.855364</td>\n",
       "    </tr>\n",
       "  </tbody>\n",
       "</table>\n",
       "</div>"
      ],
      "text/plain": [
       "             SMAPE    MASE       OWA\n",
       "Monthly  12.529585  0.8956  0.855364"
      ]
     },
     "execution_count": 13,
     "metadata": {},
     "output_type": "execute_result"
    }
   ],
   "source": [
    "M4Evaluation.evaluate('data', 'Monthly', y_hat)"
   ]
  }
 ],
 "metadata": {
  "kernelspec": {
   "display_name": "nixtla",
   "language": "python",
   "name": "nixtla"
  },
  "language_info": {
   "codemirror_mode": {
    "name": "ipython",
    "version": 3
   },
   "file_extension": ".py",
   "mimetype": "text/x-python",
   "name": "python",
   "nbconvert_exporter": "python",
   "pygments_lexer": "ipython3",
   "version": "3.7.10"
  }
 },
 "nbformat": 4,
 "nbformat_minor": 4
}
